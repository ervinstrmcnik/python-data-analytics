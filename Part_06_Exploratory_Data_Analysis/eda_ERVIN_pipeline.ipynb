{
 "cells": [
  {
   "cell_type": "markdown",
   "id": "71020318",
   "metadata": {},
   "source": [
    "Pipeline example"
   ]
  },
  {
   "cell_type": "code",
   "execution_count": null,
   "id": "114a147e",
   "metadata": {},
   "outputs": [
    {
     "name": "stdout",
     "output_type": "stream",
     "text": [
      "<class 'pandas.core.frame.DataFrame'>\n",
      "RangeIndex: 10552 entries, 0 to 10551\n",
      "Data columns (total 32 columns):\n",
      " #   Column                 Non-Null Count  Dtype              \n",
      "---  ------                 --------------  -----              \n",
      " 0   timestamp              10552 non-null  datetime64[ns, UTC]\n",
      " 1   src_ip                 10552 non-null  string             \n",
      " 2   http_method            10552 non-null  category           \n",
      " 3   http_protocol_version  10552 non-null  category           \n",
      " 4   http_status_code       10552 non-null  int64              \n",
      " 5   http_response_size     10552 non-null  int32              \n",
      " 6   referrer               7989 non-null   string             \n",
      " 7   http_url_path          10552 non-null  string             \n",
      " 8   browser                10552 non-null  category           \n",
      " 9   os                     10552 non-null  category           \n",
      " 10  device                 10552 non-null  category           \n",
      " 11  is_mobile_x            10552 non-null  bool               \n",
      " 12  is_pc                  10552 non-null  bool               \n",
      " 13  is_bot                 10552 non-null  bool               \n",
      " 14  ip                     10552 non-null  string             \n",
      " 15  rir                    10551 non-null  category           \n",
      " 16  is_mobile_y            10552 non-null  bool               \n",
      " 17  is_crawler             10552 non-null  bool               \n",
      " 18  is_datacenter          10552 non-null  bool               \n",
      " 19  is_tor                 10552 non-null  bool               \n",
      " 20  is_proxy               10552 non-null  bool               \n",
      " 21  is_vpn                 10552 non-null  bool               \n",
      " 22  is_abuser              10552 non-null  bool               \n",
      " 23  datacenter_name        2333 non-null   string             \n",
      " 24  company_name           10552 non-null  string             \n",
      " 25  company_abuser_score   10552 non-null  float64            \n",
      " 26  company_type           10552 non-null  string             \n",
      " 27  country                10552 non-null  string             \n",
      " 28  city                   10552 non-null  string             \n",
      " 29  latitude               10552 non-null  float64            \n",
      " 30  longitude              10552 non-null  float64            \n",
      " 31  company_abuser_level   10552 non-null  category           \n",
      "dtypes: bool(10), category(7), datetime64[ns, UTC](1), float64(3), int32(1), int64(1), string(9)\n",
      "memory usage: 1.3 MB\n"
     ]
    }
   ],
   "source": [
    "from pathlib import Path\n",
    "import pandas as pd\n",
    "import numpy as np\n",
    "import matplotlib.pyplot as plt\n",
    "\n",
    "MAIN_DATA_DIR = Path.cwd().parent / \"data\" / \"project\"\n",
    "FINAL_DATA_PATH = MAIN_DATA_DIR / \"web_logs_merged.parquet\"\n",
    "\n",
    "web_logs = pd.read_parquet(FINAL_DATA_PATH)\n",
    "web_logs.info()\n"
   ]
  },
  {
   "cell_type": "code",
   "execution_count": null,
   "id": "7d808c69",
   "metadata": {},
   "outputs": [],
   "source": []
  }
 ],
 "metadata": {
  "kernelspec": {
   "display_name": ".venv",
   "language": "python",
   "name": "python3"
  },
  "language_info": {
   "codemirror_mode": {
    "name": "ipython",
    "version": 3
   },
   "file_extension": ".py",
   "mimetype": "text/x-python",
   "name": "python",
   "nbconvert_exporter": "python",
   "pygments_lexer": "ipython3",
   "version": "3.13.2"
  }
 },
 "nbformat": 4,
 "nbformat_minor": 5
}
