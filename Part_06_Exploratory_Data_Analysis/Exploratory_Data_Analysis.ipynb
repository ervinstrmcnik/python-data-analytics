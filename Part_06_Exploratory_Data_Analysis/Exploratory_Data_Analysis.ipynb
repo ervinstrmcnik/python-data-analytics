{
 "cells": [
  {
   "cell_type": "markdown",
   "metadata": {},
   "source": [
    "# Exploratory Data Analysis"
   ]
  },
  {
   "cell_type": "code",
   "execution_count": null,
   "metadata": {},
   "outputs": [],
   "source": [
    "import pandas as pd\n",
    "import numpy as np\n",
    "from pathlib import Path\n",
    "import matplotlib.pyplot as plt\n"
   ]
  },
  {
   "cell_type": "markdown",
   "metadata": {},
   "source": [
    "## Visualizing Data Insights"
   ]
  },
  {
   "cell_type": "markdown",
   "metadata": {},
   "source": [
    "Full chapter [here](./Chapter_Visualizing_Data_Insights.ipynb)."
   ]
  },
  {
   "cell_type": "markdown",
   "metadata": {},
   "source": [
    "## Overview of EDA"
   ]
  },
  {
   "cell_type": "markdown",
   "metadata": {},
   "source": [
    "Exploratory Data Analysis (EDA) is a critical initial step in data analysis where researchers investigate datasets to understand their structure, patterns, and potential issues.\n",
    "\n"
   ]
  },
  {
   "cell_type": "code",
   "execution_count": null,
   "metadata": {},
   "outputs": [],
   "source": [
    "# read in the data\n",
    "dataset_path_clean_laptops = Path.cwd().parent / \"data\" / \"OUTPUT_laptops.parquet\"\n",
    "laptops = pd.read_parquet(dataset_path_clean_laptops)\n",
    "laptops.info()"
   ]
  },
  {
   "cell_type": "markdown",
   "metadata": {},
   "source": [
    "## Descriptive Statistics and Data Summarization"
   ]
  },
  {
   "cell_type": "markdown",
   "metadata": {},
   "source": [
    "Descriptive statistics provide the foundation for understanding and interpreting data by summarizing its main features. When faced with a large dataset, it is often impractical—or even impossible—to examine every individual data point. Descriptive statistics condense the data into a few key measures that capture its central tendency, variability, and overall distribution. This subchapter focuses on the theory behind these techniques and explains why they are critical for effective data analysis.\n",
    "\n",
    "Data summarization is essential for several reasons:\n",
    "- **Simplification**: Large datasets are distilled into concise, interpretable numbers. Instead of sifting through thousands of records, analysts can review summary metrics.\n",
    "- **Insight Generation**: By calculating central tendencies (mean, median, mode) and dispersion measures (range, variance, standard deviation), one can quickly gauge the typical value in a dataset and understand how spread out the values are.\n",
    "- **Comparison**: Summarized statistics facilitate comparisons between different groups or over time, supporting informed decision-making.\n",
    "- **Foundation for Further Analysis**: Descriptive insights serve as a preliminary step before more complex inferential statistics or predictive modeling, helping to verify assumptions and detect anomalies in the data."
   ]
  },
  {
   "cell_type": "markdown",
   "metadata": {},
   "source": [
    "<p>Just like with NumPy, we can use any of the standard <a target=\"_blank\" href=\"https://docs.python.org/3/library/stdtypes.html#numeric-types-int-float-complex\">Python numeric operators</a> with series, including:</p>\n",
    "<ul>\n",
    "<li><code>series_a + series_b</code> - Addition</li>\n",
    "<li><code>series_a - series_b</code> - Subtraction</li>\n",
    "<li><code>series_a * series_b</code> - Multiplication (this is unrelated to the multiplications used in linear algebra).</li>\n",
    "<li><code>series_a / series_b</code> - Division</li>\n",
    "</ul>\n",
    "\n",
    "\n",
    "<p>Pandas supports many descriptive stats methods that can help us answer these questions. Here are a few of the most useful ones (with links to documentation):</p>\n",
    "<ul>\n",
    "<li><a target=\"_blank\" href=\"http://pandas.pydata.org/pandas-docs/stable/generated/pandas.Series.max.html\"><code>Series.max()</code></a> and <a target=\"_blank\" href=\"http://pandas.pydata.org/pandas-docs/stable/generated/pandas.DataFrame.max.html\"><code>DataFrame.max()</code></a></li>\n",
    "<li><a target=\"_blank\" href=\"http://pandas.pydata.org/pandas-docs/stable/generated/pandas.Series.min.html\"><code>Series.min()</code></a> and <a target=\"_blank\" href=\"http://pandas.pydata.org/pandas-docs/stable/generated/pandas.DataFrame.min.html\"><code>DataFrame.min()</code></a></li>\n",
    "<li><a target=\"_blank\" href=\"http://pandas.pydata.org/pandas-docs/stable/generated/pandas.Series.mean.html\"><code>Series.mean()</code></a> and <a target=\"_blank\" href=\"http://pandas.pydata.org/pandas-docs/stable/generated/pandas.DataFrame.mean.html\"><code>DataFrame.mean()</code></a></li>\n",
    "<li><a target=\"_blank\" href=\"http://pandas.pydata.org/pandas-docs/stable/generated/pandas.Series.median.html\"><code>Series.median()</code></a> and <a target=\"_blank\" href=\"http://pandas.pydata.org/pandas-docs/stable/generated/pandas.DataFrame.median.html\"><code>DataFrame.median()</code></a></li>\n",
    "<li><a target=\"_blank\" href=\"http://pandas.pydata.org/pandas-docs/stable/generated/pandas.Series.mode.html\"><code>Series.mode()</code></a> and <a target=\"_blank\" href=\"http://pandas.pydata.org/pandas-docs/stable/generated/pandas.DataFrame.mode.html\"><code>DataFrame.mode()</code></a></li>\n",
    "<li><a target=\"_blank\" href=\"http://pandas.pydata.org/pandas-docs/stable/generated/pandas.Series.sum.html\"><code>Series.sum()</code></a> and <a target=\"_blank\" href=\"http://pandas.pydata.org/pandas-docs/stable/generated/pandas.DataFrame.sum.html\"><code>DataFrame.sum()</code></a></li>\n",
    "</ul>"
   ]
  },
  {
   "cell_type": "code",
   "execution_count": null,
   "metadata": {},
   "outputs": [],
   "source": [
    "# Create a scatter plot of total storage vs. weight\n",
    "total_storage = laptops[\"storage_ssd_gb\"] + laptops[\"storage_hdd_gb\"] + laptops[\"storage_flash_gb\"] + laptops[\"storage_hybrid_gb\"]\n",
    "weight = laptops[\"weight_kg\"]\n",
    "mean_storage = total_storage.mean()\n",
    "mean_weight = weight.mean()\n",
    "\n",
    "plt.figure(figsize=(10, 6))\n",
    "plt.scatter(total_storage, weight, alpha=0.5)\n",
    "plt.title(\"Total Storage vs. Weight of Laptops\")\n",
    "plt.xlabel(\"Total Storage (GB)\")\n",
    "plt.ylabel(\"Weight (kg)\")\n",
    "plt.grid(True)\n",
    "plt.xlim(0, 3000)  # Set x-axis limit to 3000 GB\n",
    "plt.ylim(0, 5)  # Set y-axis limit to 5 kg\n",
    "plt.xticks(np.arange(0, 3200, 200))\n",
    "plt.yticks(np.arange(0, 6, 0.5))\n",
    "plt.axhline(y=mean_weight, color=\"r\", linestyle=\"--\", label=\"Mean weight\")\n",
    "plt.axvline(x=mean_storage, color=\"g\", linestyle=\"--\", label=\"Mean storage\")\n",
    "plt.legend()\n",
    "plt.tight_layout()\n",
    "plt.show()"
   ]
  },
  {
   "cell_type": "code",
   "execution_count": null,
   "metadata": {},
   "outputs": [],
   "source": [
    "# Exercise: Find the laptop with the highest RAM vs price ratio\n",
    "# Calculate the RAM vs price ratio\n",
    "laptops[\"ram_price_ratio\"] = laptops[\"ram_gb\"] / laptops[\"price_euros\"]\n",
    "# Find the laptop with the highest RAM vs price ratio\n",
    "highest_ram_price_ratio = laptops.loc[laptops[\"ram_price_ratio\"].idxmax()]\n",
    "print(\"Laptop with the highest RAM vs price ratio:\")\n",
    "highest_ram_price_ratio[[\"manufacturer\", \"model_name\", \"ram_gb\", \"price_euros\", \"ram_price_ratio\"]]\n"
   ]
  },
  {
   "cell_type": "markdown",
   "metadata": {},
   "source": [
    "The <a target=\"_blank\" href=\"http://pandas.pydata.org/pandas-docs/stable/generated/pandas.Series.value_counts.html\"><code>Series.value_counts()</code> method</a>. This method displays each unique non-null value in a column and their counts in order.</p>"
   ]
  },
  {
   "cell_type": "code",
   "execution_count": null,
   "metadata": {},
   "outputs": [],
   "source": [
    "# Count the number of laptops by manufacturer\n",
    "laptops[\"cpu_manufacturer\"].value_counts()"
   ]
  },
  {
   "cell_type": "markdown",
   "metadata": {},
   "source": [
    "> <p><strong>Method chaining</strong> —&nbsp;a way to combine multiple methods together in a single line.</p>"
   ]
  },
  {
   "cell_type": "code",
   "execution_count": null,
   "metadata": {},
   "outputs": [],
   "source": [
    "# Get the price median for the intel and amd laptops\n",
    "intel_price_median = laptops[laptops[\"cpu_manufacturer\"] == \"intel\"][\"price_euros\"].median()\n",
    "amd_price_median = laptops[laptops[\"cpu_manufacturer\"] == \"amd\"][\"price_euros\"].median()\n",
    "\n",
    "print(f\"Intel median price: {intel_price_median}\")\n",
    "print(f\"AMD median price: {amd_price_median}\")"
   ]
  },
  {
   "cell_type": "markdown",
   "metadata": {},
   "source": [
    "<p>Boolean indexing is a powerful tool which allows us to select or exclude parts of our data based on their values. However, to answer more complex questions, we need to learn how to combine boolean arrays.</p>\n",
    "<p>To recap, boolean arrays are created using any of the Python standard <strong>comparison operators</strong>: <code>==</code> (equal), <code>&gt;</code> (greater than), <code>&lt;</code> (less than), <code>!=</code> (not equal).</p>\n",
    "<p>We combine boolean arrays using <strong>boolean operators</strong>. In Python, these boolean operators are <code>and</code>, <code>or</code>, and <code>not</code>. In pandas, the operators are slightly different:</p>\n",
    "<table>\n",
    "<thead>\n",
    "<tr>\n",
    "<th>pandas</th>\n",
    "<th>Python equivalent</th>\n",
    "<th>Meaning</th>\n",
    "</tr>\n",
    "</thead>\n",
    "<tbody>\n",
    "<tr>\n",
    "<td><code>a &amp; b</code></td>\n",
    "<td><code>a and b</code></td>\n",
    "<td><code>True</code> if both <code>a</code> and <code>b</code> are <code>True</code>, else <code>False</code></td>\n",
    "</tr>\n",
    "<tr>\n",
    "<td><code>a | b</code></td>\n",
    "<td><code>a or b</code></td>\n",
    "<td><code>True</code> if either <code>a</code> or <code>b</code> is <code>True</code></td>\n",
    "</tr>\n",
    "<tr>\n",
    "<td><code>~a</code></td>\n",
    "<td><code>not a</code></td>\n",
    "<td><code>True</code> if <code>a</code> is <code>False</code>, else <code>False</code></td>\n",
    "</tr>\n",
    "</tbody>\n",
    "</table>"
   ]
  },
  {
   "cell_type": "code",
   "execution_count": null,
   "metadata": {},
   "outputs": [],
   "source": [
    "# Get the top 3 manufacturers with the most laptops with price > 1000 and nvidia gpus\n",
    "laptops_filtered = laptops[(laptops[\"price_euros\"] > 1000) & (laptops[\"gpu_manufacturer\"] == \"nvidia\")]\n",
    "top_3_manufacturers = laptops_filtered[\"manufacturer\"].value_counts().head(3)\n",
    "top_3_manufacturers"
   ]
  },
  {
   "cell_type": "code",
   "execution_count": 11,
   "metadata": {},
   "outputs": [
    {
     "name": "stdout",
     "output_type": "stream",
     "text": [
      "Cheapest laptop with SSD or flash storage and at least 16GB of RAM:\n"
     ]
    },
    {
     "data": {
      "text/plain": [
       "manufacturer                 Dell\n",
       "model_name          Inspiron 5567\n",
       "ram_gb                         16\n",
       "storage_ssd_gb                256\n",
       "storage_flash_gb                0\n",
       "price_euros                 899.0\n",
       "Name: 570, dtype: object"
      ]
     },
     "execution_count": 11,
     "metadata": {},
     "output_type": "execute_result"
    }
   ],
   "source": [
    "# Get the cheapest laptop with ssd or flash storage and at least 16GB of RAM\n",
    "laptops_filtered = laptops[(laptops[\"storage_ssd_gb\"] > 0) | (laptops[\"storage_flash_gb\"] > 0)]\n",
    "laptops_filtered = laptops_filtered[laptops_filtered[\"ram_gb\"] >= 16]\n",
    "cheapest_laptop = laptops_filtered.loc[laptops_filtered[\"price_euros\"].idxmin()]\n",
    "print(\"Cheapest laptop with SSD or flash storage and at least 16GB of RAM:\")\n",
    "cheapest_laptop[[\"manufacturer\", \"model_name\", \"ram_gb\", \"storage_ssd_gb\", \"storage_flash_gb\", \"price_euros\"]]"
   ]
  },
  {
   "cell_type": "code",
   "execution_count": 12,
   "metadata": {},
   "outputs": [
    {
     "data": {
      "text/html": [
       "<div>\n",
       "<style scoped>\n",
       "    .dataframe tbody tr th:only-of-type {\n",
       "        vertical-align: middle;\n",
       "    }\n",
       "\n",
       "    .dataframe tbody tr th {\n",
       "        vertical-align: top;\n",
       "    }\n",
       "\n",
       "    .dataframe thead th {\n",
       "        text-align: right;\n",
       "    }\n",
       "</style>\n",
       "<table border=\"1\" class=\"dataframe\">\n",
       "  <thead>\n",
       "    <tr style=\"text-align: right;\">\n",
       "      <th></th>\n",
       "      <th>manufacturer</th>\n",
       "      <th>model_name</th>\n",
       "      <th>category</th>\n",
       "      <th>ram_gb</th>\n",
       "      <th>gpu</th>\n",
       "      <th>os</th>\n",
       "      <th>os_version</th>\n",
       "      <th>weight_kg</th>\n",
       "      <th>price_euros</th>\n",
       "      <th>gpu_manufacturer</th>\n",
       "      <th>...</th>\n",
       "      <th>screen_width_px</th>\n",
       "      <th>screen_high_px</th>\n",
       "      <th>storage_ssd_gb</th>\n",
       "      <th>storage_hdd_gb</th>\n",
       "      <th>storage_flash_gb</th>\n",
       "      <th>storage_hybrid_gb</th>\n",
       "      <th>cpu_speed_ghz</th>\n",
       "      <th>screen_size_cm</th>\n",
       "      <th>is_overpriced</th>\n",
       "      <th>ram_price_ratio</th>\n",
       "    </tr>\n",
       "  </thead>\n",
       "  <tbody>\n",
       "    <tr>\n",
       "      <th>984</th>\n",
       "      <td>Asus</td>\n",
       "      <td>Rog Strix</td>\n",
       "      <td>Gaming</td>\n",
       "      <td>16</td>\n",
       "      <td>AMD Radeon RX 580</td>\n",
       "      <td>windows</td>\n",
       "      <td>10</td>\n",
       "      <td>3.2</td>\n",
       "      <td>1549.0</td>\n",
       "      <td>amd</td>\n",
       "      <td>...</td>\n",
       "      <td>1920</td>\n",
       "      <td>1080</td>\n",
       "      <td>256</td>\n",
       "      <td>1000</td>\n",
       "      <td>0</td>\n",
       "      <td>0</td>\n",
       "      <td>3.0</td>\n",
       "      <td>43.942001</td>\n",
       "      <td>True</td>\n",
       "      <td>0.010329</td>\n",
       "    </tr>\n",
       "    <tr>\n",
       "      <th>1041</th>\n",
       "      <td>Asus</td>\n",
       "      <td>Zenbook Flip</td>\n",
       "      <td>Ultrabook</td>\n",
       "      <td>16</td>\n",
       "      <td>Intel HD Graphics 620</td>\n",
       "      <td>windows</td>\n",
       "      <td>10</td>\n",
       "      <td>1.1</td>\n",
       "      <td>1748.900024</td>\n",
       "      <td>intel</td>\n",
       "      <td>...</td>\n",
       "      <td>1920</td>\n",
       "      <td>1080</td>\n",
       "      <td>512</td>\n",
       "      <td>0</td>\n",
       "      <td>0</td>\n",
       "      <td>0</td>\n",
       "      <td>2.7</td>\n",
       "      <td>33.782001</td>\n",
       "      <td>False</td>\n",
       "      <td>0.009149</td>\n",
       "    </tr>\n",
       "    <tr>\n",
       "      <th>1109</th>\n",
       "      <td>Asus</td>\n",
       "      <td>ZenBook 3</td>\n",
       "      <td>Ultrabook</td>\n",
       "      <td>16</td>\n",
       "      <td>Intel HD Graphics 620</td>\n",
       "      <td>windows</td>\n",
       "      <td>10</td>\n",
       "      <td>1.1</td>\n",
       "      <td>1900.0</td>\n",
       "      <td>intel</td>\n",
       "      <td>...</td>\n",
       "      <td>1920</td>\n",
       "      <td>1080</td>\n",
       "      <td>512</td>\n",
       "      <td>0</td>\n",
       "      <td>0</td>\n",
       "      <td>0</td>\n",
       "      <td>2.7</td>\n",
       "      <td>35.560001</td>\n",
       "      <td>False</td>\n",
       "      <td>0.008421</td>\n",
       "    </tr>\n",
       "    <tr>\n",
       "      <th>1122</th>\n",
       "      <td>Asus</td>\n",
       "      <td>Zenbook UX390UA</td>\n",
       "      <td>Ultrabook</td>\n",
       "      <td>16</td>\n",
       "      <td>Intel HD Graphics 620</td>\n",
       "      <td>windows</td>\n",
       "      <td>10</td>\n",
       "      <td>0.91</td>\n",
       "      <td>1950.0</td>\n",
       "      <td>intel</td>\n",
       "      <td>...</td>\n",
       "      <td>1920</td>\n",
       "      <td>1080</td>\n",
       "      <td>512</td>\n",
       "      <td>0</td>\n",
       "      <td>0</td>\n",
       "      <td>0</td>\n",
       "      <td>2.7</td>\n",
       "      <td>31.75</td>\n",
       "      <td>False</td>\n",
       "      <td>0.008205</td>\n",
       "    </tr>\n",
       "    <tr>\n",
       "      <th>1168</th>\n",
       "      <td>Asus</td>\n",
       "      <td>Rog Strix</td>\n",
       "      <td>Gaming</td>\n",
       "      <td>16</td>\n",
       "      <td>AMD Radeon RX 580</td>\n",
       "      <td>windows</td>\n",
       "      <td>10</td>\n",
       "      <td>3.25</td>\n",
       "      <td>2199.0</td>\n",
       "      <td>amd</td>\n",
       "      <td>...</td>\n",
       "      <td>1920</td>\n",
       "      <td>1080</td>\n",
       "      <td>256</td>\n",
       "      <td>1000</td>\n",
       "      <td>0</td>\n",
       "      <td>0</td>\n",
       "      <td>3.0</td>\n",
       "      <td>43.942001</td>\n",
       "      <td>True</td>\n",
       "      <td>0.007276</td>\n",
       "    </tr>\n",
       "  </tbody>\n",
       "</table>\n",
       "<p>5 rows × 21 columns</p>\n",
       "</div>"
      ],
      "text/plain": [
       "     manufacturer       model_name   category  ram_gb                    gpu  \\\n",
       "984          Asus        Rog Strix     Gaming      16      AMD Radeon RX 580   \n",
       "1041         Asus     Zenbook Flip  Ultrabook      16  Intel HD Graphics 620   \n",
       "1109         Asus        ZenBook 3  Ultrabook      16  Intel HD Graphics 620   \n",
       "1122         Asus  Zenbook UX390UA  Ultrabook      16  Intel HD Graphics 620   \n",
       "1168         Asus        Rog Strix     Gaming      16      AMD Radeon RX 580   \n",
       "\n",
       "           os os_version  weight_kg  price_euros gpu_manufacturer  ...  \\\n",
       "984   windows         10        3.2       1549.0              amd  ...   \n",
       "1041  windows         10        1.1  1748.900024            intel  ...   \n",
       "1109  windows         10        1.1       1900.0            intel  ...   \n",
       "1122  windows         10       0.91       1950.0            intel  ...   \n",
       "1168  windows         10       3.25       2199.0              amd  ...   \n",
       "\n",
       "     screen_width_px  screen_high_px  storage_ssd_gb  storage_hdd_gb  \\\n",
       "984             1920            1080             256            1000   \n",
       "1041            1920            1080             512               0   \n",
       "1109            1920            1080             512               0   \n",
       "1122            1920            1080             512               0   \n",
       "1168            1920            1080             256            1000   \n",
       "\n",
       "      storage_flash_gb  storage_hybrid_gb  cpu_speed_ghz  screen_size_cm  \\\n",
       "984                  0                  0            3.0       43.942001   \n",
       "1041                 0                  0            2.7       33.782001   \n",
       "1109                 0                  0            2.7       35.560001   \n",
       "1122                 0                  0            2.7           31.75   \n",
       "1168                 0                  0            3.0       43.942001   \n",
       "\n",
       "      is_overpriced  ram_price_ratio  \n",
       "984            True         0.010329  \n",
       "1041          False         0.009149  \n",
       "1109          False         0.008421  \n",
       "1122          False         0.008205  \n",
       "1168           True         0.007276  \n",
       "\n",
       "[5 rows x 21 columns]"
      ]
     },
     "execution_count": 12,
     "metadata": {},
     "output_type": "execute_result"
    }
   ],
   "source": [
    "# Select all laptops from Asus that do not have a dedicated Nvidia GPU and have at least 16GB of RAM\n",
    "laptops_filtered = laptops[(laptops[\"manufacturer\"] == \"Asus\") & ~(laptops[\"gpu_manufacturer\"] == \"nvidia\") & (laptops[\"ram_gb\"] >= 16)]\n",
    "laptops_filtered"
   ]
  },
  {
   "cell_type": "code",
   "execution_count": 13,
   "metadata": {},
   "outputs": [
    {
     "data": {
      "text/html": [
       "<div>\n",
       "<style scoped>\n",
       "    .dataframe tbody tr th:only-of-type {\n",
       "        vertical-align: middle;\n",
       "    }\n",
       "\n",
       "    .dataframe tbody tr th {\n",
       "        vertical-align: top;\n",
       "    }\n",
       "\n",
       "    .dataframe thead th {\n",
       "        text-align: right;\n",
       "    }\n",
       "</style>\n",
       "<table border=\"1\" class=\"dataframe\">\n",
       "  <thead>\n",
       "    <tr style=\"text-align: right;\">\n",
       "      <th></th>\n",
       "      <th>manufacturer</th>\n",
       "      <th>model_name</th>\n",
       "      <th>category</th>\n",
       "      <th>ram_gb</th>\n",
       "      <th>gpu</th>\n",
       "      <th>os</th>\n",
       "      <th>os_version</th>\n",
       "      <th>weight_kg</th>\n",
       "      <th>price_euros</th>\n",
       "      <th>gpu_manufacturer</th>\n",
       "      <th>...</th>\n",
       "      <th>screen_width_px</th>\n",
       "      <th>screen_high_px</th>\n",
       "      <th>storage_ssd_gb</th>\n",
       "      <th>storage_hdd_gb</th>\n",
       "      <th>storage_flash_gb</th>\n",
       "      <th>storage_hybrid_gb</th>\n",
       "      <th>cpu_speed_ghz</th>\n",
       "      <th>screen_size_cm</th>\n",
       "      <th>is_overpriced</th>\n",
       "      <th>ram_price_ratio</th>\n",
       "    </tr>\n",
       "  </thead>\n",
       "  <tbody>\n",
       "    <tr>\n",
       "      <th>1245</th>\n",
       "      <td>Apple</td>\n",
       "      <td>MacBook Pro</td>\n",
       "      <td>Ultrabook</td>\n",
       "      <td>16</td>\n",
       "      <td>AMD Radeon Pro 560</td>\n",
       "      <td>mac_os</td>\n",
       "      <td>X</td>\n",
       "      <td>1.83</td>\n",
       "      <td>2858.0</td>\n",
       "      <td>amd</td>\n",
       "      <td>...</td>\n",
       "      <td>2880</td>\n",
       "      <td>1800</td>\n",
       "      <td>512</td>\n",
       "      <td>0</td>\n",
       "      <td>0</td>\n",
       "      <td>0</td>\n",
       "      <td>2.9</td>\n",
       "      <td>39.116001</td>\n",
       "      <td>True</td>\n",
       "      <td>0.005598</td>\n",
       "    </tr>\n",
       "  </tbody>\n",
       "</table>\n",
       "<p>1 rows × 21 columns</p>\n",
       "</div>"
      ],
      "text/plain": [
       "     manufacturer   model_name   category  ram_gb                 gpu      os  \\\n",
       "1245        Apple  MacBook Pro  Ultrabook      16  AMD Radeon Pro 560  mac_os   \n",
       "\n",
       "     os_version  weight_kg  price_euros gpu_manufacturer  ... screen_width_px  \\\n",
       "1245          X       1.83       2858.0              amd  ...            2880   \n",
       "\n",
       "      screen_high_px  storage_ssd_gb  storage_hdd_gb  storage_flash_gb  \\\n",
       "1245            1800             512               0                 0   \n",
       "\n",
       "      storage_hybrid_gb  cpu_speed_ghz  screen_size_cm  is_overpriced  \\\n",
       "1245                  0            2.9       39.116001           True   \n",
       "\n",
       "      ram_price_ratio  \n",
       "1245         0.005598  \n",
       "\n",
       "[1 rows x 21 columns]"
      ]
     },
     "execution_count": 13,
     "metadata": {},
     "output_type": "execute_result"
    }
   ],
   "source": [
    "# Get a Apple laptop with the highest price\n",
    "laptops[laptops[\"manufacturer\"] == \"Apple\"].sort_values(by=\"price_euros\", ascending=False).head(1)"
   ]
  },
  {
   "cell_type": "code",
   "execution_count": 14,
   "metadata": {},
   "outputs": [
    {
     "data": {
      "image/png": "[encoded data removed]",
      "text/plain": [
       "<Figure size 1000x600 with 1 Axes>"
      ]
     },
     "metadata": {},
     "output_type": "display_data"
    }
   ],
   "source": [
    "# Counts laptops by manufacturer  only for laptops without HHD storage\n",
    "laptops[laptops[\"storage_hdd_gb\"] == 0][\"manufacturer\"].value_counts().head(10).plot(kind=\"barh\", figsize=(10, 6), color=\"skyblue\")\n",
    "plt.title(\"Top 10 Manufacturers without HDD Storage\")\n",
    "plt.xlabel(\"Number of Laptops\")\n",
    "plt.ylabel(\"Manufacturer\")\n",
    "plt.xticks(rotation=45)\n",
    "plt.grid(axis=\"x\")\n",
    "plt.tight_layout()\n",
    "plt.show()"
   ]
  },
  {
   "cell_type": "markdown",
   "metadata": {},
   "source": [
    "## Copy-on-Write (CoW)"
   ]
  },
  {
   "cell_type": "markdown",
   "metadata": {},
   "source": [
    "> Copy-on-Write will become the default in pandas 3.0. We recommend turning it on now to benefit from all improvements. Copy-on-Write was first introduced in version 1.5.0. Starting from version 2.0 most of the optimizations that become possible through CoW are implemented and supported. All possible optimizations are supported starting from pandas 2.1. **CoW will be enabled by default in version 3.0.**"
   ]
  },
  {
   "cell_type": "markdown",
   "metadata": {},
   "source": [
    "CoW will lead to more predictable behavior since it is not possible to update more than one object with one statement, e.g. indexing operations or methods won’t have side-effects. Additionally, through delaying copies as long as possible, the average performance and memory usage will improve."
   ]
  },
  {
   "cell_type": "markdown",
   "metadata": {},
   "source": [
    "**Previous behavior**\n",
    "\n",
    "pandas indexing behavior is tricky to understand. Some operations return views while other return copies. Depending on the result of the operation, mutating one object might accidentally mutate another:"
   ]
  },
  {
   "cell_type": "code",
   "execution_count": 15,
   "metadata": {},
   "outputs": [
    {
     "data": {
      "text/html": [
       "<div>\n",
       "<style scoped>\n",
       "    .dataframe tbody tr th:only-of-type {\n",
       "        vertical-align: middle;\n",
       "    }\n",
       "\n",
       "    .dataframe tbody tr th {\n",
       "        vertical-align: top;\n",
       "    }\n",
       "\n",
       "    .dataframe thead th {\n",
       "        text-align: right;\n",
       "    }\n",
       "</style>\n",
       "<table border=\"1\" class=\"dataframe\">\n",
       "  <thead>\n",
       "    <tr style=\"text-align: right;\">\n",
       "      <th></th>\n",
       "      <th>foo</th>\n",
       "      <th>bar</th>\n",
       "    </tr>\n",
       "  </thead>\n",
       "  <tbody>\n",
       "    <tr>\n",
       "      <th>0</th>\n",
       "      <td>1</td>\n",
       "      <td>4</td>\n",
       "    </tr>\n",
       "    <tr>\n",
       "      <th>1</th>\n",
       "      <td>2</td>\n",
       "      <td>5</td>\n",
       "    </tr>\n",
       "    <tr>\n",
       "      <th>2</th>\n",
       "      <td>3</td>\n",
       "      <td>6</td>\n",
       "    </tr>\n",
       "  </tbody>\n",
       "</table>\n",
       "</div>"
      ],
      "text/plain": [
       "   foo  bar\n",
       "0    1    4\n",
       "1    2    5\n",
       "2    3    6"
      ]
     },
     "execution_count": 15,
     "metadata": {},
     "output_type": "execute_result"
    }
   ],
   "source": [
    "df = pd.DataFrame({\"foo\": [1, 2, 3], \"bar\": [4, 5, 6]})\n",
    "df"
   ]
  },
  {
   "cell_type": "code",
   "execution_count": 16,
   "metadata": {},
   "outputs": [
    {
     "data": {
      "text/html": [
       "<div>\n",
       "<style scoped>\n",
       "    .dataframe tbody tr th:only-of-type {\n",
       "        vertical-align: middle;\n",
       "    }\n",
       "\n",
       "    .dataframe tbody tr th {\n",
       "        vertical-align: top;\n",
       "    }\n",
       "\n",
       "    .dataframe thead th {\n",
       "        text-align: right;\n",
       "    }\n",
       "</style>\n",
       "<table border=\"1\" class=\"dataframe\">\n",
       "  <thead>\n",
       "    <tr style=\"text-align: right;\">\n",
       "      <th></th>\n",
       "      <th>foo</th>\n",
       "      <th>bar</th>\n",
       "    </tr>\n",
       "  </thead>\n",
       "  <tbody>\n",
       "    <tr>\n",
       "      <th>0</th>\n",
       "      <td>100</td>\n",
       "      <td>4</td>\n",
       "    </tr>\n",
       "    <tr>\n",
       "      <th>1</th>\n",
       "      <td>2</td>\n",
       "      <td>5</td>\n",
       "    </tr>\n",
       "    <tr>\n",
       "      <th>2</th>\n",
       "      <td>3</td>\n",
       "      <td>6</td>\n",
       "    </tr>\n",
       "  </tbody>\n",
       "</table>\n",
       "</div>"
      ],
      "text/plain": [
       "   foo  bar\n",
       "0  100    4\n",
       "1    2    5\n",
       "2    3    6"
      ]
     },
     "execution_count": 16,
     "metadata": {},
     "output_type": "execute_result"
    }
   ],
   "source": [
    "subset = df[\"foo\"]\n",
    "subset.iloc[0] = 100\n",
    "df"
   ]
  },
  {
   "cell_type": "markdown",
   "metadata": {
    "vscode": {
     "languageId": "markdown"
    }
   },
   "source": [
    "Mutating subset, e.g. updating its values, also updates df. The exact behavior is hard to predict. Copy-on-Write solves accidentally modifying more than one object, it explicitly disallows this. With CoW enabled, df is unchanged:"
   ]
  },
  {
   "cell_type": "code",
   "execution_count": 17,
   "metadata": {},
   "outputs": [],
   "source": [
    "pd.options.mode.copy_on_write = True"
   ]
  },
  {
   "cell_type": "code",
   "execution_count": 18,
   "metadata": {},
   "outputs": [
    {
     "data": {
      "text/html": [
       "<div>\n",
       "<style scoped>\n",
       "    .dataframe tbody tr th:only-of-type {\n",
       "        vertical-align: middle;\n",
       "    }\n",
       "\n",
       "    .dataframe tbody tr th {\n",
       "        vertical-align: top;\n",
       "    }\n",
       "\n",
       "    .dataframe thead th {\n",
       "        text-align: right;\n",
       "    }\n",
       "</style>\n",
       "<table border=\"1\" class=\"dataframe\">\n",
       "  <thead>\n",
       "    <tr style=\"text-align: right;\">\n",
       "      <th></th>\n",
       "      <th>foo</th>\n",
       "      <th>bar</th>\n",
       "    </tr>\n",
       "  </thead>\n",
       "  <tbody>\n",
       "    <tr>\n",
       "      <th>0</th>\n",
       "      <td>1</td>\n",
       "      <td>4</td>\n",
       "    </tr>\n",
       "    <tr>\n",
       "      <th>1</th>\n",
       "      <td>2</td>\n",
       "      <td>5</td>\n",
       "    </tr>\n",
       "    <tr>\n",
       "      <th>2</th>\n",
       "      <td>3</td>\n",
       "      <td>6</td>\n",
       "    </tr>\n",
       "  </tbody>\n",
       "</table>\n",
       "</div>"
      ],
      "text/plain": [
       "   foo  bar\n",
       "0    1    4\n",
       "1    2    5\n",
       "2    3    6"
      ]
     },
     "execution_count": 18,
     "metadata": {},
     "output_type": "execute_result"
    }
   ],
   "source": [
    "df = pd.DataFrame({\"foo\": [1, 2, 3], \"bar\": [4, 5, 6]})\n",
    "subset = df[\"foo\"]\n",
    "subset.iloc[0] = 10\n",
    "df"
   ]
  },
  {
   "cell_type": "code",
   "execution_count": 19,
   "metadata": {},
   "outputs": [],
   "source": [
    "pd.options.mode.copy_on_write = False"
   ]
  },
  {
   "cell_type": "code",
   "execution_count": 20,
   "metadata": {},
   "outputs": [
    {
     "data": {
      "text/html": [
       "<div>\n",
       "<style scoped>\n",
       "    .dataframe tbody tr th:only-of-type {\n",
       "        vertical-align: middle;\n",
       "    }\n",
       "\n",
       "    .dataframe tbody tr th {\n",
       "        vertical-align: top;\n",
       "    }\n",
       "\n",
       "    .dataframe thead th {\n",
       "        text-align: right;\n",
       "    }\n",
       "</style>\n",
       "<table border=\"1\" class=\"dataframe\">\n",
       "  <thead>\n",
       "    <tr style=\"text-align: right;\">\n",
       "      <th></th>\n",
       "      <th>foo</th>\n",
       "      <th>bar</th>\n",
       "    </tr>\n",
       "  </thead>\n",
       "  <tbody>\n",
       "    <tr>\n",
       "      <th>0</th>\n",
       "      <td>10</td>\n",
       "      <td>4</td>\n",
       "    </tr>\n",
       "    <tr>\n",
       "      <th>1</th>\n",
       "      <td>2</td>\n",
       "      <td>5</td>\n",
       "    </tr>\n",
       "    <tr>\n",
       "      <th>2</th>\n",
       "      <td>3</td>\n",
       "      <td>6</td>\n",
       "    </tr>\n",
       "  </tbody>\n",
       "</table>\n",
       "</div>"
      ],
      "text/plain": [
       "   foo  bar\n",
       "0   10    4\n",
       "1    2    5\n",
       "2    3    6"
      ]
     },
     "execution_count": 20,
     "metadata": {},
     "output_type": "execute_result"
    }
   ],
   "source": [
    "df = pd.DataFrame({\"foo\": [1, 2, 3], \"bar\": [4, 5, 6]})\n",
    "subset = df[\"foo\"]\n",
    "subset.iloc[0] = 10\n",
    "df"
   ]
  },
  {
   "cell_type": "code",
   "execution_count": null,
   "metadata": {},
   "outputs": [],
   "source": []
  },
  {
   "cell_type": "markdown",
   "metadata": {},
   "source": [
    "- https://pandas.pydata.org/docs/user_guide/indexing.html#returning-a-view-versus-a-copy\n",
    "- https://pandas.pydata.org/docs/user_guide/copy_on_write.html#copy-on-write"
   ]
  },
  {
   "cell_type": "markdown",
   "metadata": {},
   "source": [
    "## Data Aggregation"
   ]
  },
  {
   "cell_type": "markdown",
   "metadata": {},
   "source": [
    "In the world of data analysis, you often work with large datasets containing many rows of detailed information. However, for decision-making or further analysis, you usually don’t need to inspect every individual record. Instead, you need to summarize or aggregate the data to:\n",
    "- Reveal Trends: Understand the overall performance (e.g., total sales, average ratings) rather than just individual data points.\n",
    "- Compare Groups: Compare different categories, such as sales by region or performance by department.\n",
    "- Simplify Analysis: Reduce the data to a manageable size while preserving essential patterns.\n",
    "- Enhance Reporting: Create meaningful summaries that are easy to visualize and interpret.\n",
    "\n",
    "Data aggregation helps to condense your dataset, making it easier to draw insights and take informed actions."
   ]
  },
  {
   "cell_type": "markdown",
   "metadata": {},
   "source": [
    "Before diving into the groupby method, it’s important to understand the **split-apply-combine** strategy—a common paradigm in data analysis that underlies many aggregation techniques.\n",
    "- **Split**: Divide the dataset into groups based on one or more key variables (for example, grouping sales records by store).\n",
    "- **Apply**: Perform an operation on each group independently. This could be a statistical function like sum, mean, or even a custom transformation.\n",
    "- **Combine**: Merge the individual results from each group back into a single data structure.\n",
    "\n",
    "This strategy allows analysts to work on each group separately and then bring the results together in a concise summary."
   ]
  },
  {
   "cell_type": "code",
   "execution_count": 21,
   "metadata": {},
   "outputs": [
    {
     "name": "stdout",
     "output_type": "stream",
     "text": [
      "{'Netbook': np.float32(673.3826), 'Notebook': np.float32(789.24585), '2 in 1 Convertible': np.float32(1289.7145), 'Ultrabook': np.float32(1556.676), 'Gaming': np.float32(1731.3806), 'Workstation': np.float32(2280.359)}\n"
     ]
    },
    {
     "data": {
      "image/png": "[encoded data removed]",
      "text/plain": [
       "<Figure size 1000x600 with 1 Axes>"
      ]
     },
     "metadata": {},
     "output_type": "display_data"
    }
   ],
   "source": [
    "# To better understand what split-apply-combine is doing, here's a manual\n",
    "# implementation using a for loop.\n",
    "# Don't use this in practice, it's just for illustration.\n",
    "\n",
    "mean_prices = {}\n",
    "\n",
    "for laptop_category in laptops[\"category\"].unique():\n",
    "    category_group = laptops[laptops[\"category\"] == laptop_category]\n",
    "    mean_price = category_group[\"price_euros\"].mean()\n",
    "    mean_prices[laptop_category] = mean_price\n",
    "\n",
    "print(mean_prices)\n",
    "\n",
    "# Plot the mean prices for each category\n",
    "plt.figure(figsize=(10, 6))\n",
    "plt.bar(mean_prices.keys(), mean_prices.values())\n",
    "plt.xlabel(\"Laptop Category\")\n",
    "plt.ylabel(\"Mean Price (Euros)\")\n",
    "plt.title(\"Mean Laptop Prices by Category\")\n",
    "plt.xticks(rotation=45)\n",
    "plt.tight_layout()\n",
    "plt.show()"
   ]
  },
  {
   "cell_type": "markdown",
   "metadata": {},
   "source": [
    "Pandas implements the split-apply-combine strategy using its powerful `groupby` method. Here’s what happens under the hood:\n",
    "- **Splitting the Data**: When you call `df.groupby('Column')`, pandas scans the specified column and divides the DataFrame into subsets, where each subset contains rows sharing the same value in that column.\n",
    "- **Applying a Function**: Once the data is split, you can apply a function to each group. This function could be an aggregation (like sum, mean, min, or max), a transformation (like scaling or normalizing), or even a filtering function. Pandas efficiently applies these operations to each subset.\n",
    "- **Combining the Results**: After the function is applied, pandas combines the output into a new DataFrame or Series. This new structure presents the aggregated results in a clear, tabular format.\n",
    "\n",
    "The elegance of groupby is that it abstracts away the need for explicit loops, providing a more efficient and readable approach to data aggregation."
   ]
  },
  {
   "cell_type": "markdown",
   "metadata": {},
   "source": [
    "Suppose you have a dataset of sales records for different stores. You want to calculate the total sales per store."
   ]
  },
  {
   "cell_type": "code",
   "execution_count": 22,
   "metadata": {},
   "outputs": [
    {
     "name": "stdout",
     "output_type": "stream",
     "text": [
      "Total sales per store:\n"
     ]
    },
    {
     "data": {
      "text/plain": [
       "Store\n",
       "A    300\n",
       "B    400\n",
       "C    700\n",
       "Name: Sales, dtype: int64"
      ]
     },
     "execution_count": 22,
     "metadata": {},
     "output_type": "execute_result"
    }
   ],
   "source": [
    "data = {\"Store\": [\"A\", \"A\", \"B\", \"B\", \"C\", \"C\"], \"Sales\": [100, 200, 150, 250, 300, 400]}\n",
    "df = pd.DataFrame(data)\n",
    "\n",
    "# Group by 'Store' and sum the 'Sales'\n",
    "total_sales = df.groupby(\"Store\")[\"Sales\"].sum()\n",
    "\n",
    "print(\"Total sales per store:\")\n",
    "total_sales"
   ]
  },
  {
   "cell_type": "code",
   "execution_count": 23,
   "metadata": {},
   "outputs": [
    {
     "name": "stdout",
     "output_type": "stream",
     "text": [
      "{'2 in 1 Convertible': [34, 53, 62, 83, 105, 108, 114, 199, 200, 217, 233, 262, 316, 323, 333, 339, 345, 347, 353, 365, 367, 373, 382, 388, 398, 432, 457, 471, 476, 479, 484, 498, 501, 510, 512, 514, 517, 523, 524, 539, 542, 555, 568, 588, 612, 645, 649, 650, 653, 673, 682, 696, 708, 714, 759, 767, 780, 806, 810, 844, 850, 859, 863, 864, 866, 871, 884, 894, 910, 914, 919, 959, 960, 964, 965, 996, 1006, 1008, 1011, 1019, 1020, 1033, 1034, 1044, 1050, 1060, 1061, 1065, 1066, 1069, 1072, 1075, 1078, 1082, 1084, 1106, 1107, 1108, 1123, 1129, ...], 'Gaming': [400, 408, 463, 478, 491, 499, 500, 506, 515, 520, 541, 547, 549, 564, 571, 577, 589, 594, 602, 604, 608, 633, 637, 641, 643, 644, 646, 647, 651, 652, 663, 668, 670, 674, 678, 690, 695, 702, 710, 717, 723, 725, 732, 739, 743, 744, 752, 758, 761, 769, 774, 775, 776, 777, 779, 786, 789, 790, 792, 793, 795, 799, 801, 804, 805, 807, 809, 824, 827, 828, 829, 831, 836, 840, 842, 845, 853, 857, 861, 862, 865, 869, 870, 874, 877, 878, 883, 886, 887, 889, 893, 899, 903, 909, 912, 916, 922, 923, 932, 944, ...], 'Netbook': [0, 1, 6, 14, 26, 27, 28, 39, 43, 44, 73, 89, 111, 150, 194, 265, 437, 906, 948, 999, 1014, 1018, 1114], 'Notebook': [2, 3, 4, 5, 7, 8, 9, 10, 11, 12, 13, 15, 16, 17, 18, 19, 20, 21, 22, 23, 24, 25, 29, 30, 31, 32, 33, 35, 36, 37, 38, 40, 41, 42, 45, 46, 47, 48, 49, 50, 51, 52, 54, 55, 56, 57, 58, 59, 60, 61, 63, 64, 65, 66, 67, 68, 69, 70, 71, 72, 74, 75, 76, 77, 78, 79, 80, 81, 82, 84, 85, 86, 87, 88, 90, 91, 92, 93, 94, 95, 96, 97, 98, 99, 100, 101, 102, 103, 104, 106, 107, 109, 110, 112, 113, 115, 116, 117, 118, 119, ...], 'Ultrabook': [228, 362, 370, 401, 423, 446, 456, 497, 508, 546, 552, 563, 567, 585, 590, 592, 605, 610, 614, 623, 626, 636, 638, 642, 654, 667, 669, 679, 681, 686, 698, 703, 705, 709, 711, 712, 715, 718, 719, 720, 727, 736, 742, 746, 748, 755, 757, 763, 766, 770, 771, 773, 794, 808, 818, 826, 832, 834, 837, 843, 846, 848, 854, 855, 867, 872, 876, 879, 881, 890, 891, 892, 895, 901, 902, 905, 911, 913, 917, 918, 924, 925, 930, 931, 933, 934, 935, 938, 939, 941, 945, 950, 954, 957, 958, 962, 963, 966, 969, 971, ...], 'Workstation': [898, 953, 977, 987, 1039, 1052, 1057, 1085, 1089, 1105, 1113, 1115, 1132, 1134, 1151, 1161, 1172, 1175, 1191, 1200, 1202, 1206, 1233, 1247, 1249, 1255, 1262, 1267, 1269]}\n"
     ]
    }
   ],
   "source": [
    "print(laptops.groupby(\"category\", observed=True).groups)"
   ]
  },
  {
   "cell_type": "code",
   "execution_count": 24,
   "metadata": {},
   "outputs": [
    {
     "data": {
      "text/plain": [
       "category\n",
       "2 in 1 Convertible    2824.0\n",
       "Gaming                6099.0\n",
       "Netbook               1908.0\n",
       "Notebook              4899.0\n",
       "Ultrabook             3100.0\n",
       "Workstation           4389.0\n",
       "Name: price_euros, dtype: Float32"
      ]
     },
     "execution_count": 24,
     "metadata": {},
     "output_type": "execute_result"
    }
   ],
   "source": [
    "# Get maximum price for each category\n",
    "max_prices = laptops.groupby(\"category\", observed=True)[\"price_euros\"].max()\n",
    "max_prices"
   ]
  },
  {
   "cell_type": "markdown",
   "metadata": {},
   "source": [
    "You can also perform multiple operations on grouped data at once. "
   ]
  },
  {
   "cell_type": "code",
   "execution_count": 25,
   "metadata": {},
   "outputs": [
    {
     "data": {
      "text/html": [
       "<div>\n",
       "<style scoped>\n",
       "    .dataframe tbody tr th:only-of-type {\n",
       "        vertical-align: middle;\n",
       "    }\n",
       "\n",
       "    .dataframe tbody tr th {\n",
       "        vertical-align: top;\n",
       "    }\n",
       "\n",
       "    .dataframe thead th {\n",
       "        text-align: right;\n",
       "    }\n",
       "</style>\n",
       "<table border=\"1\" class=\"dataframe\">\n",
       "  <thead>\n",
       "    <tr style=\"text-align: right;\">\n",
       "      <th></th>\n",
       "      <th>mean</th>\n",
       "      <th>max</th>\n",
       "      <th>median</th>\n",
       "      <th>std</th>\n",
       "      <th>dif</th>\n",
       "    </tr>\n",
       "    <tr>\n",
       "      <th>category</th>\n",
       "      <th></th>\n",
       "      <th></th>\n",
       "      <th></th>\n",
       "      <th></th>\n",
       "      <th></th>\n",
       "    </tr>\n",
       "  </thead>\n",
       "  <tbody>\n",
       "    <tr>\n",
       "      <th>2 in 1 Convertible</th>\n",
       "      <td>1289.714478</td>\n",
       "      <td>2824.0</td>\n",
       "      <td>1199.0</td>\n",
       "      <td>617.436646</td>\n",
       "      <td>2549.0</td>\n",
       "    </tr>\n",
       "    <tr>\n",
       "      <th>Gaming</th>\n",
       "      <td>1731.380615</td>\n",
       "      <td>6099.0</td>\n",
       "      <td>1492.800049</td>\n",
       "      <td>814.174438</td>\n",
       "      <td>5400.0</td>\n",
       "    </tr>\n",
       "    <tr>\n",
       "      <th>Netbook</th>\n",
       "      <td>673.382629</td>\n",
       "      <td>1908.0</td>\n",
       "      <td>355.0</td>\n",
       "      <td>592.093384</td>\n",
       "      <td>1734.0</td>\n",
       "    </tr>\n",
       "    <tr>\n",
       "      <th>Notebook</th>\n",
       "      <td>789.24585</td>\n",
       "      <td>4899.0</td>\n",
       "      <td>696.5</td>\n",
       "      <td>446.941772</td>\n",
       "      <td>4703.0</td>\n",
       "    </tr>\n",
       "    <tr>\n",
       "      <th>Ultrabook</th>\n",
       "      <td>1556.676025</td>\n",
       "      <td>3100.0</td>\n",
       "      <td>1499.0</td>\n",
       "      <td>484.737335</td>\n",
       "      <td>2601.0</td>\n",
       "    </tr>\n",
       "    <tr>\n",
       "      <th>Workstation</th>\n",
       "      <td>2280.358887</td>\n",
       "      <td>4389.0</td>\n",
       "      <td>2064.899902</td>\n",
       "      <td>712.643555</td>\n",
       "      <td>3020.0</td>\n",
       "    </tr>\n",
       "  </tbody>\n",
       "</table>\n",
       "</div>"
      ],
      "text/plain": [
       "                           mean     max       median         std     dif\n",
       "category                                                                \n",
       "2 in 1 Convertible  1289.714478  2824.0       1199.0  617.436646  2549.0\n",
       "Gaming              1731.380615  6099.0  1492.800049  814.174438  5400.0\n",
       "Netbook              673.382629  1908.0        355.0  592.093384  1734.0\n",
       "Notebook              789.24585  4899.0        696.5  446.941772  4703.0\n",
       "Ultrabook           1556.676025  3100.0       1499.0  484.737335  2601.0\n",
       "Workstation         2280.358887  4389.0  2064.899902  712.643555  3020.0"
      ]
     },
     "execution_count": 25,
     "metadata": {},
     "output_type": "execute_result"
    }
   ],
   "source": [
    "def dif(group):\n",
    "    return group.max() - group.min()\n",
    "\n",
    "\n",
    "laptops.groupby(\"category\", observed=True)[\"price_euros\"].agg([\"mean\", \"max\", \"median\", \"std\", dif])"
   ]
  },
  {
   "cell_type": "markdown",
   "metadata": {},
   "source": [
    "Data aggregation is a vital step in the data analysis process, as it transforms large, detailed datasets into meaningful summaries. The split-apply-combine strategy is the conceptual framework behind many aggregation techniques."
   ]
  },
  {
   "cell_type": "code",
   "execution_count": 26,
   "metadata": {},
   "outputs": [
    {
     "data": {
      "text/plain": [
       "manufacturer\n",
       "Razer                       3346.142822\n",
       "LG                               2099.0\n",
       "Micro-Star International    1728.908081\n",
       "Google                      1677.666626\n",
       "Microsoft                   1612.308228\n",
       "Apple                       1564.198608\n",
       "Huawei                           1424.0\n",
       "Samsung                     1413.444458\n",
       "Toshiba                       1267.8125\n",
       "Dell                        1199.225098\n",
       "Xiaomi                      1133.462524\n",
       "Asus                        1128.391602\n",
       "Lenovo                      1093.862183\n",
       "HP                          1080.314697\n",
       "Fujitsu                           729.0\n",
       "Acer                         633.464478\n",
       "Chuwi                        314.296661\n",
       "Mediacom                          295.0\n",
       "Vero                         217.425003\n",
       "Name: price_euros, dtype: Float32"
      ]
     },
     "execution_count": 26,
     "metadata": {},
     "output_type": "execute_result"
    }
   ],
   "source": [
    "# Exercise 1: Are laptops made by Apple more expensive than those made by\n",
    "# other manufacturers?\n",
    "laptops.groupby(\"manufacturer\", observed=False)[\"price_euros\"].mean().sort_values(ascending=False)"
   ]
  },
  {
   "cell_type": "code",
   "execution_count": 27,
   "metadata": {},
   "outputs": [
    {
     "name": "stdout",
     "output_type": "stream",
     "text": [
      "Best value laptop is Acer Chromebook C910-C2ST with price 199.0 euros\n"
     ]
    },
    {
     "data": {
      "text/html": [
       "<div>\n",
       "<style scoped>\n",
       "    .dataframe tbody tr th:only-of-type {\n",
       "        vertical-align: middle;\n",
       "    }\n",
       "\n",
       "    .dataframe tbody tr th {\n",
       "        vertical-align: top;\n",
       "    }\n",
       "\n",
       "    .dataframe thead th {\n",
       "        text-align: right;\n",
       "    }\n",
       "</style>\n",
       "<table border=\"1\" class=\"dataframe\">\n",
       "  <thead>\n",
       "    <tr style=\"text-align: right;\">\n",
       "      <th></th>\n",
       "      <th>manufacturer</th>\n",
       "      <th>model_name</th>\n",
       "      <th>price_euros</th>\n",
       "      <th>screen_size_cm</th>\n",
       "    </tr>\n",
       "  </thead>\n",
       "  <tbody>\n",
       "    <tr>\n",
       "      <th>3</th>\n",
       "      <td>Acer</td>\n",
       "      <td>Chromebook C910-C2ST</td>\n",
       "      <td>199.0</td>\n",
       "      <td>39.624001</td>\n",
       "    </tr>\n",
       "    <tr>\n",
       "      <th>7</th>\n",
       "      <td>Acer</td>\n",
       "      <td>Chromebook 15</td>\n",
       "      <td>209.0</td>\n",
       "      <td>39.624001</td>\n",
       "    </tr>\n",
       "    <tr>\n",
       "      <th>9</th>\n",
       "      <td>Asus</td>\n",
       "      <td>A541NA-GO342</td>\n",
       "      <td>224.0</td>\n",
       "      <td>39.624001</td>\n",
       "    </tr>\n",
       "    <tr>\n",
       "      <th>13</th>\n",
       "      <td>Chuwi</td>\n",
       "      <td>LapBook 15.6\"</td>\n",
       "      <td>244.990005</td>\n",
       "      <td>39.624001</td>\n",
       "    </tr>\n",
       "    <tr>\n",
       "      <th>15</th>\n",
       "      <td>Chuwi</td>\n",
       "      <td>Lapbook 15,6</td>\n",
       "      <td>248.899994</td>\n",
       "      <td>39.624001</td>\n",
       "    </tr>\n",
       "  </tbody>\n",
       "</table>\n",
       "</div>"
      ],
      "text/plain": [
       "   manufacturer            model_name  price_euros  screen_size_cm\n",
       "3          Acer  Chromebook C910-C2ST        199.0       39.624001\n",
       "7          Acer         Chromebook 15        209.0       39.624001\n",
       "9          Asus          A541NA-GO342        224.0       39.624001\n",
       "13        Chuwi         LapBook 15.6\"   244.990005       39.624001\n",
       "15        Chuwi          Lapbook 15,6   248.899994       39.624001"
      ]
     },
     "execution_count": 27,
     "metadata": {},
     "output_type": "execute_result"
    }
   ],
   "source": [
    "# Exercise 2: What is the best value laptop with a screen size of 38 cm or more?\n",
    "cols_to_show = [\"manufacturer\", \"model_name\", \"price_euros\", \"screen_size_cm\"]\n",
    "best_value_laptop = laptops.loc[laptops[\"screen_size_cm\"] >= 38, cols_to_show].sort_values(\"price_euros\")\n",
    "print(f\"Best value laptop is {best_value_laptop.iloc[0]['manufacturer']} {best_value_laptop.iloc[0]['model_name']} with price {best_value_laptop.iloc[0]['price_euros']} euros\")\n",
    "best_value_laptop.head()"
   ]
  },
  {
   "cell_type": "code",
   "execution_count": 28,
   "metadata": {},
   "outputs": [
    {
     "data": {
      "text/html": [
       "<div>\n",
       "<style scoped>\n",
       "    .dataframe tbody tr th:only-of-type {\n",
       "        vertical-align: middle;\n",
       "    }\n",
       "\n",
       "    .dataframe tbody tr th {\n",
       "        vertical-align: top;\n",
       "    }\n",
       "\n",
       "    .dataframe thead th {\n",
       "        text-align: right;\n",
       "    }\n",
       "</style>\n",
       "<table border=\"1\" class=\"dataframe\">\n",
       "  <thead>\n",
       "    <tr style=\"text-align: right;\">\n",
       "      <th></th>\n",
       "      <th>manufacturer</th>\n",
       "      <th>model_name</th>\n",
       "      <th>ram_gb</th>\n",
       "    </tr>\n",
       "  </thead>\n",
       "  <tbody>\n",
       "    <tr>\n",
       "      <th>1268</th>\n",
       "      <td>Asus</td>\n",
       "      <td>ROG G701VO</td>\n",
       "      <td>64</td>\n",
       "    </tr>\n",
       "  </tbody>\n",
       "</table>\n",
       "</div>"
      ],
      "text/plain": [
       "     manufacturer  model_name  ram_gb\n",
       "1268         Asus  ROG G701VO      64"
      ]
     },
     "execution_count": 28,
     "metadata": {},
     "output_type": "execute_result"
    }
   ],
   "source": [
    "# Exercise 3: Which laptop has the most RAM?\n",
    "cols_to_show = [\"manufacturer\", \"model_name\", \"ram_gb\"]\n",
    "most_ram_laptop = laptops.loc[laptops[\"ram_gb\"] == laptops[\"ram_gb\"].max(), cols_to_show]\n",
    "most_ram_laptop"
   ]
  },
  {
   "cell_type": "markdown",
   "metadata": {},
   "source": []
  },
  {
   "cell_type": "markdown",
   "metadata": {},
   "source": []
  },
  {
   "cell_type": "markdown",
   "metadata": {},
   "source": [
    "## Reshaping Data: Melting and Pivoting"
   ]
  },
  {
   "cell_type": "markdown",
   "metadata": {},
   "source": []
  },
  {
   "cell_type": "markdown",
   "metadata": {},
   "source": [
    "## End-to-End EDA Workflow"
   ]
  },
  {
   "cell_type": "markdown",
   "metadata": {},
   "source": []
  }
 ],
 "metadata": {
  "kernelspec": {
   "display_name": ".venv",
   "language": "python",
   "name": "python3"
  },
  "language_info": {
   "codemirror_mode": {
    "name": "ipython",
    "version": 3
   },
   "file_extension": ".py",
   "mimetype": "text/x-python",
   "name": "python",
   "nbconvert_exporter": "python",
   "pygments_lexer": "ipython3",
   "version": "3.13.2"
  }
 },
 "nbformat": 4,
 "nbformat_minor": 2
}
