{
 "cells": [
  {
   "cell_type": "markdown",
   "metadata": {},
   "source": [
    "# Acquiring Your Data"
   ]
  },
  {
   "cell_type": "markdown",
   "metadata": {},
   "source": [
    "## Introduction to Data Acquisition"
   ]
  },
  {
   "cell_type": "markdown",
   "metadata": {},
   "source": [
    "Data acquisition is the first critical step in the data analytics process. It involves gathering raw data from multiple sources, then transforming it into a format suitable for further analysis and processing. Understanding this process is essential because the quality, structure, and relevance of the data directly influence the outcomes of any analytics project."
   ]
  },
  {
   "cell_type": "markdown",
   "metadata": {},
   "source": [
    "Data acquisition is the method of collecting, measuring, and analyzing information from various sources. In the context of data analytics, it means gathering data from:\n",
    "- **Internal data**\n",
    "- **APIs**: These allow you to retrieve data in real time from online services like weather information, financial markets, social media platforms, and more.\n",
    "- **Online Datasets**: Repositories such as Kaggle, UCI Machine Learning Repository, and governmental portals offer pre-curated datasets in multiple formats (CSV, JSON, XML, Excel, etc.).\n",
    "- **Web Scraping**: When the required data is available on websites, web scraping techniques can be employed to extract unstructured data directly from HTML pages.\n",
    "- **Databases**: Structured data stored in relational databases (e.g., MySQL, PostgreSQL, SQLite) or NoSQL databases can be accessed using query languages like SQL or through specialized connectors."
   ]
  },
  {
   "cell_type": "markdown",
   "metadata": {},
   "source": [
    "There are four methods of acquiring data: \n",
    "- collecting new data; \n",
    "- converting/transforming legacy data; \n",
    "- sharing/exchanging data; \n",
    "- and purchasing data. \n",
    "\n",
    "<img src=\"https://d9-wret.s3.us-west-2.amazonaws.com/assets/palladium/production/s3fs-public/styles/side_image/public/thumbnails/image/DataAcquisitionVennDiagram.jpg?itok=zqYml3K-\" width=\"340\" height=\"340\">\n",
    "\n",
    "Source: https://www.usgs.gov/data-management/data-acquisition-methods\n",
    "\n",
    "This includes automated collection (e.g., of sensor-derived data), the manual recording of empirical observations, and obtaining existing data from other sources."
   ]
  },
  {
   "cell_type": "markdown",
   "metadata": {},
   "source": [
    "**Why Is Data Acquisition Important?**\n",
    "- Foundation for Analysis: The accuracy and reliability of your insights largely depend on the quality of the input data. Inaccurate or poorly formatted data can lead to misleading conclusions.\n",
    "- Diverse Data Sources: Modern analytics often require the integration of data from multiple sources. A well-designed data acquisition process ensures that disparate data can be merged, cleaned, and analyzed seamlessly.\n",
    "- Automation and Reproducibility: Automating data acquisition workflows (using scripts, scheduled jobs, or ETL tools) not only saves time but also makes the data analytics process more reproducible and scalable."
   ]
  },
  {
   "cell_type": "markdown",
   "metadata": {},
   "source": [
    "**The Process of Data Acquisition**\n",
    "\n",
    "**1. Identify Data Sources:** Determine where the necessary data resides. This could be external sources like APIs or web pages, or internal systems such as databases or log files.\n",
    "\n",
    "**2. Extraction:** Use the appropriate tools and techniques to extract the data. For instance, employ Python libraries like requests for API calls, BeautifulSoup or Scrapy for web scraping, and pandas or SQL connectors for databases.\n",
    "\n",
    "**3. Data Cleaning & Transformation:** Raw data is rarely analysis-ready. It often contains missing values, inconsistencies, or errors. Cleaning involves removing or imputing missing data, normalizing formats, and transforming the data to make it consistent across sources.\n",
    "\n",
    "**4. Integration:** When data comes from multiple sources, it must be merged into a coherent dataset. This involves aligning different data formats, handling duplicates, and ensuring that the integrated data preserves its integrity.\n",
    "\n",
    "**5. Storage:** Once cleaned and integrated, data is typically stored in formats that are optimal for analysis, such as CSV files, SQL databases, Excel Tables, JSON..."
   ]
  },
  {
   "cell_type": "markdown",
   "metadata": {},
   "source": [
    "**Challenges in Data Acquisition**\n",
    "- **Data Quality Issues**: Incomplete, inconsistent, or outdated data can skew analysis. It is crucial to validate data accuracy at the point of collection.\n",
    "    - Missing values, duplicates, or inconsistent formatting (e.g., dates as MM/DD/YYYY vs. DD-MM-YYYY).\n",
    "    - Example: A survey dataset where 30% of respondents skipped income-level fields.\n",
    "    - Data may come in incompatible formats (e.g., API returns XML, but your tool expects JSON).\n",
    "\n",
    "- **Data Volume**: As data sources grow, handling large datasets efficiently becomes a challenge, requiring techniques for optimizing memory usage and processing speed.\n",
    "    - Handling large datasets (e.g., 10GB CSV files) may crash standard tools.\n",
    "\n",
    "- **Legal and Ethical Concerns**: Some data sources have strict usage policies or privacy restrictions. It is important to adhere to legal guidelines (e.g., GDPR) and respect website terms when scraping data.\n",
    "    - GDPR/CCPA Compliance: Ensure personal data is anonymized.\n",
    "    - Web Scraping Ethics: Respect robots.txt, avoid overloading servers.\n",
    "\n",
    "- **Integration Complexity**: Merging data from multiple formats and sources can lead to complications in maintaining data consistency and resolving conflicts between different data sets."
   ]
  },
  {
   "cell_type": "markdown",
   "metadata": {},
   "source": [
    "**Types of Data Sources**\n",
    "\n",
    "- **Structured Data:**\n",
    "    - Definition: Organized in predefined formats (tables, rows, columns).\n",
    "    - Examples:\n",
    "        - Relational databases (MySQL, PostgreSQL).\n",
    "        - CSV/Excel files.\n",
    "    - Pros: Easy to query and analyze.\n",
    "    - Cons: Limited flexibility for complex/nested data.\n",
    "\n",
    "- **Semi-Structured Data:**\n",
    "    - Definition: Loosely organized with tags or markers (no strict schema).\n",
    "    - Examples:\n",
    "        - JSON (API responses), XML (web feeds), log files.\n",
    "    - Pros: Flexible for hierarchical/nested data.\n",
    "    - Cons: Requires parsing to extract meaning (e.g., nested JSON keys).\n",
    "\n",
    "- **Unstructured Data:**\n",
    "    - Definition: No predefined format; often text-heavy or multimedia.\n",
    "    - Examples:\n",
    "        - Social media posts, images, audio files, PDFs.\n",
    "    - Pros: Rich in insights (e.g., sentiment from text).\n",
    "    - Cons: Requires advanced tools (NLP, computer vision)."
   ]
  },
  {
   "cell_type": "markdown",
   "metadata": {},
   "source": [
    "## Working with Flat Files"
   ]
  },
  {
   "cell_type": "markdown",
   "metadata": {},
   "source": [
    "Flat files store data in plain text or tabular formats without complex hierarchies. They are widely used for data exchange due to their simplicity and compatibility. Below is a comparison of common formats:\n",
    "\n",
    "<table><thead><tr><th><strong>Format</strong></th><th><strong>Structure</strong></th><th><strong>Pros</strong></th><th><strong>Cons</strong></th><th><strong>Use Cases</strong></th></tr></thead><tbody><tr><td><strong>CSV</strong></td><td>Comma-separated values</td><td>Lightweight, universal support</td><td>No data types, no hierarchy</td><td>Exporting SQL tables, raw data</td></tr><tr><td><strong>Excel</strong></td><td>Spreadsheets (rows/columns)</td><td>Supports formulas, multiple sheets</td><td>Proprietary, slow with large data</td><td>Manual data entry, reporting</td></tr><tr><td><strong>JSON</strong></td><td>Key-value pairs (nested)</td><td>Hierarchical, flexible schema</td><td>Verbose, harder to parse</td><td>APIs, web data</td></tr><tr><td><strong>XML</strong></td><td>Tag-based markup</td><td>Standardized, supports metadata</td><td>Bulky syntax, complex parsing</td><td>Legacy systems, config files</td></tr></tbody></table>"
   ]
  },
  {
   "cell_type": "markdown",
   "metadata": {},
   "source": [
    "### Text encoding: ASCII, Unicode, UTF-8\n",
    "\n",
    "- [The Absolute Minimum Every Software Developer Must Know About Unicode in 2023](https://tonsky.me/blog/unicode/)\n",
    "- [Unicode is harder than you think](https://mcilloni.ovh/2023/07/23/unicode-is-hard/)\n",
    "\n",
    "Text encoding is the process of converting characters (letters, numbers, symbols) into a sequence of bytes that computers can store, process, and transmit. Since computers fundamentally operate with binary data, encoding serves as the bridge between human-readable text and machine-readable code.\n",
    "\n",
    "In the ASCII encoding, which has 128 characters, only 95 of which are printable. The good news about ASCII encoding is that it’s the lowest common denominator of most data exchange. The bad news is that it doesn’t begin to handle the complexities of the many alphabets and writing systems of the world. Reading files using ASCII encoding is almost certain to cause trouble and throw errors on character values that it doesn’t understand, whether it’s a German ü, a Portuguese ç, or something from almost any language other than English.\n",
    "\n",
    "One way to mitigate this confusion is Unicode. The Unicode encoding called UTF-8 accepts the basic ASCII characters without any change but also allows an almost unlimited set of other characters and symbols according to the Unicode standard.\n",
    "\n",
    "Because of its flexibility, UTF-8 was used in more 85% of web pages served at the time I wrote this chapter, which means that your best bet for reading text files is to assume UTF-8 encoding. If the files contain only ASCII characters, they’ll still be read correctly, but you’ll also be covered if other characters are encoded in UTF-8. The good news is that the Python 3 string data type was designed to handle Unicode by default.\n",
    "\n",
    "Even with Unicode, there’ll be occasions when your text contains values that can’t be successfully encoded. Fortunately, the open function in Python accepts an optional errors parameter that tells it how to deal with encoding errors when reading or writing files. The default option is 'strict', which causes an error to be raised whenever an encoding error is encountered. Other useful options are 'ignore', which causes the character causing the error to be skipped; 'replace', which causes the character to be replaced by a marker character (often, ?)."
   ]
  },
  {
   "cell_type": "markdown",
   "metadata": {},
   "source": [
    "This code results in a file that contains “ABC” followed by three non-ASCII characters, which may be rendered differently depending on the encoding used."
   ]
  },
  {
   "cell_type": "code",
   "execution_count": 9,
   "metadata": {},
   "outputs": [],
   "source": [
    "with open(\"out2.txt\", \"wb\") as f:\n",
    "    f.write(bytes([65, 66, 67, 255, 192, 193]))"
   ]
  },
  {
   "cell_type": "code",
   "execution_count": 5,
   "metadata": {},
   "outputs": [
    {
     "name": "stdout",
     "output_type": "stream",
     "text": [
      "ABC���\n"
     ]
    }
   ],
   "source": [
    "! powershell cat out2.txt"
   ]
  },
  {
   "cell_type": "code",
   "execution_count": 10,
   "metadata": {},
   "outputs": [
    {
     "ename": "UnicodeDecodeError",
     "evalue": "'utf-8' codec can't decode byte 0xff in position 3: invalid start byte",
     "output_type": "error",
     "traceback": [
      "\u001b[1;31m---------------------------------------------------------------------------\u001b[0m",
      "\u001b[1;31mUnicodeDecodeError\u001b[0m                        Traceback (most recent call last)",
      "Cell \u001b[1;32mIn[10], line 2\u001b[0m\n\u001b[0;32m      1\u001b[0m \u001b[38;5;28;01mwith\u001b[39;00m \u001b[38;5;28mopen\u001b[39m(\u001b[38;5;124m\"\u001b[39m\u001b[38;5;124mout2.txt\u001b[39m\u001b[38;5;124m\"\u001b[39m, encoding\u001b[38;5;241m=\u001b[39m\u001b[38;5;124m\"\u001b[39m\u001b[38;5;124mutf-8\u001b[39m\u001b[38;5;124m\"\u001b[39m) \u001b[38;5;28;01mas\u001b[39;00m f:\n\u001b[1;32m----> 2\u001b[0m     \u001b[38;5;28mprint\u001b[39m(\u001b[43mf\u001b[49m\u001b[38;5;241;43m.\u001b[39;49m\u001b[43mread\u001b[49m\u001b[43m(\u001b[49m\u001b[43m)\u001b[49m)\n",
      "File \u001b[1;32m<frozen codecs>:325\u001b[0m, in \u001b[0;36mdecode\u001b[1;34m(self, input, final)\u001b[0m\n",
      "\u001b[1;31mUnicodeDecodeError\u001b[0m: 'utf-8' codec can't decode byte 0xff in position 3: invalid start byte"
     ]
    }
   ],
   "source": [
    "with open(\"out2.txt\", encoding=\"utf-8\") as f:\n",
    "    print(f.read())"
   ]
  },
  {
   "cell_type": "markdown",
   "metadata": {},
   "source": [
    "The fourth byte, which had a value of 255, isn’t a valid UTF-8 character in that position, so the 'strict' errors setting raises an exception. Now see how the other error options handle the same file, keeping in mind that the last three characters raise an error:"
   ]
  },
  {
   "cell_type": "code",
   "execution_count": 12,
   "metadata": {},
   "outputs": [
    {
     "name": "stdout",
     "output_type": "stream",
     "text": [
      "ABC\n"
     ]
    }
   ],
   "source": [
    "with open(\"out2.txt\", errors=\"ignore\", encoding=\"utf-8\") as f:\n",
    "    print(f.read())"
   ]
  },
  {
   "cell_type": "code",
   "execution_count": 13,
   "metadata": {},
   "outputs": [
    {
     "name": "stdout",
     "output_type": "stream",
     "text": [
      "ABC���\n"
     ]
    }
   ],
   "source": [
    "with open(\"out2.txt\", errors=\"replace\", encoding=\"utf-8\") as f:\n",
    "    print(f.read())"
   ]
  },
  {
   "cell_type": "code",
   "execution_count": 14,
   "metadata": {},
   "outputs": [
    {
     "name": "stdout",
     "output_type": "stream",
     "text": [
      "ABC\\xff\\xc0\\xc1\n"
     ]
    }
   ],
   "source": [
    "with open(\"out2.txt\", errors=\"backslashreplace\", encoding=\"utf-8\") as f:\n",
    "    print(f.read())"
   ]
  },
  {
   "cell_type": "markdown",
   "metadata": {},
   "source": [
    "If you want any problem characters to disappear, 'ignore' is the option to use. The 'replace' option only marks the place occupied by the invalid character, and the other options in different ways attempt to preserve the invalid characters without interpretation."
   ]
  },
  {
   "cell_type": "markdown",
   "metadata": {},
   "source": [
    "For most Western Windows installations, this will return \"cp1252\". However, note that the actual default encoding can vary depending on the system’s locale settings. Essentially, Python uses the result of locale.getpreferredencoding(False) as the default encoding for file operations when none is explicitly provided."
   ]
  },
  {
   "cell_type": "code",
   "execution_count": 15,
   "metadata": {},
   "outputs": [
    {
     "name": "stdout",
     "output_type": "stream",
     "text": [
      "cp1252\n"
     ]
    }
   ],
   "source": [
    "import locale\n",
    "\n",
    "print(locale.getpreferredencoding(False))"
   ]
  },
  {
   "cell_type": "code",
   "execution_count": 16,
   "metadata": {},
   "outputs": [
    {
     "name": "stdout",
     "output_type": "stream",
     "text": [
      "ABCÿÀÁ\n"
     ]
    }
   ],
   "source": [
    "with open(\"out2.txt\") as f:\n",
    "    print(f.read())"
   ]
  },
  {
   "cell_type": "code",
   "execution_count": 17,
   "metadata": {},
   "outputs": [],
   "source": [
    "# remove the file\n",
    "! powershell rm out2.txt"
   ]
  },
  {
   "cell_type": "markdown",
   "metadata": {},
   "source": [
    "### Reading and Writing Data with pandas"
   ]
  },
  {
   "cell_type": "code",
   "execution_count": 124,
   "metadata": {},
   "outputs": [],
   "source": [
    "import numpy as np\n",
    "import pandas as pd"
   ]
  },
  {
   "cell_type": "markdown",
   "metadata": {},
   "source": [
    "The **pandas I/O API** is a set of top level `reader` functions accessed like `pandas.read_csv()` that generally return a pandas object. The corresponding `writer` functions are object methods that are accessed like `DataFrame.to_csv()`. Below is a table containing available readers and writers."
   ]
  },
  {
   "cell_type": "markdown",
   "metadata": {},
   "source": [
    "<table class=\"table\">\n",
    "<colgroup>\n",
    "<col style=\"width: 12.0%\">\n",
    "<col style=\"width: 40.0%\">\n",
    "<col style=\"width: 24.0%\">\n",
    "<col style=\"width: 24.0%\">\n",
    "</colgroup>\n",
    "<thead>\n",
    "<tr class=\"row-odd\"><th class=\"head\"><p>Format Type</p></th>\n",
    "<th class=\"head\"><p>Data Description</p></th>\n",
    "<th class=\"head\"><p>Reader</p></th>\n",
    "<th class=\"head\"><p>Writer</p></th>\n",
    "</tr>\n",
    "</thead>\n",
    "<tbody>\n",
    "<tr class=\"row-even\"><td><p>text</p></td>\n",
    "<td><p><a class=\"reference external\" href=\"https://en.wikipedia.org/wiki/Comma-separated_values\">CSV</a></p></td>\n",
    "<td><p><a class=\"reference internal\" href=\"#io-read-csv-table\"><span class=\"std std-ref\">read_csv</span></a></p></td>\n",
    "<td><p><a class=\"reference internal\" href=\"#io-store-in-csv\"><span class=\"std std-ref\">to_csv</span></a></p></td>\n",
    "</tr>\n",
    "<tr class=\"row-odd\"><td><p>text</p></td>\n",
    "<td><p>Fixed-Width Text File</p></td>\n",
    "<td><p><a class=\"reference internal\" href=\"#io-fwf-reader\"><span class=\"std std-ref\">read_fwf</span></a></p></td>\n",
    "<td><p>NA</p></td>\n",
    "</tr>\n",
    "<tr class=\"row-even\"><td><p>text</p></td>\n",
    "<td><p><a class=\"reference external\" href=\"https://www.json.org/\">JSON</a></p></td>\n",
    "<td><p><a class=\"reference internal\" href=\"#io-json-reader\"><span class=\"std std-ref\">read_json</span></a></p></td>\n",
    "<td><p><a class=\"reference internal\" href=\"#io-json-writer\"><span class=\"std std-ref\">to_json</span></a></p></td>\n",
    "</tr>\n",
    "<tr class=\"row-odd\"><td><p>text</p></td>\n",
    "<td><p><a class=\"reference external\" href=\"https://en.wikipedia.org/wiki/HTML\">HTML</a></p></td>\n",
    "<td><p><a class=\"reference internal\" href=\"#io-read-html\"><span class=\"std std-ref\">read_html</span></a></p></td>\n",
    "<td><p><a class=\"reference internal\" href=\"#io-html\"><span class=\"std std-ref\">to_html</span></a></p></td>\n",
    "</tr>\n",
    "<tr class=\"row-even\"><td><p>text</p></td>\n",
    "<td><p><a class=\"reference external\" href=\"https://en.wikipedia.org/wiki/LaTeX\">LaTeX</a></p></td>\n",
    "<td><p><a class=\"reference internal\" href=\"#io-latex\"><span class=\"std std-ref\">Styler.to_latex</span></a></p></td>\n",
    "<td><p>NA</p></td>\n",
    "</tr>\n",
    "<tr class=\"row-odd\"><td><p>text</p></td>\n",
    "<td><p><a class=\"reference external\" href=\"https://www.w3.org/standards/xml/core\">XML</a></p></td>\n",
    "<td><p><a class=\"reference internal\" href=\"#io-read-xml\"><span class=\"std std-ref\">read_xml</span></a></p></td>\n",
    "<td><p><a class=\"reference internal\" href=\"#io-xml\"><span class=\"std std-ref\">to_xml</span></a></p></td>\n",
    "</tr>\n",
    "<tr class=\"row-even\"><td><p>text</p></td>\n",
    "<td><p>Local clipboard</p></td>\n",
    "<td><p><a class=\"reference internal\" href=\"#io-clipboard\"><span class=\"std std-ref\">read_clipboard</span></a></p></td>\n",
    "<td><p><a class=\"reference internal\" href=\"#io-clipboard\"><span class=\"std std-ref\">to_clipboard</span></a></p></td>\n",
    "</tr>\n",
    "<tr class=\"row-odd\"><td><p>binary</p></td>\n",
    "<td><p><a class=\"reference external\" href=\"https://en.wikipedia.org/wiki/Microsoft_Excel\">MS Excel</a></p></td>\n",
    "<td><p><a class=\"reference internal\" href=\"#io-excel-reader\"><span class=\"std std-ref\">read_excel</span></a></p></td>\n",
    "<td><p><a class=\"reference internal\" href=\"#io-excel-writer\"><span class=\"std std-ref\">to_excel</span></a></p></td>\n",
    "</tr>\n",
    "<tr class=\"row-even\"><td><p>binary</p></td>\n",
    "<td><p><a class=\"reference external\" href=\"http://opendocumentformat.org\">OpenDocument</a></p></td>\n",
    "<td><p><a class=\"reference internal\" href=\"#io-ods\"><span class=\"std std-ref\">read_excel</span></a></p></td>\n",
    "<td><p>NA</p></td>\n",
    "</tr>\n",
    "<tr class=\"row-odd\"><td><p>binary</p></td>\n",
    "<td><p><a class=\"reference external\" href=\"https://support.hdfgroup.org/HDF5/whatishdf5.html\">HDF5 Format</a></p></td>\n",
    "<td><p><a class=\"reference internal\" href=\"#io-hdf5\"><span class=\"std std-ref\">read_hdf</span></a></p></td>\n",
    "<td><p><a class=\"reference internal\" href=\"#io-hdf5\"><span class=\"std std-ref\">to_hdf</span></a></p></td>\n",
    "</tr>\n",
    "<tr class=\"row-even\"><td><p>binary</p></td>\n",
    "<td><p><a class=\"reference external\" href=\"https://github.com/wesm/feather\">Feather Format</a></p></td>\n",
    "<td><p><a class=\"reference internal\" href=\"#io-feather\"><span class=\"std std-ref\">read_feather</span></a></p></td>\n",
    "<td><p><a class=\"reference internal\" href=\"#io-feather\"><span class=\"std std-ref\">to_feather</span></a></p></td>\n",
    "</tr>\n",
    "<tr class=\"row-odd\"><td><p>binary</p></td>\n",
    "<td><p><a class=\"reference external\" href=\"https://parquet.apache.org/\">Parquet Format</a></p></td>\n",
    "<td><p><a class=\"reference internal\" href=\"#io-parquet\"><span class=\"std std-ref\">read_parquet</span></a></p></td>\n",
    "<td><p><a class=\"reference internal\" href=\"#io-parquet\"><span class=\"std std-ref\">to_parquet</span></a></p></td>\n",
    "</tr>\n",
    "<tr class=\"row-even\"><td><p>binary</p></td>\n",
    "<td><p><a class=\"reference external\" href=\"https://orc.apache.org/\">ORC Format</a></p></td>\n",
    "<td><p><a class=\"reference internal\" href=\"#io-orc\"><span class=\"std std-ref\">read_orc</span></a></p></td>\n",
    "<td><p><a class=\"reference internal\" href=\"#io-orc\"><span class=\"std std-ref\">to_orc</span></a></p></td>\n",
    "</tr>\n",
    "<tr class=\"row-odd\"><td><p>binary</p></td>\n",
    "<td><p><a class=\"reference external\" href=\"https://en.wikipedia.org/wiki/Stata\">Stata</a></p></td>\n",
    "<td><p><a class=\"reference internal\" href=\"#io-stata-reader\"><span class=\"std std-ref\">read_stata</span></a></p></td>\n",
    "<td><p><a class=\"reference internal\" href=\"#io-stata-writer\"><span class=\"std std-ref\">to_stata</span></a></p></td>\n",
    "</tr>\n",
    "<tr class=\"row-even\"><td><p>binary</p></td>\n",
    "<td><p><a class=\"reference external\" href=\"https://en.wikipedia.org/wiki/SAS_(software)\">SAS</a></p></td>\n",
    "<td><p><a class=\"reference internal\" href=\"#io-sas-reader\"><span class=\"std std-ref\">read_sas</span></a></p></td>\n",
    "<td><p>NA</p></td>\n",
    "</tr>\n",
    "<tr class=\"row-odd\"><td><p>binary</p></td>\n",
    "<td><p><a class=\"reference external\" href=\"https://en.wikipedia.org/wiki/SPSS\">SPSS</a></p></td>\n",
    "<td><p><a class=\"reference internal\" href=\"#io-spss-reader\"><span class=\"std std-ref\">read_spss</span></a></p></td>\n",
    "<td><p>NA</p></td>\n",
    "</tr>\n",
    "<tr class=\"row-even\"><td><p>binary</p></td>\n",
    "<td><p><a class=\"reference external\" href=\"https://docs.python.org/3/library/pickle.html\">Python Pickle Format</a></p></td>\n",
    "<td><p><a class=\"reference internal\" href=\"#io-pickle\"><span class=\"std std-ref\">read_pickle</span></a></p></td>\n",
    "<td><p><a class=\"reference internal\" href=\"#io-pickle\"><span class=\"std std-ref\">to_pickle</span></a></p></td>\n",
    "</tr>\n",
    "<tr class=\"row-odd\"><td><p>SQL</p></td>\n",
    "<td><p><a class=\"reference external\" href=\"https://en.wikipedia.org/wiki/SQL\">SQL</a></p></td>\n",
    "<td><p><a class=\"reference internal\" href=\"#io-sql\"><span class=\"std std-ref\">read_sql</span></a></p></td>\n",
    "<td><p><a class=\"reference internal\" href=\"#io-sql\"><span class=\"std std-ref\">to_sql</span></a></p></td>\n",
    "</tr>\n",
    "<tr class=\"row-even\"><td><p>SQL</p></td>\n",
    "<td><p><a class=\"reference external\" href=\"https://en.wikipedia.org/wiki/BigQuery\">Google BigQuery</a></p></td>\n",
    "<td></td>\n",
    "<td></td>\n",
    "</tr>\n",
    "</tbody>\n",
    "</table>"
   ]
  },
  {
   "cell_type": "markdown",
   "metadata": {},
   "source": [
    "#### CSV files"
   ]
  },
  {
   "cell_type": "code",
   "execution_count": 125,
   "metadata": {},
   "outputs": [],
   "source": [
    "from pathlib import Path\n",
    "\n",
    "data_folder_path = Path.cwd().parent / \"data\""
   ]
  },
  {
   "cell_type": "code",
   "execution_count": 126,
   "metadata": {},
   "outputs": [
    {
     "data": {
      "text/html": [
       "<div>\n",
       "<style scoped>\n",
       "    .dataframe tbody tr th:only-of-type {\n",
       "        vertical-align: middle;\n",
       "    }\n",
       "\n",
       "    .dataframe tbody tr th {\n",
       "        vertical-align: top;\n",
       "    }\n",
       "\n",
       "    .dataframe thead th {\n",
       "        text-align: right;\n",
       "    }\n",
       "</style>\n",
       "<table border=\"1\" class=\"dataframe\">\n",
       "  <thead>\n",
       "    <tr style=\"text-align: right;\">\n",
       "      <th></th>\n",
       "      <th>Time</th>\n",
       "      <th>Percent</th>\n",
       "    </tr>\n",
       "  </thead>\n",
       "  <tbody>\n",
       "    <tr>\n",
       "      <th>0</th>\n",
       "      <td>99</td>\n",
       "      <td>0.067</td>\n",
       "    </tr>\n",
       "    <tr>\n",
       "      <th>1</th>\n",
       "      <td>99</td>\n",
       "      <td>0.133</td>\n",
       "    </tr>\n",
       "    <tr>\n",
       "      <th>2</th>\n",
       "      <td>99</td>\n",
       "      <td>0.067</td>\n",
       "    </tr>\n",
       "    <tr>\n",
       "      <th>3</th>\n",
       "      <td>99</td>\n",
       "      <td>0.000</td>\n",
       "    </tr>\n",
       "    <tr>\n",
       "      <th>4</th>\n",
       "      <td>99</td>\n",
       "      <td>0.000</td>\n",
       "    </tr>\n",
       "    <tr>\n",
       "      <th>5</th>\n",
       "      <td>0</td>\n",
       "      <td>0.500</td>\n",
       "    </tr>\n",
       "    <tr>\n",
       "      <th>6</th>\n",
       "      <td>0</td>\n",
       "      <td>0.467</td>\n",
       "    </tr>\n",
       "    <tr>\n",
       "      <th>7</th>\n",
       "      <td>0</td>\n",
       "      <td>0.857</td>\n",
       "    </tr>\n",
       "    <tr>\n",
       "      <th>8</th>\n",
       "      <td>0</td>\n",
       "      <td>0.500</td>\n",
       "    </tr>\n",
       "    <tr>\n",
       "      <th>9</th>\n",
       "      <td>0</td>\n",
       "      <td>0.357</td>\n",
       "    </tr>\n",
       "  </tbody>\n",
       "</table>\n",
       "</div>"
      ],
      "text/plain": [
       "   Time  Percent\n",
       "0    99    0.067\n",
       "1    99    0.133\n",
       "2    99    0.067\n",
       "3    99    0.000\n",
       "4    99    0.000\n",
       "5     0    0.500\n",
       "6     0    0.467\n",
       "7     0    0.857\n",
       "8     0    0.500\n",
       "9     0    0.357"
      ]
     },
     "execution_count": 126,
     "metadata": {},
     "output_type": "execute_result"
    }
   ],
   "source": [
    "# example 1\n",
    "data = pd.read_csv(data_folder_path / \"seaslug.txt\", sep=\"\\t\")\n",
    "data.head(10)"
   ]
  },
  {
   "cell_type": "markdown",
   "metadata": {},
   "source": [
    "- `sep`: str, defaults to ',' for read_csv(), \\t for read_table(): Delimiter to use. If sep is None, the C engine cannot automatically detect the separator, but the Python parsing engine can, meaning the latter will be used and automatically detect the separator by Python’s builtin sniffer tool, csv.Sniffer. In addition, separators longer than 1 character and different from '\\s+' will be interpreted as regular expressions and will also force the use of the Python parsing engine. Note that regex delimiters are prone to ignoring quoted data. Regex example: '\\\\r\\\\t'.\n",
    "- `delimiter` str, default None: Alternative argument name for sep."
   ]
  },
  {
   "cell_type": "code",
   "execution_count": 127,
   "metadata": {},
   "outputs": [
    {
     "data": {
      "text/html": [
       "<div>\n",
       "<style scoped>\n",
       "    .dataframe tbody tr th:only-of-type {\n",
       "        vertical-align: middle;\n",
       "    }\n",
       "\n",
       "    .dataframe tbody tr th {\n",
       "        vertical-align: top;\n",
       "    }\n",
       "\n",
       "    .dataframe thead th {\n",
       "        text-align: right;\n",
       "    }\n",
       "</style>\n",
       "<table border=\"1\" class=\"dataframe\">\n",
       "  <thead>\n",
       "    <tr style=\"text-align: right;\">\n",
       "      <th></th>\n",
       "      <th>0</th>\n",
       "      <th>1</th>\n",
       "      <th>2</th>\n",
       "      <th>3</th>\n",
       "      <th>4</th>\n",
       "      <th>5</th>\n",
       "      <th>6</th>\n",
       "      <th>7</th>\n",
       "      <th>8</th>\n",
       "      <th>9</th>\n",
       "      <th>10</th>\n",
       "      <th>11</th>\n",
       "      <th>12</th>\n",
       "      <th>13</th>\n",
       "    </tr>\n",
       "  </thead>\n",
       "  <tbody>\n",
       "    <tr>\n",
       "      <th>0</th>\n",
       "      <td>1001</td>\n",
       "      <td>100</td>\n",
       "      <td>Butter, salted</td>\n",
       "      <td>BUTTER,WITH SALT</td>\n",
       "      <td>NaN</td>\n",
       "      <td>NaN</td>\n",
       "      <td>Y</td>\n",
       "      <td>NaN</td>\n",
       "      <td>0</td>\n",
       "      <td>NaN</td>\n",
       "      <td>6.38</td>\n",
       "      <td>4.27</td>\n",
       "      <td>8.79</td>\n",
       "      <td>3.87</td>\n",
       "    </tr>\n",
       "    <tr>\n",
       "      <th>1</th>\n",
       "      <td>1002</td>\n",
       "      <td>100</td>\n",
       "      <td>Butter, whipped, with salt</td>\n",
       "      <td>BUTTER,WHIPPED,W/ SALT</td>\n",
       "      <td>NaN</td>\n",
       "      <td>NaN</td>\n",
       "      <td>Y</td>\n",
       "      <td>NaN</td>\n",
       "      <td>0</td>\n",
       "      <td>NaN</td>\n",
       "      <td>6.38</td>\n",
       "      <td>NaN</td>\n",
       "      <td>NaN</td>\n",
       "      <td>NaN</td>\n",
       "    </tr>\n",
       "    <tr>\n",
       "      <th>2</th>\n",
       "      <td>1003</td>\n",
       "      <td>100</td>\n",
       "      <td>Butter oil, anhydrous</td>\n",
       "      <td>BUTTER OIL,ANHYDROUS</td>\n",
       "      <td>NaN</td>\n",
       "      <td>NaN</td>\n",
       "      <td>Y</td>\n",
       "      <td>NaN</td>\n",
       "      <td>0</td>\n",
       "      <td>NaN</td>\n",
       "      <td>6.38</td>\n",
       "      <td>4.27</td>\n",
       "      <td>8.79</td>\n",
       "      <td>3.87</td>\n",
       "    </tr>\n",
       "    <tr>\n",
       "      <th>3</th>\n",
       "      <td>1004</td>\n",
       "      <td>100</td>\n",
       "      <td>Cheese, blue</td>\n",
       "      <td>CHEESE,BLUE</td>\n",
       "      <td>NaN</td>\n",
       "      <td>NaN</td>\n",
       "      <td>Y</td>\n",
       "      <td>NaN</td>\n",
       "      <td>0</td>\n",
       "      <td>NaN</td>\n",
       "      <td>6.38</td>\n",
       "      <td>4.27</td>\n",
       "      <td>8.79</td>\n",
       "      <td>3.87</td>\n",
       "    </tr>\n",
       "    <tr>\n",
       "      <th>4</th>\n",
       "      <td>1005</td>\n",
       "      <td>100</td>\n",
       "      <td>Cheese, brick</td>\n",
       "      <td>CHEESE,BRICK</td>\n",
       "      <td>NaN</td>\n",
       "      <td>NaN</td>\n",
       "      <td>Y</td>\n",
       "      <td>NaN</td>\n",
       "      <td>0</td>\n",
       "      <td>NaN</td>\n",
       "      <td>6.38</td>\n",
       "      <td>4.27</td>\n",
       "      <td>8.79</td>\n",
       "      <td>3.87</td>\n",
       "    </tr>\n",
       "  </tbody>\n",
       "</table>\n",
       "</div>"
      ],
      "text/plain": [
       "     0    1                           2                       3   4   5  6   \\\n",
       "0  1001  100              Butter, salted        BUTTER,WITH SALT NaN NaN  Y   \n",
       "1  1002  100  Butter, whipped, with salt  BUTTER,WHIPPED,W/ SALT NaN NaN  Y   \n",
       "2  1003  100       Butter oil, anhydrous    BUTTER OIL,ANHYDROUS NaN NaN  Y   \n",
       "3  1004  100                Cheese, blue             CHEESE,BLUE NaN NaN  Y   \n",
       "4  1005  100               Cheese, brick            CHEESE,BRICK NaN NaN  Y   \n",
       "\n",
       "   7   8   9     10    11    12    13  \n",
       "0 NaN   0 NaN  6.38  4.27  8.79  3.87  \n",
       "1 NaN   0 NaN  6.38   NaN   NaN   NaN  \n",
       "2 NaN   0 NaN  6.38  4.27  8.79  3.87  \n",
       "3 NaN   0 NaN  6.38  4.27  8.79  3.87  \n",
       "4 NaN   0 NaN  6.38  4.27  8.79  3.87  "
      ]
     },
     "execution_count": 127,
     "metadata": {},
     "output_type": "execute_result"
    }
   ],
   "source": [
    "# example 2: Encoding: `iso-8859-1`, separator: `^`\n",
    "data = pd.read_csv(data_folder_path / \"FOOD_DES.txt\", sep=\"^\", encoding=\"iso-8859-1\", header=None, nrows=5, quotechar=\"~\")\n",
    "data.head()"
   ]
  },
  {
   "cell_type": "markdown",
   "metadata": {},
   "source": [
    "- `nrows: int, default None` Number of rows of file to read. Useful for reading pieces of large files.\n"
   ]
  },
  {
   "cell_type": "markdown",
   "metadata": {},
   "source": [
    "- `header: int or list of ints, default 'infer'` Row number(s) to use as the column names, and the start of the data. Default behavior is to infer the column names: if no names are passed the behavior is identical to header=0 and column names are inferred from the first line of the file, if column names are passed explicitly then the behavior is identical to header=None. Explicitly pass header=0 to be able to replace existing names.\n"
   ]
  },
  {
   "cell_type": "markdown",
   "metadata": {},
   "source": [
    "- `encoding: str, default None` Encoding to use for UTF when reading/writing (e.g. 'utf-8'). [List of Python standard encodings](https://docs.python.org/3/library/codecs.html#standard-encodings).\n"
   ]
  },
  {
   "cell_type": "markdown",
   "metadata": {},
   "source": [
    "- `quotechar: str (length 1)`: The character used to denote the start and end of a quoted item. Quoted items can include the delimiter and it will be ignored.\n"
   ]
  },
  {
   "cell_type": "code",
   "execution_count": 128,
   "metadata": {},
   "outputs": [
    {
     "data": {
      "text/plain": [
       "Index(['Unnamed: 0', 'id Num', 'date', 'problem', 'MDC', 'citation Issued',\n",
       "       'person Search', 'vehicle Search', 'pre Race', 'race', 'gender', 'lat',\n",
       "       'long', 'police Precinct', 'neighborhood'],\n",
       "      dtype='object')"
      ]
     },
     "execution_count": 128,
     "metadata": {},
     "output_type": "execute_result"
    }
   ],
   "source": [
    "# example 3\n",
    "data = pd.read_csv(data_folder_path / \"mpls_stops.csv\", nrows=3)\n",
    "data.columns"
   ]
  },
  {
   "cell_type": "code",
   "execution_count": 129,
   "metadata": {},
   "outputs": [
    {
     "name": "stdout",
     "output_type": "stream",
     "text": [
      "['case_number_id', 'id_num', 'date', 'problem', 'mdc', 'citation_issued', 'person_search', 'vehicle_search', 'pre_race', 'race', 'gender', 'lat', 'long', 'police_precinct', 'neighborhood']\n"
     ]
    }
   ],
   "source": [
    "new_column_names = list(data.columns)\n",
    "new_column_names = [name.lower().replace(\" \", \"_\") for name in new_column_names]\n",
    "new_column_names[0] = \"case_number_id\"\n",
    "print(new_column_names)"
   ]
  },
  {
   "cell_type": "code",
   "execution_count": 130,
   "metadata": {},
   "outputs": [
    {
     "data": {
      "text/html": [
       "<div>\n",
       "<style scoped>\n",
       "    .dataframe tbody tr th:only-of-type {\n",
       "        vertical-align: middle;\n",
       "    }\n",
       "\n",
       "    .dataframe tbody tr th {\n",
       "        vertical-align: top;\n",
       "    }\n",
       "\n",
       "    .dataframe thead th {\n",
       "        text-align: right;\n",
       "    }\n",
       "</style>\n",
       "<table border=\"1\" class=\"dataframe\">\n",
       "  <thead>\n",
       "    <tr style=\"text-align: right;\">\n",
       "      <th></th>\n",
       "      <th>id_num</th>\n",
       "      <th>date</th>\n",
       "      <th>problem</th>\n",
       "      <th>mdc</th>\n",
       "      <th>citation_issued</th>\n",
       "      <th>person_search</th>\n",
       "      <th>vehicle_search</th>\n",
       "      <th>pre_race</th>\n",
       "      <th>race</th>\n",
       "      <th>gender</th>\n",
       "      <th>lat</th>\n",
       "      <th>long</th>\n",
       "      <th>police_precinct</th>\n",
       "      <th>neighborhood</th>\n",
       "    </tr>\n",
       "    <tr>\n",
       "      <th>case_number_id</th>\n",
       "      <th></th>\n",
       "      <th></th>\n",
       "      <th></th>\n",
       "      <th></th>\n",
       "      <th></th>\n",
       "      <th></th>\n",
       "      <th></th>\n",
       "      <th></th>\n",
       "      <th></th>\n",
       "      <th></th>\n",
       "      <th></th>\n",
       "      <th></th>\n",
       "      <th></th>\n",
       "      <th></th>\n",
       "    </tr>\n",
       "  </thead>\n",
       "  <tbody>\n",
       "    <tr>\n",
       "      <th>6823</th>\n",
       "      <td>17-000003</td>\n",
       "      <td>2017-01-01 00:00:42</td>\n",
       "      <td>suspicious</td>\n",
       "      <td>MDC</td>\n",
       "      <td>NaN</td>\n",
       "      <td>False</td>\n",
       "      <td>False</td>\n",
       "      <td>NaN</td>\n",
       "      <td>NaN</td>\n",
       "      <td>NaN</td>\n",
       "      <td>44.966617</td>\n",
       "      <td>-93.246458</td>\n",
       "      <td>1</td>\n",
       "      <td>Cedar Riverside</td>\n",
       "    </tr>\n",
       "    <tr>\n",
       "      <th>6824</th>\n",
       "      <td>17-000007</td>\n",
       "      <td>2017-01-01 00:03:07</td>\n",
       "      <td>suspicious</td>\n",
       "      <td>MDC</td>\n",
       "      <td>NaN</td>\n",
       "      <td>False</td>\n",
       "      <td>False</td>\n",
       "      <td>NaN</td>\n",
       "      <td>NaN</td>\n",
       "      <td>Male</td>\n",
       "      <td>44.980450</td>\n",
       "      <td>-93.271340</td>\n",
       "      <td>1</td>\n",
       "      <td>Downtown West</td>\n",
       "    </tr>\n",
       "    <tr>\n",
       "      <th>6825</th>\n",
       "      <td>17-000073</td>\n",
       "      <td>2017-01-01 00:23:15</td>\n",
       "      <td>traffic</td>\n",
       "      <td>MDC</td>\n",
       "      <td>NaN</td>\n",
       "      <td>False</td>\n",
       "      <td>False</td>\n",
       "      <td>NaN</td>\n",
       "      <td>White</td>\n",
       "      <td>Female</td>\n",
       "      <td>44.948350</td>\n",
       "      <td>-93.275380</td>\n",
       "      <td>5</td>\n",
       "      <td>Whittier</td>\n",
       "    </tr>\n",
       "    <tr>\n",
       "      <th>6826</th>\n",
       "      <td>17-000092</td>\n",
       "      <td>2017-01-01 00:33:48</td>\n",
       "      <td>suspicious</td>\n",
       "      <td>MDC</td>\n",
       "      <td>NaN</td>\n",
       "      <td>False</td>\n",
       "      <td>False</td>\n",
       "      <td>NaN</td>\n",
       "      <td>East African</td>\n",
       "      <td>Male</td>\n",
       "      <td>44.948360</td>\n",
       "      <td>-93.281350</td>\n",
       "      <td>5</td>\n",
       "      <td>Whittier</td>\n",
       "    </tr>\n",
       "    <tr>\n",
       "      <th>6827</th>\n",
       "      <td>17-000098</td>\n",
       "      <td>2017-01-01 00:37:58</td>\n",
       "      <td>traffic</td>\n",
       "      <td>MDC</td>\n",
       "      <td>NaN</td>\n",
       "      <td>False</td>\n",
       "      <td>False</td>\n",
       "      <td>NaN</td>\n",
       "      <td>White</td>\n",
       "      <td>Female</td>\n",
       "      <td>44.979078</td>\n",
       "      <td>-93.262076</td>\n",
       "      <td>1</td>\n",
       "      <td>Downtown West</td>\n",
       "    </tr>\n",
       "  </tbody>\n",
       "</table>\n",
       "</div>"
      ],
      "text/plain": [
       "                   id_num                date     problem  mdc  \\\n",
       "case_number_id                                                   \n",
       "6823            17-000003 2017-01-01 00:00:42  suspicious  MDC   \n",
       "6824            17-000007 2017-01-01 00:03:07  suspicious  MDC   \n",
       "6825            17-000073 2017-01-01 00:23:15     traffic  MDC   \n",
       "6826            17-000092 2017-01-01 00:33:48  suspicious  MDC   \n",
       "6827            17-000098 2017-01-01 00:37:58     traffic  MDC   \n",
       "\n",
       "               citation_issued person_search vehicle_search pre_race  \\\n",
       "case_number_id                                                         \n",
       "6823                       NaN         False          False      NaN   \n",
       "6824                       NaN         False          False      NaN   \n",
       "6825                       NaN         False          False      NaN   \n",
       "6826                       NaN         False          False      NaN   \n",
       "6827                       NaN         False          False      NaN   \n",
       "\n",
       "                        race  gender        lat       long  police_precinct  \\\n",
       "case_number_id                                                                \n",
       "6823                     NaN     NaN  44.966617 -93.246458                1   \n",
       "6824                     NaN    Male  44.980450 -93.271340                1   \n",
       "6825                   White  Female  44.948350 -93.275380                5   \n",
       "6826            East African    Male  44.948360 -93.281350                5   \n",
       "6827                   White  Female  44.979078 -93.262076                1   \n",
       "\n",
       "                   neighborhood  \n",
       "case_number_id                   \n",
       "6823            Cedar Riverside  \n",
       "6824              Downtown West  \n",
       "6825                   Whittier  \n",
       "6826                   Whittier  \n",
       "6827              Downtown West  "
      ]
     },
     "execution_count": 130,
     "metadata": {},
     "output_type": "execute_result"
    }
   ],
   "source": [
    "data = pd.read_csv(\n",
    "    data_folder_path / \"mpls_stops.csv\",\n",
    "    names=new_column_names,\n",
    "    skiprows=2,\n",
    "    engine=\"c\",\n",
    "    true_values=[\"YES\"],\n",
    "    false_values=[\"NO\"],\n",
    "    index_col=\"case_number_id\",\n",
    "    parse_dates=[\"date\"],\n",
    "    date_format=\"%Y-%m-%d %H:%M:%S\",\n",
    "    na_values=[\"Unknown\"],\n",
    "    dtype={\n",
    "        \"mdc\": \"category\",\n",
    "        \"problem\": \"category\",\n",
    "        \"pre_race\": \"category\",\n",
    "        \"race\": \"category\",\n",
    "        \"gender\": \"category\",\n",
    "        \"police_precinct\": \"int8\",\n",
    "        \"neighborhood\": \"category\",\n",
    "    },\n",
    ")\n",
    "data.index = data.index.astype(\"int\")\n",
    "data.head()"
   ]
  },
  {
   "cell_type": "code",
   "execution_count": 131,
   "metadata": {},
   "outputs": [
    {
     "name": "stdout",
     "output_type": "stream",
     "text": [
      "<class 'pandas.core.frame.DataFrame'>\n",
      "Index: 33198 entries, 6823 to 41399\n",
      "Data columns (total 14 columns):\n",
      " #   Column           Non-Null Count  Dtype         \n",
      "---  ------           --------------  -----         \n",
      " 0   id_num           33198 non-null  object        \n",
      " 1   date             33198 non-null  datetime64[ns]\n",
      " 2   problem          33198 non-null  category      \n",
      " 3   mdc              33198 non-null  category      \n",
      " 4   citation_issued  3656 non-null   object        \n",
      " 5   person_search    28242 non-null  object        \n",
      " 6   vehicle_search   28242 non-null  object        \n",
      " 7   pre_race         9828 non-null   category      \n",
      " 8   race             22821 non-null  category      \n",
      " 9   gender           24258 non-null  category      \n",
      " 10  lat              33198 non-null  float64       \n",
      " 11  long             33198 non-null  float64       \n",
      " 12  police_precinct  33198 non-null  int8          \n",
      " 13  neighborhood     33198 non-null  category      \n",
      "dtypes: category(6), datetime64[ns](1), float64(2), int8(1), object(4)\n",
      "memory usage: 2.3+ MB\n"
     ]
    }
   ],
   "source": [
    "data.info()"
   ]
  },
  {
   "cell_type": "markdown",
   "metadata": {},
   "source": [
    "- `names: array-like, default None` List of column names to use. If file contains no header row, then you should explicitly pass header=None. Duplicates in this list are not allowed.\n"
   ]
  },
  {
   "cell_type": "markdown",
   "metadata": {},
   "source": [
    "- `skiprows: list-like or integer, default None` Line numbers to skip (0-indexed) or number of lines to skip (int) at the start of the file.\n"
   ]
  },
  {
   "cell_type": "markdown",
   "metadata": {},
   "source": [
    "- `engine: {‘c’, ‘python’, ‘pyarrow’}` Parser engine to use. The C and pyarrow engines are faster, while the python engine is currently more feature-complete. Multithreading is currently only supported by the pyarrow engine."
   ]
  },
  {
   "cell_type": "code",
   "execution_count": 132,
   "metadata": {},
   "outputs": [
    {
     "name": "stdout",
     "output_type": "stream",
     "text": [
      "163 ms ± 0 ns per loop (mean ± std. dev. of 1 run, 1 loop each)\n"
     ]
    }
   ],
   "source": [
    "%timeit -n 1 -r 1 mpls = pd.read_csv(data_folder_path / \"mpls_stops.csv\", names=new_column_names, skiprows=2, engine='python')"
   ]
  },
  {
   "cell_type": "code",
   "execution_count": 133,
   "metadata": {},
   "outputs": [
    {
     "name": "stdout",
     "output_type": "stream",
     "text": [
      "70.4 ms ± 0 ns per loop (mean ± std. dev. of 1 run, 1 loop each)\n"
     ]
    }
   ],
   "source": [
    "%timeit -n 1 -r 1 mpls = pd.read_csv(data_folder_path / \"mpls_stops.csv\", names=new_column_names, skiprows=2, engine='c')"
   ]
  },
  {
   "cell_type": "code",
   "execution_count": 134,
   "metadata": {},
   "outputs": [
    {
     "name": "stdout",
     "output_type": "stream",
     "text": [
      "26.9 ms ± 0 ns per loop (mean ± std. dev. of 1 run, 1 loop each)\n"
     ]
    }
   ],
   "source": [
    "%timeit -n 1 -r 1 mpls = pd.read_csv(data_folder_path / \"mpls_stops.csv\", names=new_column_names, skiprows=2, engine='pyarrow')"
   ]
  },
  {
   "cell_type": "markdown",
   "metadata": {},
   "source": [
    "- `true_values: list, default None` Values to consider as True.\n",
    "- `false_values: list, default None` Values to consider as False.\n"
   ]
  },
  {
   "cell_type": "markdown",
   "metadata": {},
   "source": [
    "- `index_col: int, str, sequence of int / str, or False, default None` Column(s) to use as the row labels of the DataFrame, either given as string name or column index. If a sequence of int / str is given, a MultiIndex is used.\n"
   ]
  },
  {
   "cell_type": "markdown",
   "metadata": {},
   "source": [
    "- `dtype: Type name or dict of column -> type, default None` Data type for data or columns. E.g. {'a': np.float64, 'b': np.int32} (unsupported with engine='python'). Use str or object together with suitable na_values settings to preserve and not interpret dtype.\n"
   ]
  },
  {
   "cell_type": "markdown",
   "metadata": {},
   "source": [
    "- `parse_dates: boolean or list of ints or names or list of lists or dict, default False.`\n",
    "  - If True -> try parsing the index.\n",
    "  - If [1, 2, 3] -> try parsing columns 1, 2, 3 each as a separate date column.\n",
    "  - If [[1, 3]] -> combine columns 1 and 3 and parse as a single date column.\n",
    "  - If {'foo': [1, 3]} -> parse columns 1, 3 as date and call result ‘foo’. A fast-path exists for iso8601-formatted dates.\n"
   ]
  },
  {
   "cell_type": "markdown",
   "metadata": {},
   "source": [
    "- `date_format` Format to use for parsing dates when used in conjunction with parse_dates. The strftime to parse time, e.g. \"%d/%m/%Y\". See strftime documentation for more information on choices, though note that \"%f\" will parse all the way up to nanoseconds. \n"
   ]
  },
  {
   "cell_type": "markdown",
   "metadata": {},
   "source": [
    "- `na_values: scalar, str, list-like, or dict, default None` Additional strings to recognize as NA/NaN. If dict passed, specific per-column NA values. See na values const below for a list of the values interpreted as NaN by default.\n"
   ]
  },
  {
   "cell_type": "markdown",
   "metadata": {},
   "source": [
    "#### Text files"
   ]
  },
  {
   "cell_type": "code",
   "execution_count": 135,
   "metadata": {},
   "outputs": [
    {
     "name": "stdout",
     "output_type": "stream",
     "text": [
      "Wed Aug 15 19:35:11 CEST 2018\n",
      "Connecting to host x.x.x.x, port 5201\n",
      "[  4] local x.x.x.x port 48944 connected to x.x.x.x port 5201\n",
      "[ ID] Interval           Transfer     Bandwidth       Retr  Cwnd\n",
      "[  4]   0.00-1.00   sec   375 MBytes  3.14 Gbits/sec  273    471 KBytes\n",
      "[  4]   1.00-2.00   sec   428 MBytes  3.59 Gbits/sec  145    376 KBytes\n",
      "[  4]   2.00-3.00   sec   360 MBytes  3.02 Gbits/sec  148    454 KBytes\n",
      "[  4]   3.00-4.00   sec   339 MBytes  2.84 Gbits/sec   83    407 KBytes\n",
      "[  4]   4.00-5.00   sec   305 MBytes  2.56 Gbits/sec  104    414 KBytes\n",
      "[  4]   5.00-6.00   sec   301 MBytes  2.53 Gbits/sec  186    440 KBytes\n",
      "[  4]   6.00-7.00   sec   325 MBytes  2.73 Gbits/sec  174    485 KBytes\n",
      "[  4]   7.00-8.00   sec   434 MBytes  3.64 Gbits/sec   81    677 KBytes\n",
      "[  4]   8.00-9.00   sec   412 MBytes  3.46 Gbits/sec  226    537 KBytes\n",
      "[  4]   9.00-10.00  sec   409 MBytes  3.43 Gbits/sec   47    372 KBytes\n",
      "[  4]   10.00-11.00  sec   523 MBytes  3.81 Gbits/sec   96    422 KBytes\n"
     ]
    }
   ],
   "source": [
    "# example 1\n",
    "! powershell cat  ../data/iperf.txt"
   ]
  },
  {
   "cell_type": "code",
   "execution_count": 136,
   "metadata": {},
   "outputs": [
    {
     "name": "stdout",
     "output_type": "stream",
     "text": [
      "2018-08-15 19:35:11+00:00 <class 'datetime.datetime'>\n"
     ]
    }
   ],
   "source": [
    "import csv\n",
    "import datetime\n",
    "\n",
    "file_path = data_folder_path / \"iperf.txt\"\n",
    "temp_file_path = data_folder_path / \"iperf_temp.txt\"\n",
    "\n",
    "with file_path.open(\"r\") as f:\n",
    "    raw_data = f.readlines()\n",
    "    raw_data = [line.strip() for line in raw_data]\n",
    "\n",
    "start_time = datetime.datetime.strptime(raw_data[0], \"%a %b %d %H:%M:%S CEST %Y\").replace(tzinfo=datetime.timezone.utc)\n",
    "\n",
    "print(start_time, type(start_time))\n",
    "\n",
    "rows = []\n",
    "for line in raw_data[4:]:\n",
    "    line_splitted = line.split()\n",
    "    # seconds to add to start time\n",
    "    add_seconds = int(line_splitted[2].split(\".\")[0])\n",
    "    timestamp = start_time + datetime.timedelta(seconds=add_seconds)\n",
    "    transfer_mbytesec = int(line_splitted[4])\n",
    "    bandwidth_gbitsec = float(line_splitted[6])\n",
    "    retr = int(line_splitted[8])\n",
    "    cwnd_kbytes = int(line_splitted[9])\n",
    "    rows.append((timestamp, transfer_mbytesec, bandwidth_gbitsec, retr, cwnd_kbytes))\n",
    "\n",
    "\n",
    "headers = [\"timestamp\", \"transfer_mbytesec\", \"bandwidth_gbitsec\", \"retr\", \"cwnd_kbytes\"]\n",
    "\n",
    "with temp_file_path.open(\"w\", newline=\"\") as f:\n",
    "    writer = csv.writer(f)\n",
    "    writer.writerow(headers)\n",
    "    writer.writerows(rows)\n",
    "\n",
    "data = pd.read_csv(temp_file_path, parse_dates=[\"timestamp\"], index_col=[\"timestamp\"])\n",
    "data.head(10)\n",
    "\n",
    "# remove the file\n",
    "temp_file_path.unlink()"
   ]
  },
  {
   "cell_type": "code",
   "execution_count": 137,
   "metadata": {},
   "outputs": [
    {
     "name": "stdout",
     "output_type": "stream",
     "text": [
      "<class 'pandas.core.frame.DataFrame'>\n",
      "DatetimeIndex: 11 entries, 2018-08-15 19:35:11+00:00 to 2018-08-15 19:35:21+00:00\n",
      "Data columns (total 4 columns):\n",
      " #   Column             Non-Null Count  Dtype  \n",
      "---  ------             --------------  -----  \n",
      " 0   transfer_mbytesec  11 non-null     int64  \n",
      " 1   bandwidth_gbitsec  11 non-null     float64\n",
      " 2   retr               11 non-null     int64  \n",
      " 3   cwnd_kbytes        11 non-null     int64  \n",
      "dtypes: float64(1), int64(3)\n",
      "memory usage: 440.0 bytes\n"
     ]
    }
   ],
   "source": [
    "data.info()"
   ]
  },
  {
   "cell_type": "markdown",
   "metadata": {},
   "source": [
    "#### JSON files"
   ]
  },
  {
   "cell_type": "markdown",
   "metadata": {},
   "source": [
    "[Datasets examples](https://github.com/jdorfman/awesome-json-datasets#bitcoinm)"
   ]
  },
  {
   "cell_type": "markdown",
   "metadata": {},
   "source": [
    "[`pandas.read_json`](https://pandas.pydata.org/docs/reference/api/pandas.read_json.html): pandas.read_json(path_or_buf, *, orient=None, typ='frame', dtype=None, convert_axes=None, convert_dates=True, keep_default_dates=True, precise_float=False, date_unit=None, encoding=None, encoding_errors='strict', lines=False, chunksize=None, compression='infer', nrows=None, storage_options=None, dtype_backend=<no_default>, engine='ujson')\n",
    "\n",
    "**Orient options**\n",
    "\n",
    "Default is `'columns'`"
   ]
  },
  {
   "cell_type": "markdown",
   "metadata": {},
   "source": [
    "<table class=\"colwidths-given table\">\n",
    "<colgroup>\n",
    "<col style=\"width: 12%\">\n",
    "<col style=\"width: 88%\">\n",
    "</colgroup>\n",
    "<tbody>\n",
    "<tr class=\"row-odd\"><td><p><code class=\"docutils literal notranslate\"><span class=\"pre\">split</span></code></p></td>\n",
    "<td><p>dict like {index -&gt; [index], columns -&gt; [columns], data -&gt; [values]}</p></td>\n",
    "</tr>\n",
    "<tr class=\"row-even\"><td><p><code class=\"docutils literal notranslate\"><span class=\"pre\">records</span></code></p></td>\n",
    "<td><p>list like [{column -&gt; value}, … , {column -&gt; value}]</p></td>\n",
    "</tr>\n",
    "<tr class=\"row-odd\"><td><p><code class=\"docutils literal notranslate\"><span class=\"pre\">index</span></code></p></td>\n",
    "<td><p>dict like {index -&gt; {column -&gt; value}}</p></td>\n",
    "</tr>\n",
    "<tr class=\"row-even\"><td><p><code class=\"docutils literal notranslate\"><span class=\"pre\">columns</span></code></p></td>\n",
    "<td><p>dict like {column -&gt; {index -&gt; value}}</p></td>\n",
    "</tr>\n",
    "<tr class=\"row-odd\"><td><p><code class=\"docutils literal notranslate\"><span class=\"pre\">values</span></code></p></td>\n",
    "<td><p>just the values array</p></td>\n",
    "</tr>\n",
    "<tr class=\"row-even\"><td><p><code class=\"docutils literal notranslate\"><span class=\"pre\">table</span></code></p></td>\n",
    "<td><p>adhering to the JSON <a class=\"reference external\" href=\"https://specs.frictionlessdata.io/json-table-schema/\">Table Schema</a></p></td>\n",
    "</tr>\n",
    "</tbody>\n",
    "</table>\n"
   ]
  },
  {
   "cell_type": "code",
   "execution_count": 138,
   "metadata": {},
   "outputs": [
    {
     "data": {
      "text/html": [
       "<div>\n",
       "<style scoped>\n",
       "    .dataframe tbody tr th:only-of-type {\n",
       "        vertical-align: middle;\n",
       "    }\n",
       "\n",
       "    .dataframe tbody tr th {\n",
       "        vertical-align: top;\n",
       "    }\n",
       "\n",
       "    .dataframe thead th {\n",
       "        text-align: right;\n",
       "    }\n",
       "</style>\n",
       "<table border=\"1\" class=\"dataframe\">\n",
       "  <thead>\n",
       "    <tr style=\"text-align: right;\">\n",
       "      <th></th>\n",
       "      <th>A</th>\n",
       "      <th>B</th>\n",
       "      <th>C</th>\n",
       "    </tr>\n",
       "  </thead>\n",
       "  <tbody>\n",
       "    <tr>\n",
       "      <th>x</th>\n",
       "      <td>1</td>\n",
       "      <td>4</td>\n",
       "      <td>7</td>\n",
       "    </tr>\n",
       "    <tr>\n",
       "      <th>y</th>\n",
       "      <td>2</td>\n",
       "      <td>5</td>\n",
       "      <td>8</td>\n",
       "    </tr>\n",
       "    <tr>\n",
       "      <th>z</th>\n",
       "      <td>3</td>\n",
       "      <td>6</td>\n",
       "      <td>9</td>\n",
       "    </tr>\n",
       "  </tbody>\n",
       "</table>\n",
       "</div>"
      ],
      "text/plain": [
       "   A  B  C\n",
       "x  1  4  7\n",
       "y  2  5  8\n",
       "z  3  6  9"
      ]
     },
     "execution_count": 138,
     "metadata": {},
     "output_type": "execute_result"
    }
   ],
   "source": [
    "df_test = pd.DataFrame({\"A\": range(1, 4), \"B\": range(4, 7), \"C\": range(7, 10)}, columns=list(\"ABC\"), index=list(\"xyz\"))\n",
    "df_test"
   ]
  },
  {
   "cell_type": "markdown",
   "metadata": {},
   "source": [
    "The format of the JSON string:\n"
   ]
  },
  {
   "cell_type": "markdown",
   "metadata": {},
   "source": [
    "- Column oriented (the default for DataFrame) serializes the data as nested JSON objects with column labels acting as the primary index:\n"
   ]
  },
  {
   "cell_type": "code",
   "execution_count": 139,
   "metadata": {},
   "outputs": [
    {
     "data": {
      "text/plain": [
       "'{\"A\":{\"x\":1,\"y\":2,\"z\":3},\"B\":{\"x\":4,\"y\":5,\"z\":6},\"C\":{\"x\":7,\"y\":8,\"z\":9}}'"
      ]
     },
     "execution_count": 139,
     "metadata": {},
     "output_type": "execute_result"
    }
   ],
   "source": [
    "df_test.to_json(orient=\"columns\")"
   ]
  },
  {
   "cell_type": "markdown",
   "metadata": {},
   "source": [
    "- Index oriented (the default for Series) similar to column oriented but the index labels are now primary:\n"
   ]
  },
  {
   "cell_type": "code",
   "execution_count": 140,
   "metadata": {},
   "outputs": [
    {
     "data": {
      "text/plain": [
       "'{\"x\":{\"A\":1,\"B\":4,\"C\":7},\"y\":{\"A\":2,\"B\":5,\"C\":8},\"z\":{\"A\":3,\"B\":6,\"C\":9}}'"
      ]
     },
     "execution_count": 140,
     "metadata": {},
     "output_type": "execute_result"
    }
   ],
   "source": [
    "df_test.to_json(orient=\"index\")"
   ]
  },
  {
   "cell_type": "markdown",
   "metadata": {},
   "source": [
    "- Record oriented serializes the data to a JSON array of column -> value records, index labels are not included. This is useful for passing DataFrame data to plotting libraries, for example the JavaScript library d3.js\n"
   ]
  },
  {
   "cell_type": "code",
   "execution_count": 141,
   "metadata": {},
   "outputs": [
    {
     "data": {
      "text/plain": [
       "'[{\"A\":1,\"B\":4,\"C\":7},{\"A\":2,\"B\":5,\"C\":8},{\"A\":3,\"B\":6,\"C\":9}]'"
      ]
     },
     "execution_count": 141,
     "metadata": {},
     "output_type": "execute_result"
    }
   ],
   "source": [
    "df_test.to_json(orient=\"records\")"
   ]
  },
  {
   "cell_type": "markdown",
   "metadata": {},
   "source": [
    "- Value oriented is a bare-bones option which serializes to nested JSON arrays of values only, column and index labels are not included:\n"
   ]
  },
  {
   "cell_type": "code",
   "execution_count": 142,
   "metadata": {},
   "outputs": [
    {
     "data": {
      "text/plain": [
       "'[[1,4,7],[2,5,8],[3,6,9]]'"
      ]
     },
     "execution_count": 142,
     "metadata": {},
     "output_type": "execute_result"
    }
   ],
   "source": [
    "df_test.to_json(orient=\"values\")"
   ]
  },
  {
   "cell_type": "markdown",
   "metadata": {},
   "source": [
    "- Split oriented serializes to a JSON object containing separate entries for values, index and columns. Name is also included for Series:\n"
   ]
  },
  {
   "cell_type": "code",
   "execution_count": 143,
   "metadata": {},
   "outputs": [
    {
     "data": {
      "text/plain": [
       "'{\"columns\":[\"A\",\"B\",\"C\"],\"index\":[\"x\",\"y\",\"z\"],\"data\":[[1,4,7],[2,5,8],[3,6,9]]}'"
      ]
     },
     "execution_count": 143,
     "metadata": {},
     "output_type": "execute_result"
    }
   ],
   "source": [
    "df_test.to_json(orient=\"split\")"
   ]
  },
  {
   "cell_type": "markdown",
   "metadata": {},
   "source": [
    "- Table oriented serializes to the JSON Table Schema, allowing for the preservation of metadata including but not limited to dtypes and index names.\n"
   ]
  },
  {
   "cell_type": "code",
   "execution_count": 144,
   "metadata": {},
   "outputs": [
    {
     "data": {
      "text/plain": [
       "'{\"schema\":{\"fields\":[{\"name\":\"index\",\"type\":\"string\"},{\"name\":\"A\",\"type\":\"integer\"},{\"name\":\"B\",\"type\":\"integer\"},{\"name\":\"C\",\"type\":\"integer\"}],\"primaryKey\":[\"index\"],\"pandas_version\":\"1.4.0\"},\"data\":[{\"index\":\"x\",\"A\":1,\"B\":4,\"C\":7},{\"index\":\"y\",\"A\":2,\"B\":5,\"C\":8},{\"index\":\"z\",\"A\":3,\"B\":6,\"C\":9}]}'"
      ]
     },
     "execution_count": 144,
     "metadata": {},
     "output_type": "execute_result"
    }
   ],
   "source": [
    "df_test.to_json(orient=\"table\")"
   ]
  },
  {
   "cell_type": "code",
   "execution_count": 145,
   "metadata": {},
   "outputs": [
    {
     "data": {
      "text/html": [
       "<div>\n",
       "<style scoped>\n",
       "    .dataframe tbody tr th:only-of-type {\n",
       "        vertical-align: middle;\n",
       "    }\n",
       "\n",
       "    .dataframe tbody tr th {\n",
       "        vertical-align: top;\n",
       "    }\n",
       "\n",
       "    .dataframe thead th {\n",
       "        text-align: right;\n",
       "    }\n",
       "</style>\n",
       "<table border=\"1\" class=\"dataframe\">\n",
       "  <thead>\n",
       "    <tr style=\"text-align: right;\">\n",
       "      <th></th>\n",
       "      <th>temp_anomaly_celsius</th>\n",
       "    </tr>\n",
       "    <tr>\n",
       "      <th>year</th>\n",
       "      <th></th>\n",
       "    </tr>\n",
       "  </thead>\n",
       "  <tbody>\n",
       "    <tr>\n",
       "      <th>1880</th>\n",
       "      <td>-0.12</td>\n",
       "    </tr>\n",
       "    <tr>\n",
       "      <th>1881</th>\n",
       "      <td>-0.09</td>\n",
       "    </tr>\n",
       "    <tr>\n",
       "      <th>1882</th>\n",
       "      <td>-0.10</td>\n",
       "    </tr>\n",
       "    <tr>\n",
       "      <th>1883</th>\n",
       "      <td>-0.18</td>\n",
       "    </tr>\n",
       "    <tr>\n",
       "      <th>1884</th>\n",
       "      <td>-0.27</td>\n",
       "    </tr>\n",
       "  </tbody>\n",
       "</table>\n",
       "</div>"
      ],
      "text/plain": [
       "      temp_anomaly_celsius\n",
       "year                      \n",
       "1880                 -0.12\n",
       "1881                 -0.09\n",
       "1882                 -0.10\n",
       "1883                 -0.18\n",
       "1884                 -0.27"
      ]
     },
     "execution_count": 145,
     "metadata": {},
     "output_type": "execute_result"
    }
   ],
   "source": [
    "# example 1\n",
    "oceans = pd.read_json(data_folder_path / \"ocenas.json\", orient=\"columns\")\n",
    "oceans = oceans.drop(columns=\"description\")\n",
    "oceans = oceans.drop([\"title\", \"units\", \"base_period\", \"missing\"])\n",
    "oceans.index.name = \"year\"\n",
    "oceans = oceans.rename(columns={\"data\": \"temp_anomaly_celsius\"})\n",
    "oceans.index = pd.to_datetime(oceans.index).year\n",
    "oceans.head()"
   ]
  },
  {
   "cell_type": "code",
   "execution_count": 146,
   "metadata": {},
   "outputs": [
    {
     "data": {
      "text/html": [
       "<div>\n",
       "<style scoped>\n",
       "    .dataframe tbody tr th:only-of-type {\n",
       "        vertical-align: middle;\n",
       "    }\n",
       "\n",
       "    .dataframe tbody tr th {\n",
       "        vertical-align: top;\n",
       "    }\n",
       "\n",
       "    .dataframe thead th {\n",
       "        text-align: right;\n",
       "    }\n",
       "</style>\n",
       "<table border=\"1\" class=\"dataframe\">\n",
       "  <thead>\n",
       "    <tr style=\"text-align: right;\">\n",
       "      <th></th>\n",
       "      <th>value</th>\n",
       "      <th>anomaly</th>\n",
       "    </tr>\n",
       "  </thead>\n",
       "  <tbody>\n",
       "    <tr>\n",
       "      <th>189512</th>\n",
       "      <td>50.34</td>\n",
       "      <td>-1.68</td>\n",
       "    </tr>\n",
       "    <tr>\n",
       "      <th>189612</th>\n",
       "      <td>51.99</td>\n",
       "      <td>-0.03</td>\n",
       "    </tr>\n",
       "    <tr>\n",
       "      <th>189712</th>\n",
       "      <td>51.56</td>\n",
       "      <td>-0.46</td>\n",
       "    </tr>\n",
       "    <tr>\n",
       "      <th>189812</th>\n",
       "      <td>51.43</td>\n",
       "      <td>-0.59</td>\n",
       "    </tr>\n",
       "    <tr>\n",
       "      <th>189912</th>\n",
       "      <td>51.01</td>\n",
       "      <td>-1.01</td>\n",
       "    </tr>\n",
       "  </tbody>\n",
       "</table>\n",
       "</div>"
      ],
      "text/plain": [
       "        value  anomaly\n",
       "189512  50.34    -1.68\n",
       "189612  51.99    -0.03\n",
       "189712  51.56    -0.46\n",
       "189812  51.43    -0.59\n",
       "189912  51.01    -1.01"
      ]
     },
     "execution_count": 146,
     "metadata": {},
     "output_type": "execute_result"
    }
   ],
   "source": [
    "# example 2\n",
    "import json\n",
    "\n",
    "temp_file_path = data_folder_path / \"temp_temperatures.json\"\n",
    "\n",
    "with (data_folder_path / \"temperatures.json\").open(\"rt\") as f:\n",
    "    raw_data = json.load(f)\n",
    "\n",
    "raw_data = raw_data[\"data\"]\n",
    "\n",
    "with temp_file_path.open(\"wt\") as f:\n",
    "    json.dump(raw_data, f, indent=4)\n",
    "\n",
    "data = pd.read_json(temp_file_path, orient=\"index\")\n",
    "\n",
    "# remove the file\n",
    "temp_file_path.unlink()\n",
    "\n",
    "data.head()"
   ]
  },
  {
   "cell_type": "code",
   "execution_count": 147,
   "metadata": {},
   "outputs": [
    {
     "data": {
      "text/html": [
       "<div>\n",
       "<style scoped>\n",
       "    .dataframe tbody tr th:only-of-type {\n",
       "        vertical-align: middle;\n",
       "    }\n",
       "\n",
       "    .dataframe tbody tr th {\n",
       "        vertical-align: top;\n",
       "    }\n",
       "\n",
       "    .dataframe thead th {\n",
       "        text-align: right;\n",
       "    }\n",
       "</style>\n",
       "<table border=\"1\" class=\"dataframe\">\n",
       "  <thead>\n",
       "    <tr style=\"text-align: right;\">\n",
       "      <th></th>\n",
       "      <th>nametype</th>\n",
       "      <th>recclass</th>\n",
       "      <th>mass</th>\n",
       "      <th>fall</th>\n",
       "      <th>year</th>\n",
       "      <th>reclat</th>\n",
       "      <th>reclong</th>\n",
       "      <th>coordinates_x</th>\n",
       "      <th>coordinates_y</th>\n",
       "    </tr>\n",
       "    <tr>\n",
       "      <th>name</th>\n",
       "      <th></th>\n",
       "      <th></th>\n",
       "      <th></th>\n",
       "      <th></th>\n",
       "      <th></th>\n",
       "      <th></th>\n",
       "      <th></th>\n",
       "      <th></th>\n",
       "      <th></th>\n",
       "    </tr>\n",
       "  </thead>\n",
       "  <tbody>\n",
       "    <tr>\n",
       "      <th>Aachen</th>\n",
       "      <td>Valid</td>\n",
       "      <td>L5</td>\n",
       "      <td>21.0</td>\n",
       "      <td>Fell</td>\n",
       "      <td>1880.0</td>\n",
       "      <td>50.77500</td>\n",
       "      <td>6.08333</td>\n",
       "      <td>6.08333</td>\n",
       "      <td>50.77500</td>\n",
       "    </tr>\n",
       "    <tr>\n",
       "      <th>Aarhus</th>\n",
       "      <td>Valid</td>\n",
       "      <td>H6</td>\n",
       "      <td>720.0</td>\n",
       "      <td>Fell</td>\n",
       "      <td>1951.0</td>\n",
       "      <td>56.18333</td>\n",
       "      <td>10.23333</td>\n",
       "      <td>10.23333</td>\n",
       "      <td>56.18333</td>\n",
       "    </tr>\n",
       "    <tr>\n",
       "      <th>Abee</th>\n",
       "      <td>Valid</td>\n",
       "      <td>EH4</td>\n",
       "      <td>107000.0</td>\n",
       "      <td>Fell</td>\n",
       "      <td>1952.0</td>\n",
       "      <td>54.21667</td>\n",
       "      <td>-113.00000</td>\n",
       "      <td>-113.00000</td>\n",
       "      <td>54.21667</td>\n",
       "    </tr>\n",
       "    <tr>\n",
       "      <th>Acapulco</th>\n",
       "      <td>Valid</td>\n",
       "      <td>Acapulcoite</td>\n",
       "      <td>1914.0</td>\n",
       "      <td>Fell</td>\n",
       "      <td>1976.0</td>\n",
       "      <td>16.88333</td>\n",
       "      <td>-99.90000</td>\n",
       "      <td>-99.90000</td>\n",
       "      <td>16.88333</td>\n",
       "    </tr>\n",
       "    <tr>\n",
       "      <th>Achiras</th>\n",
       "      <td>Valid</td>\n",
       "      <td>L6</td>\n",
       "      <td>780.0</td>\n",
       "      <td>Fell</td>\n",
       "      <td>1902.0</td>\n",
       "      <td>-33.16667</td>\n",
       "      <td>-64.95000</td>\n",
       "      <td>-64.95000</td>\n",
       "      <td>-33.16667</td>\n",
       "    </tr>\n",
       "  </tbody>\n",
       "</table>\n",
       "</div>"
      ],
      "text/plain": [
       "         nametype     recclass      mass  fall    year    reclat    reclong  \\\n",
       "name                                                                          \n",
       "Aachen      Valid           L5      21.0  Fell  1880.0  50.77500    6.08333   \n",
       "Aarhus      Valid           H6     720.0  Fell  1951.0  56.18333   10.23333   \n",
       "Abee        Valid          EH4  107000.0  Fell  1952.0  54.21667 -113.00000   \n",
       "Acapulco    Valid  Acapulcoite    1914.0  Fell  1976.0  16.88333  -99.90000   \n",
       "Achiras     Valid           L6     780.0  Fell  1902.0 -33.16667  -64.95000   \n",
       "\n",
       "          coordinates_x  coordinates_y  \n",
       "name                                    \n",
       "Aachen          6.08333       50.77500  \n",
       "Aarhus         10.23333       56.18333  \n",
       "Abee         -113.00000       54.21667  \n",
       "Acapulco      -99.90000       16.88333  \n",
       "Achiras       -64.95000      -33.16667  "
      ]
     },
     "execution_count": 147,
     "metadata": {},
     "output_type": "execute_result"
    }
   ],
   "source": [
    "# example 3\n",
    "cities = pd.read_json(data_folder_path / \"cities.json\", orient=\"records\", dtype={\"nametype\": \"category\", \"recclass\": \"category\", \"fall\": \"category\"})\n",
    "coordinates = pd.json_normalize(cities[\"geolocation\"].to_list())[\"coordinates\"]\n",
    "cities[\"coordinates_x\"] = coordinates.str[0]\n",
    "cities[\"coordinates_y\"] = coordinates.str[1]\n",
    "cities = cities.set_index(\"name\")\n",
    "cities = cities.drop(columns=[\"geolocation\", \":@computed_region_cbhk_fwbd\", \":@computed_region_nnqa_25f4\", \"id\"])\n",
    "cities[\"year\"] = cities[\"year\"].astype(str).str[:4].astype(float)\n",
    "cities.head(5)"
   ]
  },
  {
   "cell_type": "code",
   "execution_count": 148,
   "metadata": {},
   "outputs": [
    {
     "name": "stdout",
     "output_type": "stream",
     "text": [
      "<class 'pandas.core.frame.DataFrame'>\n",
      "Index: 1000 entries, Aachen to Tomakovka\n",
      "Data columns (total 9 columns):\n",
      " #   Column         Non-Null Count  Dtype   \n",
      "---  ------         --------------  -----   \n",
      " 0   nametype       1000 non-null   category\n",
      " 1   recclass       1000 non-null   category\n",
      " 2   mass           972 non-null    float64 \n",
      " 3   fall           1000 non-null   category\n",
      " 4   year           999 non-null    float64 \n",
      " 5   reclat         988 non-null    float64 \n",
      " 6   reclong        988 non-null    float64 \n",
      " 7   coordinates_x  988 non-null    float64 \n",
      " 8   coordinates_y  988 non-null    float64 \n",
      "dtypes: category(3), float64(6)\n",
      "memory usage: 62.8+ KB\n"
     ]
    }
   ],
   "source": [
    "cities.info()"
   ]
  },
  {
   "cell_type": "markdown",
   "metadata": {},
   "source": [
    "[pandas.json_normalize](https://pandas.pydata.org/pandas-docs/stable/reference/api/pandas.json_normalize.html): Normalize semi-structured JSON data into a flat table.\n"
   ]
  },
  {
   "cell_type": "code",
   "execution_count": 149,
   "metadata": {},
   "outputs": [
    {
     "data": {
      "text/html": [
       "<div>\n",
       "<style scoped>\n",
       "    .dataframe tbody tr th:only-of-type {\n",
       "        vertical-align: middle;\n",
       "    }\n",
       "\n",
       "    .dataframe tbody tr th {\n",
       "        vertical-align: top;\n",
       "    }\n",
       "\n",
       "    .dataframe thead th {\n",
       "        text-align: right;\n",
       "    }\n",
       "</style>\n",
       "<table border=\"1\" class=\"dataframe\">\n",
       "  <thead>\n",
       "    <tr style=\"text-align: right;\">\n",
       "      <th></th>\n",
       "      <th>spent</th>\n",
       "      <th>tx_index</th>\n",
       "      <th>type</th>\n",
       "      <th>addr</th>\n",
       "      <th>value</th>\n",
       "      <th>n</th>\n",
       "      <th>script</th>\n",
       "      <th>time</th>\n",
       "      <th>relayed_by</th>\n",
       "      <th>vout_sz</th>\n",
       "      <th>hash</th>\n",
       "    </tr>\n",
       "  </thead>\n",
       "  <tbody>\n",
       "    <tr>\n",
       "      <th>0</th>\n",
       "      <td>False</td>\n",
       "      <td>0</td>\n",
       "      <td>0</td>\n",
       "      <td>1H7r57SXAwaKs3Tf5ugbkRNxwfh9YaxC5b</td>\n",
       "      <td>7541</td>\n",
       "      <td>0</td>\n",
       "      <td>76a914b0cd787a7a879ac0a5277b0013ec7b11c145055d...</td>\n",
       "      <td>1586376721</td>\n",
       "      <td>0.0.0.0</td>\n",
       "      <td>2</td>\n",
       "      <td>0f06714015f334626a168ee3e0aa5e0d3866a33dad504b...</td>\n",
       "    </tr>\n",
       "    <tr>\n",
       "      <th>1</th>\n",
       "      <td>False</td>\n",
       "      <td>0</td>\n",
       "      <td>0</td>\n",
       "      <td>1BPULhbGfrojrknyD7aZYMtRVUu38Cn75j</td>\n",
       "      <td>1364400</td>\n",
       "      <td>1</td>\n",
       "      <td>76a91471f13b222426eb80b47d2413d21a8904ec1966b2...</td>\n",
       "      <td>1586376721</td>\n",
       "      <td>0.0.0.0</td>\n",
       "      <td>2</td>\n",
       "      <td>0f06714015f334626a168ee3e0aa5e0d3866a33dad504b...</td>\n",
       "    </tr>\n",
       "    <tr>\n",
       "      <th>2</th>\n",
       "      <td>False</td>\n",
       "      <td>0</td>\n",
       "      <td>0</td>\n",
       "      <td>1LQ6YURobx4EGZRp8bdEDHup6T56o5NGKN</td>\n",
       "      <td>3127836</td>\n",
       "      <td>0</td>\n",
       "      <td>76a914d4c895721d3a8cd74bb3ccbb699a3dbe342c0807...</td>\n",
       "      <td>1586376722</td>\n",
       "      <td>0.0.0.0</td>\n",
       "      <td>2</td>\n",
       "      <td>3684072a50d7389933210d7adf4f98640d3d53c8cb245e...</td>\n",
       "    </tr>\n",
       "    <tr>\n",
       "      <th>3</th>\n",
       "      <td>False</td>\n",
       "      <td>0</td>\n",
       "      <td>0</td>\n",
       "      <td>1HSLVVSSQmzaNG8sbakhFDrmpzUPZLnYCe</td>\n",
       "      <td>30036732</td>\n",
       "      <td>1</td>\n",
       "      <td>76a914b44cae99837337275d21d2c5c6ed6cddf7a7e9f7...</td>\n",
       "      <td>1586376722</td>\n",
       "      <td>0.0.0.0</td>\n",
       "      <td>2</td>\n",
       "      <td>3684072a50d7389933210d7adf4f98640d3d53c8cb245e...</td>\n",
       "    </tr>\n",
       "    <tr>\n",
       "      <th>4</th>\n",
       "      <td>False</td>\n",
       "      <td>0</td>\n",
       "      <td>0</td>\n",
       "      <td>3Lb2MJWbBE88BUHf6tAw8ZzhkR6H2cYRhR</td>\n",
       "      <td>206183</td>\n",
       "      <td>0</td>\n",
       "      <td>a914cf48401e3cf81080352f281ea859ccabd51a821487</td>\n",
       "      <td>1586376721</td>\n",
       "      <td>0.0.0.0</td>\n",
       "      <td>3</td>\n",
       "      <td>3d3cc141654170060a7e298a9e5298557970e8cd0051ab...</td>\n",
       "    </tr>\n",
       "  </tbody>\n",
       "</table>\n",
       "</div>"
      ],
      "text/plain": [
       "   spent  tx_index  type                                addr     value  n  \\\n",
       "0  False         0     0  1H7r57SXAwaKs3Tf5ugbkRNxwfh9YaxC5b      7541  0   \n",
       "1  False         0     0  1BPULhbGfrojrknyD7aZYMtRVUu38Cn75j   1364400  1   \n",
       "2  False         0     0  1LQ6YURobx4EGZRp8bdEDHup6T56o5NGKN   3127836  0   \n",
       "3  False         0     0  1HSLVVSSQmzaNG8sbakhFDrmpzUPZLnYCe  30036732  1   \n",
       "4  False         0     0  3Lb2MJWbBE88BUHf6tAw8ZzhkR6H2cYRhR    206183  0   \n",
       "\n",
       "                                              script        time relayed_by  \\\n",
       "0  76a914b0cd787a7a879ac0a5277b0013ec7b11c145055d...  1586376721    0.0.0.0   \n",
       "1  76a91471f13b222426eb80b47d2413d21a8904ec1966b2...  1586376721    0.0.0.0   \n",
       "2  76a914d4c895721d3a8cd74bb3ccbb699a3dbe342c0807...  1586376722    0.0.0.0   \n",
       "3  76a914b44cae99837337275d21d2c5c6ed6cddf7a7e9f7...  1586376722    0.0.0.0   \n",
       "4     a914cf48401e3cf81080352f281ea859ccabd51a821487  1586376721    0.0.0.0   \n",
       "\n",
       "  vout_sz                                               hash  \n",
       "0       2  0f06714015f334626a168ee3e0aa5e0d3866a33dad504b...  \n",
       "1       2  0f06714015f334626a168ee3e0aa5e0d3866a33dad504b...  \n",
       "2       2  3684072a50d7389933210d7adf4f98640d3d53c8cb245e...  \n",
       "3       2  3684072a50d7389933210d7adf4f98640d3d53c8cb245e...  \n",
       "4       3  3d3cc141654170060a7e298a9e5298557970e8cd0051ab...  "
      ]
     },
     "execution_count": 149,
     "metadata": {},
     "output_type": "execute_result"
    }
   ],
   "source": [
    "# example 4\n",
    "with (data_folder_path / \"transactions.json\").open(\"rt\") as f:\n",
    "    data = json.load(f)\n",
    "\n",
    "trans = pd.json_normalize(data[\"txs\"], record_path=[\"out\"], meta=[\"time\", \"relayed_by\", \"vout_sz\", \"hash\"])\n",
    "trans.head()"
   ]
  },
  {
   "cell_type": "markdown",
   "metadata": {},
   "source": [
    "#### Excel files"
   ]
  },
  {
   "cell_type": "markdown",
   "metadata": {},
   "source": [
    "pandas provides the `read_excel()` function to read data from Excel files into DataFrames. This function supports various parameters to customize the reading process.\n",
    "\n",
    "To facilitate working with multiple sheets from the same file, the ExcelFile class can be used to wrap the file and can be passed into read_excel There will be a performance benefit for reading multiple sheets as the file is read into memory only once.\n"
   ]
  },
  {
   "cell_type": "markdown",
   "metadata": {},
   "source": [
    "The sheet_names property will generate a list of the sheet names in the file."
   ]
  },
  {
   "cell_type": "code",
   "execution_count": 156,
   "metadata": {},
   "outputs": [
    {
     "name": "stdout",
     "output_type": "stream",
     "text": [
      "['2002', '2004']\n"
     ]
    }
   ],
   "source": [
    "# Assign spreadsheet filename: file\n",
    "file = data_folder_path / \"battledeath.xlsx\"\n",
    "\n",
    "# Load spreadsheet: xls\n",
    "xls = pd.ExcelFile(file)\n",
    "\n",
    "# Print xlssheet names\n",
    "print(xls.sheet_names)"
   ]
  },
  {
   "cell_type": "markdown",
   "metadata": {},
   "source": [
    "Read an Excel file into a pandas DataFrame.\n",
    "\n",
    "Supports xls, xlsx, xlsm, xlsb, and odf file extensions read from a local filesystem or URL. Supports an option to read a single sheet or a list of sheets.\n"
   ]
  },
  {
   "cell_type": "code",
   "execution_count": 157,
   "metadata": {},
   "outputs": [
    {
     "data": {
      "text/html": [
       "<div>\n",
       "<style scoped>\n",
       "    .dataframe tbody tr th:only-of-type {\n",
       "        vertical-align: middle;\n",
       "    }\n",
       "\n",
       "    .dataframe tbody tr th {\n",
       "        vertical-align: top;\n",
       "    }\n",
       "\n",
       "    .dataframe thead th {\n",
       "        text-align: right;\n",
       "    }\n",
       "</style>\n",
       "<table border=\"1\" class=\"dataframe\">\n",
       "  <thead>\n",
       "    <tr style=\"text-align: right;\">\n",
       "      <th></th>\n",
       "      <th>War, age-adjusted mortality due to</th>\n",
       "      <th>2002</th>\n",
       "    </tr>\n",
       "  </thead>\n",
       "  <tbody>\n",
       "    <tr>\n",
       "      <th>0</th>\n",
       "      <td>Afghanistan</td>\n",
       "      <td>36.083990</td>\n",
       "    </tr>\n",
       "    <tr>\n",
       "      <th>1</th>\n",
       "      <td>Albania</td>\n",
       "      <td>0.128908</td>\n",
       "    </tr>\n",
       "    <tr>\n",
       "      <th>2</th>\n",
       "      <td>Algeria</td>\n",
       "      <td>18.314120</td>\n",
       "    </tr>\n",
       "    <tr>\n",
       "      <th>3</th>\n",
       "      <td>Andorra</td>\n",
       "      <td>0.000000</td>\n",
       "    </tr>\n",
       "    <tr>\n",
       "      <th>4</th>\n",
       "      <td>Angola</td>\n",
       "      <td>18.964560</td>\n",
       "    </tr>\n",
       "  </tbody>\n",
       "</table>\n",
       "</div>"
      ],
      "text/plain": [
       "  War, age-adjusted mortality due to       2002\n",
       "0                        Afghanistan  36.083990\n",
       "1                            Albania   0.128908\n",
       "2                            Algeria  18.314120\n",
       "3                            Andorra   0.000000\n",
       "4                             Angola  18.964560"
      ]
     },
     "execution_count": 157,
     "metadata": {},
     "output_type": "execute_result"
    }
   ],
   "source": [
    "df_2002 = pd.read_excel(xls, \"2002\")\n",
    "df_2002.head()"
   ]
  },
  {
   "cell_type": "markdown",
   "metadata": {},
   "source": [
    "The ExcelFile class can also be used as a context manager. The primary use-case for an ExcelFile is parsing multiple sheets with different parameters.\n"
   ]
  },
  {
   "cell_type": "code",
   "execution_count": 158,
   "metadata": {},
   "outputs": [],
   "source": [
    "with pd.ExcelFile(file) as xls:\n",
    "    df_2002 = pd.read_excel(xls, \"2002\", names=[\"Country\", \"AAM due to War (2002)\"], index_col=\"Country\")\n",
    "    df_2004 = pd.read_excel(xls, \"2004\", names=[\"Country\", \"War(2004)\"], index_col=\"Country\")"
   ]
  },
  {
   "cell_type": "code",
   "execution_count": 159,
   "metadata": {},
   "outputs": [
    {
     "data": {
      "text/html": [
       "<div>\n",
       "<style scoped>\n",
       "    .dataframe tbody tr th:only-of-type {\n",
       "        vertical-align: middle;\n",
       "    }\n",
       "\n",
       "    .dataframe tbody tr th {\n",
       "        vertical-align: top;\n",
       "    }\n",
       "\n",
       "    .dataframe thead th {\n",
       "        text-align: right;\n",
       "    }\n",
       "</style>\n",
       "<table border=\"1\" class=\"dataframe\">\n",
       "  <thead>\n",
       "    <tr style=\"text-align: right;\">\n",
       "      <th></th>\n",
       "      <th>AAM due to War (2002)</th>\n",
       "    </tr>\n",
       "    <tr>\n",
       "      <th>Country</th>\n",
       "      <th></th>\n",
       "    </tr>\n",
       "  </thead>\n",
       "  <tbody>\n",
       "    <tr>\n",
       "      <th>Afghanistan</th>\n",
       "      <td>36.083990</td>\n",
       "    </tr>\n",
       "    <tr>\n",
       "      <th>Albania</th>\n",
       "      <td>0.128908</td>\n",
       "    </tr>\n",
       "  </tbody>\n",
       "</table>\n",
       "</div>"
      ],
      "text/plain": [
       "             AAM due to War (2002)\n",
       "Country                           \n",
       "Afghanistan              36.083990\n",
       "Albania                   0.128908"
      ]
     },
     "execution_count": 159,
     "metadata": {},
     "output_type": "execute_result"
    }
   ],
   "source": [
    "df_2002.head(2)"
   ]
  },
  {
   "cell_type": "code",
   "execution_count": 160,
   "metadata": {},
   "outputs": [
    {
     "data": {
      "text/html": [
       "<div>\n",
       "<style scoped>\n",
       "    .dataframe tbody tr th:only-of-type {\n",
       "        vertical-align: middle;\n",
       "    }\n",
       "\n",
       "    .dataframe tbody tr th {\n",
       "        vertical-align: top;\n",
       "    }\n",
       "\n",
       "    .dataframe thead th {\n",
       "        text-align: right;\n",
       "    }\n",
       "</style>\n",
       "<table border=\"1\" class=\"dataframe\">\n",
       "  <thead>\n",
       "    <tr style=\"text-align: right;\">\n",
       "      <th></th>\n",
       "      <th>War(2004)</th>\n",
       "    </tr>\n",
       "    <tr>\n",
       "      <th>Country</th>\n",
       "      <th></th>\n",
       "    </tr>\n",
       "  </thead>\n",
       "  <tbody>\n",
       "    <tr>\n",
       "      <th>Afghanistan</th>\n",
       "      <td>9.451028</td>\n",
       "    </tr>\n",
       "    <tr>\n",
       "      <th>Albania</th>\n",
       "      <td>0.130354</td>\n",
       "    </tr>\n",
       "  </tbody>\n",
       "</table>\n",
       "</div>"
      ],
      "text/plain": [
       "             War(2004)\n",
       "Country               \n",
       "Afghanistan   9.451028\n",
       "Albania       0.130354"
      ]
     },
     "execution_count": 160,
     "metadata": {},
     "output_type": "execute_result"
    }
   ],
   "source": [
    "df_2004.head(2)"
   ]
  },
  {
   "cell_type": "markdown",
   "metadata": {},
   "source": [
    "#### XML files"
   ]
  },
  {
   "cell_type": "markdown",
   "metadata": {},
   "source": [
    "XML is a markup language designed to store and transport data, with a focus on simplicity and usability across different systems. pandas, a powerful data analysis library in Python, provides functions like `read_xml()` and `to_xml()` to read from and write to XML files, respectively. These functions enable data scientists and analysts to integrate XML data into their workflows seamlessly."
   ]
  },
  {
   "cell_type": "markdown",
   "metadata": {},
   "source": [
    "Suppose we have an XML file named employees.xml:"
   ]
  },
  {
   "cell_type": "code",
   "execution_count": 164,
   "metadata": {},
   "outputs": [
    {
     "data": {
      "text/html": [
       "<div>\n",
       "<style scoped>\n",
       "    .dataframe tbody tr th:only-of-type {\n",
       "        vertical-align: middle;\n",
       "    }\n",
       "\n",
       "    .dataframe tbody tr th {\n",
       "        vertical-align: top;\n",
       "    }\n",
       "\n",
       "    .dataframe thead th {\n",
       "        text-align: right;\n",
       "    }\n",
       "</style>\n",
       "<table border=\"1\" class=\"dataframe\">\n",
       "  <thead>\n",
       "    <tr style=\"text-align: right;\">\n",
       "      <th></th>\n",
       "      <th>name</th>\n",
       "      <th>department</th>\n",
       "    </tr>\n",
       "    <tr>\n",
       "      <th>id</th>\n",
       "      <th></th>\n",
       "      <th></th>\n",
       "    </tr>\n",
       "  </thead>\n",
       "  <tbody>\n",
       "    <tr>\n",
       "      <th>1</th>\n",
       "      <td>Alice</td>\n",
       "      <td>HR</td>\n",
       "    </tr>\n",
       "    <tr>\n",
       "      <th>2</th>\n",
       "      <td>Bob</td>\n",
       "      <td>Engineering</td>\n",
       "    </tr>\n",
       "  </tbody>\n",
       "</table>\n",
       "</div>"
      ],
      "text/plain": [
       "     name   department\n",
       "id                    \n",
       "1   Alice           HR\n",
       "2     Bob  Engineering"
      ]
     },
     "execution_count": 164,
     "metadata": {},
     "output_type": "execute_result"
    }
   ],
   "source": [
    "path = data_folder_path / \"employees.xml\"\n",
    "data = pd.read_xml(path, xpath=\".//employee\")\n",
    "data = data.set_index(\"id\")\n",
    "data.head()"
   ]
  },
  {
   "cell_type": "markdown",
   "metadata": {},
   "source": [
    "### Reading online data"
   ]
  },
  {
   "cell_type": "markdown",
   "metadata": {},
   "source": [
    "Online datasets are pre-collected data available in various formats and hosted on platforms dedicated to data sharing."
   ]
  },
  {
   "cell_type": "markdown",
   "metadata": {},
   "source": [
    "Let's say you have an URL with CSV data in raw format. You can read it directly into a pandas DataFrame using the following code:"
   ]
  },
  {
   "cell_type": "code",
   "execution_count": 169,
   "metadata": {},
   "outputs": [
    {
     "data": {
      "text/html": [
       "<div>\n",
       "<style scoped>\n",
       "    .dataframe tbody tr th:only-of-type {\n",
       "        vertical-align: middle;\n",
       "    }\n",
       "\n",
       "    .dataframe tbody tr th {\n",
       "        vertical-align: top;\n",
       "    }\n",
       "\n",
       "    .dataframe thead th {\n",
       "        text-align: right;\n",
       "    }\n",
       "</style>\n",
       "<table border=\"1\" class=\"dataframe\">\n",
       "  <thead>\n",
       "    <tr style=\"text-align: right;\">\n",
       "      <th></th>\n",
       "      <th>Category</th>\n",
       "      <th>Name</th>\n",
       "      <th>URL</th>\n",
       "      <th>Description</th>\n",
       "    </tr>\n",
       "  </thead>\n",
       "  <tbody>\n",
       "    <tr>\n",
       "      <th>0</th>\n",
       "      <td>Awesome CSV Tools</td>\n",
       "      <td>NimbleText/Live</td>\n",
       "      <td>https://NimbleText.com/Live</td>\n",
       "      <td>Use patterns to manipulate CSV; the world's si...</td>\n",
       "    </tr>\n",
       "    <tr>\n",
       "      <th>1</th>\n",
       "      <td>Awesome CSV Tools</td>\n",
       "      <td>PapaParse</td>\n",
       "      <td>https://www.papaparse.com</td>\n",
       "      <td>A powerful in-browser CSV parser</td>\n",
       "    </tr>\n",
       "    <tr>\n",
       "      <th>2</th>\n",
       "      <td>Awesome CSV Tools</td>\n",
       "      <td>CSVKit</td>\n",
       "      <td>http://csvkit.readthedocs.org/en/0.7.3/</td>\n",
       "      <td>CSV utilities that includes csvsql / csvgrep /...</td>\n",
       "    </tr>\n",
       "    <tr>\n",
       "      <th>3</th>\n",
       "      <td>Awesome CSV Tools</td>\n",
       "      <td>XSV</td>\n",
       "      <td>https://github.com/BurntSushi/xsv</td>\n",
       "      <td>A fast CSV command-line toolkit written in Rust</td>\n",
       "    </tr>\n",
       "    <tr>\n",
       "      <th>4</th>\n",
       "      <td>Awesome CSV Tools</td>\n",
       "      <td>sed (gnu tool)</td>\n",
       "      <td>https://www.gnu.org/software/sed/manual/sed.html</td>\n",
       "      <td>Stream editor</td>\n",
       "    </tr>\n",
       "  </tbody>\n",
       "</table>\n",
       "</div>"
      ],
      "text/plain": [
       "            Category             Name  \\\n",
       "0  Awesome CSV Tools  NimbleText/Live   \n",
       "1  Awesome CSV Tools        PapaParse   \n",
       "2  Awesome CSV Tools           CSVKit   \n",
       "3  Awesome CSV Tools              XSV   \n",
       "4  Awesome CSV Tools   sed (gnu tool)   \n",
       "\n",
       "                                                URL  \\\n",
       "0                       https://NimbleText.com/Live   \n",
       "1                         https://www.papaparse.com   \n",
       "2           http://csvkit.readthedocs.org/en/0.7.3/   \n",
       "3                 https://github.com/BurntSushi/xsv   \n",
       "4  https://www.gnu.org/software/sed/manual/sed.html   \n",
       "\n",
       "                                         Description  \n",
       "0  Use patterns to manipulate CSV; the world's si...  \n",
       "1                   A powerful in-browser CSV parser  \n",
       "2  CSV utilities that includes csvsql / csvgrep /...  \n",
       "3    A fast CSV command-line toolkit written in Rust  \n",
       "4                                      Stream editor  "
      ]
     },
     "execution_count": 169,
     "metadata": {},
     "output_type": "execute_result"
    }
   ],
   "source": [
    "url = \"https://raw.githubusercontent.com/secretGeek/AwesomeCSV/refs/heads/master/awesomecsv.csv\"\n",
    "data = pd.read_csv(url)\n",
    "data.head()"
   ]
  },
  {
   "cell_type": "markdown",
   "metadata": {},
   "source": [
    "### Converting and writing data to files"
   ]
  },
  {
   "cell_type": "markdown",
   "metadata": {},
   "source": [
    "Pandas is not only excellent for data manipulation and analysis but also for exporting data to various file formats."
   ]
  },
  {
   "cell_type": "code",
   "execution_count": 170,
   "metadata": {},
   "outputs": [
    {
     "data": {
      "text/html": [
       "<div>\n",
       "<style scoped>\n",
       "    .dataframe tbody tr th:only-of-type {\n",
       "        vertical-align: middle;\n",
       "    }\n",
       "\n",
       "    .dataframe tbody tr th {\n",
       "        vertical-align: top;\n",
       "    }\n",
       "\n",
       "    .dataframe thead th {\n",
       "        text-align: right;\n",
       "    }\n",
       "</style>\n",
       "<table border=\"1\" class=\"dataframe\">\n",
       "  <thead>\n",
       "    <tr style=\"text-align: right;\">\n",
       "      <th></th>\n",
       "      <th>rank</th>\n",
       "      <th>revenues</th>\n",
       "      <th>revenue_change</th>\n",
       "      <th>profits</th>\n",
       "      <th>assets</th>\n",
       "      <th>profit_change</th>\n",
       "      <th>ceo</th>\n",
       "      <th>industry</th>\n",
       "      <th>sector</th>\n",
       "      <th>previous_rank</th>\n",
       "      <th>country</th>\n",
       "      <th>hq_location</th>\n",
       "      <th>website</th>\n",
       "      <th>years_on_global_500_list</th>\n",
       "      <th>employees</th>\n",
       "      <th>total_stockholder_equity</th>\n",
       "    </tr>\n",
       "    <tr>\n",
       "      <th>company</th>\n",
       "      <th></th>\n",
       "      <th></th>\n",
       "      <th></th>\n",
       "      <th></th>\n",
       "      <th></th>\n",
       "      <th></th>\n",
       "      <th></th>\n",
       "      <th></th>\n",
       "      <th></th>\n",
       "      <th></th>\n",
       "      <th></th>\n",
       "      <th></th>\n",
       "      <th></th>\n",
       "      <th></th>\n",
       "      <th></th>\n",
       "      <th></th>\n",
       "    </tr>\n",
       "  </thead>\n",
       "  <tbody>\n",
       "    <tr>\n",
       "      <th>Walmart</th>\n",
       "      <td>1</td>\n",
       "      <td>485873</td>\n",
       "      <td>0.8</td>\n",
       "      <td>13643.0</td>\n",
       "      <td>198825</td>\n",
       "      <td>-7.2</td>\n",
       "      <td>C. Douglas McMillon</td>\n",
       "      <td>General Merchandisers</td>\n",
       "      <td>Retailing</td>\n",
       "      <td>1</td>\n",
       "      <td>USA</td>\n",
       "      <td>Bentonville, AR</td>\n",
       "      <td>http://www.walmart.com</td>\n",
       "      <td>23</td>\n",
       "      <td>2300000</td>\n",
       "      <td>77798</td>\n",
       "    </tr>\n",
       "    <tr>\n",
       "      <th>State Grid</th>\n",
       "      <td>2</td>\n",
       "      <td>315199</td>\n",
       "      <td>-4.4</td>\n",
       "      <td>9571.3</td>\n",
       "      <td>489838</td>\n",
       "      <td>-6.2</td>\n",
       "      <td>Kou Wei</td>\n",
       "      <td>Utilities</td>\n",
       "      <td>Energy</td>\n",
       "      <td>2</td>\n",
       "      <td>China</td>\n",
       "      <td>Beijing, China</td>\n",
       "      <td>http://www.sgcc.com.cn</td>\n",
       "      <td>17</td>\n",
       "      <td>926067</td>\n",
       "      <td>209456</td>\n",
       "    </tr>\n",
       "    <tr>\n",
       "      <th>Sinopec Group</th>\n",
       "      <td>3</td>\n",
       "      <td>267518</td>\n",
       "      <td>-9.1</td>\n",
       "      <td>1257.9</td>\n",
       "      <td>310726</td>\n",
       "      <td>-65.0</td>\n",
       "      <td>Wang Yupu</td>\n",
       "      <td>Petroleum Refining</td>\n",
       "      <td>Energy</td>\n",
       "      <td>4</td>\n",
       "      <td>China</td>\n",
       "      <td>Beijing, China</td>\n",
       "      <td>http://www.sinopec.com</td>\n",
       "      <td>19</td>\n",
       "      <td>713288</td>\n",
       "      <td>106523</td>\n",
       "    </tr>\n",
       "    <tr>\n",
       "      <th>China National Petroleum</th>\n",
       "      <td>4</td>\n",
       "      <td>262573</td>\n",
       "      <td>-12.3</td>\n",
       "      <td>1867.5</td>\n",
       "      <td>585619</td>\n",
       "      <td>-73.7</td>\n",
       "      <td>Zhang Jianhua</td>\n",
       "      <td>Petroleum Refining</td>\n",
       "      <td>Energy</td>\n",
       "      <td>3</td>\n",
       "      <td>China</td>\n",
       "      <td>Beijing, China</td>\n",
       "      <td>http://www.cnpc.com.cn</td>\n",
       "      <td>17</td>\n",
       "      <td>1512048</td>\n",
       "      <td>301893</td>\n",
       "    </tr>\n",
       "    <tr>\n",
       "      <th>Toyota Motor</th>\n",
       "      <td>5</td>\n",
       "      <td>254694</td>\n",
       "      <td>7.7</td>\n",
       "      <td>16899.3</td>\n",
       "      <td>437575</td>\n",
       "      <td>-12.3</td>\n",
       "      <td>Akio Toyoda</td>\n",
       "      <td>Motor Vehicles and Parts</td>\n",
       "      <td>Motor Vehicles &amp; Parts</td>\n",
       "      <td>8</td>\n",
       "      <td>Japan</td>\n",
       "      <td>Toyota, Japan</td>\n",
       "      <td>http://www.toyota-global.com</td>\n",
       "      <td>23</td>\n",
       "      <td>364445</td>\n",
       "      <td>157210</td>\n",
       "    </tr>\n",
       "  </tbody>\n",
       "</table>\n",
       "</div>"
      ],
      "text/plain": [
       "                          rank  revenues  revenue_change  profits  assets  \\\n",
       "company                                                                     \n",
       "Walmart                      1    485873             0.8  13643.0  198825   \n",
       "State Grid                   2    315199            -4.4   9571.3  489838   \n",
       "Sinopec Group                3    267518            -9.1   1257.9  310726   \n",
       "China National Petroleum     4    262573           -12.3   1867.5  585619   \n",
       "Toyota Motor                 5    254694             7.7  16899.3  437575   \n",
       "\n",
       "                          profit_change                  ceo  \\\n",
       "company                                                        \n",
       "Walmart                            -7.2  C. Douglas McMillon   \n",
       "State Grid                         -6.2              Kou Wei   \n",
       "Sinopec Group                     -65.0            Wang Yupu   \n",
       "China National Petroleum          -73.7        Zhang Jianhua   \n",
       "Toyota Motor                      -12.3          Akio Toyoda   \n",
       "\n",
       "                                          industry                  sector  \\\n",
       "company                                                                      \n",
       "Walmart                      General Merchandisers               Retailing   \n",
       "State Grid                               Utilities                  Energy   \n",
       "Sinopec Group                   Petroleum Refining                  Energy   \n",
       "China National Petroleum        Petroleum Refining                  Energy   \n",
       "Toyota Motor              Motor Vehicles and Parts  Motor Vehicles & Parts   \n",
       "\n",
       "                          previous_rank country      hq_location  \\\n",
       "company                                                            \n",
       "Walmart                               1     USA  Bentonville, AR   \n",
       "State Grid                            2   China   Beijing, China   \n",
       "Sinopec Group                         4   China   Beijing, China   \n",
       "China National Petroleum              3   China   Beijing, China   \n",
       "Toyota Motor                          8   Japan    Toyota, Japan   \n",
       "\n",
       "                                               website  \\\n",
       "company                                                  \n",
       "Walmart                         http://www.walmart.com   \n",
       "State Grid                      http://www.sgcc.com.cn   \n",
       "Sinopec Group                   http://www.sinopec.com   \n",
       "China National Petroleum        http://www.cnpc.com.cn   \n",
       "Toyota Motor              http://www.toyota-global.com   \n",
       "\n",
       "                          years_on_global_500_list  employees  \\\n",
       "company                                                         \n",
       "Walmart                                         23    2300000   \n",
       "State Grid                                      17     926067   \n",
       "Sinopec Group                                   19     713288   \n",
       "China National Petroleum                        17    1512048   \n",
       "Toyota Motor                                    23     364445   \n",
       "\n",
       "                          total_stockholder_equity  \n",
       "company                                             \n",
       "Walmart                                      77798  \n",
       "State Grid                                  209456  \n",
       "Sinopec Group                               106523  \n",
       "China National Petroleum                    301893  \n",
       "Toyota Motor                                157210  "
      ]
     },
     "execution_count": 170,
     "metadata": {},
     "output_type": "execute_result"
    }
   ],
   "source": [
    "f500 = pd.read_csv(data_folder_path / \"f500.csv\", index_col=0)\n",
    "f500.head()"
   ]
  },
  {
   "cell_type": "code",
   "execution_count": 171,
   "metadata": {},
   "outputs": [],
   "source": [
    "# Export data to CSV but with a different separator (;)\n",
    "f500.to_csv(data_folder_path / \"f500_semicolon.csv\", sep=\";\", encoding=\"utf-8\")"
   ]
  },
  {
   "cell_type": "code",
   "execution_count": 173,
   "metadata": {},
   "outputs": [],
   "source": [
    "# Export data to JSON\n",
    "f500.to_json(data_folder_path / \"f500.json\", orient=\"records\")"
   ]
  },
  {
   "cell_type": "code",
   "execution_count": 180,
   "metadata": {},
   "outputs": [],
   "source": [
    "# Export data to Excel\n",
    "excel = pd.ExcelWriter(data_folder_path / \"f500.xlsx\")\n",
    "f500.to_excel(excel, sheet_name=\"f500\")\n",
    "excel.close()"
   ]
  },
  {
   "cell_type": "code",
   "execution_count": 181,
   "metadata": {},
   "outputs": [],
   "source": [
    "# Export data to HTML\n",
    "f500.to_html(data_folder_path / \"f500.html\")"
   ]
  },
  {
   "cell_type": "code",
   "execution_count": 182,
   "metadata": {},
   "outputs": [],
   "source": [
    "# Export data to XML\n",
    "f500.to_xml(data_folder_path / \"f500.xml\")"
   ]
  },
  {
   "cell_type": "code",
   "execution_count": 183,
   "metadata": {},
   "outputs": [],
   "source": [
    "# remove all created files\n",
    "(data_folder_path / \"f500_semicolon.csv\").unlink(missing_ok=True)\n",
    "(data_folder_path / \"f500.json\").unlink(missing_ok=True)\n",
    "(data_folder_path / \"f500.xlsx\").unlink(missing_ok=True)\n",
    "(data_folder_path / \"f500.html\").unlink(missing_ok=True)\n",
    "(data_folder_path / \"f500.xml\").unlink(missing_ok=True)"
   ]
  },
  {
   "cell_type": "markdown",
   "metadata": {},
   "source": [
    "## Working with Binary Files"
   ]
  },
  {
   "cell_type": "markdown",
   "metadata": {},
   "source": [
    "When storing data, you often have a choice between plain text formats (like CSV) and binary formats. While plain text files are human-readable and easy to edit manually, binary formats offer several advantages:\n",
    "\n",
    "- **Speed**: Reading and writing binary files is typically faster than parsing plain text.\n",
    "- **Space Efficiency**: Binary files often use less storage space because they can leverage compression and store data in a compact form.\n",
    "- **Preservation of Data Types**: Binary formats better preserve data types and metadata (such as indexes and column dtypes), avoiding the type inference issues common with CSV.\n",
    "- **Complex Structures**: Binary formats can efficiently store complex or hierarchical data, which might be difficult to represent in text.\n",
    "\n",
    "However, binary files are not human-readable and may require specific libraries to access, so the choice depends on your use case."
   ]
  },
  {
   "cell_type": "markdown",
   "metadata": {},
   "source": [
    "Below is a table summarizing some of the most popular binary file formats available in pandas:\n",
    "\n",
    "<table data-start=\"1449\" data-end=\"4000\"><thead data-start=\"1449\" data-end=\"1760\"><tr data-start=\"1449\" data-end=\"1760\"><th data-start=\"1449\" data-end=\"1464\"><strong data-start=\"1451\" data-end=\"1461\">Format</strong></th><th data-start=\"1464\" data-end=\"1527\"><strong data-start=\"1466\" data-end=\"1481\">Description</strong></th><th data-start=\"1527\" data-end=\"1637\"><strong data-start=\"1529\" data-end=\"1543\">Advantages</strong></th><th data-start=\"1637\" data-end=\"1703\"><strong data-start=\"1639\" data-end=\"1656\">Disadvantages</strong></th><th data-start=\"1703\" data-end=\"1760\"><strong data-start=\"1705\" data-end=\"1725\">Typical Use Case</strong></th></tr></thead><tbody data-start=\"2073\" data-end=\"4000\"><tr data-start=\"2073\" data-end=\"2400\"><td><strong data-start=\"2075\" data-end=\"2085\">Pickle</strong></td><td>Python-specific serialization of objects</td><td>Simple to use; preserves nearly all Python object details</td><td>Not cross-language; potential security risks with untrusted sources</td><td>Quick save/load of pandas objects within Python-only environments</td></tr><tr data-start=\"2401\" data-end=\"2721\"><td><strong data-start=\"2403\" data-end=\"2411\">HDF5</strong></td><td>Hierarchical Data Format for large datasets</td><td>Handles very large datasets; supports compression; partial I/O</td><td>Requires additional libraries (PyTables); can be complex to configure</td><td>Storing large, complex datasets; scientific computing</td></tr><tr data-start=\"2722\" data-end=\"3041\"><td><strong data-start=\"2724\" data-end=\"2735\">Feather</strong></td><td>Columnar storage designed for fast data exchange</td><td>Extremely fast read/write; efficient for in-memory DataFrames; cross-language compatibility (R, Python)</td><td>Limited support for complex metadata</td><td>Fast inter-process data exchange; iterative data analysis</td></tr><tr data-start=\"3042\" data-end=\"3358\"><td><strong data-start=\"3044\" data-end=\"3055\">Parquet</strong></td><td>Columnar storage format with built-in compression</td><td>Excellent for analytical queries; highly efficient compression; cross-language support</td><td>Can be slower to write compared to Feather in some scenarios</td><td>Big data analytics; data warehousing</td></tr><tr data-start=\"3359\" data-end=\"3679\"><td><strong data-start=\"3361\" data-end=\"3368\">ORC</strong></td><td>Optimized Row Columnar format (common in Hadoop ecosystems)</td><td>Highly optimized for read performance; efficient compression</td><td>Less mature in the Python ecosystem compared to Parquet/Feather</td><td>Big data processing in distributed systems</td></tr><tr data-start=\"3680\" data-end=\"4000\"><td><strong data-start=\"3682\" data-end=\"3691\">Stata</strong></td><td>Binary format for Stata statistical software</td><td>Interoperable with Stata; preserves labels and metadata</td><td>Limited to statistical data; less flexible for general data storage</td><td>Exchange data with Stata users</td></tr></tbody></table>"
   ]
  },
  {
   "cell_type": "markdown",
   "metadata": {},
   "source": [
    "Parquet is a columnar storage format optimized for space and query performance. Below is an example comparing Parquet to CSV in terms of speed, storage, and data integrity."
   ]
  },
  {
   "cell_type": "code",
   "execution_count": 189,
   "metadata": {},
   "outputs": [
    {
     "data": {
      "text/html": [
       "<div>\n",
       "<style scoped>\n",
       "    .dataframe tbody tr th:only-of-type {\n",
       "        vertical-align: middle;\n",
       "    }\n",
       "\n",
       "    .dataframe tbody tr th {\n",
       "        vertical-align: top;\n",
       "    }\n",
       "\n",
       "    .dataframe thead th {\n",
       "        text-align: right;\n",
       "    }\n",
       "</style>\n",
       "<table border=\"1\" class=\"dataframe\">\n",
       "  <thead>\n",
       "    <tr style=\"text-align: right;\">\n",
       "      <th></th>\n",
       "      <th>timestamp</th>\n",
       "      <th>value</th>\n",
       "      <th>category</th>\n",
       "    </tr>\n",
       "  </thead>\n",
       "  <tbody>\n",
       "    <tr>\n",
       "      <th>0</th>\n",
       "      <td>2023-01-01 00:00:00</td>\n",
       "      <td>-1.127109</td>\n",
       "      <td>Z</td>\n",
       "    </tr>\n",
       "    <tr>\n",
       "      <th>1</th>\n",
       "      <td>2023-01-01 00:00:01</td>\n",
       "      <td>-0.209080</td>\n",
       "      <td>X</td>\n",
       "    </tr>\n",
       "    <tr>\n",
       "      <th>2</th>\n",
       "      <td>2023-01-01 00:00:02</td>\n",
       "      <td>0.280611</td>\n",
       "      <td>Z</td>\n",
       "    </tr>\n",
       "    <tr>\n",
       "      <th>3</th>\n",
       "      <td>2023-01-01 00:00:03</td>\n",
       "      <td>0.524151</td>\n",
       "      <td>Z</td>\n",
       "    </tr>\n",
       "    <tr>\n",
       "      <th>4</th>\n",
       "      <td>2023-01-01 00:00:04</td>\n",
       "      <td>-0.699332</td>\n",
       "      <td>X</td>\n",
       "    </tr>\n",
       "  </tbody>\n",
       "</table>\n",
       "</div>"
      ],
      "text/plain": [
       "            timestamp     value category\n",
       "0 2023-01-01 00:00:00 -1.127109        Z\n",
       "1 2023-01-01 00:00:01 -0.209080        X\n",
       "2 2023-01-01 00:00:02  0.280611        Z\n",
       "3 2023-01-01 00:00:03  0.524151        Z\n",
       "4 2023-01-01 00:00:04 -0.699332        X"
      ]
     },
     "execution_count": 189,
     "metadata": {},
     "output_type": "execute_result"
    }
   ],
   "source": [
    "import time\n",
    "\n",
    "# Create a DataFrame with mixed data types\n",
    "dates = pd.date_range(\"2023-01-01\", periods=1_000_000, freq=\"s\")\n",
    "df_data = pd.DataFrame({\"timestamp\": dates, \"value\": np.random.randn(len(dates)), \"category\": pd.Categorical(np.random.choice([\"X\", \"Y\", \"Z\"], len(dates)))})\n",
    "df_data.head()\n"
   ]
  },
  {
   "cell_type": "code",
   "execution_count": 190,
   "metadata": {},
   "outputs": [
    {
     "name": "stdout",
     "output_type": "stream",
     "text": [
      "<class 'pandas.core.frame.DataFrame'>\n",
      "RangeIndex: 1000000 entries, 0 to 999999\n",
      "Data columns (total 3 columns):\n",
      " #   Column     Non-Null Count    Dtype         \n",
      "---  ------     --------------    -----         \n",
      " 0   timestamp  1000000 non-null  datetime64[ns]\n",
      " 1   value      1000000 non-null  float64       \n",
      " 2   category   1000000 non-null  category      \n",
      "dtypes: category(1), datetime64[ns](1), float64(1)\n",
      "memory usage: 16.2 MB\n"
     ]
    }
   ],
   "source": [
    "df_data.info()"
   ]
  },
  {
   "cell_type": "code",
   "execution_count": 191,
   "metadata": {},
   "outputs": [
    {
     "name": "stdout",
     "output_type": "stream",
     "text": [
      "CSV Size: 42.63MB\n",
      "CSV Write Time: 1.90s\n",
      "CSV Read Time: 0.55s\n"
     ]
    }
   ],
   "source": [
    "temp_csv_file = data_folder_path / \"temp_data.csv\"\n",
    "\n",
    "# Save and load with CSV\n",
    "start = time.time()\n",
    "df_data.to_csv(temp_csv_file, index=False)\n",
    "csv_write_time = time.time() - start\n",
    "\n",
    "start = time.time()\n",
    "df_csv = pd.read_csv(temp_csv_file)\n",
    "csv_read_time = time.time() - start\n",
    "\n",
    "print(f\"CSV Size: {temp_csv_file.stat().st_size / 1e6:.2f}MB\")\n",
    "print(f\"CSV Write Time: {csv_write_time:.2f}s\")\n",
    "print(f\"CSV Read Time: {csv_read_time:.2f}s\")\n",
    "\n",
    "# remove the file\n",
    "temp_csv_file.unlink()"
   ]
  },
  {
   "cell_type": "code",
   "execution_count": null,
   "metadata": {},
   "outputs": [
    {
     "name": "stdout",
     "output_type": "stream",
     "text": [
      "<class 'pandas.core.frame.DataFrame'>\n",
      "RangeIndex: 1000000 entries, 0 to 999999\n",
      "Data columns (total 3 columns):\n",
      " #   Column     Non-Null Count    Dtype  \n",
      "---  ------     --------------    -----  \n",
      " 0   timestamp  1000000 non-null  object \n",
      " 1   value      1000000 non-null  float64\n",
      " 2   category   1000000 non-null  object \n",
      "dtypes: float64(1), object(2)\n",
      "memory usage: 22.9+ MB\n"
     ]
    }
   ],
   "source": [
    "# lost the original data types\n",
    "df_csv.info()"
   ]
  },
  {
   "cell_type": "code",
   "execution_count": 193,
   "metadata": {},
   "outputs": [
    {
     "name": "stdout",
     "output_type": "stream",
     "text": [
      "Parquet Size: 15.05MB\n",
      "Parquet Write Time: 0.50s\n",
      "Parquet Read Time: 0.63s\n"
     ]
    }
   ],
   "source": [
    "temp_parquet_file = data_folder_path / \"temp_data.parquet\"\n",
    "\n",
    "# Save and load with Parquet\n",
    "start = time.time()\n",
    "df_data.to_parquet(temp_parquet_file, index=False, engine=\"pyarrow\")\n",
    "parquet_write_time = time.time() - start\n",
    "\n",
    "start = time.time()\n",
    "df_parquet = pd.read_parquet(temp_parquet_file, engine=\"pyarrow\")\n",
    "parquet_read_time = time.time() - start\n",
    "\n",
    "print(f\"Parquet Size: {temp_parquet_file.stat().st_size / 1e6:.2f}MB\")\n",
    "print(f\"Parquet Write Time: {parquet_write_time:.2f}s\")\n",
    "print(f\"Parquet Read Time: {parquet_read_time:.2f}s\")\n",
    "\n",
    "# remove the file\n",
    "temp_parquet_file.unlink()"
   ]
  },
  {
   "cell_type": "code",
   "execution_count": null,
   "metadata": {},
   "outputs": [
    {
     "name": "stdout",
     "output_type": "stream",
     "text": [
      "<class 'pandas.core.frame.DataFrame'>\n",
      "RangeIndex: 1000000 entries, 0 to 999999\n",
      "Data columns (total 3 columns):\n",
      " #   Column     Non-Null Count    Dtype         \n",
      "---  ------     --------------    -----         \n",
      " 0   timestamp  1000000 non-null  datetime64[ns]\n",
      " 1   value      1000000 non-null  float64       \n",
      " 2   category   1000000 non-null  category      \n",
      "dtypes: category(1), datetime64[ns](1), float64(1)\n",
      "memory usage: 16.2 MB\n"
     ]
    }
   ],
   "source": [
    "# original data types are preserved\n",
    "df_parquet.info()"
   ]
  },
  {
   "cell_type": "markdown",
   "metadata": {},
   "source": [
    "**Important Notes and Best Practices:**\n",
    "- **Cross-Language Compatibility**: Some binary formats (like Feather and Parquet) are designed to work across different programming languages (e.g., R, Python). This makes them ideal for collaborative projects.\n",
    "\n",
    "- **Security Considerations**: Be cautious when loading binary files (especially Pickle) from untrusted sources, as they can execute arbitrary code during deserialization.\n",
    "\n",
    "- **Library Dependencies**: Certain binary formats require additional libraries (e.g., pyarrow for Feather and Parquet, tables for HDF5). Make sure these are installed in your environment.\n",
    "\n",
    "- **Use Case Driven**: Choose the file format based on your needs:\n",
    "    - Use Feather for rapid data exchange between processes or during iterative analysis.\n",
    "    - Use Parquet for large-scale data storage where efficient querying and compression are important.\n",
    "    - Use HDF5 for complex and hierarchical datasets.\n",
    "- **Performance vs. Portability**: While binary formats are efficient, plain text formats like CSV are more portable and human-readable. Assess the trade-offs based on your project's requirements."
   ]
  },
  {
   "cell_type": "markdown",
   "metadata": {},
   "source": [
    "#### Python Pickle Format\n"
   ]
  },
  {
   "cell_type": "markdown",
   "metadata": {},
   "source": [
    "[Pickle in Python: Object Serialization](https://www.datacamp.com/community/tutorials/pickle-python-tutorial)\n"
   ]
  },
  {
   "cell_type": "markdown",
   "metadata": {},
   "source": [
    "Pickle is used for serializing and de-serializing Python object structures, also called marshalling or flattening. Serialization refers to the process of converting an object in memory to a byte stream that can be stored on disk or sent over a network. Later on, this character stream can then be retrieved and de-serialized back to a Python object. Pickling is not to be confused with compression! The former is the conversion of an object from one representation (data in Random Access Memory (RAM)) to another (text on disk), while the latter is the process of encoding data with fewer bits, in order to save disk space.\n"
   ]
  },
  {
   "cell_type": "markdown",
   "metadata": {},
   "source": [
    "Pickling is useful for applications where you need some degree of persistency in your data. Your program's state data can be saved to disk, so you can continue working on it later on. It can also be used to send data over a Transmission Control Protocol (TCP) or socket connection, or to store python objects in a database. Pickle is very useful for when you're working with machine learning algorithms, where you want to save them to be able to make new predictions at a later time, without having to rewrite everything or train the model all over again.\n"
   ]
  },
  {
   "cell_type": "markdown",
   "metadata": {},
   "source": [
    "If you want to use data across different programming languages, pickle is not recommended. Its protocol is specific to Python, thus, cross-language compatibility is not guaranteed. The same holds for different versions of Python itself. Unpickling a file that was pickled in a different version of Python may not always work properly, so you have to make sure that you're using the same version and perform an update if necessary. **You should also try not to unpickle data from an untrusted source. Malicious code inside the file might be executed upon unpickling.**\n"
   ]
  },
  {
   "cell_type": "markdown",
   "metadata": {},
   "source": [
    "- File type native to Python\n",
    "- Motivation: many datatypes for which it isn’t obvious how to store them\n",
    "- Pickled files are serialized\n",
    "- Serialize = convert object to bytestream\n"
   ]
  },
  {
   "cell_type": "markdown",
   "metadata": {},
   "source": [
    "There are a number of datatypes that cannot be saved easily to flat files, such as lists and dictionaries. If you want your files to be human readable, you may want to save them as text files in a clever manner. JSONs, which you will see in a later chapter, are appropriate for Python dictionaries.\n",
    "\n",
    "However, if you merely want to be able to import them into Python, you can serialize them. All this means is converting the object into a sequence of bytes, or a bytestream.\n"
   ]
  },
  {
   "cell_type": "code",
   "execution_count": 198,
   "metadata": {},
   "outputs": [],
   "source": [
    "path = data_folder_path / \"titanic_sub.csv\"\n",
    "temp_pickle_file = data_folder_path / \"temp_data.pkl\"\n",
    "titanic = pd.read_csv(\n",
    "    path,\n",
    "    index_col=\"PassengerId\",\n",
    "    usecols=[\"PassengerId\", \"Survived\", \"Pclass\", \"Sex\", \"Age\", \"Fare\", \"Cabin\", \"Embarked\"],\n",
    ")"
   ]
  },
  {
   "cell_type": "code",
   "execution_count": 199,
   "metadata": {},
   "outputs": [
    {
     "data": {
      "text/html": [
       "<div>\n",
       "<style scoped>\n",
       "    .dataframe tbody tr th:only-of-type {\n",
       "        vertical-align: middle;\n",
       "    }\n",
       "\n",
       "    .dataframe tbody tr th {\n",
       "        vertical-align: top;\n",
       "    }\n",
       "\n",
       "    .dataframe thead th {\n",
       "        text-align: right;\n",
       "    }\n",
       "</style>\n",
       "<table border=\"1\" class=\"dataframe\">\n",
       "  <thead>\n",
       "    <tr style=\"text-align: right;\">\n",
       "      <th></th>\n",
       "      <th>Survived</th>\n",
       "      <th>Pclass</th>\n",
       "      <th>Sex</th>\n",
       "      <th>Age</th>\n",
       "      <th>Fare</th>\n",
       "      <th>Cabin</th>\n",
       "      <th>Embarked</th>\n",
       "    </tr>\n",
       "    <tr>\n",
       "      <th>PassengerId</th>\n",
       "      <th></th>\n",
       "      <th></th>\n",
       "      <th></th>\n",
       "      <th></th>\n",
       "      <th></th>\n",
       "      <th></th>\n",
       "      <th></th>\n",
       "    </tr>\n",
       "  </thead>\n",
       "  <tbody>\n",
       "    <tr>\n",
       "      <th>1</th>\n",
       "      <td>0</td>\n",
       "      <td>3</td>\n",
       "      <td>male</td>\n",
       "      <td>22.0</td>\n",
       "      <td>7.2500</td>\n",
       "      <td>NaN</td>\n",
       "      <td>S</td>\n",
       "    </tr>\n",
       "    <tr>\n",
       "      <th>2</th>\n",
       "      <td>1</td>\n",
       "      <td>1</td>\n",
       "      <td>female</td>\n",
       "      <td>38.0</td>\n",
       "      <td>71.2833</td>\n",
       "      <td>C85</td>\n",
       "      <td>C</td>\n",
       "    </tr>\n",
       "    <tr>\n",
       "      <th>3</th>\n",
       "      <td>1</td>\n",
       "      <td>3</td>\n",
       "      <td>female</td>\n",
       "      <td>26.0</td>\n",
       "      <td>7.9250</td>\n",
       "      <td>NaN</td>\n",
       "      <td>S</td>\n",
       "    </tr>\n",
       "  </tbody>\n",
       "</table>\n",
       "</div>"
      ],
      "text/plain": [
       "             Survived  Pclass     Sex   Age     Fare Cabin Embarked\n",
       "PassengerId                                                        \n",
       "1                   0       3    male  22.0   7.2500   NaN        S\n",
       "2                   1       1  female  38.0  71.2833   C85        C\n",
       "3                   1       3  female  26.0   7.9250   NaN        S"
      ]
     },
     "execution_count": 199,
     "metadata": {},
     "output_type": "execute_result"
    }
   ],
   "source": [
    "titanic.head(3)"
   ]
  },
  {
   "cell_type": "markdown",
   "metadata": {},
   "source": [
    "[pandas.DataFrame.to_pickle](https://pandas.pydata.org/pandas-docs/stable/reference/api/pandas.DataFrame.to_pickle.html#pandas.DataFrame.to_pickle)\n"
   ]
  },
  {
   "cell_type": "code",
   "execution_count": 200,
   "metadata": {},
   "outputs": [],
   "source": [
    "titanic.to_pickle(temp_pickle_file)"
   ]
  },
  {
   "cell_type": "markdown",
   "metadata": {},
   "source": [
    "Load pickled pandas object (or any object) from file\n"
   ]
  },
  {
   "cell_type": "markdown",
   "metadata": {},
   "source": [
    "[pandas.read_pickle](https://pandas.pydata.org/pandas-docs/stable/reference/api/pandas.read_pickle.html)\n"
   ]
  },
  {
   "cell_type": "code",
   "execution_count": 201,
   "metadata": {},
   "outputs": [],
   "source": [
    "titanic_read = pd.read_pickle(temp_pickle_file)"
   ]
  },
  {
   "cell_type": "code",
   "execution_count": 202,
   "metadata": {},
   "outputs": [
    {
     "data": {
      "text/html": [
       "<div>\n",
       "<style scoped>\n",
       "    .dataframe tbody tr th:only-of-type {\n",
       "        vertical-align: middle;\n",
       "    }\n",
       "\n",
       "    .dataframe tbody tr th {\n",
       "        vertical-align: top;\n",
       "    }\n",
       "\n",
       "    .dataframe thead th {\n",
       "        text-align: right;\n",
       "    }\n",
       "</style>\n",
       "<table border=\"1\" class=\"dataframe\">\n",
       "  <thead>\n",
       "    <tr style=\"text-align: right;\">\n",
       "      <th></th>\n",
       "      <th>Survived</th>\n",
       "      <th>Pclass</th>\n",
       "      <th>Sex</th>\n",
       "      <th>Age</th>\n",
       "      <th>Fare</th>\n",
       "      <th>Cabin</th>\n",
       "      <th>Embarked</th>\n",
       "    </tr>\n",
       "    <tr>\n",
       "      <th>PassengerId</th>\n",
       "      <th></th>\n",
       "      <th></th>\n",
       "      <th></th>\n",
       "      <th></th>\n",
       "      <th></th>\n",
       "      <th></th>\n",
       "      <th></th>\n",
       "    </tr>\n",
       "  </thead>\n",
       "  <tbody>\n",
       "    <tr>\n",
       "      <th>1</th>\n",
       "      <td>0</td>\n",
       "      <td>3</td>\n",
       "      <td>male</td>\n",
       "      <td>22.0</td>\n",
       "      <td>7.2500</td>\n",
       "      <td>NaN</td>\n",
       "      <td>S</td>\n",
       "    </tr>\n",
       "    <tr>\n",
       "      <th>2</th>\n",
       "      <td>1</td>\n",
       "      <td>1</td>\n",
       "      <td>female</td>\n",
       "      <td>38.0</td>\n",
       "      <td>71.2833</td>\n",
       "      <td>C85</td>\n",
       "      <td>C</td>\n",
       "    </tr>\n",
       "    <tr>\n",
       "      <th>3</th>\n",
       "      <td>1</td>\n",
       "      <td>3</td>\n",
       "      <td>female</td>\n",
       "      <td>26.0</td>\n",
       "      <td>7.9250</td>\n",
       "      <td>NaN</td>\n",
       "      <td>S</td>\n",
       "    </tr>\n",
       "    <tr>\n",
       "      <th>4</th>\n",
       "      <td>1</td>\n",
       "      <td>1</td>\n",
       "      <td>female</td>\n",
       "      <td>35.0</td>\n",
       "      <td>53.1000</td>\n",
       "      <td>C123</td>\n",
       "      <td>S</td>\n",
       "    </tr>\n",
       "    <tr>\n",
       "      <th>5</th>\n",
       "      <td>0</td>\n",
       "      <td>3</td>\n",
       "      <td>male</td>\n",
       "      <td>35.0</td>\n",
       "      <td>8.0500</td>\n",
       "      <td>NaN</td>\n",
       "      <td>S</td>\n",
       "    </tr>\n",
       "  </tbody>\n",
       "</table>\n",
       "</div>"
      ],
      "text/plain": [
       "             Survived  Pclass     Sex   Age     Fare Cabin Embarked\n",
       "PassengerId                                                        \n",
       "1                   0       3    male  22.0   7.2500   NaN        S\n",
       "2                   1       1  female  38.0  71.2833   C85        C\n",
       "3                   1       3  female  26.0   7.9250   NaN        S\n",
       "4                   1       1  female  35.0  53.1000  C123        S\n",
       "5                   0       3    male  35.0   8.0500   NaN        S"
      ]
     },
     "execution_count": 202,
     "metadata": {},
     "output_type": "execute_result"
    }
   ],
   "source": [
    "titanic_read.head()"
   ]
  },
  {
   "cell_type": "code",
   "execution_count": 203,
   "metadata": {},
   "outputs": [],
   "source": [
    "# remove the file\n",
    "temp_pickle_file.unlink()"
   ]
  },
  {
   "cell_type": "markdown",
   "metadata": {},
   "source": [
    "## Collecting Data from APIs"
   ]
  },
  {
   "cell_type": "markdown",
   "metadata": {},
   "source": [
    "APIs (Application Programming Interfaces) are essential in modern data analytics because they allow you to access external data sources in a programmatic and automated manner. REST APIs, in particular, have become the standard for web services. "
   ]
  },
  {
   "cell_type": "markdown",
   "metadata": {},
   "source": [
    "REST (Representational State Transfer) is an architectural style for designing networked applications. It leverages standard HTTP methods and principles to enable seamless communication between client and server."
   ]
  },
  {
   "cell_type": "markdown",
   "metadata": {},
   "source": [
    "- **HTTP** is the foundation of data communication on the web. It is a request-response protocol where a client sends a request to a server, and the server returns a response.\n",
    "- An endpoint is a specific URL where an API can be accessed. For example, `https://api.example.com/v1/users` might be an endpoint to retrieve user data.\n",
    "- **HTTP Methods**: \n",
    "    - GET: Retrieve data from the server.\n",
    "    - POST: Send data to the server, often to create a new resource.\n",
    "    - PUT/PATCH: Update an existing resource.\n",
    "    - DELETE: Remove a resource\n",
    "- **HTTP headers** carry additional information with requests or responses. Common headers include:\n",
    "    - Content-Type: Describes the format of the data (e.g., application/json).\n",
    "    - Authorization: Contains credentials for authenticating the request.\n",
    "    - User-Agent: Identifies the client application.\n",
    "- **Query Parameters:** These are key-value pairs appended to the URL (e.g., `?page=2&limit=50`). They are often used to filter, sort, or paginate data.\n",
    "- **Status Codes:**  HTTP status codes indicate the outcome of a request:\n",
    "    - 2xx (Success): The request was successfully received, understood, and accepted (e.g., 200 OK).\n",
    "    - 4xx (Client Error): There was an error with the request (e.g., 404 Not Found, 401 Unauthorized).\n",
    "    - 5xx (Server Error): The server failed to fulfill a valid request (e.g., 500 Internal Server Error).\n",
    "- **Rate Limits:** API providers often enforce rate limits to control the number of requests a client can make within a given period. This prevents abuse and ensures fair use of resources.\n",
    "- **JSON** is mostly used for web applications to send data between the server and the client. It is a lightweight data interchange format. JSON is language-independent and can be used with most of the modern programming languages."
   ]
  },
  {
   "cell_type": "markdown",
   "metadata": {},
   "source": [
    "Python’s `requests` library simplifies the process of making HTTP requests. Here’s how to work with it:"
   ]
  },
  {
   "cell_type": "markdown",
   "metadata": {},
   "source": [
    "[Requests: HTTP for Humans](https://2.python-requests.org/en/master/)"
   ]
  },
  {
   "cell_type": "code",
   "execution_count": 204,
   "metadata": {},
   "outputs": [],
   "source": [
    "import requests"
   ]
  },
  {
   "cell_type": "code",
   "execution_count": 206,
   "metadata": {},
   "outputs": [],
   "source": [
    "url = \"http://example.com/\"\n",
    "r = requests.get(url)"
   ]
  },
  {
   "cell_type": "code",
   "execution_count": 207,
   "metadata": {},
   "outputs": [
    {
     "data": {
      "text/plain": [
       "(<Response [200]>, requests.models.Response)"
      ]
     },
     "execution_count": 207,
     "metadata": {},
     "output_type": "execute_result"
    }
   ],
   "source": [
    "r, type(r)"
   ]
  },
  {
   "cell_type": "code",
   "execution_count": 208,
   "metadata": {},
   "outputs": [
    {
     "name": "stdout",
     "output_type": "stream",
     "text": [
      "<!doctype html>\n",
      "<html>\n",
      "<head>\n",
      "    <title>Example Domain</title>\n",
      "\n",
      "    <meta charset=\"utf-8\" />\n",
      "    <meta http-equiv=\"Content-type\" content=\"text/html; charset=utf-8\" />\n",
      "    <meta name=\"viewport\" content=\"width=device-width, initial-scale=1\" />\n",
      "    <style type=\"text/css\">\n",
      "    body {\n",
      "        background-color: #f0f0f2;\n",
      "        margin: 0;\n",
      "        padding: 0;\n",
      "        font-family: -apple-system, system-ui, BlinkMacSystemFont, \"Segoe UI\", \"Open Sans\", \"Helvetica Neue\", Helvetica, Arial, sans-serif;\n",
      "        \n",
      "    }\n",
      "    div {\n",
      "        width: 600px;\n",
      "        margin: 5em auto;\n",
      "        padding: 2em;\n",
      "        background-color: #fdfdff;\n",
      "        border-radius: 0.5em;\n",
      "        box-shadow: 2px 3px 7px 2px rgba(0,0,0,0.02);\n",
      "    }\n",
      "    a:link, a:visited {\n",
      "        color: #38488f;\n",
      "        text-decoration: none;\n",
      "    }\n",
      "    @media (max-width: 700px) {\n",
      "        div {\n",
      "            margin: 0 auto;\n",
      "            width: auto;\n",
      "        }\n",
      "    }\n",
      "    </style>    \n",
      "</head>\n",
      "\n",
      "<body>\n",
      "<div>\n",
      "    <h1>Example Domain</h1>\n",
      "    <p>This domain is for use in illustrative examples in documents. You may use this\n",
      "    domain in literature without prior coordination or asking for permission.</p>\n",
      "    <p><a href=\"https://www.iana.org/domains/example\">More information...</a></p>\n",
      "</div>\n",
      "</body>\n",
      "</html>\n",
      "\n"
     ]
    }
   ],
   "source": [
    "print(r.text)"
   ]
  },
  {
   "cell_type": "markdown",
   "metadata": {},
   "source": [
    "Let’s take a look at what’s happening in this short example:\n",
    "- First, we import the requests module. If you’ve installed requests correctly on your system, the import line should simply work without any errors or warnings.\n",
    "- We’re going to retrieve the contents of http://example.com/. Try opening this web page in your browser. You’ll see “Hello from the web!” appear on the page. This is what we want to extract using Python.\n",
    "- We use the requests.get method to perform an “HTTP GET” request to the provided URL. In the simplest case, we only need to provide the URL of the page we want to retrieve. Requests will make sure to format a proper HTTP request message in accordance with what we’ve seen before.\n",
    "- The requests.get method returns a requests.Response Python object containing lots of information regarding the HTTP reply that was retrieved. Again, requests takes care of parsing the HTTP reply so that you can immediately start working with it.\n",
    "- r.text contains the HTTP response content body in a textual form."
   ]
  },
  {
   "cell_type": "markdown",
   "metadata": {},
   "source": [
    "Let us expand upon this example a bit further to see what’s going on under the hood:"
   ]
  },
  {
   "cell_type": "code",
   "execution_count": 209,
   "metadata": {},
   "outputs": [
    {
     "name": "stdout",
     "output_type": "stream",
     "text": [
      "200\n"
     ]
    }
   ],
   "source": [
    "# Which HTTP status code did we get back from the server?\n",
    "print(r.status_code)"
   ]
  },
  {
   "cell_type": "code",
   "execution_count": 210,
   "metadata": {},
   "outputs": [
    {
     "name": "stdout",
     "output_type": "stream",
     "text": [
      "OK\n"
     ]
    }
   ],
   "source": [
    "# What is the textual status code?\n",
    "print(r.reason)"
   ]
  },
  {
   "cell_type": "code",
   "execution_count": 211,
   "metadata": {},
   "outputs": [
    {
     "name": "stdout",
     "output_type": "stream",
     "text": [
      "{'Accept-Ranges': 'bytes', 'Content-Type': 'text/html', 'ETag': '\"84238dfc8092e5d9c0dac8ef93371a07:1736799080.121134\"', 'Last-Modified': 'Mon, 13 Jan 2025 20:11:20 GMT', 'Vary': 'Accept-Encoding', 'Content-Encoding': 'gzip', 'Content-Length': '648', 'Cache-Control': 'max-age=1340', 'Date': 'Wed, 12 Mar 2025 11:53:39 GMT', 'Connection': 'keep-alive'}\n"
     ]
    }
   ],
   "source": [
    "# What were the HTTP response headers?\n",
    "print(r.headers)"
   ]
  },
  {
   "cell_type": "code",
   "execution_count": 212,
   "metadata": {},
   "outputs": [
    {
     "name": "stdout",
     "output_type": "stream",
     "text": [
      "<PreparedRequest [GET]>\n"
     ]
    }
   ],
   "source": [
    "# The request information is saved as a Python object in r.request:\n",
    "print(r.request)"
   ]
  },
  {
   "cell_type": "code",
   "execution_count": 213,
   "metadata": {},
   "outputs": [
    {
     "name": "stdout",
     "output_type": "stream",
     "text": [
      "{'User-Agent': 'python-requests/2.32.3', 'Accept-Encoding': 'gzip, deflate', 'Accept': '*/*', 'Connection': 'keep-alive'}\n"
     ]
    }
   ],
   "source": [
    "# What were the HTTP request headers?\n",
    "print(r.request.headers)"
   ]
  },
  {
   "cell_type": "markdown",
   "metadata": {},
   "source": [
    "### Using Web APIs"
   ]
  },
  {
   "cell_type": "markdown",
   "metadata": {},
   "source": [
    "Many websites have public APIs providing data feeds via JSON or some other format. \n",
    "\n",
    "API provides a means for the outside world to\n",
    "access their data repository in a structured way — meant to be consumed and accessed by computer programs, not humans (although the programs are written by humans, of\n",
    "course). Twitter, Facebook, LinkedIn, and Google, for instance, all provide such APIs in\n",
    "order to search and post tweets, get a list of your friends and their likes, see who you’re\n",
    "connected with, and so on.\n",
    "\n",
    "Nevertheless, there are still\n",
    "various reasons why web scraping might be preferable over the use of an API:\n",
    "- The website you want to extract data from does not provide an API.\n",
    "- The API provided is not free (whereas the website is).\n",
    "- The API provided is rate limited: meaning you can only access it a number of certain times per second, per day, ...\n",
    "- The API does not expose all the data you wish to obtain (whereas the website does)."
   ]
  },
  {
   "cell_type": "markdown",
   "metadata": {},
   "source": [
    "Note that Hacker News also offers an API providing structured, JSON-formatted results\n",
    "(see https://github.com/HackerNews/API)."
   ]
  },
  {
   "cell_type": "code",
   "execution_count": 218,
   "metadata": {},
   "outputs": [
    {
     "name": "stdout",
     "output_type": "stream",
     "text": [
      "Total top stories: 500\n"
     ]
    }
   ],
   "source": [
    "import requests\n",
    "\n",
    "url = \"https://hacker-news.firebaseio.com/v0/topstories.json\"\n",
    "top_stories = requests.get(url)\n",
    "top_stories_dict = top_stories.json()\n",
    "print(f\"Total top stories: {len(top_stories_dict)}\")"
   ]
  },
  {
   "cell_type": "code",
   "execution_count": 219,
   "metadata": {},
   "outputs": [
    {
     "name": "stdout",
     "output_type": "stream",
     "text": [
      "Loading:  https://hacker-news.firebaseio.com/v0/item/43340785.json\n",
      "Loading:  https://hacker-news.firebaseio.com/v0/item/43342071.json\n",
      "Loading:  https://hacker-news.firebaseio.com/v0/item/43332658.json\n",
      "Loading:  https://hacker-news.firebaseio.com/v0/item/43340196.json\n",
      "Loading:  https://hacker-news.firebaseio.com/v0/item/43340491.json\n",
      "{'by': 'brylie', 'descendants': 94, 'id': 43340785, 'kids': [43340989, 43342149, 43341768, 43340983, 43341252, 43341530, 43341975, 43340963, 43340952, 43341761, 43341727, 43342248, 43341977, 43341234, 43341709, 43341289, 43341106, 43341565, 43342029, 43341956, 43342225], 'score': 217, 'time': 1741765695, 'title': 'Gemma3 – The current strongest model that fits on a single GPU', 'type': 'story', 'url': 'https://ollama.com/library/gemma3'}\n",
      "{'by': 'pseudolus', 'descendants': 0, 'id': 43342071, 'score': 6, 'time': 1741778680, 'title': 'First Ammonia-Fueled Ship Hits a Snag', 'type': 'story', 'url': 'https://spectrum.ieee.org/ammonia-fuel-2671266100'}\n",
      "{'by': 'btilly', 'descendants': 232, 'id': 43332658, 'kids': [43339316, 43335202, 43339125, 43342205, 43335480, 43335188, 43334499, 43341837, 43335521, 43337561, 43339456, 43339938, 43335279, 43337595, 43334745, 43336901, 43336176, 43341510, 43335529, 43335663, 43338761, 43336396, 43338210, 43338426, 43335958, 43336368, 43338801, 43339911, 43338166, 43338752, 43338565, 43336853, 43340328, 43341393, 43336125, 43340327, 43340855, 43337951, 43335641, 43340167, 43339287, 43338224, 43335911, 43336536, 43336198, 43338251, 43338650, 43334135, 43337709, 43338626, 43337842, 43336802, 43337496, 43338432, 43339323, 43338089, 43339369, 43338850, 43336770, 43336863, 43336029, 43341972, 43341895, 43337896, 43339166, 43339631, 43336163, 43334944, 43334502, 43334504, 43332663, 43335172, 43335304, 43336049, 43334833, 43336047, 43335157, 43336063, 43334647, 43340005, 43339380, 43337152], 'score': 1247, 'time': 1741702475, 'title': 'Happy 20th Birthday, Y Combinator', 'type': 'story', 'url': 'https://twitter.com/garrytan/status/1899092996702048709'}\n",
      "{'by': 'zdw', 'descendants': 38, 'id': 43340196, 'kids': [43341716, 43341198, 43340499, 43342086, 43340887, 43341494, 43341603, 43340853, 43340730, 43340545, 43340534], 'score': 108, 'time': 1741756893, 'title': 'The Insecurity of Telecom Stacks in the Wake of Salt Typhoon', 'type': 'story', 'url': 'https://soatok.blog/2025/03/12/on-the-insecurity-of-telecom-stacks-in-the-wake-of-salt-typhoon/'}\n",
      "{'by': 'meetpateltech', 'descendants': 117, 'id': 43340491, 'kids': [43340681, 43340562, 43340828, 43340859, 43341143, 43340756, 43340904, 43340599, 43342159, 43341281, 43340609, 43342094, 43340577, 43341144, 43340737, 43340889, 43340722, 43340854, 43340641, 43340850, 43340699, 43340573, 43340924, 43340789, 43340650, 43340820, 43340804], 'score': 184, 'time': 1741761557, 'title': 'Gemma 3 Technical Report [pdf]', 'type': 'story', 'url': 'https://storage.googleapis.com/deepmind-media/gemma/Gemma3Report.pdf'}\n"
     ]
    }
   ],
   "source": [
    "articles = []\n",
    "for story_id in top_stories_dict[:5]:\n",
    "    story_url = f\"https://hacker-news.firebaseio.com/v0/item/{story_id}.json\"\n",
    "    print(\"Loading: \", story_url)\n",
    "    r = requests.get(story_url)\n",
    "    story_dict = r.json()\n",
    "    articles.append(story_dict)\n",
    "\n",
    "for article in articles:\n",
    "    print(article)"
   ]
  },
  {
   "cell_type": "code",
   "execution_count": 221,
   "metadata": {},
   "outputs": [
    {
     "data": {
      "text/html": [
       "<div>\n",
       "<style scoped>\n",
       "    .dataframe tbody tr th:only-of-type {\n",
       "        vertical-align: middle;\n",
       "    }\n",
       "\n",
       "    .dataframe tbody tr th {\n",
       "        vertical-align: top;\n",
       "    }\n",
       "\n",
       "    .dataframe thead th {\n",
       "        text-align: right;\n",
       "    }\n",
       "</style>\n",
       "<table border=\"1\" class=\"dataframe\">\n",
       "  <thead>\n",
       "    <tr style=\"text-align: right;\">\n",
       "      <th></th>\n",
       "      <th>by</th>\n",
       "      <th>descendants</th>\n",
       "      <th>id</th>\n",
       "      <th>kids</th>\n",
       "      <th>score</th>\n",
       "      <th>time</th>\n",
       "      <th>title</th>\n",
       "      <th>type</th>\n",
       "      <th>url</th>\n",
       "    </tr>\n",
       "  </thead>\n",
       "  <tbody>\n",
       "    <tr>\n",
       "      <th>0</th>\n",
       "      <td>brylie</td>\n",
       "      <td>94</td>\n",
       "      <td>43340785</td>\n",
       "      <td>[43340989, 43342149, 43341768, 43340983, 43341...</td>\n",
       "      <td>217</td>\n",
       "      <td>1741765695</td>\n",
       "      <td>Gemma3 – The current strongest model that fits...</td>\n",
       "      <td>story</td>\n",
       "      <td>https://ollama.com/library/gemma3</td>\n",
       "    </tr>\n",
       "    <tr>\n",
       "      <th>1</th>\n",
       "      <td>pseudolus</td>\n",
       "      <td>0</td>\n",
       "      <td>43342071</td>\n",
       "      <td>NaN</td>\n",
       "      <td>6</td>\n",
       "      <td>1741778680</td>\n",
       "      <td>First Ammonia-Fueled Ship Hits a Snag</td>\n",
       "      <td>story</td>\n",
       "      <td>https://spectrum.ieee.org/ammonia-fuel-2671266100</td>\n",
       "    </tr>\n",
       "    <tr>\n",
       "      <th>2</th>\n",
       "      <td>btilly</td>\n",
       "      <td>232</td>\n",
       "      <td>43332658</td>\n",
       "      <td>[43339316, 43335202, 43339125, 43342205, 43335...</td>\n",
       "      <td>1247</td>\n",
       "      <td>1741702475</td>\n",
       "      <td>Happy 20th Birthday, Y Combinator</td>\n",
       "      <td>story</td>\n",
       "      <td>https://twitter.com/garrytan/status/1899092996...</td>\n",
       "    </tr>\n",
       "    <tr>\n",
       "      <th>3</th>\n",
       "      <td>zdw</td>\n",
       "      <td>38</td>\n",
       "      <td>43340196</td>\n",
       "      <td>[43341716, 43341198, 43340499, 43342086, 43340...</td>\n",
       "      <td>108</td>\n",
       "      <td>1741756893</td>\n",
       "      <td>The Insecurity of Telecom Stacks in the Wake o...</td>\n",
       "      <td>story</td>\n",
       "      <td>https://soatok.blog/2025/03/12/on-the-insecuri...</td>\n",
       "    </tr>\n",
       "    <tr>\n",
       "      <th>4</th>\n",
       "      <td>meetpateltech</td>\n",
       "      <td>117</td>\n",
       "      <td>43340491</td>\n",
       "      <td>[43340681, 43340562, 43340828, 43340859, 43341...</td>\n",
       "      <td>184</td>\n",
       "      <td>1741761557</td>\n",
       "      <td>Gemma 3 Technical Report [pdf]</td>\n",
       "      <td>story</td>\n",
       "      <td>https://storage.googleapis.com/deepmind-media/...</td>\n",
       "    </tr>\n",
       "  </tbody>\n",
       "</table>\n",
       "</div>"
      ],
      "text/plain": [
       "              by  descendants        id  \\\n",
       "0         brylie           94  43340785   \n",
       "1      pseudolus            0  43342071   \n",
       "2         btilly          232  43332658   \n",
       "3            zdw           38  43340196   \n",
       "4  meetpateltech          117  43340491   \n",
       "\n",
       "                                                kids  score        time  \\\n",
       "0  [43340989, 43342149, 43341768, 43340983, 43341...    217  1741765695   \n",
       "1                                                NaN      6  1741778680   \n",
       "2  [43339316, 43335202, 43339125, 43342205, 43335...   1247  1741702475   \n",
       "3  [43341716, 43341198, 43340499, 43342086, 43340...    108  1741756893   \n",
       "4  [43340681, 43340562, 43340828, 43340859, 43341...    184  1741761557   \n",
       "\n",
       "                                               title   type  \\\n",
       "0  Gemma3 – The current strongest model that fits...  story   \n",
       "1              First Ammonia-Fueled Ship Hits a Snag  story   \n",
       "2                  Happy 20th Birthday, Y Combinator  story   \n",
       "3  The Insecurity of Telecom Stacks in the Wake o...  story   \n",
       "4                     Gemma 3 Technical Report [pdf]  story   \n",
       "\n",
       "                                                 url  \n",
       "0                  https://ollama.com/library/gemma3  \n",
       "1  https://spectrum.ieee.org/ammonia-fuel-2671266100  \n",
       "2  https://twitter.com/garrytan/status/1899092996...  \n",
       "3  https://soatok.blog/2025/03/12/on-the-insecuri...  \n",
       "4  https://storage.googleapis.com/deepmind-media/...  "
      ]
     },
     "execution_count": 221,
     "metadata": {},
     "output_type": "execute_result"
    }
   ],
   "source": [
    "# Load to DataFrame\n",
    "data = pd.DataFrame(articles)\n",
    "data.head()"
   ]
  },
  {
   "cell_type": "markdown",
   "metadata": {},
   "source": [
    "## Web Scraping Basics"
   ]
  },
  {
   "cell_type": "markdown",
   "metadata": {},
   "source": [
    "- [Building a Web Scraper from start to finish](https://hackernoon.com/building-a-web-scraper-from-start-to-finish-bb6b95388184)\n",
    "- [Introduction to Web Scraping with BeautifulSoup](https://towardsdatascience.com/introduction-to-web-scraping-with-beautifulsoup-e87a06c2b857)\n",
    "- [Web Scraping using Selenium and BeautifulSoup](https://towardsdatascience.com/web-scraping-using-selenium-and-beautifulsoup-99195cd70a58)\n",
    "- [Web scraping with Python — A to Z](https://towardsdatascience.com/web-scraping-with-python-a-to-copy-z-277a445d64c7)\n",
    "- [Web scraping for web developers: a concise summary](https://medium.freecodecamp.org/web-scraping-for-web-developers-a-concise-summary-3af3d0ca4069)\n",
    "- [Web Scraping Walkthrough with Python](https://dev.to/awwsmm/web-scraping-walkthrough-with-python-85c)\n",
    "- [Web Scraping Using BeautifulSoup](https://towardsdatascience.com/web-scraping-using-beautifulsoup-edd9441ba734)\n",
    "- [Web Scraping Mountain Weather Forecasts using Python and a Raspberry Pi](https://towardsdatascience.com/web-scraping-mountain-weather-forecasts-using-python-and-a-raspberry-pi-f215fdf82c6b)\n",
    "- [Data Science Skills: Web scraping using python](https://towardsdatascience.com/data-science-skills-web-scraping-using-python-d1a85ef607ed)\n"
   ]
  },
  {
   "cell_type": "markdown",
   "metadata": {},
   "source": [
    "Web scraping is the process of automatically extracting information from websites. Unlike manually copying and pasting data, web scraping leverages automated tools and scripts to collect large volumes of data from web pages. This practice has become a cornerstone in the fields of data science, market research, and competitive analysis, as it allows organizations and individuals to harvest publicly available data at scale.\n",
    "\n",
    "At its core, web scraping involves sending HTTP requests to web servers, retrieving the HTML content of web pages, and then parsing that content to extract structured data. This process typically includes:\n",
    "- **Sending Requests**: Using libraries (such as Python’s requests) to fetch web pages.\n",
    "- **Parsing HTML**: Employing parsers (like BeautifulSoup, lxml, or Scrapy) to navigate the HTML structure and locate desired elements.\n",
    "- **Data Extraction**: Extracting and cleaning the data, often converting it into structured formats like CSV, JSON, or databases for further analysis.\n",
    "\n",
    "Web scraping is used in a variety of contexts, including:\n",
    "- Data Collection for Research: Aggregating information from multiple sources to analyze trends, sentiment, or market behavior.\n",
    "- Competitive Analysis: Monitoring competitor websites for changes in pricing, product offerings, or user reviews.\n",
    "- Content Aggregation: Compiling information from different websites to create consolidated resources (such as news aggregators or comparison platforms).\n",
    "- Machine Learning and Data Science: Gathering large datasets for training machine learning models, especially when data is not readily available in structured formats."
   ]
  },
  {
   "cell_type": "markdown",
   "metadata": {},
   "source": [
    "While web scraping is a powerful tool, it must be **conducted ethically and legally**. Misuse can lead to overloading servers, violating terms of service, or even legal repercussions. Two key ethical guidelines are adhering to the rules set by a website’s `robots.txt` file and **implementing proper rate limiting**.\n",
    "\n",
    "**Adhering to robots.txt**\n",
    "- What Is robots.txt?: The robots.txt file is a public file hosted on websites that instructs web crawlers on which parts of the site should not be accessed or scraped. It serves as a guideline for responsible crawling and is located at the root of the website (e.g., https://www.example.com/robots.txt).\n",
    "- Why It Matters: Respecting the robots.txt directives is crucial for ethical scraping. It helps prevent server overload, protects sensitive areas of the website, and ensures that you are complying with the site owner's policies. Even though robots.txt is not legally binding in many jurisdictions, ignoring it can lead to reputational damage and potential legal challenges.\n",
    "- Practical Steps: Before scraping a website, review its robots.txt file to understand which sections are off-limits. Libraries like Scrapy have built-in support for parsing robots.txt files, making it easier to automatically comply with these guidelines.\n",
    "\n",
    "**Implementing Rate Limiting**\n",
    "- Definition and Importance: Rate limiting is the practice of controlling the frequency of requests made to a server. Excessive requests in a short period can strain the server’s resources and result in being blocked or blacklisted by the website.\n",
    "- Strategies for Rate Limiting:\n",
    "    - Delay Between Requests: Introduce a pause (e.g., using time.sleep()) between consecutive requests to mimic human browsing behavior.\n",
    "    - Randomized Delays: Implement random delays within a specified range to avoid pattern detection.\n",
    "    - Adaptive Rate Limiting: Monitor server responses (e.g., HTTP status codes) and adjust the request rate dynamically, especially if you begin to receive warnings or error codes like 429 (Too Many Requests).\n",
    "- Best Practices:\n",
    "    - Respect Server Load: Start with conservative request intervals and gradually increase if the server is handling the load without issues.\n",
    "    - Error Handling: Implement robust error handling to manage temporary server errors or timeouts gracefully.\n",
    "    - User-Agent Identification: Use a clear and descriptive User-Agent header to identify your scraper. This transparency can help site administrators contact you if your activities cause issues."
   ]
  },
  {
   "cell_type": "markdown",
   "metadata": {},
   "source": [
    "<img class=\"progressiveMedia-image js-progressiveMedia-image\" data-src=\"https://cdn-images-1.medium.com/max/1600/1*GOyqaID2x1N5lD_rhTDKVQ.png\" src=\"https://cdn-images-1.medium.com/max/1600/1*GOyqaID2x1N5lD_rhTDKVQ.png\">"
   ]
  },
  {
   "cell_type": "markdown",
   "metadata": {},
   "source": [
    "Most web pages are formatted\n",
    "using the Hypertext Markup Language (HTML), CCS and JavaScript, we need to understand how to extract\n",
    "information from such pages. "
   ]
  },
  {
   "cell_type": "markdown",
   "metadata": {},
   "source": [
    "<img class=\"progressiveMedia-image js-progressiveMedia-image\" data-src=\"https://cdn-images-1.medium.com/max/1600/1*x9mxFBXnLU05iPy19dGj7g.png\" src=\"https://cdn-images-1.medium.com/max/1600/1*x9mxFBXnLU05iPy19dGj7g.png\">"
   ]
  },
  {
   "cell_type": "markdown",
   "metadata": {},
   "source": [
    "Page link: https://en.wikipedia.org/wiki/List_of_Game_of_Thrones_episodes"
   ]
  },
  {
   "cell_type": "code",
   "execution_count": null,
   "metadata": {},
   "outputs": [],
   "source": [
    "import requests\n",
    "\n",
    "url_got = \"https://en.wikipedia.org/wiki/List_of_Game_of_Thrones_episodes\"\n",
    "r = requests.get(url_got)"
   ]
  },
  {
   "cell_type": "markdown",
   "metadata": {},
   "source": [
    "If you run the example above, you’ll see the following being printed onscreen:"
   ]
  },
  {
   "cell_type": "code",
   "execution_count": 223,
   "metadata": {},
   "outputs": [
    {
     "name": "stdout",
     "output_type": "stream",
     "text": [
      "<!DOCTYPE html>\n",
      "<html class=\"client-nojs vector-feature-language-in-header-enabled vector-feature-language-in-main-page-header-disabled vector-feature-page-tools-pinned-disabled vector-feature-toc-pinned-clientpref-1 vector-feature-main-menu-pinned-disabled vector-feature-limited-width-clientpref-1 \n"
     ]
    }
   ],
   "source": [
    "print(r.text[:300])"
   ]
  },
  {
   "cell_type": "markdown",
   "metadata": {},
   "source": [
    "This is Hypertext Markup Language (HTML), the standard markup language for\n",
    "creating web pages. Although some will call HTML a “programming language,” “markup\n",
    "language” is a more appropriate term as it specifies how a document is structured and\n",
    "formatted. There is no strict need to use HTML to format web pages — in fact, all the\n",
    "examples we’ve dealt with in the previous chapter just returned simple, textual pages.\n",
    "However, if you want to create visually appealing pages that actually look good in a\n",
    "browser (even if it’s just putting some color on a page), HTML is the way to go.\n",
    "\n",
    "HTML provides the building blocks to provide structure and formatting to\n",
    "documents. This is provided by means of a series of “tags.” HTML tags often come in\n",
    "pairs and are enclosed in angled brackets, with `<tagname>` being the opening tag and\n",
    "`</tagname>` indicating the closing tag. Some tags come in an unpaired form, and do\n",
    "not require a closing tag. Some commonly used tags are the following:"
   ]
  },
  {
   "cell_type": "markdown",
   "metadata": {},
   "source": [
    "- `<p>...</p>` to enclose a paragraph;\n",
    "- `<br>` to set a line break;\n",
    "- `<table>...</table>` to start a table block, inside; `<tr>...<tr/>` is used for the rows; and `<td>...</td>` cells;\n",
    "- `<img>` for images;\n",
    "- `<h1>...</h1> to <h6>...</h6>` for headers;\n",
    "- `<div>...</div>` to indicate a “division” in an HTML document, basically used to group a set of elements;\n",
    "- `<a>...</a>` for hyperlinks;\n",
    "- `<ul>...</ul>, <ol>...</ol>` for unordered and ordered lists respectively; inside of these, `<li>...</li>` is used for each list item."
   ]
  },
  {
   "cell_type": "markdown",
   "metadata": {},
   "source": [
    "**Using Your Browser as a Development Tool**"
   ]
  },
  {
   "cell_type": "markdown",
   "metadata": {},
   "source": [
    "Most modern web browsers nowadays include a toolkit of powerful tools you can\n",
    "use to get an idea of what’s going on regarding HTML, and HTTP too. Navigate to the\n",
    "Wikipedia page over at https://en.wikipedia.org/wiki/List_of_Game_of_Thrones_episodes again in your browser — we assume\n",
    "you’re using Google Chrome for what follows. First of all, it is helpful to know how you\n",
    "can take a look at the underlying HTML of this page. To do so, you can right-click on the\n",
    "page and press `View source` or simply press Control+U in Google Chrome. A new page\n",
    "will open containing the raw HTML contents for the current page (the same content as\n",
    "what we got back using r.text)"
   ]
  },
  {
   "cell_type": "markdown",
   "metadata": {},
   "source": [
    "Additionally, you can open up Chrome’s “Developer Tools.” To do so, either select the\n",
    "Chrome Menu at the top right of your browser window, then select “Tools,” “Developer\n",
    "Tools,” or press Control+Shift+I. Alternatively, you can also right-click on any page\n",
    "element and select `Inspect Element`. Other browsers such as Firefox and Microsoft\n",
    "Edge have similar tools built in."
   ]
  },
  {
   "cell_type": "markdown",
   "metadata": {},
   "source": [
    "**The Beautiful Soup Library**"
   ]
  },
  {
   "cell_type": "markdown",
   "metadata": {},
   "source": [
    "We’re now ready to start working with HTML pages using Python. Recall the following\n",
    "lines of code:"
   ]
  },
  {
   "cell_type": "code",
   "execution_count": 224,
   "metadata": {},
   "outputs": [],
   "source": [
    "html_contents = r.text"
   ]
  },
  {
   "cell_type": "markdown",
   "metadata": {},
   "source": [
    "> **[beautifulsoup4](https://www.crummy.com/software/BeautifulSoup/bs4/doc/)**: Beautiful Soup tries to organize complexity: it helps to parse, structure and organize the oftentimes very messy web by fixing bad HTML and presenting us with an easy-to-work-with Python structure."
   ]
  },
  {
   "cell_type": "markdown",
   "metadata": {},
   "source": [
    "Using Beautiful Soup starts with the creation of a BeautifulSoup object. If you\n",
    "already have an HTML page contained in a string (as we have), this is straightforward.\n",
    "Don’t forget to add the new import line:"
   ]
  },
  {
   "cell_type": "code",
   "execution_count": 225,
   "metadata": {},
   "outputs": [],
   "source": [
    "from bs4 import BeautifulSoup"
   ]
  },
  {
   "cell_type": "code",
   "execution_count": 226,
   "metadata": {},
   "outputs": [],
   "source": [
    "html_soup = BeautifulSoup(html_contents)"
   ]
  },
  {
   "cell_type": "markdown",
   "metadata": {},
   "source": [
    "The Beautiful Soup library itself depends on an HTML\n",
    "parser to perform most of the bulk parsing work.\n",
    "\n",
    "In Python, multiple parsers exist to do so:\n",
    "- `html.parser`: a built-in Python parser that is decent (especially when using recent versions of Python 3) and requires no extra installation.\n",
    "- `lxml`: which is very fast but requires an extra installation.\n",
    "- `html5lib`: which aims to parse web page in exactly the same way as a web browser does, but is a bit slower."
   ]
  },
  {
   "cell_type": "markdown",
   "metadata": {},
   "source": [
    "Since there are small differences between these parsers, Beautiful Soup warns you if\n",
    "you don’t explicitly provide one, this might cause your code to behave slightly different\n",
    "when executing the same script on different machines. To solve this, we simply specify a\n",
    "parser ourselves — we’ll stick with the default Python parser here:"
   ]
  },
  {
   "cell_type": "code",
   "execution_count": 227,
   "metadata": {},
   "outputs": [],
   "source": [
    "html_soup = BeautifulSoup(html_contents, \"lxml\")"
   ]
  },
  {
   "cell_type": "markdown",
   "metadata": {},
   "source": [
    "Beautiful Soup’s main task is to take HTML content and transform it into a tree-based representation. Once you’ve created a BeautifulSoup object, there are two\n",
    "methods you’ll be using to fetch data from the page:\n",
    "- `find(name, attrs, recursive, string, **keywords)`\n",
    "- `find_all(name, attrs, recursive, string, limit, **keywords)`"
   ]
  },
  {
   "cell_type": "markdown",
   "metadata": {},
   "source": [
    "Both methods look very similar indeed, with the exception that find_all takes an\n",
    "extra limit argument. To test these methods, add the following lines to your script and\n",
    "run it:"
   ]
  },
  {
   "cell_type": "code",
   "execution_count": 229,
   "metadata": {},
   "outputs": [
    {
     "name": "stdout",
     "output_type": "stream",
     "text": [
      "<h1 class=\"firstHeading mw-first-heading\" id=\"firstHeading\">List of <i>Game of Thrones</i> episodes</h1>\n"
     ]
    }
   ],
   "source": [
    "print(html_soup.find(\"h1\"))"
   ]
  },
  {
   "cell_type": "code",
   "execution_count": 230,
   "metadata": {},
   "outputs": [
    {
     "name": "stdout",
     "output_type": "stream",
     "text": [
      "<div class=\"noprint\" id=\"siteSub\">From Wikipedia, the free encyclopedia</div>\n"
     ]
    }
   ],
   "source": [
    "print(html_soup.find(\"div\", {\"id\": \"siteSub\"}))"
   ]
  },
  {
   "cell_type": "code",
   "execution_count": 231,
   "metadata": {},
   "outputs": [
    {
     "name": "stdout",
     "output_type": "stream",
     "text": [
      "<h2 class=\"vector-pinnable-header-label\">Contents</h2>\n",
      "<h1 class=\"firstHeading mw-first-heading\" id=\"firstHeading\">List of <i>Game of Thrones</i> episodes</h1>\n",
      "<h2 id=\"Series_overview\">Series overview</h2>\n",
      "<h2 id=\"Episodes\">Episodes</h2>\n",
      "<h2 id=\"Specials\">Specials</h2>\n",
      "<h2 id=\"Home_media_release\">Home media release</h2>\n",
      "<h2 id=\"Ratings\">Ratings</h2>\n",
      "<h2 id=\"References\">References</h2>\n",
      "<h2 id=\"External_links\">External links</h2>\n"
     ]
    }
   ],
   "source": [
    "for found in html_soup.find_all([\"h1\", \"h2\"]):\n",
    "    print(found)"
   ]
  },
  {
   "cell_type": "markdown",
   "metadata": {},
   "source": [
    "The general idea behind these two methods should be relatively clear: they’re used\n",
    "to find elements inside the HTML tree. Let’s discuss the arguments of these two methods\n",
    "step by step:\n",
    "- The `name` argument defines the tag names you wish to “find” on the page. You can pass a string, or a list of tags. Leaving this argument as an empty string simply selects all elements.\n",
    "- The `attrs` argument takes a Python dictionary of attributes and matches HTML elements that match those attributes.\n",
    "- The `recursive` argument is a Boolean and governs the depth of the search. If set to True - the default value, the find and find_all methods will look into children, children’s children, and so on... for elements that match your query. If it is False, it will only look at direct child elements.\n",
    "- The `string` argument is used to perform matching based on the text content of elements.\n",
    "- The `limit` argument is only used in the find_all method and can be used to limit the number of elements that are retrieved. Note that find is functionally equivalent to calling find_all with the limit set to 1, with the exception that the former returns the retrieved element directly, and that the latter will always return a list of items, even if it just contains a single element. Also important to know is that, when find_all cannot find anything, it returns an empty list, whereas if find cannot find anything, it returns None."
   ]
  },
  {
   "cell_type": "markdown",
   "metadata": {},
   "source": [
    "Both find and find_all return Tag objects."
   ]
  },
  {
   "cell_type": "code",
   "execution_count": 232,
   "metadata": {},
   "outputs": [],
   "source": [
    "# Find the first h1 tag\n",
    "first_h1 = html_soup.find(\"h1\")"
   ]
  },
  {
   "cell_type": "code",
   "execution_count": 233,
   "metadata": {},
   "outputs": [
    {
     "data": {
      "text/plain": [
       "<h1 class=\"firstHeading mw-first-heading\" id=\"firstHeading\">List of <i>Game of Thrones</i> episodes</h1>"
      ]
     },
     "execution_count": 233,
     "metadata": {},
     "output_type": "execute_result"
    }
   ],
   "source": [
    "first_h1"
   ]
  },
  {
   "cell_type": "markdown",
   "metadata": {},
   "source": [
    "Access the name attribute to retrieve the tag name."
   ]
  },
  {
   "cell_type": "code",
   "execution_count": 235,
   "metadata": {},
   "outputs": [
    {
     "data": {
      "text/plain": [
       "'h1'"
      ]
     },
     "execution_count": 235,
     "metadata": {},
     "output_type": "execute_result"
    }
   ],
   "source": [
    "first_h1.name"
   ]
  },
  {
   "cell_type": "markdown",
   "metadata": {},
   "source": [
    "Access the contents attribute to get a Python list containing the tag’s\n",
    "children (its direct descendant tags) as a list."
   ]
  },
  {
   "cell_type": "code",
   "execution_count": 236,
   "metadata": {},
   "outputs": [
    {
     "data": {
      "text/plain": [
       "['List of ', <i>Game of Thrones</i>, ' episodes']"
      ]
     },
     "execution_count": 236,
     "metadata": {},
     "output_type": "execute_result"
    }
   ],
   "source": [
    "first_h1.contents"
   ]
  },
  {
   "cell_type": "markdown",
   "metadata": {},
   "source": [
    "Converting the Tag object to a string shows both the tag and its HTML\n",
    "content as a string. This is what happens if you call print out the Tag\n",
    "object, for instance, or wrap such an object in the str function."
   ]
  },
  {
   "cell_type": "code",
   "execution_count": 237,
   "metadata": {},
   "outputs": [
    {
     "name": "stdout",
     "output_type": "stream",
     "text": [
      "<h1 class=\"firstHeading mw-first-heading\" id=\"firstHeading\">List of <i>Game of Thrones</i> episodes</h1>\n"
     ]
    }
   ],
   "source": [
    "print(str(first_h1))"
   ]
  },
  {
   "cell_type": "markdown",
   "metadata": {},
   "source": [
    "Use the text attribute to get the contents of the Tag object as clear\n",
    "text (without HTML tags)."
   ]
  },
  {
   "cell_type": "code",
   "execution_count": 238,
   "metadata": {},
   "outputs": [
    {
     "data": {
      "text/plain": [
       "'List of Game of Thrones episodes'"
      ]
     },
     "execution_count": 238,
     "metadata": {},
     "output_type": "execute_result"
    }
   ],
   "source": [
    "first_h1.text"
   ]
  },
  {
   "cell_type": "markdown",
   "metadata": {},
   "source": [
    "Alternatively, you can use the get_text method as well, to which a\n",
    "strip Boolean argument can be given so that get_text(strip=True)\n",
    "is equivalent to text.strip(). It’s also possible to specify a string to\n",
    "be used to join the bits of text enclosed in the element together, for\n",
    "example, get_text('--').\n",
    "\n"
   ]
  },
  {
   "cell_type": "code",
   "execution_count": 239,
   "metadata": {},
   "outputs": [
    {
     "data": {
      "text/plain": [
       "'List of Game of Thrones episodes'"
      ]
     },
     "execution_count": 239,
     "metadata": {},
     "output_type": "execute_result"
    }
   ],
   "source": [
    "first_h1.get_text()"
   ]
  },
  {
   "cell_type": "code",
   "execution_count": 240,
   "metadata": {},
   "outputs": [
    {
     "data": {
      "text/plain": [
       "{'id': 'firstHeading', 'class': ['firstHeading', 'mw-first-heading']}"
      ]
     },
     "execution_count": 240,
     "metadata": {},
     "output_type": "execute_result"
    }
   ],
   "source": [
    "first_h1.attrs"
   ]
  },
  {
   "cell_type": "code",
   "execution_count": 241,
   "metadata": {},
   "outputs": [
    {
     "data": {
      "text/plain": [
       "'firstHeading'"
      ]
     },
     "execution_count": 241,
     "metadata": {},
     "output_type": "execute_result"
    }
   ],
   "source": [
    "first_h1.attrs[\"id\"]"
   ]
  },
  {
   "cell_type": "code",
   "execution_count": 242,
   "metadata": {},
   "outputs": [
    {
     "data": {
      "text/plain": [
       "'firstHeading'"
      ]
     },
     "execution_count": 242,
     "metadata": {},
     "output_type": "execute_result"
    }
   ],
   "source": [
    "first_h1[\"id\"]  # Does the same"
   ]
  },
  {
   "cell_type": "code",
   "execution_count": 243,
   "metadata": {},
   "outputs": [
    {
     "data": {
      "text/plain": [
       "'firstHeading'"
      ]
     },
     "execution_count": 243,
     "metadata": {},
     "output_type": "execute_result"
    }
   ],
   "source": [
    "first_h1.get(\"id\")  # Does the same"
   ]
  },
  {
   "cell_type": "markdown",
   "metadata": {},
   "source": [
    "> First of all, you cannot use class as a keyword, as this is a reserved\n",
    "Python keyword. This is a pity, as this will be one of the most frequently used\n",
    "attributes when hunting for content inside HTML. Luckily, Beautiful Soup has\n",
    "provided a workaround. Instead of using class, just write class_ as follows:\n",
    "“find(class_='myclass')”."
   ]
  },
  {
   "cell_type": "code",
   "execution_count": 244,
   "metadata": {},
   "outputs": [],
   "source": [
    "# Find the first four cite elements with a citation class\n",
    "cites = html_soup.find_all(\"cite\", class_=\"citation\", limit=4)"
   ]
  },
  {
   "cell_type": "code",
   "execution_count": 245,
   "metadata": {},
   "outputs": [
    {
     "name": "stdout",
     "output_type": "stream",
     "text": [
      "--> Fowler, Matt (April 8, 2011). \"Game of Thrones: \"Winter is Coming\" Review\". IGN. Archived from the original on August 17, 2012. Retrieved September 22, 2016.\n",
      "http://tv.ign.com/articles/116/1160215p1.html\n",
      "\n",
      "--> Fleming, Michael (January 16, 2007). \"HBO turns Fire into fantasy series\". Variety. Archived from the original on May 16, 2012. Retrieved September 3, 2016.\n",
      "https://variety.com/2007/scene/markets-festivals/hbo-turns-fire-into-fantasy-series-1117957532/\n",
      "\n",
      "--> \"Game of Thrones\". Emmys.com. Archived from the original on April 13, 2017. Retrieved September 17, 2016.\n",
      "http://www.emmys.com/shows/game-thrones\n",
      "\n",
      "--> Roberts, Josh (April 1, 2012). \"Where HBO's hit 'Game of Thrones' was filmed\". USA Today. Archived from the original on April 1, 2012. Retrieved March 8, 2013.\n",
      "https://web.archive.org/web/20120401123724/http://travel.usatoday.com/destinations/story/2012-04-01/Where-the-HBO-hit-Game-of-Thrones-was-filmed/53876876/1\n",
      "\n"
     ]
    }
   ],
   "source": [
    "for citation in cites:\n",
    "    print(\"-->\", citation.get_text())\n",
    "    # Inside of this cite element, find the first a tag\n",
    "    link = citation.find(\"a\")\n",
    "    # ... and show its URL\n",
    "    print(link.get(\"href\"))\n",
    "    print()"
   ]
  },
  {
   "cell_type": "markdown",
   "metadata": {},
   "source": [
    "Let us now try to work out the following use case. You’ll note that our Game of\n",
    "Thrones Wikipedia page has a number of well-maintained tables listing the episodes with their directors, writers, air date, and number of viewers. Let’s try to fetch all of this\n",
    "data at once using what we have learned: "
   ]
  },
  {
   "cell_type": "code",
   "execution_count": 266,
   "metadata": {},
   "outputs": [
    {
     "name": "stdout",
     "output_type": "stream",
     "text": [
      "Number of episode tables: 9\n"
     ]
    }
   ],
   "source": [
    "url_got = \"https://en.wikipedia.org/wiki/List_of_Game_of_Thrones_episodes\"\n",
    "r = requests.get(url_got)\n",
    "html_contents = r.text\n",
    "html_soup = BeautifulSoup(html_contents, \"html.parser\")\n",
    "\n",
    "\n",
    "ep_tables = html_soup.find_all(\"table\", class_=\"wikiepisodetable\")\n",
    "print(f\"Number of episode tables: {len(ep_tables)}\")"
   ]
  },
  {
   "cell_type": "code",
   "execution_count": 269,
   "metadata": {},
   "outputs": [],
   "source": [
    "episodes = []\n",
    "headers = [\"no_overall\", \"no_inseason\", \"title\", \"directed_by\", \"written_by\", \"original_air_date\", \"us_viewers_millions\"]\n",
    "\n",
    "for table in ep_tables:\n",
    "    for row in table.find_all(\"tr\")[1:]:\n",
    "        values = []\n",
    "        for col in row.find_all([\"th\", \"td\"]):\n",
    "            values.append(col.text)\n",
    "        if values:\n",
    "            episode_dict = {headers[i]: values[i] for i in range(len(values))}\n",
    "            episodes.append(episode_dict)"
   ]
  },
  {
   "cell_type": "code",
   "execution_count": 270,
   "metadata": {},
   "outputs": [
    {
     "name": "stdout",
     "output_type": "stream",
     "text": [
      "{'no_overall': '1', 'no_inseason': '1', 'title': '\"Winter Is Coming\"', 'directed_by': 'Tim Van Patten', 'written_by': 'David Benioff & D. B. Weiss', 'original_air_date': 'April\\xa017,\\xa02011\\xa0(2011-4-17)', 'us_viewers_millions': '2.22[21]'}\n",
      "{'no_overall': '2', 'no_inseason': '2', 'title': '\"The Kingsroad\"', 'directed_by': 'Tim Van Patten', 'written_by': 'David Benioff & D. B. Weiss', 'original_air_date': 'April\\xa024,\\xa02011\\xa0(2011-4-24)', 'us_viewers_millions': '2.20[22]'}\n",
      "{'no_overall': '3', 'no_inseason': '3', 'title': '\"Lord Snow\"', 'directed_by': 'Brian Kirk', 'written_by': 'David Benioff & D. B. Weiss', 'original_air_date': 'May\\xa01,\\xa02011\\xa0(2011-5-1)', 'us_viewers_millions': '2.44[23]'}\n"
     ]
    }
   ],
   "source": [
    "# Show the results\n",
    "for episode in episodes[:3]:\n",
    "    print(episode)"
   ]
  },
  {
   "cell_type": "code",
   "execution_count": 275,
   "metadata": {},
   "outputs": [
    {
     "data": {
      "text/html": [
       "<div>\n",
       "<style scoped>\n",
       "    .dataframe tbody tr th:only-of-type {\n",
       "        vertical-align: middle;\n",
       "    }\n",
       "\n",
       "    .dataframe tbody tr th {\n",
       "        vertical-align: top;\n",
       "    }\n",
       "\n",
       "    .dataframe thead th {\n",
       "        text-align: right;\n",
       "    }\n",
       "</style>\n",
       "<table border=\"1\" class=\"dataframe\">\n",
       "  <thead>\n",
       "    <tr style=\"text-align: right;\">\n",
       "      <th></th>\n",
       "      <th>no_overall</th>\n",
       "      <th>no_inseason</th>\n",
       "      <th>title</th>\n",
       "      <th>directed_by</th>\n",
       "      <th>written_by</th>\n",
       "      <th>original_air_date</th>\n",
       "      <th>us_viewers_millions</th>\n",
       "    </tr>\n",
       "  </thead>\n",
       "  <tbody>\n",
       "    <tr>\n",
       "      <th>0</th>\n",
       "      <td>1</td>\n",
       "      <td>1</td>\n",
       "      <td>\"Winter Is Coming\"</td>\n",
       "      <td>Tim Van Patten</td>\n",
       "      <td>David Benioff &amp; D. B. Weiss</td>\n",
       "      <td>April 17, 2011 (2011-4-17)</td>\n",
       "      <td>2.22[21]</td>\n",
       "    </tr>\n",
       "    <tr>\n",
       "      <th>1</th>\n",
       "      <td>2</td>\n",
       "      <td>2</td>\n",
       "      <td>\"The Kingsroad\"</td>\n",
       "      <td>Tim Van Patten</td>\n",
       "      <td>David Benioff &amp; D. B. Weiss</td>\n",
       "      <td>April 24, 2011 (2011-4-24)</td>\n",
       "      <td>2.20[22]</td>\n",
       "    </tr>\n",
       "    <tr>\n",
       "      <th>2</th>\n",
       "      <td>3</td>\n",
       "      <td>3</td>\n",
       "      <td>\"Lord Snow\"</td>\n",
       "      <td>Brian Kirk</td>\n",
       "      <td>David Benioff &amp; D. B. Weiss</td>\n",
       "      <td>May 1, 2011 (2011-5-1)</td>\n",
       "      <td>2.44[23]</td>\n",
       "    </tr>\n",
       "    <tr>\n",
       "      <th>3</th>\n",
       "      <td>4</td>\n",
       "      <td>4</td>\n",
       "      <td>\"Cripples, Bastards, and Broken Things\"</td>\n",
       "      <td>Brian Kirk</td>\n",
       "      <td>Bryan Cogman</td>\n",
       "      <td>May 8, 2011 (2011-5-8)</td>\n",
       "      <td>2.45[24]</td>\n",
       "    </tr>\n",
       "    <tr>\n",
       "      <th>4</th>\n",
       "      <td>5</td>\n",
       "      <td>5</td>\n",
       "      <td>\"The Wolf and the Lion\"</td>\n",
       "      <td>Brian Kirk</td>\n",
       "      <td>David Benioff &amp; D. B. Weiss</td>\n",
       "      <td>May 15, 2011 (2011-5-15)</td>\n",
       "      <td>2.58[25]</td>\n",
       "    </tr>\n",
       "  </tbody>\n",
       "</table>\n",
       "</div>"
      ],
      "text/plain": [
       "  no_overall no_inseason                                    title  \\\n",
       "0          1           1                       \"Winter Is Coming\"   \n",
       "1          2           2                          \"The Kingsroad\"   \n",
       "2          3           3                              \"Lord Snow\"   \n",
       "3          4           4  \"Cripples, Bastards, and Broken Things\"   \n",
       "4          5           5                  \"The Wolf and the Lion\"   \n",
       "\n",
       "      directed_by                   written_by           original_air_date  \\\n",
       "0  Tim Van Patten  David Benioff & D. B. Weiss  April 17, 2011 (2011-4-17)   \n",
       "1  Tim Van Patten  David Benioff & D. B. Weiss  April 24, 2011 (2011-4-24)   \n",
       "2      Brian Kirk  David Benioff & D. B. Weiss      May 1, 2011 (2011-5-1)   \n",
       "3      Brian Kirk                 Bryan Cogman      May 8, 2011 (2011-5-8)   \n",
       "4      Brian Kirk  David Benioff & D. B. Weiss    May 15, 2011 (2011-5-15)   \n",
       "\n",
       "  us_viewers_millions  \n",
       "0            2.22[21]  \n",
       "1            2.20[22]  \n",
       "2            2.44[23]  \n",
       "3            2.45[24]  \n",
       "4            2.58[25]  "
      ]
     },
     "execution_count": 275,
     "metadata": {},
     "output_type": "execute_result"
    }
   ],
   "source": [
    "ep_df_data = pd.DataFrame(episodes)\n",
    "ep_df_data.head()"
   ]
  },
  {
   "cell_type": "markdown",
   "metadata": {},
   "source": [
    "> **Are Tables Worth It?** You might not be very impressed with this example so\n",
    "far. Most modern browsers allow you to simply select or right-click tables on web\n",
    "pages and will be able to copy them straight into a spreadsheet program such as\n",
    "Excel anyway. That’s true, and if you only have one table to extract, this is definitely\n",
    "the easier route to follow. Once you start dealing with many tables, however,\n",
    "especially if they’re spread over multiple pages, or need to periodically refresh\n",
    "tabular data from a particular web page, the benefit of writing a scraper starts to\n",
    "become more apparent."
   ]
  },
  {
   "cell_type": "markdown",
   "metadata": {},
   "source": [
    "pandas has a built-in function, read_html , which uses libraries like lxml and Beautiful Soup to automatically parse tables out of HTML files as DataFrame objects. To show how this works, I downloaded an HTML file (used in the pandas documentation) from the United States FDIC government agency showing bank failures."
   ]
  },
  {
   "cell_type": "markdown",
   "metadata": {},
   "source": [
    "> Page: https://www.fdic.gov/bank/individual/failed/banklist.html"
   ]
  },
  {
   "cell_type": "markdown",
   "metadata": {},
   "source": [
    "`pandas.read_html:`  Read HTML tables into a list of DataFrame objects. -> [Docs](https://pandas.pydata.org/pandas-docs/version/0.23.4/generated/pandas.read_html.html)\n",
    "\n"
   ]
  },
  {
   "cell_type": "markdown",
   "metadata": {},
   "source": [
    "The pandas.read_html function has a number of options, but by default it searches\n",
    "for and attempts to parse all tabular data contained within `<table>` tags. The result is a list of DataFrame objects:"
   ]
  },
  {
   "cell_type": "code",
   "execution_count": 276,
   "metadata": {},
   "outputs": [],
   "source": [
    "tables = pd.read_html(\"https://www.fdic.gov/resources/resolutions/bank-failures/failed-bank-list/\")"
   ]
  },
  {
   "cell_type": "code",
   "execution_count": 277,
   "metadata": {},
   "outputs": [
    {
     "data": {
      "text/plain": [
       "1"
      ]
     },
     "execution_count": 277,
     "metadata": {},
     "output_type": "execute_result"
    }
   ],
   "source": [
    "len(tables)"
   ]
  },
  {
   "cell_type": "code",
   "execution_count": 278,
   "metadata": {},
   "outputs": [],
   "source": [
    "failures = tables[0]"
   ]
  },
  {
   "cell_type": "code",
   "execution_count": 279,
   "metadata": {},
   "outputs": [
    {
     "name": "stdout",
     "output_type": "stream",
     "text": [
      "<class 'pandas.core.frame.DataFrame'>\n",
      "RangeIndex: 10 entries, 0 to 9\n",
      "Data columns (total 7 columns):\n",
      " #   Column                 Non-Null Count  Dtype \n",
      "---  ------                 --------------  ----- \n",
      " 0   Bank Name              10 non-null     object\n",
      " 1   City                   10 non-null     object\n",
      " 2   State                  10 non-null     object\n",
      " 3   Cert                   10 non-null     int64 \n",
      " 4   Acquiring Institution  10 non-null     object\n",
      " 5   Closing Date           10 non-null     object\n",
      " 6   Fund  Sort ascending   10 non-null     int64 \n",
      "dtypes: int64(2), object(5)\n",
      "memory usage: 692.0+ bytes\n"
     ]
    }
   ],
   "source": [
    "failures.info()"
   ]
  },
  {
   "cell_type": "code",
   "execution_count": 280,
   "metadata": {},
   "outputs": [
    {
     "data": {
      "text/html": [
       "<div>\n",
       "<style scoped>\n",
       "    .dataframe tbody tr th:only-of-type {\n",
       "        vertical-align: middle;\n",
       "    }\n",
       "\n",
       "    .dataframe tbody tr th {\n",
       "        vertical-align: top;\n",
       "    }\n",
       "\n",
       "    .dataframe thead th {\n",
       "        text-align: right;\n",
       "    }\n",
       "</style>\n",
       "<table border=\"1\" class=\"dataframe\">\n",
       "  <thead>\n",
       "    <tr style=\"text-align: right;\">\n",
       "      <th></th>\n",
       "      <th>Bank Name</th>\n",
       "      <th>City</th>\n",
       "      <th>State</th>\n",
       "      <th>Cert</th>\n",
       "      <th>Acquiring Institution</th>\n",
       "      <th>Closing Date</th>\n",
       "      <th>Fund  Sort ascending</th>\n",
       "    </tr>\n",
       "  </thead>\n",
       "  <tbody>\n",
       "    <tr>\n",
       "      <th>0</th>\n",
       "      <td>Pulaski Savings Bank</td>\n",
       "      <td>Chicago</td>\n",
       "      <td>Illinois</td>\n",
       "      <td>28611</td>\n",
       "      <td>Millennium Bank</td>\n",
       "      <td>January 17, 2025</td>\n",
       "      <td>10548</td>\n",
       "    </tr>\n",
       "    <tr>\n",
       "      <th>1</th>\n",
       "      <td>The First National Bank of Lindsay</td>\n",
       "      <td>Lindsay</td>\n",
       "      <td>Oklahoma</td>\n",
       "      <td>4134</td>\n",
       "      <td>First Bank &amp; Trust Co., Duncan, OK</td>\n",
       "      <td>October 18, 2024</td>\n",
       "      <td>10547</td>\n",
       "    </tr>\n",
       "    <tr>\n",
       "      <th>2</th>\n",
       "      <td>Republic First Bank dba Republic Bank</td>\n",
       "      <td>Philadelphia</td>\n",
       "      <td>Pennsylvania</td>\n",
       "      <td>27332</td>\n",
       "      <td>Fulton Bank, National Association</td>\n",
       "      <td>April 26, 2024</td>\n",
       "      <td>10546</td>\n",
       "    </tr>\n",
       "    <tr>\n",
       "      <th>3</th>\n",
       "      <td>Citizens Bank</td>\n",
       "      <td>Sac City</td>\n",
       "      <td>Iowa</td>\n",
       "      <td>8758</td>\n",
       "      <td>Iowa Trust &amp; Savings Bank</td>\n",
       "      <td>November 3, 2023</td>\n",
       "      <td>10545</td>\n",
       "    </tr>\n",
       "    <tr>\n",
       "      <th>4</th>\n",
       "      <td>Heartland Tri-State Bank</td>\n",
       "      <td>Elkhart</td>\n",
       "      <td>Kansas</td>\n",
       "      <td>25851</td>\n",
       "      <td>Dream First Bank, N.A.</td>\n",
       "      <td>July 28, 2023</td>\n",
       "      <td>10544</td>\n",
       "    </tr>\n",
       "  </tbody>\n",
       "</table>\n",
       "</div>"
      ],
      "text/plain": [
       "                               Bank Name          City         State   Cert  \\\n",
       "0                   Pulaski Savings Bank       Chicago      Illinois  28611   \n",
       "1     The First National Bank of Lindsay       Lindsay      Oklahoma   4134   \n",
       "2  Republic First Bank dba Republic Bank  Philadelphia  Pennsylvania  27332   \n",
       "3                          Citizens Bank      Sac City          Iowa   8758   \n",
       "4               Heartland Tri-State Bank       Elkhart        Kansas  25851   \n",
       "\n",
       "                Acquiring Institution      Closing Date  Fund  Sort ascending  \n",
       "0                     Millennium Bank  January 17, 2025                 10548  \n",
       "1  First Bank & Trust Co., Duncan, OK  October 18, 2024                 10547  \n",
       "2   Fulton Bank, National Association    April 26, 2024                 10546  \n",
       "3           Iowa Trust & Savings Bank  November 3, 2023                 10545  \n",
       "4              Dream First Bank, N.A.     July 28, 2023                 10544  "
      ]
     },
     "execution_count": 280,
     "metadata": {},
     "output_type": "execute_result"
    }
   ],
   "source": [
    "failures.head()"
   ]
  },
  {
   "cell_type": "code",
   "execution_count": null,
   "metadata": {},
   "outputs": [
    {
     "data": {
      "text/html": [
       "<div>\n",
       "<style scoped>\n",
       "    .dataframe tbody tr th:only-of-type {\n",
       "        vertical-align: middle;\n",
       "    }\n",
       "\n",
       "    .dataframe tbody tr th {\n",
       "        vertical-align: top;\n",
       "    }\n",
       "\n",
       "    .dataframe thead th {\n",
       "        text-align: right;\n",
       "    }\n",
       "</style>\n",
       "<table border=\"1\" class=\"dataframe\">\n",
       "  <thead>\n",
       "    <tr style=\"text-align: right;\">\n",
       "      <th></th>\n",
       "      <th>no_overall</th>\n",
       "      <th>no_in_season</th>\n",
       "      <th>title</th>\n",
       "      <th>directed_by</th>\n",
       "      <th>written_by</th>\n",
       "      <th>original_air_date</th>\n",
       "      <th>us_viewers</th>\n",
       "    </tr>\n",
       "  </thead>\n",
       "  <tbody>\n",
       "    <tr>\n",
       "      <th>0</th>\n",
       "      <td>1</td>\n",
       "      <td>1</td>\n",
       "      <td>Winter Is Coming</td>\n",
       "      <td>Tim Van Patten</td>\n",
       "      <td>David Benioff &amp; D. B. Weiss</td>\n",
       "      <td>April 17, 2011</td>\n",
       "      <td>2.22</td>\n",
       "    </tr>\n",
       "    <tr>\n",
       "      <th>1</th>\n",
       "      <td>2</td>\n",
       "      <td>2</td>\n",
       "      <td>The Kingsroad</td>\n",
       "      <td>Tim Van Patten</td>\n",
       "      <td>David Benioff &amp; D. B. Weiss</td>\n",
       "      <td>April 24, 2011</td>\n",
       "      <td>2.20</td>\n",
       "    </tr>\n",
       "  </tbody>\n",
       "</table>\n",
       "</div>"
      ],
      "text/plain": [
       "   no_overall  no_in_season             title     directed_by  \\\n",
       "0           1             1  Winter Is Coming  Tim Van Patten   \n",
       "1           2             2     The Kingsroad  Tim Van Patten   \n",
       "\n",
       "                    written_by original_air_date  us_viewers  \n",
       "0  David Benioff & D. B. Weiss    April 17, 2011        2.22  \n",
       "1  David Benioff & D. B. Weiss    April 24, 2011        2.20  "
      ]
     },
     "execution_count": 285,
     "metadata": {},
     "output_type": "execute_result"
    }
   ],
   "source": [
    "# Example 1: GoT example with pandas\n",
    "from matplotlib import pyplot as plt\n",
    "\n",
    "tables = pd.read_html(\"https://en.wikipedia.org/wiki/List_of_Game_of_Thrones_episodes\")\n",
    "\n",
    "episodes = pd.concat(tables[1:9])\n",
    "episodes.columns = [\"no_overall\", \"no_in_season\", \"title\", \"directed_by\", \"written_by\", \"original_air_date\", \"us_viewers\"]\n",
    "\n",
    "episodes[\"us_viewers\"] = episodes[\"us_viewers\"].str.replace(r\"\\[.+\\]\", \"\", regex=True).astype(\"float\")\n",
    "episodes[\"title\"] = episodes[\"title\"].str.replace('\"', \"\")\n",
    "episodes.head(2)"
   ]
  },
  {
   "cell_type": "code",
   "execution_count": 286,
   "metadata": {},
   "outputs": [
    {
     "data": {
      "image/png": "[encoded data removed]",
      "text/plain": [
       "<Figure size 640x480 with 1 Axes>"
      ]
     },
     "metadata": {},
     "output_type": "display_data"
    }
   ],
   "source": [
    "episodes.plot(x=\"no_overall\", y=\"us_viewers\")\n",
    "plt.show()"
   ]
  },
  {
   "cell_type": "code",
   "execution_count": 296,
   "metadata": {},
   "outputs": [
    {
     "name": "stdout",
     "output_type": "stream",
     "text": [
      "Got data for season 1 with 11 episodes\n",
      "Got data for season 2 with 10 episodes\n",
      "Got data for season 3 with 10 episodes\n",
      "Got data for season 4 with 10 episodes\n",
      "Got data for season 5 with 10 episodes\n",
      "Got data for season 6 with 10 episodes\n",
      "Got data for season 7 with 7 episodes\n",
      "Got data for season 8 with 6 episodes\n",
      "First 10 episodes: ['1.1', '1.2', '1.3', '1.4', '1.5', '1.6', '1.7', '1.8', '1.9', '1.10']\n"
     ]
    }
   ],
   "source": [
    "# Example 2: Scraping and Visualizing IMDB Ratings\n",
    "\n",
    "import requests\n",
    "from bs4 import BeautifulSoup\n",
    "\n",
    "url = \"http://www.imdb.com/title/tt0944947/episodes\"\n",
    "\n",
    "episodes = []\n",
    "ratings = []\n",
    "\n",
    "# Go over seasons 1 to 8\n",
    "for season in range(1, 9):\n",
    "    r = requests.get(url, params={\"season\": season}, headers={\"user-agent\": \"Mozilla/5.0\"})\n",
    "    soup = BeautifulSoup(r.text, \"html.parser\")\n",
    "    listing = soup.find_all(\"div\", class_=\"kBjDMi\")\n",
    "    print(f\"Got data for season {season} with {len(listing)} episodes\")\n",
    "    for epnr, div in enumerate(listing):\n",
    "        episode = f\"{season}.{epnr + 1}\"\n",
    "        rating_el = div.find(class_=\"ipc-rating-star--rating\")\n",
    "        rating = float(rating_el.get_text(strip=True))\n",
    "        episodes.append(episode)\n",
    "        ratings.append(rating)\n",
    "\n",
    "print(f\"First 10 episodes: {episodes[:10]}\")"
   ]
  },
  {
   "cell_type": "code",
   "execution_count": 298,
   "metadata": {},
   "outputs": [
    {
     "data": {
      "image/png": "[encoded data removed]",
      "text/plain": [
       "<Figure size 640x480 with 1 Axes>"
      ]
     },
     "metadata": {},
     "output_type": "display_data"
    }
   ],
   "source": [
    "import matplotlib.pyplot as plt\n",
    "\n",
    "plt.figure()\n",
    "\n",
    "positions = list(range(len(ratings)))\n",
    "plt.bar(positions, ratings, align=\"center\")\n",
    "plt.show()"
   ]
  },
  {
   "cell_type": "markdown",
   "metadata": {},
   "source": [
    "## Working with Databases"
   ]
  },
  {
   "cell_type": "markdown",
   "metadata": {},
   "source": [
    "Many organizations store data in databases, which can be queried to extract exactly the information needed.\n",
    "\n",
    "Types of Databases\n",
    "- Relational Databases: Use SQL for querying (e.g., MySQL, PostgreSQL, SQLite).\n",
    "- NoSQL Databases: Designed for unstructured data (e.g., MongoDB, Cassandra)."
   ]
  },
  {
   "cell_type": "markdown",
   "metadata": {},
   "source": [
    "More about the topic in a separate chapter."
   ]
  },
  {
   "cell_type": "markdown",
   "metadata": {},
   "source": [
    "## End-to-End Data Acquisition Pipeline"
   ]
  },
  {
   "cell_type": "markdown",
   "metadata": {},
   "source": [
    "1. Web Analytics Pipeline: Analyze NGINX Web Logs + Geolocation\n",
    "    - Build a pipeline that extracts and processes NGINX log files, enriches them with geolocation data from an external API, and then performs traffic analysis and visualization.\n",
    "    - Objective: Combine server logs with geolocation data to analyze traffic patterns.\n",
    "    - NGINX Access Logs: Public dataset (W3C format) from NASA-HTTP.\n",
    "    - IP Geolocation API: ip-api.com (Free tier).\n",
    "2. E-Commerce Pricing Pipeline: Scrape + API + SQL\n",
    "    - Objective: Track product prices across retailers.\n",
    "    - Web Scraping: Amazon product pages (e.g., ASUS Laptops).\n",
    "    - Retailer API: Best Buy API (Documentation).\n",
    "    - Historical Sales: Sample SQLite database (sales.db).\n",
    "3. Social Media Sentiment Pipeline: Twitter + News API + Stock Data\n",
    "    - Objective: Correlate social sentiment with stock prices.\n",
    "    - Twitter API: Tweepy for scraping tweets.\n",
    "    - News API: NewsAPI (e.g., \"Tesla\" articles).\n",
    "    - Stock Data: Alpha Vantage (e.g., TSLA).\n",
    "4. Weather Data Monitoring and Analysis Pipeline\n",
    "    - Create a pipeline that collects current weather data from an API, integrates it with historical weather data from an external dataset (e.g., Kaggle), and performs trend analysis to forecast future conditions."
   ]
  }
 ],
 "metadata": {
  "kernelspec": {
   "display_name": ".venv",
   "language": "python",
   "name": "python3"
  },
  "language_info": {
   "codemirror_mode": {
    "name": "ipython",
    "version": 3
   },
   "file_extension": ".py",
   "mimetype": "text/x-python",
   "name": "python",
   "nbconvert_exporter": "python",
   "pygments_lexer": "ipython3",
   "version": "3.13.1"
  }
 },
 "nbformat": 4,
 "nbformat_minor": 2
}
