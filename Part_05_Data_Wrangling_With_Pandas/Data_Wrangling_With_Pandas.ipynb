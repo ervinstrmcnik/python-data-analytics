{
 "cells": [
  {
   "cell_type": "markdown",
   "metadata": {},
   "source": [
    "# Data Wrangling With Pandas"
   ]
  },
  {
   "cell_type": "markdown",
   "metadata": {},
   "source": [
    "## Introduction to Data Wrangling"
   ]
  },
  {
   "cell_type": "markdown",
   "metadata": {},
   "source": [
    "Data wrangling, often known as **data cleaning or preprocessing**, is the process of transforming raw data into a structured, clean, and analysis-ready format. It involves a series of operations such as parsing, cleaning, validating, and transforming data to address issues like missing values, duplicates, and inconsistent formatting.\n",
    "\n",
    "\n",
    "**Why It Matters**:\n",
    "- **Quality and Accuracy**: The accuracy of any analysis, modeling, or decision-making is highly dependent on the quality of the input data. Data wrangling ensures that the data is accurate, consistent, and reliable.\n",
    "- **Efficiency**: Clean and well-structured data reduces the time and computational resources needed for subsequent analysis, improving overall workflow efficiency.\n",
    "- **Foundation for Analysis**: Just as a building requires a solid foundation, effective data analysis requires well-prepared data. Poor data quality can lead to erroneous insights and misinformed decisions.\n",
    "\n",
    "\n",
    "**Common Data Issues Encountered During Wrangling**:\n",
    "- **Missing Values**: Data points that are absent or unrecorded in the dataset. Can lead to biases or errors in statistical analyses and machine learning models if not handled appropriately.\n",
    "- **Duplicates**: Repeated records or entries that appear more than once in the dataset. Can inflate the importance of certain data points, skewing results and analyses.\n",
    "- **Outliers**: Data points that differ significantly from other observations, often due to variability or errors. They can distort statistical measures (mean, standard deviation) and lead to misinterpretations.\n",
    "- **Inconsistent Formatting**: Variations in data presentation such as date formats, capitalization, or numerical representations. Inconsistent data can hinder accurate aggregation, filtering, and analysis.\n",
    "- **Erroneous Data**: Incorrect or illogical data entries that may need correction or removal.\n",
    "- **Noise**: Random errors or irrelevant information embedded in the dataset."
   ]
  },
  {
   "cell_type": "markdown",
   "metadata": {},
   "source": [
    "Data cleaning tasks are often reported to take up 80% or more of an analyst’s time. Fortunately, pandas, along with the built-in Python language features, provides you with a high-level, flexible, and fast set\n",
    "of tools to enable you to manipulate data into the right form."
   ]
  },
  {
   "cell_type": "code",
   "execution_count": 267,
   "metadata": {},
   "outputs": [],
   "source": [
    "from pathlib import Path\n",
    "\n",
    "import numpy as np\n",
    "import pandas as pd\n"
   ]
  },
  {
   "cell_type": "markdown",
   "metadata": {},
   "source": [
    "We can start by reading the data into pandas."
   ]
  },
  {
   "cell_type": "code",
   "execution_count": 268,
   "metadata": {},
   "outputs": [
    {
     "data": {
      "text/html": [
       "<div>\n",
       "<style scoped>\n",
       "    .dataframe tbody tr th:only-of-type {\n",
       "        vertical-align: middle;\n",
       "    }\n",
       "\n",
       "    .dataframe tbody tr th {\n",
       "        vertical-align: top;\n",
       "    }\n",
       "\n",
       "    .dataframe thead th {\n",
       "        text-align: right;\n",
       "    }\n",
       "</style>\n",
       "<table border=\"1\" class=\"dataframe\">\n",
       "  <thead>\n",
       "    <tr style=\"text-align: right;\">\n",
       "      <th></th>\n",
       "      <th>Manufacturer</th>\n",
       "      <th>Model Name</th>\n",
       "      <th>Category</th>\n",
       "      <th>Screen Size</th>\n",
       "      <th>Screen</th>\n",
       "      <th>CPU</th>\n",
       "      <th>RAM</th>\n",
       "      <th>Storage</th>\n",
       "      <th>GPU</th>\n",
       "      <th>Operating System</th>\n",
       "      <th>Operating System Version</th>\n",
       "      <th>Weight</th>\n",
       "      <th>Price (Euros)</th>\n",
       "    </tr>\n",
       "  </thead>\n",
       "  <tbody>\n",
       "    <tr>\n",
       "      <th>0</th>\n",
       "      <td>Apple</td>\n",
       "      <td>MacBook Pro</td>\n",
       "      <td>Ultrabook</td>\n",
       "      <td>13.3\"</td>\n",
       "      <td>IPS Panel Retina Display 2560x1600</td>\n",
       "      <td>Intel Core i5 2.3GHz</td>\n",
       "      <td>8GB</td>\n",
       "      <td>128GB SSD</td>\n",
       "      <td>Intel Iris Plus Graphics 640</td>\n",
       "      <td>macOS</td>\n",
       "      <td>NaN</td>\n",
       "      <td>1.37kg</td>\n",
       "      <td>1339,69</td>\n",
       "    </tr>\n",
       "    <tr>\n",
       "      <th>1</th>\n",
       "      <td>Apple</td>\n",
       "      <td>Macbook Air</td>\n",
       "      <td>Ultrabook</td>\n",
       "      <td>13.3\"</td>\n",
       "      <td>1440x900</td>\n",
       "      <td>Intel Core i5 1.8GHz</td>\n",
       "      <td>8GB</td>\n",
       "      <td>128GB Flash Storage</td>\n",
       "      <td>Intel HD Graphics 6000</td>\n",
       "      <td>macOS</td>\n",
       "      <td>NaN</td>\n",
       "      <td>1.34kg</td>\n",
       "      <td>898,94</td>\n",
       "    </tr>\n",
       "    <tr>\n",
       "      <th>2</th>\n",
       "      <td>HP</td>\n",
       "      <td>250 G6</td>\n",
       "      <td>Notebook</td>\n",
       "      <td>15.6\"</td>\n",
       "      <td>Full HD 1920x1080</td>\n",
       "      <td>Intel Core i5 7200U 2.5GHz</td>\n",
       "      <td>8GB</td>\n",
       "      <td>256GB SSD</td>\n",
       "      <td>Intel HD Graphics 620</td>\n",
       "      <td>No OS</td>\n",
       "      <td>NaN</td>\n",
       "      <td>1.86kg</td>\n",
       "      <td>575,00</td>\n",
       "    </tr>\n",
       "    <tr>\n",
       "      <th>3</th>\n",
       "      <td>Apple</td>\n",
       "      <td>MacBook Pro</td>\n",
       "      <td>Ultrabook</td>\n",
       "      <td>15.4\"</td>\n",
       "      <td>IPS Panel Retina Display 2880x1800</td>\n",
       "      <td>Intel Core i7 2.7GHz</td>\n",
       "      <td>16GB</td>\n",
       "      <td>512GB SSD</td>\n",
       "      <td>AMD Radeon Pro 455</td>\n",
       "      <td>macOS</td>\n",
       "      <td>NaN</td>\n",
       "      <td>1.83kg</td>\n",
       "      <td>2537,45</td>\n",
       "    </tr>\n",
       "    <tr>\n",
       "      <th>4</th>\n",
       "      <td>Apple</td>\n",
       "      <td>MacBook Pro</td>\n",
       "      <td>Ultrabook</td>\n",
       "      <td>13.3\"</td>\n",
       "      <td>IPS Panel Retina Display 2560x1600</td>\n",
       "      <td>Intel Core i5 3.1GHz</td>\n",
       "      <td>8GB</td>\n",
       "      <td>256GB SSD</td>\n",
       "      <td>Intel Iris Plus Graphics 650</td>\n",
       "      <td>macOS</td>\n",
       "      <td>NaN</td>\n",
       "      <td>1.37kg</td>\n",
       "      <td>1803,60</td>\n",
       "    </tr>\n",
       "  </tbody>\n",
       "</table>\n",
       "</div>"
      ],
      "text/plain": [
       "  Manufacturer   Model Name   Category Screen Size  \\\n",
       "0        Apple  MacBook Pro  Ultrabook       13.3\"   \n",
       "1        Apple  Macbook Air  Ultrabook       13.3\"   \n",
       "2           HP       250 G6   Notebook       15.6\"   \n",
       "3        Apple  MacBook Pro  Ultrabook       15.4\"   \n",
       "4        Apple  MacBook Pro  Ultrabook       13.3\"   \n",
       "\n",
       "                               Screen                         CPU   RAM  \\\n",
       "0  IPS Panel Retina Display 2560x1600        Intel Core i5 2.3GHz   8GB   \n",
       "1                            1440x900        Intel Core i5 1.8GHz   8GB   \n",
       "2                   Full HD 1920x1080  Intel Core i5 7200U 2.5GHz   8GB   \n",
       "3  IPS Panel Retina Display 2880x1800        Intel Core i7 2.7GHz  16GB   \n",
       "4  IPS Panel Retina Display 2560x1600        Intel Core i5 3.1GHz   8GB   \n",
       "\n",
       "               Storage                           GPU Operating System  \\\n",
       "0            128GB SSD  Intel Iris Plus Graphics 640            macOS   \n",
       "1  128GB Flash Storage        Intel HD Graphics 6000            macOS   \n",
       "2            256GB SSD         Intel HD Graphics 620            No OS   \n",
       "3            512GB SSD            AMD Radeon Pro 455            macOS   \n",
       "4            256GB SSD  Intel Iris Plus Graphics 650            macOS   \n",
       "\n",
       "  Operating System Version  Weight Price (Euros)  \n",
       "0                      NaN  1.37kg       1339,69  \n",
       "1                      NaN  1.34kg        898,94  \n",
       "2                      NaN  1.86kg        575,00  \n",
       "3                      NaN  1.83kg       2537,45  \n",
       "4                      NaN  1.37kg       1803,60  "
      ]
     },
     "execution_count": 268,
     "metadata": {},
     "output_type": "execute_result"
    }
   ],
   "source": [
    "# Dataset 1: laptops\n",
    "dataset_path_laptops = Path.cwd().parent / \"data\" / \"INPUT_laptops.csv\"  # dataset encoding is Latin-1\n",
    "laptops = pd.read_csv(dataset_path_laptops, encoding=\"Latin-1\")\n",
    "laptops.head()"
   ]
  },
  {
   "cell_type": "code",
   "execution_count": 269,
   "metadata": {},
   "outputs": [
    {
     "data": {
      "text/html": [
       "<div>\n",
       "<style scoped>\n",
       "    .dataframe tbody tr th:only-of-type {\n",
       "        vertical-align: middle;\n",
       "    }\n",
       "\n",
       "    .dataframe tbody tr th {\n",
       "        vertical-align: top;\n",
       "    }\n",
       "\n",
       "    .dataframe thead th {\n",
       "        text-align: right;\n",
       "    }\n",
       "</style>\n",
       "<table border=\"1\" class=\"dataframe\">\n",
       "  <thead>\n",
       "    <tr style=\"text-align: right;\">\n",
       "      <th></th>\n",
       "      <th>company</th>\n",
       "      <th>rank</th>\n",
       "      <th>revenues</th>\n",
       "      <th>revenue_change</th>\n",
       "      <th>profits</th>\n",
       "      <th>assets</th>\n",
       "      <th>profit_change</th>\n",
       "      <th>ceo</th>\n",
       "      <th>industry</th>\n",
       "      <th>sector</th>\n",
       "      <th>previous_rank</th>\n",
       "      <th>country</th>\n",
       "      <th>hq_location</th>\n",
       "      <th>website</th>\n",
       "      <th>years_on_global_500_list</th>\n",
       "      <th>employees</th>\n",
       "      <th>total_stockholder_equity</th>\n",
       "    </tr>\n",
       "  </thead>\n",
       "  <tbody>\n",
       "    <tr>\n",
       "      <th>0</th>\n",
       "      <td>Walmart</td>\n",
       "      <td>1</td>\n",
       "      <td>485873</td>\n",
       "      <td>0.8</td>\n",
       "      <td>13643.0</td>\n",
       "      <td>198825</td>\n",
       "      <td>-7.2</td>\n",
       "      <td>C. Douglas McMillon</td>\n",
       "      <td>General Merchandisers</td>\n",
       "      <td>Retailing</td>\n",
       "      <td>1</td>\n",
       "      <td>USA</td>\n",
       "      <td>Bentonville, AR</td>\n",
       "      <td>http://www.walmart.com</td>\n",
       "      <td>23</td>\n",
       "      <td>2300000</td>\n",
       "      <td>77798</td>\n",
       "    </tr>\n",
       "    <tr>\n",
       "      <th>1</th>\n",
       "      <td>State Grid</td>\n",
       "      <td>2</td>\n",
       "      <td>315199</td>\n",
       "      <td>-4.4</td>\n",
       "      <td>9571.3</td>\n",
       "      <td>489838</td>\n",
       "      <td>-6.2</td>\n",
       "      <td>Kou Wei</td>\n",
       "      <td>Utilities</td>\n",
       "      <td>Eenergy</td>\n",
       "      <td>2</td>\n",
       "      <td>China</td>\n",
       "      <td>Beijing, China</td>\n",
       "      <td>http://www.sgcc.com.cn</td>\n",
       "      <td>17</td>\n",
       "      <td>926067</td>\n",
       "      <td>209456</td>\n",
       "    </tr>\n",
       "    <tr>\n",
       "      <th>2</th>\n",
       "      <td>Sinopec Group</td>\n",
       "      <td>3</td>\n",
       "      <td>267518</td>\n",
       "      <td>-9.1</td>\n",
       "      <td>1257.9</td>\n",
       "      <td>310726</td>\n",
       "      <td>-65.0</td>\n",
       "      <td>Wang Yupu</td>\n",
       "      <td>Petroleum Refining</td>\n",
       "      <td>Energy</td>\n",
       "      <td>4</td>\n",
       "      <td>China</td>\n",
       "      <td>Beijing, China</td>\n",
       "      <td>http://www.sinopec.com</td>\n",
       "      <td>19</td>\n",
       "      <td>713288</td>\n",
       "      <td>106523</td>\n",
       "    </tr>\n",
       "    <tr>\n",
       "      <th>3</th>\n",
       "      <td>China National Petroleum</td>\n",
       "      <td>4</td>\n",
       "      <td>262573</td>\n",
       "      <td>-12.3</td>\n",
       "      <td>1867.5</td>\n",
       "      <td>585619</td>\n",
       "      <td>-73.7</td>\n",
       "      <td>Zhang Jianhua</td>\n",
       "      <td>Petroleum Refining</td>\n",
       "      <td>Energy</td>\n",
       "      <td>3</td>\n",
       "      <td>China</td>\n",
       "      <td>Beijing, China</td>\n",
       "      <td>http://www.cnpc.com.cn</td>\n",
       "      <td>17</td>\n",
       "      <td>1512048</td>\n",
       "      <td>301893</td>\n",
       "    </tr>\n",
       "    <tr>\n",
       "      <th>4</th>\n",
       "      <td>Toyota Motor</td>\n",
       "      <td>5</td>\n",
       "      <td>254694</td>\n",
       "      <td>7.7</td>\n",
       "      <td>16899.3</td>\n",
       "      <td>437575</td>\n",
       "      <td>-12.3</td>\n",
       "      <td>Akio Toyoda</td>\n",
       "      <td>Motor Vehicles and Parts</td>\n",
       "      <td>Motor Vehicles &amp; Parts</td>\n",
       "      <td>8</td>\n",
       "      <td>Japan</td>\n",
       "      <td>Toyota, Japan</td>\n",
       "      <td>http://www.toyota-global.com</td>\n",
       "      <td>23</td>\n",
       "      <td>364445</td>\n",
       "      <td>157210</td>\n",
       "    </tr>\n",
       "  </tbody>\n",
       "</table>\n",
       "</div>"
      ],
      "text/plain": [
       "                    company  rank  revenues  revenue_change  profits  assets  \\\n",
       "0                   Walmart     1    485873             0.8  13643.0  198825   \n",
       "1                State Grid     2    315199            -4.4   9571.3  489838   \n",
       "2             Sinopec Group     3    267518            -9.1   1257.9  310726   \n",
       "3  China National Petroleum     4    262573           -12.3   1867.5  585619   \n",
       "4              Toyota Motor     5    254694             7.7  16899.3  437575   \n",
       "\n",
       "   profit_change                  ceo                  industry  \\\n",
       "0           -7.2  C. Douglas McMillon     General Merchandisers   \n",
       "1           -6.2              Kou Wei                 Utilities   \n",
       "2          -65.0            Wang Yupu        Petroleum Refining   \n",
       "3          -73.7        Zhang Jianhua        Petroleum Refining   \n",
       "4          -12.3          Akio Toyoda  Motor Vehicles and Parts   \n",
       "\n",
       "                   sector  previous_rank country      hq_location  \\\n",
       "0               Retailing              1     USA  Bentonville, AR   \n",
       "1                 Eenergy              2   China   Beijing, China   \n",
       "2                  Energy              4   China   Beijing, China   \n",
       "3                  Energy              3   China   Beijing, China   \n",
       "4  Motor Vehicles & Parts              8   Japan    Toyota, Japan   \n",
       "\n",
       "                        website  years_on_global_500_list  employees  \\\n",
       "0        http://www.walmart.com                        23    2300000   \n",
       "1        http://www.sgcc.com.cn                        17     926067   \n",
       "2        http://www.sinopec.com                        19     713288   \n",
       "3        http://www.cnpc.com.cn                        17    1512048   \n",
       "4  http://www.toyota-global.com                        23     364445   \n",
       "\n",
       "   total_stockholder_equity  \n",
       "0                     77798  \n",
       "1                    209456  \n",
       "2                    106523  \n",
       "3                    301893  \n",
       "4                    157210  "
      ]
     },
     "execution_count": 269,
     "metadata": {},
     "output_type": "execute_result"
    }
   ],
   "source": [
    "# Dataset 2: f500\n",
    "dataset_path = Path.cwd().parent / \"data\" / \"f500.csv\"\n",
    "f500 = pd.read_csv(dataset_path)\n",
    "f500.head()"
   ]
  },
  {
   "cell_type": "markdown",
   "metadata": {},
   "source": [
    "## Data Inspection and Basic Manipulations\n",
    "\n",
    "Before diving into advanced analyses, it is crucial to understand the structure and quality of your data. Pandas provides a rich set of tools to quickly inspect, summarize, and manipulate datasets. "
   ]
  },
  {
   "cell_type": "markdown",
   "metadata": {},
   "source": [
    "### Data Inspection"
   ]
  },
  {
   "cell_type": "markdown",
   "metadata": {},
   "source": [
    "Check the size, number of rows and columns, of the dataset."
   ]
  },
  {
   "cell_type": "code",
   "execution_count": 270,
   "metadata": {},
   "outputs": [
    {
     "name": "stdout",
     "output_type": "stream",
     "text": [
      "Number of rows: 1303\n",
      "Number of columns: 13\n",
      "Column names: Index(['Manufacturer', 'Model Name', 'Category', 'Screen Size', 'Screen',\n",
      "       'CPU', 'RAM', ' Storage', 'GPU', 'Operating System',\n",
      "       'Operating System Version', 'Weight', 'Price (Euros)'],\n",
      "      dtype='object')\n"
     ]
    }
   ],
   "source": [
    "print(f\"Number of rows: {laptops.shape[0]}\")\n",
    "print(f\"Number of columns: {laptops.shape[1]}\")\n",
    "print(f\"Column names: {laptops.columns}\")"
   ]
  },
  {
   "cell_type": "markdown",
   "metadata": {},
   "source": [
    "Show the first 3 rows of the dataset."
   ]
  },
  {
   "cell_type": "code",
   "execution_count": 271,
   "metadata": {},
   "outputs": [
    {
     "data": {
      "text/html": [
       "<div>\n",
       "<style scoped>\n",
       "    .dataframe tbody tr th:only-of-type {\n",
       "        vertical-align: middle;\n",
       "    }\n",
       "\n",
       "    .dataframe tbody tr th {\n",
       "        vertical-align: top;\n",
       "    }\n",
       "\n",
       "    .dataframe thead th {\n",
       "        text-align: right;\n",
       "    }\n",
       "</style>\n",
       "<table border=\"1\" class=\"dataframe\">\n",
       "  <thead>\n",
       "    <tr style=\"text-align: right;\">\n",
       "      <th></th>\n",
       "      <th>Manufacturer</th>\n",
       "      <th>Model Name</th>\n",
       "      <th>Category</th>\n",
       "      <th>Screen Size</th>\n",
       "      <th>Screen</th>\n",
       "      <th>CPU</th>\n",
       "      <th>RAM</th>\n",
       "      <th>Storage</th>\n",
       "      <th>GPU</th>\n",
       "      <th>Operating System</th>\n",
       "      <th>Operating System Version</th>\n",
       "      <th>Weight</th>\n",
       "      <th>Price (Euros)</th>\n",
       "    </tr>\n",
       "  </thead>\n",
       "  <tbody>\n",
       "    <tr>\n",
       "      <th>0</th>\n",
       "      <td>Apple</td>\n",
       "      <td>MacBook Pro</td>\n",
       "      <td>Ultrabook</td>\n",
       "      <td>13.3\"</td>\n",
       "      <td>IPS Panel Retina Display 2560x1600</td>\n",
       "      <td>Intel Core i5 2.3GHz</td>\n",
       "      <td>8GB</td>\n",
       "      <td>128GB SSD</td>\n",
       "      <td>Intel Iris Plus Graphics 640</td>\n",
       "      <td>macOS</td>\n",
       "      <td>NaN</td>\n",
       "      <td>1.37kg</td>\n",
       "      <td>1339,69</td>\n",
       "    </tr>\n",
       "    <tr>\n",
       "      <th>1</th>\n",
       "      <td>Apple</td>\n",
       "      <td>Macbook Air</td>\n",
       "      <td>Ultrabook</td>\n",
       "      <td>13.3\"</td>\n",
       "      <td>1440x900</td>\n",
       "      <td>Intel Core i5 1.8GHz</td>\n",
       "      <td>8GB</td>\n",
       "      <td>128GB Flash Storage</td>\n",
       "      <td>Intel HD Graphics 6000</td>\n",
       "      <td>macOS</td>\n",
       "      <td>NaN</td>\n",
       "      <td>1.34kg</td>\n",
       "      <td>898,94</td>\n",
       "    </tr>\n",
       "    <tr>\n",
       "      <th>2</th>\n",
       "      <td>HP</td>\n",
       "      <td>250 G6</td>\n",
       "      <td>Notebook</td>\n",
       "      <td>15.6\"</td>\n",
       "      <td>Full HD 1920x1080</td>\n",
       "      <td>Intel Core i5 7200U 2.5GHz</td>\n",
       "      <td>8GB</td>\n",
       "      <td>256GB SSD</td>\n",
       "      <td>Intel HD Graphics 620</td>\n",
       "      <td>No OS</td>\n",
       "      <td>NaN</td>\n",
       "      <td>1.86kg</td>\n",
       "      <td>575,00</td>\n",
       "    </tr>\n",
       "  </tbody>\n",
       "</table>\n",
       "</div>"
      ],
      "text/plain": [
       "  Manufacturer   Model Name   Category Screen Size  \\\n",
       "0        Apple  MacBook Pro  Ultrabook       13.3\"   \n",
       "1        Apple  Macbook Air  Ultrabook       13.3\"   \n",
       "2           HP       250 G6   Notebook       15.6\"   \n",
       "\n",
       "                               Screen                         CPU  RAM  \\\n",
       "0  IPS Panel Retina Display 2560x1600        Intel Core i5 2.3GHz  8GB   \n",
       "1                            1440x900        Intel Core i5 1.8GHz  8GB   \n",
       "2                   Full HD 1920x1080  Intel Core i5 7200U 2.5GHz  8GB   \n",
       "\n",
       "               Storage                           GPU Operating System  \\\n",
       "0            128GB SSD  Intel Iris Plus Graphics 640            macOS   \n",
       "1  128GB Flash Storage        Intel HD Graphics 6000            macOS   \n",
       "2            256GB SSD         Intel HD Graphics 620            No OS   \n",
       "\n",
       "  Operating System Version  Weight Price (Euros)  \n",
       "0                      NaN  1.37kg       1339,69  \n",
       "1                      NaN  1.34kg        898,94  \n",
       "2                      NaN  1.86kg        575,00  "
      ]
     },
     "execution_count": 271,
     "metadata": {},
     "output_type": "execute_result"
    }
   ],
   "source": [
    "laptops.head(3)"
   ]
  },
  {
   "cell_type": "markdown",
   "metadata": {},
   "source": [
    "Show the last 3 rows of the dataset."
   ]
  },
  {
   "cell_type": "code",
   "execution_count": 272,
   "metadata": {},
   "outputs": [
    {
     "data": {
      "text/html": [
       "<div>\n",
       "<style scoped>\n",
       "    .dataframe tbody tr th:only-of-type {\n",
       "        vertical-align: middle;\n",
       "    }\n",
       "\n",
       "    .dataframe tbody tr th {\n",
       "        vertical-align: top;\n",
       "    }\n",
       "\n",
       "    .dataframe thead th {\n",
       "        text-align: right;\n",
       "    }\n",
       "</style>\n",
       "<table border=\"1\" class=\"dataframe\">\n",
       "  <thead>\n",
       "    <tr style=\"text-align: right;\">\n",
       "      <th></th>\n",
       "      <th>Manufacturer</th>\n",
       "      <th>Model Name</th>\n",
       "      <th>Category</th>\n",
       "      <th>Screen Size</th>\n",
       "      <th>Screen</th>\n",
       "      <th>CPU</th>\n",
       "      <th>RAM</th>\n",
       "      <th>Storage</th>\n",
       "      <th>GPU</th>\n",
       "      <th>Operating System</th>\n",
       "      <th>Operating System Version</th>\n",
       "      <th>Weight</th>\n",
       "      <th>Price (Euros)</th>\n",
       "    </tr>\n",
       "  </thead>\n",
       "  <tbody>\n",
       "    <tr>\n",
       "      <th>1300</th>\n",
       "      <td>Lenovo</td>\n",
       "      <td>IdeaPad 100S-14IBR</td>\n",
       "      <td>Notebook</td>\n",
       "      <td>14.0\"</td>\n",
       "      <td>1366x768</td>\n",
       "      <td>Intel Celeron Dual Core N3050 1.6GHz</td>\n",
       "      <td>2GB</td>\n",
       "      <td>64GB Flash Storage</td>\n",
       "      <td>Intel HD Graphics</td>\n",
       "      <td>Windows</td>\n",
       "      <td>10</td>\n",
       "      <td>1.5kg</td>\n",
       "      <td>229,00</td>\n",
       "    </tr>\n",
       "    <tr>\n",
       "      <th>1301</th>\n",
       "      <td>HP</td>\n",
       "      <td>15-AC110nv (i7-6500U/6GB/1TB/Radeon</td>\n",
       "      <td>Notebook</td>\n",
       "      <td>15.6\"</td>\n",
       "      <td>1366x768</td>\n",
       "      <td>Intel Core i7 6500U 2.5GHz</td>\n",
       "      <td>6GB</td>\n",
       "      <td>1TB HDD</td>\n",
       "      <td>AMD Radeon R5 M330</td>\n",
       "      <td>Windows</td>\n",
       "      <td>10</td>\n",
       "      <td>2.19kg</td>\n",
       "      <td>764,00</td>\n",
       "    </tr>\n",
       "    <tr>\n",
       "      <th>1302</th>\n",
       "      <td>Asus</td>\n",
       "      <td>X553SA-XX031T (N3050/4GB/500GB/W10)</td>\n",
       "      <td>Notebook</td>\n",
       "      <td>15.6\"</td>\n",
       "      <td>1366x768</td>\n",
       "      <td>Intel Celeron Dual Core N3050 1.6GHz</td>\n",
       "      <td>4GB</td>\n",
       "      <td>500GB HDD</td>\n",
       "      <td>Intel HD Graphics</td>\n",
       "      <td>Windows</td>\n",
       "      <td>10</td>\n",
       "      <td>2.2kg</td>\n",
       "      <td>369,00</td>\n",
       "    </tr>\n",
       "  </tbody>\n",
       "</table>\n",
       "</div>"
      ],
      "text/plain": [
       "     Manufacturer                           Model Name  Category Screen Size  \\\n",
       "1300       Lenovo                   IdeaPad 100S-14IBR  Notebook       14.0\"   \n",
       "1301           HP  15-AC110nv (i7-6500U/6GB/1TB/Radeon  Notebook       15.6\"   \n",
       "1302         Asus  X553SA-XX031T (N3050/4GB/500GB/W10)  Notebook       15.6\"   \n",
       "\n",
       "        Screen                                   CPU  RAM             Storage  \\\n",
       "1300  1366x768  Intel Celeron Dual Core N3050 1.6GHz  2GB  64GB Flash Storage   \n",
       "1301  1366x768            Intel Core i7 6500U 2.5GHz  6GB             1TB HDD   \n",
       "1302  1366x768  Intel Celeron Dual Core N3050 1.6GHz  4GB           500GB HDD   \n",
       "\n",
       "                     GPU Operating System Operating System Version  Weight  \\\n",
       "1300   Intel HD Graphics          Windows                       10   1.5kg   \n",
       "1301  AMD Radeon R5 M330          Windows                       10  2.19kg   \n",
       "1302   Intel HD Graphics          Windows                       10   2.2kg   \n",
       "\n",
       "     Price (Euros)  \n",
       "1300        229,00  \n",
       "1301        764,00  \n",
       "1302        369,00  "
      ]
     },
     "execution_count": 272,
     "metadata": {},
     "output_type": "execute_result"
    }
   ],
   "source": [
    "laptops.tail(3)"
   ]
  },
  {
   "cell_type": "markdown",
   "metadata": {},
   "source": [
    "Show 3 random rows:"
   ]
  },
  {
   "cell_type": "code",
   "execution_count": 273,
   "metadata": {},
   "outputs": [
    {
     "data": {
      "text/html": [
       "<div>\n",
       "<style scoped>\n",
       "    .dataframe tbody tr th:only-of-type {\n",
       "        vertical-align: middle;\n",
       "    }\n",
       "\n",
       "    .dataframe tbody tr th {\n",
       "        vertical-align: top;\n",
       "    }\n",
       "\n",
       "    .dataframe thead th {\n",
       "        text-align: right;\n",
       "    }\n",
       "</style>\n",
       "<table border=\"1\" class=\"dataframe\">\n",
       "  <thead>\n",
       "    <tr style=\"text-align: right;\">\n",
       "      <th></th>\n",
       "      <th>Manufacturer</th>\n",
       "      <th>Model Name</th>\n",
       "      <th>Category</th>\n",
       "      <th>Screen Size</th>\n",
       "      <th>Screen</th>\n",
       "      <th>CPU</th>\n",
       "      <th>RAM</th>\n",
       "      <th>Storage</th>\n",
       "      <th>GPU</th>\n",
       "      <th>Operating System</th>\n",
       "      <th>Operating System Version</th>\n",
       "      <th>Weight</th>\n",
       "      <th>Price (Euros)</th>\n",
       "    </tr>\n",
       "  </thead>\n",
       "  <tbody>\n",
       "    <tr>\n",
       "      <th>71</th>\n",
       "      <td>Dell</td>\n",
       "      <td>Inspiron 5370</td>\n",
       "      <td>Ultrabook</td>\n",
       "      <td>13.3\"</td>\n",
       "      <td>IPS Panel Full HD 1920x1080</td>\n",
       "      <td>Intel Core i7 8550U 1.8GHz</td>\n",
       "      <td>8GB</td>\n",
       "      <td>256GB SSD</td>\n",
       "      <td>AMD Radeon 530</td>\n",
       "      <td>Windows</td>\n",
       "      <td>10</td>\n",
       "      <td>1.4kg</td>\n",
       "      <td>955,00</td>\n",
       "    </tr>\n",
       "    <tr>\n",
       "      <th>957</th>\n",
       "      <td>HP</td>\n",
       "      <td>ProBook x360</td>\n",
       "      <td>2 in 1 Convertible</td>\n",
       "      <td>11.6\"</td>\n",
       "      <td>Touchscreen 1366x768</td>\n",
       "      <td>Intel Pentium Quad Core N4200 1.1GHz</td>\n",
       "      <td>4GB</td>\n",
       "      <td>256GB SSD</td>\n",
       "      <td>Intel HD Graphics 505</td>\n",
       "      <td>Windows</td>\n",
       "      <td>10</td>\n",
       "      <td>1.45kg</td>\n",
       "      <td>775,00</td>\n",
       "    </tr>\n",
       "    <tr>\n",
       "      <th>704</th>\n",
       "      <td>Lenovo</td>\n",
       "      <td>V310-15ISK (i3-6006U/4GB/500GB/No</td>\n",
       "      <td>Notebook</td>\n",
       "      <td>15.6\"</td>\n",
       "      <td>1366x768</td>\n",
       "      <td>Intel Core i3 6006U 2GHz</td>\n",
       "      <td>4GB</td>\n",
       "      <td>500GB HDD</td>\n",
       "      <td>Intel HD Graphics 520</td>\n",
       "      <td>No OS</td>\n",
       "      <td>NaN</td>\n",
       "      <td>1.90kg</td>\n",
       "      <td>450,00</td>\n",
       "    </tr>\n",
       "  </tbody>\n",
       "</table>\n",
       "</div>"
      ],
      "text/plain": [
       "    Manufacturer                         Model Name            Category  \\\n",
       "71          Dell                      Inspiron 5370           Ultrabook   \n",
       "957           HP                       ProBook x360  2 in 1 Convertible   \n",
       "704       Lenovo  V310-15ISK (i3-6006U/4GB/500GB/No            Notebook   \n",
       "\n",
       "    Screen Size                       Screen  \\\n",
       "71        13.3\"  IPS Panel Full HD 1920x1080   \n",
       "957       11.6\"         Touchscreen 1366x768   \n",
       "704       15.6\"                     1366x768   \n",
       "\n",
       "                                      CPU  RAM    Storage  \\\n",
       "71             Intel Core i7 8550U 1.8GHz  8GB  256GB SSD   \n",
       "957  Intel Pentium Quad Core N4200 1.1GHz  4GB  256GB SSD   \n",
       "704              Intel Core i3 6006U 2GHz  4GB  500GB HDD   \n",
       "\n",
       "                       GPU Operating System Operating System Version  Weight  \\\n",
       "71          AMD Radeon 530          Windows                       10   1.4kg   \n",
       "957  Intel HD Graphics 505          Windows                       10  1.45kg   \n",
       "704  Intel HD Graphics 520            No OS                      NaN  1.90kg   \n",
       "\n",
       "    Price (Euros)  \n",
       "71         955,00  \n",
       "957        775,00  \n",
       "704        450,00  "
      ]
     },
     "execution_count": 273,
     "metadata": {},
     "output_type": "execute_result"
    }
   ],
   "source": [
    "laptops.sample(3)  # Randomly sample n rows from the DataFrame,\n",
    "# useful for getting a diverse glimpse of the data."
   ]
  },
  {
   "cell_type": "code",
   "execution_count": 274,
   "metadata": {},
   "outputs": [
    {
     "data": {
      "text/html": [
       "<div>\n",
       "<style scoped>\n",
       "    .dataframe tbody tr th:only-of-type {\n",
       "        vertical-align: middle;\n",
       "    }\n",
       "\n",
       "    .dataframe tbody tr th {\n",
       "        vertical-align: top;\n",
       "    }\n",
       "\n",
       "    .dataframe thead th {\n",
       "        text-align: right;\n",
       "    }\n",
       "</style>\n",
       "<table border=\"1\" class=\"dataframe\">\n",
       "  <thead>\n",
       "    <tr style=\"text-align: right;\">\n",
       "      <th></th>\n",
       "      <th>Manufacturer</th>\n",
       "      <th>Model Name</th>\n",
       "      <th>Category</th>\n",
       "      <th>Screen Size</th>\n",
       "      <th>Screen</th>\n",
       "      <th>CPU</th>\n",
       "      <th>RAM</th>\n",
       "      <th>Storage</th>\n",
       "      <th>GPU</th>\n",
       "      <th>Operating System</th>\n",
       "      <th>Operating System Version</th>\n",
       "      <th>Weight</th>\n",
       "      <th>Price (Euros)</th>\n",
       "    </tr>\n",
       "  </thead>\n",
       "  <tbody>\n",
       "    <tr>\n",
       "      <th>483</th>\n",
       "      <td>Chuwi</td>\n",
       "      <td>Lapbook 15,6</td>\n",
       "      <td>Notebook</td>\n",
       "      <td>15.6\"</td>\n",
       "      <td>Full HD 1920x1080</td>\n",
       "      <td>Intel Atom x5-Z8350 1.44GHz</td>\n",
       "      <td>4GB</td>\n",
       "      <td>64GB Flash Storage</td>\n",
       "      <td>Intel HD Graphics</td>\n",
       "      <td>Windows</td>\n",
       "      <td>10</td>\n",
       "      <td>1.89kg</td>\n",
       "      <td>248,90</td>\n",
       "    </tr>\n",
       "    <tr>\n",
       "      <th>324</th>\n",
       "      <td>Acer</td>\n",
       "      <td>Aspire 5</td>\n",
       "      <td>Notebook</td>\n",
       "      <td>15.6\"</td>\n",
       "      <td>1366x768</td>\n",
       "      <td>AMD A12-Series 9720P 2.7GHz</td>\n",
       "      <td>8GB</td>\n",
       "      <td>256GB SSD</td>\n",
       "      <td>AMD Radeon RX 540</td>\n",
       "      <td>Windows</td>\n",
       "      <td>10</td>\n",
       "      <td>2.2kg</td>\n",
       "      <td>659,00</td>\n",
       "    </tr>\n",
       "    <tr>\n",
       "      <th>696</th>\n",
       "      <td>Lenovo</td>\n",
       "      <td>Yoga 910-13IKB</td>\n",
       "      <td>2 in 1 Convertible</td>\n",
       "      <td>14.0\"</td>\n",
       "      <td>Full HD / Touchscreen 1920x1080</td>\n",
       "      <td>Intel Core i7 7500U 2.7GHz</td>\n",
       "      <td>16GB</td>\n",
       "      <td>512GB SSD</td>\n",
       "      <td>Intel HD Graphics 620</td>\n",
       "      <td>Windows</td>\n",
       "      <td>10</td>\n",
       "      <td>1.38kg</td>\n",
       "      <td>1749,00</td>\n",
       "    </tr>\n",
       "  </tbody>\n",
       "</table>\n",
       "</div>"
      ],
      "text/plain": [
       "    Manufacturer      Model Name            Category Screen Size  \\\n",
       "483        Chuwi    Lapbook 15,6            Notebook       15.6\"   \n",
       "324         Acer        Aspire 5            Notebook       15.6\"   \n",
       "696       Lenovo  Yoga 910-13IKB  2 in 1 Convertible       14.0\"   \n",
       "\n",
       "                              Screen                          CPU   RAM  \\\n",
       "483                Full HD 1920x1080  Intel Atom x5-Z8350 1.44GHz   4GB   \n",
       "324                         1366x768  AMD A12-Series 9720P 2.7GHz   8GB   \n",
       "696  Full HD / Touchscreen 1920x1080   Intel Core i7 7500U 2.7GHz  16GB   \n",
       "\n",
       "                Storage                    GPU Operating System  \\\n",
       "483  64GB Flash Storage      Intel HD Graphics          Windows   \n",
       "324           256GB SSD      AMD Radeon RX 540          Windows   \n",
       "696           512GB SSD  Intel HD Graphics 620          Windows   \n",
       "\n",
       "    Operating System Version  Weight Price (Euros)  \n",
       "483                       10  1.89kg        248,90  \n",
       "324                       10   2.2kg        659,00  \n",
       "696                       10  1.38kg       1749,00  "
      ]
     },
     "execution_count": 274,
     "metadata": {},
     "output_type": "execute_result"
    }
   ],
   "source": [
    "# Test Ervin\n",
    "laptops.sample(3, random_state=20519161)  # Randomly sample n rows from the DataFrame,\n",
    "# useful for getting a diverse glimpse of the data."
   ]
  },
  {
   "cell_type": "markdown",
   "metadata": {},
   "source": [
    "Displays the data type of each column, which is crucial for ensuring proper data manipulation and analysis."
   ]
  },
  {
   "cell_type": "code",
   "execution_count": 275,
   "metadata": {},
   "outputs": [
    {
     "data": {
      "text/plain": [
       "Manufacturer                object\n",
       "Model Name                  object\n",
       "Category                    object\n",
       "Screen Size                 object\n",
       "Screen                      object\n",
       "CPU                         object\n",
       "RAM                         object\n",
       " Storage                    object\n",
       "GPU                         object\n",
       "Operating System            object\n",
       "Operating System Version    object\n",
       "Weight                      object\n",
       "Price (Euros)               object\n",
       "dtype: object"
      ]
     },
     "execution_count": 275,
     "metadata": {},
     "output_type": "execute_result"
    }
   ],
   "source": [
    "laptops.dtypes"
   ]
  },
  {
   "cell_type": "markdown",
   "metadata": {},
   "source": [
    "Show the dataset information. Provides a concise summary of the DataFrame, including the number of non-null entries, data types of each column, and memory usage."
   ]
  },
  {
   "cell_type": "code",
   "execution_count": 276,
   "metadata": {},
   "outputs": [
    {
     "name": "stdout",
     "output_type": "stream",
     "text": [
      "<class 'pandas.core.frame.DataFrame'>\n",
      "RangeIndex: 1303 entries, 0 to 1302\n",
      "Data columns (total 13 columns):\n",
      " #   Column                    Non-Null Count  Dtype \n",
      "---  ------                    --------------  ----- \n",
      " 0   Manufacturer              1303 non-null   object\n",
      " 1   Model Name                1302 non-null   object\n",
      " 2   Category                  1302 non-null   object\n",
      " 3   Screen Size               1303 non-null   object\n",
      " 4   Screen                    1303 non-null   object\n",
      " 5   CPU                       1303 non-null   object\n",
      " 6   RAM                       1303 non-null   object\n",
      " 7    Storage                  1303 non-null   object\n",
      " 8   GPU                       1303 non-null   object\n",
      " 9   Operating System          1303 non-null   object\n",
      " 10  Operating System Version  1133 non-null   object\n",
      " 11  Weight                    1303 non-null   object\n",
      " 12  Price (Euros)             1303 non-null   object\n",
      "dtypes: object(13)\n",
      "memory usage: 979.9 KB\n"
     ]
    }
   ],
   "source": [
    "laptops.info(memory_usage=\"deep\")  # memory_usage=\"deep\" to get the exact memory usage"
   ]
  },
  {
   "cell_type": "code",
   "execution_count": 277,
   "metadata": {},
   "outputs": [
    {
     "name": "stdout",
     "output_type": "stream",
     "text": [
      "<class 'pandas.core.frame.DataFrame'>\n",
      "RangeIndex: 500 entries, 0 to 499\n",
      "Data columns (total 17 columns):\n",
      " #   Column                    Non-Null Count  Dtype  \n",
      "---  ------                    --------------  -----  \n",
      " 0   company                   500 non-null    object \n",
      " 1   rank                      500 non-null    int64  \n",
      " 2   revenues                  500 non-null    int64  \n",
      " 3   revenue_change            498 non-null    float64\n",
      " 4   profits                   499 non-null    float64\n",
      " 5   assets                    500 non-null    int64  \n",
      " 6   profit_change             436 non-null    float64\n",
      " 7   ceo                       500 non-null    object \n",
      " 8   industry                  500 non-null    object \n",
      " 9   sector                    500 non-null    object \n",
      " 10  previous_rank             500 non-null    int64  \n",
      " 11  country                   500 non-null    object \n",
      " 12  hq_location               500 non-null    object \n",
      " 13  website                   500 non-null    object \n",
      " 14  years_on_global_500_list  500 non-null    int64  \n",
      " 15  employees                 500 non-null    int64  \n",
      " 16  total_stockholder_equity  500 non-null    int64  \n",
      "dtypes: float64(3), int64(7), object(7)\n",
      "memory usage: 259.5 KB\n"
     ]
    }
   ],
   "source": [
    "f500.info(memory_usage=\"deep\")"
   ]
  },
  {
   "cell_type": "markdown",
   "metadata": {},
   "source": [
    "Dataframe Describe Method [`pandas.DataFrame.describe`](https://pandas.pydata.org/docs/reference/api/pandas.DataFrame.describe.html): Descriptive statistics include those that summarize the central tendency, dispersion and shape of a dataset’s distribution, excluding NaN values. Analyzes both numeric and object series, as well as DataFrame column sets of mixed data types. The output will vary depending on what is provided. "
   ]
  },
  {
   "cell_type": "code",
   "execution_count": 278,
   "metadata": {},
   "outputs": [
    {
     "data": {
      "text/html": [
       "<div>\n",
       "<style scoped>\n",
       "    .dataframe tbody tr th:only-of-type {\n",
       "        vertical-align: middle;\n",
       "    }\n",
       "\n",
       "    .dataframe tbody tr th {\n",
       "        vertical-align: top;\n",
       "    }\n",
       "\n",
       "    .dataframe thead th {\n",
       "        text-align: right;\n",
       "    }\n",
       "</style>\n",
       "<table border=\"1\" class=\"dataframe\">\n",
       "  <thead>\n",
       "    <tr style=\"text-align: right;\">\n",
       "      <th></th>\n",
       "      <th>rank</th>\n",
       "      <th>revenues</th>\n",
       "      <th>revenue_change</th>\n",
       "      <th>profits</th>\n",
       "      <th>assets</th>\n",
       "      <th>profit_change</th>\n",
       "      <th>previous_rank</th>\n",
       "      <th>years_on_global_500_list</th>\n",
       "      <th>employees</th>\n",
       "      <th>total_stockholder_equity</th>\n",
       "    </tr>\n",
       "  </thead>\n",
       "  <tbody>\n",
       "    <tr>\n",
       "      <th>count</th>\n",
       "      <td>500.000000</td>\n",
       "      <td>500.000000</td>\n",
       "      <td>498.000000</td>\n",
       "      <td>499.000000</td>\n",
       "      <td>5.000000e+02</td>\n",
       "      <td>436.000000</td>\n",
       "      <td>500.000000</td>\n",
       "      <td>500.000000</td>\n",
       "      <td>5.000000e+02</td>\n",
       "      <td>500.000000</td>\n",
       "    </tr>\n",
       "    <tr>\n",
       "      <th>mean</th>\n",
       "      <td>250.500000</td>\n",
       "      <td>55416.358000</td>\n",
       "      <td>4.538353</td>\n",
       "      <td>3055.203206</td>\n",
       "      <td>2.436323e+05</td>\n",
       "      <td>24.152752</td>\n",
       "      <td>222.134000</td>\n",
       "      <td>15.036000</td>\n",
       "      <td>1.339983e+05</td>\n",
       "      <td>30628.076000</td>\n",
       "    </tr>\n",
       "    <tr>\n",
       "      <th>std</th>\n",
       "      <td>144.481833</td>\n",
       "      <td>45725.478963</td>\n",
       "      <td>28.549067</td>\n",
       "      <td>5171.981071</td>\n",
       "      <td>4.851937e+05</td>\n",
       "      <td>437.509566</td>\n",
       "      <td>146.941961</td>\n",
       "      <td>7.932752</td>\n",
       "      <td>1.700878e+05</td>\n",
       "      <td>43642.576833</td>\n",
       "    </tr>\n",
       "    <tr>\n",
       "      <th>min</th>\n",
       "      <td>1.000000</td>\n",
       "      <td>21609.000000</td>\n",
       "      <td>-67.300000</td>\n",
       "      <td>-13038.000000</td>\n",
       "      <td>3.717000e+03</td>\n",
       "      <td>-793.700000</td>\n",
       "      <td>0.000000</td>\n",
       "      <td>1.000000</td>\n",
       "      <td>3.280000e+02</td>\n",
       "      <td>-59909.000000</td>\n",
       "    </tr>\n",
       "    <tr>\n",
       "      <th>25%</th>\n",
       "      <td>125.750000</td>\n",
       "      <td>29003.000000</td>\n",
       "      <td>-5.900000</td>\n",
       "      <td>556.950000</td>\n",
       "      <td>3.658850e+04</td>\n",
       "      <td>-22.775000</td>\n",
       "      <td>92.750000</td>\n",
       "      <td>7.000000</td>\n",
       "      <td>4.293250e+04</td>\n",
       "      <td>7553.750000</td>\n",
       "    </tr>\n",
       "    <tr>\n",
       "      <th>50%</th>\n",
       "      <td>250.500000</td>\n",
       "      <td>40236.000000</td>\n",
       "      <td>0.550000</td>\n",
       "      <td>1761.600000</td>\n",
       "      <td>7.326150e+04</td>\n",
       "      <td>-0.350000</td>\n",
       "      <td>219.500000</td>\n",
       "      <td>17.000000</td>\n",
       "      <td>9.291050e+04</td>\n",
       "      <td>15809.500000</td>\n",
       "    </tr>\n",
       "    <tr>\n",
       "      <th>75%</th>\n",
       "      <td>375.250000</td>\n",
       "      <td>63926.750000</td>\n",
       "      <td>6.975000</td>\n",
       "      <td>3954.000000</td>\n",
       "      <td>1.805640e+05</td>\n",
       "      <td>17.700000</td>\n",
       "      <td>347.250000</td>\n",
       "      <td>23.000000</td>\n",
       "      <td>1.689172e+05</td>\n",
       "      <td>37828.500000</td>\n",
       "    </tr>\n",
       "    <tr>\n",
       "      <th>max</th>\n",
       "      <td>500.000000</td>\n",
       "      <td>485873.000000</td>\n",
       "      <td>442.300000</td>\n",
       "      <td>45687.000000</td>\n",
       "      <td>3.473238e+06</td>\n",
       "      <td>8909.500000</td>\n",
       "      <td>500.000000</td>\n",
       "      <td>23.000000</td>\n",
       "      <td>2.300000e+06</td>\n",
       "      <td>301893.000000</td>\n",
       "    </tr>\n",
       "  </tbody>\n",
       "</table>\n",
       "</div>"
      ],
      "text/plain": [
       "             rank       revenues  revenue_change       profits        assets  \\\n",
       "count  500.000000     500.000000      498.000000    499.000000  5.000000e+02   \n",
       "mean   250.500000   55416.358000        4.538353   3055.203206  2.436323e+05   \n",
       "std    144.481833   45725.478963       28.549067   5171.981071  4.851937e+05   \n",
       "min      1.000000   21609.000000      -67.300000 -13038.000000  3.717000e+03   \n",
       "25%    125.750000   29003.000000       -5.900000    556.950000  3.658850e+04   \n",
       "50%    250.500000   40236.000000        0.550000   1761.600000  7.326150e+04   \n",
       "75%    375.250000   63926.750000        6.975000   3954.000000  1.805640e+05   \n",
       "max    500.000000  485873.000000      442.300000  45687.000000  3.473238e+06   \n",
       "\n",
       "       profit_change  previous_rank  years_on_global_500_list     employees  \\\n",
       "count     436.000000     500.000000                500.000000  5.000000e+02   \n",
       "mean       24.152752     222.134000                 15.036000  1.339983e+05   \n",
       "std       437.509566     146.941961                  7.932752  1.700878e+05   \n",
       "min      -793.700000       0.000000                  1.000000  3.280000e+02   \n",
       "25%       -22.775000      92.750000                  7.000000  4.293250e+04   \n",
       "50%        -0.350000     219.500000                 17.000000  9.291050e+04   \n",
       "75%        17.700000     347.250000                 23.000000  1.689172e+05   \n",
       "max      8909.500000     500.000000                 23.000000  2.300000e+06   \n",
       "\n",
       "       total_stockholder_equity  \n",
       "count                500.000000  \n",
       "mean               30628.076000  \n",
       "std                43642.576833  \n",
       "min               -59909.000000  \n",
       "25%                 7553.750000  \n",
       "50%                15809.500000  \n",
       "75%                37828.500000  \n",
       "max               301893.000000  "
      ]
     },
     "execution_count": 278,
     "metadata": {},
     "output_type": "execute_result"
    }
   ],
   "source": [
    "f500.describe()  # The result will include all numeric columns."
   ]
  },
  {
   "cell_type": "code",
   "execution_count": 279,
   "metadata": {},
   "outputs": [
    {
     "data": {
      "text/html": [
       "<div>\n",
       "<style scoped>\n",
       "    .dataframe tbody tr th:only-of-type {\n",
       "        vertical-align: middle;\n",
       "    }\n",
       "\n",
       "    .dataframe tbody tr th {\n",
       "        vertical-align: top;\n",
       "    }\n",
       "\n",
       "    .dataframe thead th {\n",
       "        text-align: right;\n",
       "    }\n",
       "</style>\n",
       "<table border=\"1\" class=\"dataframe\">\n",
       "  <thead>\n",
       "    <tr style=\"text-align: right;\">\n",
       "      <th></th>\n",
       "      <th>company</th>\n",
       "      <th>ceo</th>\n",
       "      <th>industry</th>\n",
       "      <th>sector</th>\n",
       "      <th>country</th>\n",
       "      <th>hq_location</th>\n",
       "      <th>website</th>\n",
       "    </tr>\n",
       "  </thead>\n",
       "  <tbody>\n",
       "    <tr>\n",
       "      <th>count</th>\n",
       "      <td>500</td>\n",
       "      <td>500</td>\n",
       "      <td>500</td>\n",
       "      <td>500</td>\n",
       "      <td>500</td>\n",
       "      <td>500</td>\n",
       "      <td>500</td>\n",
       "    </tr>\n",
       "    <tr>\n",
       "      <th>unique</th>\n",
       "      <td>500</td>\n",
       "      <td>500</td>\n",
       "      <td>58</td>\n",
       "      <td>26</td>\n",
       "      <td>34</td>\n",
       "      <td>235</td>\n",
       "      <td>500</td>\n",
       "    </tr>\n",
       "    <tr>\n",
       "      <th>top</th>\n",
       "      <td>AutoNation</td>\n",
       "      <td>Michael J. Jackson</td>\n",
       "      <td>Banks: Commercial and Savings</td>\n",
       "      <td>Financials</td>\n",
       "      <td>USA</td>\n",
       "      <td>Beijing, China</td>\n",
       "      <td>http://www.autonation.com</td>\n",
       "    </tr>\n",
       "    <tr>\n",
       "      <th>freq</th>\n",
       "      <td>1</td>\n",
       "      <td>1</td>\n",
       "      <td>51</td>\n",
       "      <td>118</td>\n",
       "      <td>132</td>\n",
       "      <td>56</td>\n",
       "      <td>1</td>\n",
       "    </tr>\n",
       "  </tbody>\n",
       "</table>\n",
       "</div>"
      ],
      "text/plain": [
       "           company                 ceo                       industry  \\\n",
       "count          500                 500                            500   \n",
       "unique         500                 500                             58   \n",
       "top     AutoNation  Michael J. Jackson  Banks: Commercial and Savings   \n",
       "freq             1                   1                             51   \n",
       "\n",
       "            sector country     hq_location                    website  \n",
       "count          500     500             500                        500  \n",
       "unique          26      34             235                        500  \n",
       "top     Financials     USA  Beijing, China  http://www.autonation.com  \n",
       "freq           118     132              56                          1  "
      ]
     },
     "execution_count": 279,
     "metadata": {},
     "output_type": "execute_result"
    }
   ],
   "source": [
    "f500.describe(include=[\"O\"])  # The result will include all object columns."
   ]
  },
  {
   "cell_type": "code",
   "execution_count": 280,
   "metadata": {},
   "outputs": [
    {
     "data": {
      "text/html": [
       "<div>\n",
       "<style scoped>\n",
       "    .dataframe tbody tr th:only-of-type {\n",
       "        vertical-align: middle;\n",
       "    }\n",
       "\n",
       "    .dataframe tbody tr th {\n",
       "        vertical-align: top;\n",
       "    }\n",
       "\n",
       "    .dataframe thead th {\n",
       "        text-align: right;\n",
       "    }\n",
       "</style>\n",
       "<table border=\"1\" class=\"dataframe\">\n",
       "  <thead>\n",
       "    <tr style=\"text-align: right;\">\n",
       "      <th></th>\n",
       "      <th>Manufacturer</th>\n",
       "      <th>Model Name</th>\n",
       "      <th>Category</th>\n",
       "      <th>Screen Size</th>\n",
       "      <th>Screen</th>\n",
       "      <th>CPU</th>\n",
       "      <th>RAM</th>\n",
       "      <th>Storage</th>\n",
       "      <th>GPU</th>\n",
       "      <th>Operating System</th>\n",
       "      <th>Operating System Version</th>\n",
       "      <th>Weight</th>\n",
       "      <th>Price (Euros)</th>\n",
       "    </tr>\n",
       "  </thead>\n",
       "  <tbody>\n",
       "    <tr>\n",
       "      <th>count</th>\n",
       "      <td>1303</td>\n",
       "      <td>1302</td>\n",
       "      <td>1302</td>\n",
       "      <td>1303</td>\n",
       "      <td>1303</td>\n",
       "      <td>1303</td>\n",
       "      <td>1303</td>\n",
       "      <td>1303</td>\n",
       "      <td>1303</td>\n",
       "      <td>1303</td>\n",
       "      <td>1133</td>\n",
       "      <td>1303</td>\n",
       "      <td>1303</td>\n",
       "    </tr>\n",
       "    <tr>\n",
       "      <th>unique</th>\n",
       "      <td>19</td>\n",
       "      <td>618</td>\n",
       "      <td>6</td>\n",
       "      <td>18</td>\n",
       "      <td>40</td>\n",
       "      <td>122</td>\n",
       "      <td>9</td>\n",
       "      <td>40</td>\n",
       "      <td>115</td>\n",
       "      <td>7</td>\n",
       "      <td>4</td>\n",
       "      <td>179</td>\n",
       "      <td>792</td>\n",
       "    </tr>\n",
       "    <tr>\n",
       "      <th>top</th>\n",
       "      <td>Dell</td>\n",
       "      <td>XPS 13</td>\n",
       "      <td>Notebook</td>\n",
       "      <td>15.6\"</td>\n",
       "      <td>Full HD 1920x1080</td>\n",
       "      <td>Intel Core i5 7200U 2.5GHz</td>\n",
       "      <td>8GB</td>\n",
       "      <td>256GB SSD</td>\n",
       "      <td>Intel HD Graphics 620</td>\n",
       "      <td>Windows</td>\n",
       "      <td>10</td>\n",
       "      <td>2.2kg</td>\n",
       "      <td>1099,00</td>\n",
       "    </tr>\n",
       "    <tr>\n",
       "      <th>freq</th>\n",
       "      <td>297</td>\n",
       "      <td>30</td>\n",
       "      <td>726</td>\n",
       "      <td>665</td>\n",
       "      <td>507</td>\n",
       "      <td>188</td>\n",
       "      <td>619</td>\n",
       "      <td>411</td>\n",
       "      <td>281</td>\n",
       "      <td>1125</td>\n",
       "      <td>1072</td>\n",
       "      <td>121</td>\n",
       "      <td>14</td>\n",
       "    </tr>\n",
       "  </tbody>\n",
       "</table>\n",
       "</div>"
      ],
      "text/plain": [
       "       Manufacturer Model Name  Category Screen Size             Screen  \\\n",
       "count          1303       1302      1302        1303               1303   \n",
       "unique           19        618         6          18                 40   \n",
       "top            Dell     XPS 13  Notebook       15.6\"  Full HD 1920x1080   \n",
       "freq            297         30       726         665                507   \n",
       "\n",
       "                               CPU   RAM    Storage                    GPU  \\\n",
       "count                         1303  1303       1303                   1303   \n",
       "unique                         122     9         40                    115   \n",
       "top     Intel Core i5 7200U 2.5GHz   8GB  256GB SSD  Intel HD Graphics 620   \n",
       "freq                           188   619        411                    281   \n",
       "\n",
       "       Operating System Operating System Version Weight Price (Euros)  \n",
       "count              1303                     1133   1303          1303  \n",
       "unique                7                        4    179           792  \n",
       "top             Windows                       10  2.2kg       1099,00  \n",
       "freq               1125                     1072    121            14  "
      ]
     },
     "execution_count": 280,
     "metadata": {},
     "output_type": "execute_result"
    }
   ],
   "source": [
    "laptops.describe()  # No numeric columns, so object columns are included."
   ]
  },
  {
   "cell_type": "markdown",
   "metadata": {},
   "source": [
    "### Cleaning Column Names"
   ]
  },
  {
   "cell_type": "markdown",
   "metadata": {},
   "source": [
    "<p>The column labels have a variety of upper and lowercase letters, as well as spaces and parentheses, which will make them harder to work with and read. One noticeable issue is that the <code>\" Storage\"</code> column name has a space in front of it. These quirks with column labels can sometimes be hard to spot, so removing extra whitespaces from all column names will save us more work in the long run.</p>"
   ]
  },
  {
   "cell_type": "code",
   "execution_count": 281,
   "metadata": {},
   "outputs": [],
   "source": [
    "# laptops[\" Storage\"] # KeyError: 'Storage'"
   ]
  },
  {
   "cell_type": "code",
   "execution_count": 282,
   "metadata": {},
   "outputs": [
    {
     "data": {
      "text/plain": [
       "0              128GB SSD\n",
       "1    128GB Flash Storage\n",
       "2              256GB SSD\n",
       "3              512GB SSD\n",
       "4              256GB SSD\n",
       "Name:  Storage, dtype: object"
      ]
     },
     "execution_count": 282,
     "metadata": {},
     "output_type": "execute_result"
    }
   ],
   "source": [
    "laptops[\" Storage\"].head()"
   ]
  },
  {
   "cell_type": "markdown",
   "metadata": {},
   "source": [
    "We can access the column axis of a dataframe using the <a target=\"_blank\" href=\"https://pandas.pydata.org/pandas-docs/stable/basics.html#attributes-and-the-raw-ndarray-s\"><code>DataFrame.columns</code> attribute</a>. "
   ]
  },
  {
   "cell_type": "code",
   "execution_count": 283,
   "metadata": {},
   "outputs": [
    {
     "name": "stdout",
     "output_type": "stream",
     "text": [
      "Index(['Manufacturer', 'Model Name', 'Category', 'Screen Size', 'Screen',\n",
      "       'CPU', 'RAM', ' Storage', 'GPU', 'Operating System',\n",
      "       'Operating System Version', 'Weight', 'Price (Euros)'],\n",
      "      dtype='object')\n"
     ]
    }
   ],
   "source": [
    "laptops_columns = laptops.columns\n",
    "\n",
    "print(laptops_columns)"
   ]
  },
  {
   "cell_type": "markdown",
   "metadata": {},
   "source": [
    "<p>However, the column labels still have a variety of upper and lowercase letters, as well as parentheses, which will make them harder to work with and read. Let's finish cleaning our column labels by:</p>\n",
    "<ul>\n",
    "<li>Replacing spaces with underscores.</li>\n",
    "<li>Removing special characters.</li>\n",
    "<li>Making all labels lowercase.</li>\n",
    "<li>Shortening any long column names.</li>\n",
    "</ul>\n",
    "<p>We can create a function that uses <a target=\"_blank\" href=\"https://docs.python.org/3/library/stdtypes.html#string-methods\">Python string methods</a> to clean our column labels, and then again use a loop to apply that function to each label."
   ]
  },
  {
   "cell_type": "code",
   "execution_count": 284,
   "metadata": {},
   "outputs": [
    {
     "name": "stdout",
     "output_type": "stream",
     "text": [
      "Cleaned column names: ['manufacturer', 'model_name', 'category', 'screen_size', 'screen', 'cpu', 'ram', 'storage', 'gpu', 'os', 'os_version', 'weight', 'price_euros']\n"
     ]
    }
   ],
   "source": [
    "def clean_laptop_dataset_column_name(column_name: str) -> str:\n",
    "    \"\"\"Clean a column name from the laptops dataset.\"\"\"\n",
    "    col = column_name.strip()\n",
    "    col = col.replace(\"Operating System\", \"os\")\n",
    "    col = col.replace(\" \", \"_\")\n",
    "    col = col.replace(\"(\", \"\")\n",
    "    col = col.replace(\")\", \"\")\n",
    "    return col.lower()\n",
    "\n",
    "\n",
    "laptops_columns_new = [clean_laptop_dataset_column_name(col) for col in laptops_columns]\n",
    "print(\"Cleaned column names:\", laptops_columns_new)\n",
    "\n",
    "# Assign the new column names to the dataframe\n",
    "laptops.columns = laptops_columns_new"
   ]
  },
  {
   "cell_type": "code",
   "execution_count": 285,
   "metadata": {},
   "outputs": [
    {
     "data": {
      "text/html": [
       "<div>\n",
       "<style scoped>\n",
       "    .dataframe tbody tr th:only-of-type {\n",
       "        vertical-align: middle;\n",
       "    }\n",
       "\n",
       "    .dataframe tbody tr th {\n",
       "        vertical-align: top;\n",
       "    }\n",
       "\n",
       "    .dataframe thead th {\n",
       "        text-align: right;\n",
       "    }\n",
       "</style>\n",
       "<table border=\"1\" class=\"dataframe\">\n",
       "  <thead>\n",
       "    <tr style=\"text-align: right;\">\n",
       "      <th></th>\n",
       "      <th>manufacturer</th>\n",
       "      <th>model_name</th>\n",
       "      <th>category</th>\n",
       "      <th>screen_size</th>\n",
       "      <th>screen</th>\n",
       "      <th>cpu</th>\n",
       "      <th>ram</th>\n",
       "      <th>storage</th>\n",
       "      <th>gpu</th>\n",
       "      <th>os</th>\n",
       "      <th>os_version</th>\n",
       "      <th>weight</th>\n",
       "      <th>price_euros</th>\n",
       "    </tr>\n",
       "  </thead>\n",
       "  <tbody>\n",
       "    <tr>\n",
       "      <th>0</th>\n",
       "      <td>Apple</td>\n",
       "      <td>MacBook Pro</td>\n",
       "      <td>Ultrabook</td>\n",
       "      <td>13.3\"</td>\n",
       "      <td>IPS Panel Retina Display 2560x1600</td>\n",
       "      <td>Intel Core i5 2.3GHz</td>\n",
       "      <td>8GB</td>\n",
       "      <td>128GB SSD</td>\n",
       "      <td>Intel Iris Plus Graphics 640</td>\n",
       "      <td>macOS</td>\n",
       "      <td>NaN</td>\n",
       "      <td>1.37kg</td>\n",
       "      <td>1339,69</td>\n",
       "    </tr>\n",
       "    <tr>\n",
       "      <th>1</th>\n",
       "      <td>Apple</td>\n",
       "      <td>Macbook Air</td>\n",
       "      <td>Ultrabook</td>\n",
       "      <td>13.3\"</td>\n",
       "      <td>1440x900</td>\n",
       "      <td>Intel Core i5 1.8GHz</td>\n",
       "      <td>8GB</td>\n",
       "      <td>128GB Flash Storage</td>\n",
       "      <td>Intel HD Graphics 6000</td>\n",
       "      <td>macOS</td>\n",
       "      <td>NaN</td>\n",
       "      <td>1.34kg</td>\n",
       "      <td>898,94</td>\n",
       "    </tr>\n",
       "  </tbody>\n",
       "</table>\n",
       "</div>"
      ],
      "text/plain": [
       "  manufacturer   model_name   category screen_size  \\\n",
       "0        Apple  MacBook Pro  Ultrabook       13.3\"   \n",
       "1        Apple  Macbook Air  Ultrabook       13.3\"   \n",
       "\n",
       "                               screen                   cpu  ram  \\\n",
       "0  IPS Panel Retina Display 2560x1600  Intel Core i5 2.3GHz  8GB   \n",
       "1                            1440x900  Intel Core i5 1.8GHz  8GB   \n",
       "\n",
       "               storage                           gpu     os os_version  \\\n",
       "0            128GB SSD  Intel Iris Plus Graphics 640  macOS        NaN   \n",
       "1  128GB Flash Storage        Intel HD Graphics 6000  macOS        NaN   \n",
       "\n",
       "   weight price_euros  \n",
       "0  1.37kg     1339,69  \n",
       "1  1.34kg      898,94  "
      ]
     },
     "execution_count": 285,
     "metadata": {},
     "output_type": "execute_result"
    }
   ],
   "source": [
    "laptops.head(2)"
   ]
  },
  {
   "cell_type": "markdown",
   "metadata": {},
   "source": [
    "### Changing the Index"
   ]
  },
  {
   "cell_type": "markdown",
   "metadata": {},
   "source": [
    "A pandas Index extends the functionality of NumPy arrays to allow for more versatile slicing and labeling. "
   ]
  },
  {
   "cell_type": "code",
   "execution_count": 286,
   "metadata": {},
   "outputs": [
    {
     "data": {
      "text/plain": [
       "True"
      ]
     },
     "execution_count": 286,
     "metadata": {},
     "output_type": "execute_result"
    }
   ],
   "source": [
    "# Check if the values are unique in the column \"company\"\n",
    "f500[\"company\"].is_unique"
   ]
  },
  {
   "cell_type": "markdown",
   "metadata": {},
   "source": [
    "Let’s replace the existing index with this column using set_index:"
   ]
  },
  {
   "cell_type": "code",
   "execution_count": 200,
   "metadata": {},
   "outputs": [
    {
     "data": {
      "text/html": [
       "<div>\n",
       "<style scoped>\n",
       "    .dataframe tbody tr th:only-of-type {\n",
       "        vertical-align: middle;\n",
       "    }\n",
       "\n",
       "    .dataframe tbody tr th {\n",
       "        vertical-align: top;\n",
       "    }\n",
       "\n",
       "    .dataframe thead th {\n",
       "        text-align: right;\n",
       "    }\n",
       "</style>\n",
       "<table border=\"1\" class=\"dataframe\">\n",
       "  <thead>\n",
       "    <tr style=\"text-align: right;\">\n",
       "      <th></th>\n",
       "      <th>rank</th>\n",
       "      <th>revenues</th>\n",
       "      <th>revenue_change</th>\n",
       "      <th>profits</th>\n",
       "      <th>assets</th>\n",
       "      <th>profit_change</th>\n",
       "      <th>ceo</th>\n",
       "      <th>industry</th>\n",
       "      <th>sector</th>\n",
       "      <th>previous_rank</th>\n",
       "      <th>country</th>\n",
       "      <th>hq_location</th>\n",
       "      <th>website</th>\n",
       "      <th>years_on_global_500_list</th>\n",
       "      <th>employees</th>\n",
       "      <th>total_stockholder_equity</th>\n",
       "    </tr>\n",
       "    <tr>\n",
       "      <th>company</th>\n",
       "      <th></th>\n",
       "      <th></th>\n",
       "      <th></th>\n",
       "      <th></th>\n",
       "      <th></th>\n",
       "      <th></th>\n",
       "      <th></th>\n",
       "      <th></th>\n",
       "      <th></th>\n",
       "      <th></th>\n",
       "      <th></th>\n",
       "      <th></th>\n",
       "      <th></th>\n",
       "      <th></th>\n",
       "      <th></th>\n",
       "      <th></th>\n",
       "    </tr>\n",
       "  </thead>\n",
       "  <tbody>\n",
       "    <tr>\n",
       "      <th>Walmart</th>\n",
       "      <td>1</td>\n",
       "      <td>485873</td>\n",
       "      <td>0.8</td>\n",
       "      <td>13643.0</td>\n",
       "      <td>198825</td>\n",
       "      <td>-7.2</td>\n",
       "      <td>C. Douglas McMillon</td>\n",
       "      <td>General Merchandisers</td>\n",
       "      <td>Retailing</td>\n",
       "      <td>1</td>\n",
       "      <td>USA</td>\n",
       "      <td>Bentonville, AR</td>\n",
       "      <td>http://www.walmart.com</td>\n",
       "      <td>23</td>\n",
       "      <td>2300000</td>\n",
       "      <td>77798</td>\n",
       "    </tr>\n",
       "    <tr>\n",
       "      <th>State Grid</th>\n",
       "      <td>2</td>\n",
       "      <td>315199</td>\n",
       "      <td>-4.4</td>\n",
       "      <td>9571.3</td>\n",
       "      <td>489838</td>\n",
       "      <td>-6.2</td>\n",
       "      <td>Kou Wei</td>\n",
       "      <td>Utilities</td>\n",
       "      <td>Eenergy</td>\n",
       "      <td>2</td>\n",
       "      <td>China</td>\n",
       "      <td>Beijing, China</td>\n",
       "      <td>http://www.sgcc.com.cn</td>\n",
       "      <td>17</td>\n",
       "      <td>926067</td>\n",
       "      <td>209456</td>\n",
       "    </tr>\n",
       "  </tbody>\n",
       "</table>\n",
       "</div>"
      ],
      "text/plain": [
       "            rank  revenues  revenue_change  profits  assets  profit_change  \\\n",
       "company                                                                      \n",
       "Walmart        1    485873             0.8  13643.0  198825           -7.2   \n",
       "State Grid     2    315199            -4.4   9571.3  489838           -6.2   \n",
       "\n",
       "                            ceo               industry     sector  \\\n",
       "company                                                             \n",
       "Walmart     C. Douglas McMillon  General Merchandisers  Retailing   \n",
       "State Grid              Kou Wei              Utilities    Eenergy   \n",
       "\n",
       "            previous_rank country      hq_location                 website  \\\n",
       "company                                                                      \n",
       "Walmart                 1     USA  Bentonville, AR  http://www.walmart.com   \n",
       "State Grid              2   China   Beijing, China  http://www.sgcc.com.cn   \n",
       "\n",
       "            years_on_global_500_list  employees  total_stockholder_equity  \n",
       "company                                                                    \n",
       "Walmart                           23    2300000                     77798  \n",
       "State Grid                        17     926067                    209456  "
      ]
     },
     "execution_count": 200,
     "metadata": {},
     "output_type": "execute_result"
    }
   ],
   "source": [
    "f500 = f500.set_index(\"company\")\n",
    "f500.head(2)"
   ]
  },
  {
   "cell_type": "markdown",
   "metadata": {},
   "source": [
    "> A pandas Index doesn’t make any guarantee of being unique, although many indexing and merging operations will notice a speedup in runtime if it is."
   ]
  },
  {
   "cell_type": "markdown",
   "metadata": {},
   "source": [
    "## String Manipulation"
   ]
  },
  {
   "cell_type": "markdown",
   "metadata": {},
   "source": [
    "String manipulation involves transforming, analyzing, and cleaning text data. In data wrangling, textual data often contains inconsistencies, unwanted characters, and irregular formats that must be standardized before analysis.\n",
    "\n",
    "Pandas provides a powerful string accessor (`.str`) that allows vectorized string operations over Series. This makes it highly efficient for processing large datasets"
   ]
  },
  {
   "cell_type": "markdown",
   "metadata": {},
   "source": [
    "<div><p>In the laptops dataset we observed earlier that all 13 columns have the <code>object</code> dtype, meaning they're stored as strings."
   ]
  },
  {
   "cell_type": "code",
   "execution_count": 201,
   "metadata": {},
   "outputs": [
    {
     "data": {
      "text/html": [
       "<div>\n",
       "<style scoped>\n",
       "    .dataframe tbody tr th:only-of-type {\n",
       "        vertical-align: middle;\n",
       "    }\n",
       "\n",
       "    .dataframe tbody tr th {\n",
       "        vertical-align: top;\n",
       "    }\n",
       "\n",
       "    .dataframe thead th {\n",
       "        text-align: right;\n",
       "    }\n",
       "</style>\n",
       "<table border=\"1\" class=\"dataframe\">\n",
       "  <thead>\n",
       "    <tr style=\"text-align: right;\">\n",
       "      <th></th>\n",
       "      <th>category</th>\n",
       "      <th>screen_size</th>\n",
       "      <th>screen</th>\n",
       "    </tr>\n",
       "  </thead>\n",
       "  <tbody>\n",
       "    <tr>\n",
       "      <th>0</th>\n",
       "      <td>Ultrabook</td>\n",
       "      <td>13.3\"</td>\n",
       "      <td>IPS Panel Retina Display 2560x1600</td>\n",
       "    </tr>\n",
       "    <tr>\n",
       "      <th>1</th>\n",
       "      <td>Ultrabook</td>\n",
       "      <td>13.3\"</td>\n",
       "      <td>1440x900</td>\n",
       "    </tr>\n",
       "    <tr>\n",
       "      <th>2</th>\n",
       "      <td>Notebook</td>\n",
       "      <td>15.6\"</td>\n",
       "      <td>Full HD 1920x1080</td>\n",
       "    </tr>\n",
       "    <tr>\n",
       "      <th>3</th>\n",
       "      <td>Ultrabook</td>\n",
       "      <td>15.4\"</td>\n",
       "      <td>IPS Panel Retina Display 2880x1800</td>\n",
       "    </tr>\n",
       "    <tr>\n",
       "      <th>4</th>\n",
       "      <td>Ultrabook</td>\n",
       "      <td>13.3\"</td>\n",
       "      <td>IPS Panel Retina Display 2560x1600</td>\n",
       "    </tr>\n",
       "    <tr>\n",
       "      <th>5</th>\n",
       "      <td>Notebook</td>\n",
       "      <td>15.6\"</td>\n",
       "      <td>1366x768</td>\n",
       "    </tr>\n",
       "  </tbody>\n",
       "</table>\n",
       "</div>"
      ],
      "text/plain": [
       "    category screen_size                              screen\n",
       "0  Ultrabook       13.3\"  IPS Panel Retina Display 2560x1600\n",
       "1  Ultrabook       13.3\"                            1440x900\n",
       "2   Notebook       15.6\"                   Full HD 1920x1080\n",
       "3  Ultrabook       15.4\"  IPS Panel Retina Display 2880x1800\n",
       "4  Ultrabook       13.3\"  IPS Panel Retina Display 2560x1600\n",
       "5   Notebook       15.6\"                            1366x768"
      ]
     },
     "execution_count": 201,
     "metadata": {},
     "output_type": "execute_result"
    }
   ],
   "source": [
    "laptops.loc[:5, \"category\":\"screen\"]"
   ]
  },
  {
   "cell_type": "markdown",
   "metadata": {},
   "source": [
    "<p>Of these three columns, we have three different types of text data:</p>\n",
    "<ul>\n",
    "<li><code>category</code>: Purely text data - there are no numeric values.</li>\n",
    "<li><code>screen_size</code>: Numeric data stored as text data because of the <code>\"</code> character.</li>\n",
    "<li><code>screen</code>: A combination of pure text data with numeric data.</li>\n",
    "</ul>"
   ]
  },
  {
   "cell_type": "markdown",
   "metadata": {},
   "source": [
    "<p>The first step is to <strong>explore the data</strong>.  One of the best ways to do this is to use the <a target=\"_blank\" href=\"http://pandas.pydata.org/pandas-docs/stable/generated/pandas.Series.unique.html\"><code>Series.unique()</code> method</a> to view all of the unique values in the column:</p>\n",
    "</div>"
   ]
  },
  {
   "cell_type": "code",
   "execution_count": 202,
   "metadata": {},
   "outputs": [
    {
     "name": "stdout",
     "output_type": "stream",
     "text": [
      "object\n"
     ]
    }
   ],
   "source": [
    "print(laptops[\"screen_size\"].dtype)"
   ]
  },
  {
   "cell_type": "code",
   "execution_count": 203,
   "metadata": {},
   "outputs": [
    {
     "data": {
      "text/plain": [
       "array(['13.3\"', '15.6\"', '15.4\"', '14.0\"', '12.0\"', '11.6\"', '17.3\"',\n",
       "       '10.1\"', '13.5\"', '12.5\"', '13.0\"', '18.4\"', '13.9\"', '12.3\"',\n",
       "       '17.0\"', '15.0\"', '14.1\"', '11.3\"'], dtype=object)"
      ]
     },
     "execution_count": 203,
     "metadata": {},
     "output_type": "execute_result"
    }
   ],
   "source": [
    "laptops[\"screen_size\"].unique()"
   ]
  },
  {
   "cell_type": "markdown",
   "metadata": {},
   "source": [
    "<div>\n",
    "<p>Our next step is to <strong>identify patterns and special cases</strong>. We can observe the following:</p>\n",
    "<ul>\n",
    "<li>All values in this column follow the same pattern - a series of digit and period characters, followed by a quote character (<code>\"</code>). </li>\n",
    "<li>There are no special cases. Every value matches the same pattern.</li>\n",
    "<li>We'll need to convert the column to a <code>float</code> dtype, as the <code>int</code> dtype won't be able to store the decimal values.</li>\n",
    "</ul>\n",
    "</div>"
   ]
  },
  {
   "cell_type": "markdown",
   "metadata": {},
   "source": []
  },
  {
   "cell_type": "markdown",
   "metadata": {},
   "source": [
    "<p>To convert columns to numeric dtypes, we'll have to first <strong>remove the non-digit characters</strong>.</p>"
   ]
  },
  {
   "cell_type": "markdown",
   "metadata": {},
   "source": [
    "The pandas library contains dozens of <a target=\"_blank\" href=\"https://pandas.pydata.org/pandas-docs/stable/user_guide/text.html#method-summary\">vectorized string methods</a> we can use to manipulate text data, many of which perform the same operations as Python string methods."
   ]
  },
  {
   "cell_type": "code",
   "execution_count": 204,
   "metadata": {},
   "outputs": [
    {
     "data": {
      "text/plain": [
       "0       13.3\n",
       "1       13.3\n",
       "2       15.6\n",
       "3       15.4\n",
       "4       13.3\n",
       "        ... \n",
       "1298    14.0\n",
       "1299    13.3\n",
       "1300    14.0\n",
       "1301    15.6\n",
       "1302    15.6\n",
       "Name: screen_size, Length: 1303, dtype: object"
      ]
     },
     "execution_count": 204,
     "metadata": {},
     "output_type": "execute_result"
    }
   ],
   "source": [
    "# Ervin test\n",
    "laptops[\"screen_size\"].str.replace('\"', \"\")"
   ]
  },
  {
   "cell_type": "code",
   "execution_count": 205,
   "metadata": {},
   "outputs": [
    {
     "name": "stdout",
     "output_type": "stream",
     "text": [
      "New unique values: [13.3 15.6 15.4 14.  12.  11.6 17.3 10.1 13.5 12.5 13.  18.4 13.9 12.3\n",
      " 17.  15.  14.1 11.3]\n"
     ]
    }
   ],
   "source": [
    "laptops[\"screen_size\"] = laptops[\"screen_size\"].str.replace('\"', \"\")\n",
    "# convert the column to a numeric type\n",
    "laptops[\"screen_size\"] = laptops[\"screen_size\"].astype(\"float\")\n",
    "print(\"New unique values:\", laptops[\"screen_size\"].unique())"
   ]
  },
  {
   "cell_type": "code",
   "execution_count": 206,
   "metadata": {},
   "outputs": [
    {
     "name": "stdout",
     "output_type": "stream",
     "text": [
      "<class 'pandas.core.frame.DataFrame'>\n",
      "RangeIndex: 1303 entries, 0 to 1302\n",
      "Data columns (total 13 columns):\n",
      " #   Column        Non-Null Count  Dtype  \n",
      "---  ------        --------------  -----  \n",
      " 0   manufacturer  1303 non-null   object \n",
      " 1   model_name    1302 non-null   object \n",
      " 2   category      1302 non-null   object \n",
      " 3   screen_size   1303 non-null   float64\n",
      " 4   screen        1303 non-null   object \n",
      " 5   cpu           1303 non-null   object \n",
      " 6   ram           1303 non-null   object \n",
      " 7   storage       1303 non-null   object \n",
      " 8   gpu           1303 non-null   object \n",
      " 9   os            1303 non-null   object \n",
      " 10  os_version    1133 non-null   object \n",
      " 11  weight        1303 non-null   object \n",
      " 12  price_euros   1303 non-null   object \n",
      "dtypes: float64(1), object(12)\n",
      "memory usage: 132.5+ KB\n"
     ]
    }
   ],
   "source": [
    "laptops.info()"
   ]
  },
  {
   "cell_type": "code",
   "execution_count": 207,
   "metadata": {},
   "outputs": [
    {
     "data": {
      "text/html": [
       "<div>\n",
       "<style scoped>\n",
       "    .dataframe tbody tr th:only-of-type {\n",
       "        vertical-align: middle;\n",
       "    }\n",
       "\n",
       "    .dataframe tbody tr th {\n",
       "        vertical-align: top;\n",
       "    }\n",
       "\n",
       "    .dataframe thead th {\n",
       "        text-align: right;\n",
       "    }\n",
       "</style>\n",
       "<table border=\"1\" class=\"dataframe\">\n",
       "  <thead>\n",
       "    <tr style=\"text-align: right;\">\n",
       "      <th></th>\n",
       "      <th>manufacturer</th>\n",
       "      <th>model_name</th>\n",
       "      <th>category</th>\n",
       "      <th>screen_size</th>\n",
       "      <th>screen</th>\n",
       "      <th>cpu</th>\n",
       "      <th>ram</th>\n",
       "      <th>storage</th>\n",
       "      <th>gpu</th>\n",
       "      <th>os</th>\n",
       "      <th>os_version</th>\n",
       "      <th>weight</th>\n",
       "      <th>price_euros</th>\n",
       "    </tr>\n",
       "  </thead>\n",
       "  <tbody>\n",
       "    <tr>\n",
       "      <th>0</th>\n",
       "      <td>Apple</td>\n",
       "      <td>MacBook Pro</td>\n",
       "      <td>Ultrabook</td>\n",
       "      <td>13.3</td>\n",
       "      <td>IPS Panel Retina Display 2560x1600</td>\n",
       "      <td>Intel Core i5 2.3GHz</td>\n",
       "      <td>8GB</td>\n",
       "      <td>128GB SSD</td>\n",
       "      <td>Intel Iris Plus Graphics 640</td>\n",
       "      <td>macOS</td>\n",
       "      <td>NaN</td>\n",
       "      <td>1.37kg</td>\n",
       "      <td>1339,69</td>\n",
       "    </tr>\n",
       "    <tr>\n",
       "      <th>1</th>\n",
       "      <td>Apple</td>\n",
       "      <td>Macbook Air</td>\n",
       "      <td>Ultrabook</td>\n",
       "      <td>13.3</td>\n",
       "      <td>1440x900</td>\n",
       "      <td>Intel Core i5 1.8GHz</td>\n",
       "      <td>8GB</td>\n",
       "      <td>128GB Flash Storage</td>\n",
       "      <td>Intel HD Graphics 6000</td>\n",
       "      <td>macOS</td>\n",
       "      <td>NaN</td>\n",
       "      <td>1.34kg</td>\n",
       "      <td>898,94</td>\n",
       "    </tr>\n",
       "    <tr>\n",
       "      <th>2</th>\n",
       "      <td>HP</td>\n",
       "      <td>250 G6</td>\n",
       "      <td>Notebook</td>\n",
       "      <td>15.6</td>\n",
       "      <td>Full HD 1920x1080</td>\n",
       "      <td>Intel Core i5 7200U 2.5GHz</td>\n",
       "      <td>8GB</td>\n",
       "      <td>256GB SSD</td>\n",
       "      <td>Intel HD Graphics 620</td>\n",
       "      <td>No OS</td>\n",
       "      <td>NaN</td>\n",
       "      <td>1.86kg</td>\n",
       "      <td>575,00</td>\n",
       "    </tr>\n",
       "    <tr>\n",
       "      <th>3</th>\n",
       "      <td>Apple</td>\n",
       "      <td>MacBook Pro</td>\n",
       "      <td>Ultrabook</td>\n",
       "      <td>15.4</td>\n",
       "      <td>IPS Panel Retina Display 2880x1800</td>\n",
       "      <td>Intel Core i7 2.7GHz</td>\n",
       "      <td>16GB</td>\n",
       "      <td>512GB SSD</td>\n",
       "      <td>AMD Radeon Pro 455</td>\n",
       "      <td>macOS</td>\n",
       "      <td>NaN</td>\n",
       "      <td>1.83kg</td>\n",
       "      <td>2537,45</td>\n",
       "    </tr>\n",
       "    <tr>\n",
       "      <th>4</th>\n",
       "      <td>Apple</td>\n",
       "      <td>MacBook Pro</td>\n",
       "      <td>Ultrabook</td>\n",
       "      <td>13.3</td>\n",
       "      <td>IPS Panel Retina Display 2560x1600</td>\n",
       "      <td>Intel Core i5 3.1GHz</td>\n",
       "      <td>8GB</td>\n",
       "      <td>256GB SSD</td>\n",
       "      <td>Intel Iris Plus Graphics 650</td>\n",
       "      <td>macOS</td>\n",
       "      <td>NaN</td>\n",
       "      <td>1.37kg</td>\n",
       "      <td>1803,60</td>\n",
       "    </tr>\n",
       "  </tbody>\n",
       "</table>\n",
       "</div>"
      ],
      "text/plain": [
       "  manufacturer   model_name   category  screen_size  \\\n",
       "0        Apple  MacBook Pro  Ultrabook         13.3   \n",
       "1        Apple  Macbook Air  Ultrabook         13.3   \n",
       "2           HP       250 G6   Notebook         15.6   \n",
       "3        Apple  MacBook Pro  Ultrabook         15.4   \n",
       "4        Apple  MacBook Pro  Ultrabook         13.3   \n",
       "\n",
       "                               screen                         cpu   ram  \\\n",
       "0  IPS Panel Retina Display 2560x1600        Intel Core i5 2.3GHz   8GB   \n",
       "1                            1440x900        Intel Core i5 1.8GHz   8GB   \n",
       "2                   Full HD 1920x1080  Intel Core i5 7200U 2.5GHz   8GB   \n",
       "3  IPS Panel Retina Display 2880x1800        Intel Core i7 2.7GHz  16GB   \n",
       "4  IPS Panel Retina Display 2560x1600        Intel Core i5 3.1GHz   8GB   \n",
       "\n",
       "               storage                           gpu     os os_version  \\\n",
       "0            128GB SSD  Intel Iris Plus Graphics 640  macOS        NaN   \n",
       "1  128GB Flash Storage        Intel HD Graphics 6000  macOS        NaN   \n",
       "2            256GB SSD         Intel HD Graphics 620  No OS        NaN   \n",
       "3            512GB SSD            AMD Radeon Pro 455  macOS        NaN   \n",
       "4            256GB SSD  Intel Iris Plus Graphics 650  macOS        NaN   \n",
       "\n",
       "   weight price_euros  \n",
       "0  1.37kg     1339,69  \n",
       "1  1.34kg      898,94  \n",
       "2  1.86kg      575,00  \n",
       "3  1.83kg     2537,45  \n",
       "4  1.37kg     1803,60  "
      ]
     },
     "execution_count": 207,
     "metadata": {},
     "output_type": "execute_result"
    }
   ],
   "source": [
    "laptops.head()"
   ]
  },
  {
   "cell_type": "markdown",
   "metadata": {},
   "source": [
    "<div><p>Now that we've converted our column to numeric dtypes, the final step is to <strong>rename the column</strong>. This is an optional step, and can be useful if the non-digit values contain information that helps us understand the data. </p>"
   ]
  },
  {
   "cell_type": "code",
   "execution_count": 208,
   "metadata": {},
   "outputs": [
    {
     "data": {
      "text/html": [
       "<div>\n",
       "<style scoped>\n",
       "    .dataframe tbody tr th:only-of-type {\n",
       "        vertical-align: middle;\n",
       "    }\n",
       "\n",
       "    .dataframe tbody tr th {\n",
       "        vertical-align: top;\n",
       "    }\n",
       "\n",
       "    .dataframe thead th {\n",
       "        text-align: right;\n",
       "    }\n",
       "</style>\n",
       "<table border=\"1\" class=\"dataframe\">\n",
       "  <thead>\n",
       "    <tr style=\"text-align: right;\">\n",
       "      <th></th>\n",
       "      <th>manufacturer</th>\n",
       "      <th>model_name</th>\n",
       "      <th>category</th>\n",
       "      <th>screen_size_inches</th>\n",
       "      <th>screen</th>\n",
       "      <th>cpu</th>\n",
       "      <th>ram</th>\n",
       "      <th>storage</th>\n",
       "      <th>gpu</th>\n",
       "      <th>os</th>\n",
       "      <th>os_version</th>\n",
       "      <th>weight</th>\n",
       "      <th>price_euros</th>\n",
       "    </tr>\n",
       "  </thead>\n",
       "  <tbody>\n",
       "    <tr>\n",
       "      <th>0</th>\n",
       "      <td>Apple</td>\n",
       "      <td>MacBook Pro</td>\n",
       "      <td>Ultrabook</td>\n",
       "      <td>13.3</td>\n",
       "      <td>IPS Panel Retina Display 2560x1600</td>\n",
       "      <td>Intel Core i5 2.3GHz</td>\n",
       "      <td>8GB</td>\n",
       "      <td>128GB SSD</td>\n",
       "      <td>Intel Iris Plus Graphics 640</td>\n",
       "      <td>macOS</td>\n",
       "      <td>NaN</td>\n",
       "      <td>1.37kg</td>\n",
       "      <td>1339,69</td>\n",
       "    </tr>\n",
       "    <tr>\n",
       "      <th>1</th>\n",
       "      <td>Apple</td>\n",
       "      <td>Macbook Air</td>\n",
       "      <td>Ultrabook</td>\n",
       "      <td>13.3</td>\n",
       "      <td>1440x900</td>\n",
       "      <td>Intel Core i5 1.8GHz</td>\n",
       "      <td>8GB</td>\n",
       "      <td>128GB Flash Storage</td>\n",
       "      <td>Intel HD Graphics 6000</td>\n",
       "      <td>macOS</td>\n",
       "      <td>NaN</td>\n",
       "      <td>1.34kg</td>\n",
       "      <td>898,94</td>\n",
       "    </tr>\n",
       "  </tbody>\n",
       "</table>\n",
       "</div>"
      ],
      "text/plain": [
       "  manufacturer   model_name   category  screen_size_inches  \\\n",
       "0        Apple  MacBook Pro  Ultrabook                13.3   \n",
       "1        Apple  Macbook Air  Ultrabook                13.3   \n",
       "\n",
       "                               screen                   cpu  ram  \\\n",
       "0  IPS Panel Retina Display 2560x1600  Intel Core i5 2.3GHz  8GB   \n",
       "1                            1440x900  Intel Core i5 1.8GHz  8GB   \n",
       "\n",
       "               storage                           gpu     os os_version  \\\n",
       "0            128GB SSD  Intel Iris Plus Graphics 640  macOS        NaN   \n",
       "1  128GB Flash Storage        Intel HD Graphics 6000  macOS        NaN   \n",
       "\n",
       "   weight price_euros  \n",
       "0  1.37kg     1339,69  \n",
       "1  1.34kg      898,94  "
      ]
     },
     "execution_count": 208,
     "metadata": {},
     "output_type": "execute_result"
    }
   ],
   "source": [
    "laptops = laptops.rename(columns={\"screen_size\": \"screen_size_inches\"})\n",
    "laptops.head(2)"
   ]
  },
  {
   "cell_type": "code",
   "execution_count": 209,
   "metadata": {},
   "outputs": [
    {
     "name": "stdout",
     "output_type": "stream",
     "text": [
      "Unique values before conversion: ['8GB' '16GB' '4GB' '2GB' '12GB' '6GB' '32GB' '24GB' '64GB']\n",
      "Unique values after conversion: [ 8 16  4  2 12  6 32 24 64]\n"
     ]
    },
    {
     "data": {
      "text/html": [
       "<div>\n",
       "<style scoped>\n",
       "    .dataframe tbody tr th:only-of-type {\n",
       "        vertical-align: middle;\n",
       "    }\n",
       "\n",
       "    .dataframe tbody tr th {\n",
       "        vertical-align: top;\n",
       "    }\n",
       "\n",
       "    .dataframe thead th {\n",
       "        text-align: right;\n",
       "    }\n",
       "</style>\n",
       "<table border=\"1\" class=\"dataframe\">\n",
       "  <thead>\n",
       "    <tr style=\"text-align: right;\">\n",
       "      <th></th>\n",
       "      <th>manufacturer</th>\n",
       "      <th>model_name</th>\n",
       "      <th>category</th>\n",
       "      <th>screen_size_inches</th>\n",
       "      <th>screen</th>\n",
       "      <th>cpu</th>\n",
       "      <th>ram_gb</th>\n",
       "      <th>storage</th>\n",
       "      <th>gpu</th>\n",
       "      <th>os</th>\n",
       "      <th>os_version</th>\n",
       "      <th>weight</th>\n",
       "      <th>price_euros</th>\n",
       "    </tr>\n",
       "  </thead>\n",
       "  <tbody>\n",
       "    <tr>\n",
       "      <th>0</th>\n",
       "      <td>Apple</td>\n",
       "      <td>MacBook Pro</td>\n",
       "      <td>Ultrabook</td>\n",
       "      <td>13.3</td>\n",
       "      <td>IPS Panel Retina Display 2560x1600</td>\n",
       "      <td>Intel Core i5 2.3GHz</td>\n",
       "      <td>8</td>\n",
       "      <td>128GB SSD</td>\n",
       "      <td>Intel Iris Plus Graphics 640</td>\n",
       "      <td>macOS</td>\n",
       "      <td>NaN</td>\n",
       "      <td>1.37kg</td>\n",
       "      <td>1339,69</td>\n",
       "    </tr>\n",
       "    <tr>\n",
       "      <th>1</th>\n",
       "      <td>Apple</td>\n",
       "      <td>Macbook Air</td>\n",
       "      <td>Ultrabook</td>\n",
       "      <td>13.3</td>\n",
       "      <td>1440x900</td>\n",
       "      <td>Intel Core i5 1.8GHz</td>\n",
       "      <td>8</td>\n",
       "      <td>128GB Flash Storage</td>\n",
       "      <td>Intel HD Graphics 6000</td>\n",
       "      <td>macOS</td>\n",
       "      <td>NaN</td>\n",
       "      <td>1.34kg</td>\n",
       "      <td>898,94</td>\n",
       "    </tr>\n",
       "    <tr>\n",
       "      <th>2</th>\n",
       "      <td>HP</td>\n",
       "      <td>250 G6</td>\n",
       "      <td>Notebook</td>\n",
       "      <td>15.6</td>\n",
       "      <td>Full HD 1920x1080</td>\n",
       "      <td>Intel Core i5 7200U 2.5GHz</td>\n",
       "      <td>8</td>\n",
       "      <td>256GB SSD</td>\n",
       "      <td>Intel HD Graphics 620</td>\n",
       "      <td>No OS</td>\n",
       "      <td>NaN</td>\n",
       "      <td>1.86kg</td>\n",
       "      <td>575,00</td>\n",
       "    </tr>\n",
       "    <tr>\n",
       "      <th>3</th>\n",
       "      <td>Apple</td>\n",
       "      <td>MacBook Pro</td>\n",
       "      <td>Ultrabook</td>\n",
       "      <td>15.4</td>\n",
       "      <td>IPS Panel Retina Display 2880x1800</td>\n",
       "      <td>Intel Core i7 2.7GHz</td>\n",
       "      <td>16</td>\n",
       "      <td>512GB SSD</td>\n",
       "      <td>AMD Radeon Pro 455</td>\n",
       "      <td>macOS</td>\n",
       "      <td>NaN</td>\n",
       "      <td>1.83kg</td>\n",
       "      <td>2537,45</td>\n",
       "    </tr>\n",
       "    <tr>\n",
       "      <th>4</th>\n",
       "      <td>Apple</td>\n",
       "      <td>MacBook Pro</td>\n",
       "      <td>Ultrabook</td>\n",
       "      <td>13.3</td>\n",
       "      <td>IPS Panel Retina Display 2560x1600</td>\n",
       "      <td>Intel Core i5 3.1GHz</td>\n",
       "      <td>8</td>\n",
       "      <td>256GB SSD</td>\n",
       "      <td>Intel Iris Plus Graphics 650</td>\n",
       "      <td>macOS</td>\n",
       "      <td>NaN</td>\n",
       "      <td>1.37kg</td>\n",
       "      <td>1803,60</td>\n",
       "    </tr>\n",
       "  </tbody>\n",
       "</table>\n",
       "</div>"
      ],
      "text/plain": [
       "  manufacturer   model_name   category  screen_size_inches  \\\n",
       "0        Apple  MacBook Pro  Ultrabook                13.3   \n",
       "1        Apple  Macbook Air  Ultrabook                13.3   \n",
       "2           HP       250 G6   Notebook                15.6   \n",
       "3        Apple  MacBook Pro  Ultrabook                15.4   \n",
       "4        Apple  MacBook Pro  Ultrabook                13.3   \n",
       "\n",
       "                               screen                         cpu  ram_gb  \\\n",
       "0  IPS Panel Retina Display 2560x1600        Intel Core i5 2.3GHz       8   \n",
       "1                            1440x900        Intel Core i5 1.8GHz       8   \n",
       "2                   Full HD 1920x1080  Intel Core i5 7200U 2.5GHz       8   \n",
       "3  IPS Panel Retina Display 2880x1800        Intel Core i7 2.7GHz      16   \n",
       "4  IPS Panel Retina Display 2560x1600        Intel Core i5 3.1GHz       8   \n",
       "\n",
       "               storage                           gpu     os os_version  \\\n",
       "0            128GB SSD  Intel Iris Plus Graphics 640  macOS        NaN   \n",
       "1  128GB Flash Storage        Intel HD Graphics 6000  macOS        NaN   \n",
       "2            256GB SSD         Intel HD Graphics 620  No OS        NaN   \n",
       "3            512GB SSD            AMD Radeon Pro 455  macOS        NaN   \n",
       "4            256GB SSD  Intel Iris Plus Graphics 650  macOS        NaN   \n",
       "\n",
       "   weight price_euros  \n",
       "0  1.37kg     1339,69  \n",
       "1  1.34kg      898,94  \n",
       "2  1.86kg      575,00  \n",
       "3  1.83kg     2537,45  \n",
       "4  1.37kg     1803,60  "
      ]
     },
     "execution_count": 209,
     "metadata": {},
     "output_type": "execute_result"
    }
   ],
   "source": [
    "# Converting the column \"ram\" to a numeric type and renaming it\n",
    "print(f\"Unique values before conversion: {laptops['ram'].unique()}\")\n",
    "laptops[\"ram\"] = laptops[\"ram\"].str.replace(\"GB\", \"\").astype(\"int\")\n",
    "print(f\"Unique values after conversion: {laptops['ram'].unique()}\")\n",
    "laptops = laptops.rename(columns={\"ram\": \"ram_gb\"})\n",
    "laptops.head(5)"
   ]
  },
  {
   "cell_type": "code",
   "execution_count": 210,
   "metadata": {},
   "outputs": [
    {
     "name": "stdout",
     "output_type": "stream",
     "text": [
      "Unique values before conversion: ['2.07kg' '2.38kg' '3.58kg' '1.08kg' '2.20kg' '2.75kg' '1.70kg' '2.99kg'\n",
      " '1.11kg' '2.09kg' '4kgs' '3.0kg' '0.99kg' '3.52kg' '2.591kg' '2.21kg'\n",
      " '3.3kg' '2.191kg' '2.34kg' '4.0kg']\n"
     ]
    },
    {
     "data": {
      "text/html": [
       "<div>\n",
       "<style scoped>\n",
       "    .dataframe tbody tr th:only-of-type {\n",
       "        vertical-align: middle;\n",
       "    }\n",
       "\n",
       "    .dataframe tbody tr th {\n",
       "        vertical-align: top;\n",
       "    }\n",
       "\n",
       "    .dataframe thead th {\n",
       "        text-align: right;\n",
       "    }\n",
       "</style>\n",
       "<table border=\"1\" class=\"dataframe\">\n",
       "  <thead>\n",
       "    <tr style=\"text-align: right;\">\n",
       "      <th></th>\n",
       "      <th>manufacturer</th>\n",
       "      <th>model_name</th>\n",
       "      <th>category</th>\n",
       "      <th>screen_size_inches</th>\n",
       "      <th>screen</th>\n",
       "      <th>cpu</th>\n",
       "      <th>ram_gb</th>\n",
       "      <th>storage</th>\n",
       "      <th>gpu</th>\n",
       "      <th>os</th>\n",
       "      <th>os_version</th>\n",
       "      <th>weight_kg</th>\n",
       "      <th>price_euros</th>\n",
       "    </tr>\n",
       "  </thead>\n",
       "  <tbody>\n",
       "    <tr>\n",
       "      <th>0</th>\n",
       "      <td>Apple</td>\n",
       "      <td>MacBook Pro</td>\n",
       "      <td>Ultrabook</td>\n",
       "      <td>13.3</td>\n",
       "      <td>IPS Panel Retina Display 2560x1600</td>\n",
       "      <td>Intel Core i5 2.3GHz</td>\n",
       "      <td>8</td>\n",
       "      <td>128GB SSD</td>\n",
       "      <td>Intel Iris Plus Graphics 640</td>\n",
       "      <td>macOS</td>\n",
       "      <td>NaN</td>\n",
       "      <td>1.37</td>\n",
       "      <td>1339,69</td>\n",
       "    </tr>\n",
       "    <tr>\n",
       "      <th>1</th>\n",
       "      <td>Apple</td>\n",
       "      <td>Macbook Air</td>\n",
       "      <td>Ultrabook</td>\n",
       "      <td>13.3</td>\n",
       "      <td>1440x900</td>\n",
       "      <td>Intel Core i5 1.8GHz</td>\n",
       "      <td>8</td>\n",
       "      <td>128GB Flash Storage</td>\n",
       "      <td>Intel HD Graphics 6000</td>\n",
       "      <td>macOS</td>\n",
       "      <td>NaN</td>\n",
       "      <td>1.34</td>\n",
       "      <td>898,94</td>\n",
       "    </tr>\n",
       "  </tbody>\n",
       "</table>\n",
       "</div>"
      ],
      "text/plain": [
       "  manufacturer   model_name   category  screen_size_inches  \\\n",
       "0        Apple  MacBook Pro  Ultrabook                13.3   \n",
       "1        Apple  Macbook Air  Ultrabook                13.3   \n",
       "\n",
       "                               screen                   cpu  ram_gb  \\\n",
       "0  IPS Panel Retina Display 2560x1600  Intel Core i5 2.3GHz       8   \n",
       "1                            1440x900  Intel Core i5 1.8GHz       8   \n",
       "\n",
       "               storage                           gpu     os os_version  \\\n",
       "0            128GB SSD  Intel Iris Plus Graphics 640  macOS        NaN   \n",
       "1  128GB Flash Storage        Intel HD Graphics 6000  macOS        NaN   \n",
       "\n",
       "   weight_kg price_euros  \n",
       "0       1.37     1339,69  \n",
       "1       1.34      898,94  "
      ]
     },
     "execution_count": 210,
     "metadata": {},
     "output_type": "execute_result"
    }
   ],
   "source": [
    "# Converting the column \"weight\" to a numeric type and renaming it\n",
    "print(f\"Unique values before conversion: {laptops['weight'].unique()[-20:]}\")\n",
    "# pay attention to the kgs value\n",
    "laptops[\"weight\"] = laptops[\"weight\"].str.replace(\"kgs\", \"\").str.replace(\"kg\", \"\").astype(\"float\")\n",
    "laptops = laptops.rename(columns={\"weight\": \"weight_kg\"})\n",
    "laptops.head(2)"
   ]
  },
  {
   "cell_type": "code",
   "execution_count": 211,
   "metadata": {},
   "outputs": [
    {
     "data": {
      "text/html": [
       "<div>\n",
       "<style scoped>\n",
       "    .dataframe tbody tr th:only-of-type {\n",
       "        vertical-align: middle;\n",
       "    }\n",
       "\n",
       "    .dataframe tbody tr th {\n",
       "        vertical-align: top;\n",
       "    }\n",
       "\n",
       "    .dataframe thead th {\n",
       "        text-align: right;\n",
       "    }\n",
       "</style>\n",
       "<table border=\"1\" class=\"dataframe\">\n",
       "  <thead>\n",
       "    <tr style=\"text-align: right;\">\n",
       "      <th></th>\n",
       "      <th>manufacturer</th>\n",
       "      <th>model_name</th>\n",
       "      <th>category</th>\n",
       "      <th>screen_size_inches</th>\n",
       "      <th>screen</th>\n",
       "      <th>cpu</th>\n",
       "      <th>ram_gb</th>\n",
       "      <th>storage</th>\n",
       "      <th>gpu</th>\n",
       "      <th>os</th>\n",
       "      <th>os_version</th>\n",
       "      <th>weight_kg</th>\n",
       "      <th>price_euros</th>\n",
       "    </tr>\n",
       "  </thead>\n",
       "  <tbody>\n",
       "    <tr>\n",
       "      <th>0</th>\n",
       "      <td>Apple</td>\n",
       "      <td>MacBook Pro</td>\n",
       "      <td>Ultrabook</td>\n",
       "      <td>13.3</td>\n",
       "      <td>IPS Panel Retina Display 2560x1600</td>\n",
       "      <td>Intel Core i5 2.3GHz</td>\n",
       "      <td>8</td>\n",
       "      <td>128GB SSD</td>\n",
       "      <td>Intel Iris Plus Graphics 640</td>\n",
       "      <td>macOS</td>\n",
       "      <td>NaN</td>\n",
       "      <td>1.37</td>\n",
       "      <td>1339.69</td>\n",
       "    </tr>\n",
       "    <tr>\n",
       "      <th>1</th>\n",
       "      <td>Apple</td>\n",
       "      <td>Macbook Air</td>\n",
       "      <td>Ultrabook</td>\n",
       "      <td>13.3</td>\n",
       "      <td>1440x900</td>\n",
       "      <td>Intel Core i5 1.8GHz</td>\n",
       "      <td>8</td>\n",
       "      <td>128GB Flash Storage</td>\n",
       "      <td>Intel HD Graphics 6000</td>\n",
       "      <td>macOS</td>\n",
       "      <td>NaN</td>\n",
       "      <td>1.34</td>\n",
       "      <td>898.94</td>\n",
       "    </tr>\n",
       "  </tbody>\n",
       "</table>\n",
       "</div>"
      ],
      "text/plain": [
       "  manufacturer   model_name   category  screen_size_inches  \\\n",
       "0        Apple  MacBook Pro  Ultrabook                13.3   \n",
       "1        Apple  Macbook Air  Ultrabook                13.3   \n",
       "\n",
       "                               screen                   cpu  ram_gb  \\\n",
       "0  IPS Panel Retina Display 2560x1600  Intel Core i5 2.3GHz       8   \n",
       "1                            1440x900  Intel Core i5 1.8GHz       8   \n",
       "\n",
       "               storage                           gpu     os os_version  \\\n",
       "0            128GB SSD  Intel Iris Plus Graphics 640  macOS        NaN   \n",
       "1  128GB Flash Storage        Intel HD Graphics 6000  macOS        NaN   \n",
       "\n",
       "   weight_kg  price_euros  \n",
       "0       1.37      1339.69  \n",
       "1       1.34       898.94  "
      ]
     },
     "execution_count": 211,
     "metadata": {},
     "output_type": "execute_result"
    }
   ],
   "source": [
    "# Convert the price_euros column to a numeric dtype\n",
    "laptops[\"price_euros\"] = laptops[\"price_euros\"].str.replace(\",\", \".\").astype(\"float\")\n",
    "laptops.head(2)"
   ]
  },
  {
   "cell_type": "code",
   "execution_count": 215,
   "metadata": {},
   "outputs": [
    {
     "name": "stdout",
     "output_type": "stream",
     "text": [
      "<class 'pandas.core.frame.DataFrame'>\n",
      "RangeIndex: 1303 entries, 0 to 1302\n",
      "Data columns (total 13 columns):\n",
      " #   Column              Non-Null Count  Dtype  \n",
      "---  ------              --------------  -----  \n",
      " 0   manufacturer        1303 non-null   object \n",
      " 1   model_name          1302 non-null   object \n",
      " 2   category            1302 non-null   object \n",
      " 3   screen_size_inches  1303 non-null   float64\n",
      " 4   screen              1303 non-null   object \n",
      " 5   cpu                 1303 non-null   object \n",
      " 6   ram_gb              1303 non-null   int64  \n",
      " 7   storage             1303 non-null   object \n",
      " 8   gpu                 1303 non-null   object \n",
      " 9   os                  1303 non-null   object \n",
      " 10  os_version          1133 non-null   object \n",
      " 11  weight_kg           1303 non-null   float64\n",
      " 12  price_euros         1303 non-null   float64\n",
      "dtypes: float64(3), int64(1), object(9)\n",
      "memory usage: 132.5+ KB\n"
     ]
    }
   ],
   "source": [
    "laptops.info()"
   ]
  },
  {
   "cell_type": "markdown",
   "metadata": {},
   "source": [
    "### Extracting Values from Strings"
   ]
  },
  {
   "cell_type": "markdown",
   "metadata": {},
   "source": [
    "<div><p>Sometimes, it can be useful to extract non-numeric values from within strings. Let's look at the first five values from the <code>gpu</code> (graphics processing unit) column:</p>\n",
    "</div>"
   ]
  },
  {
   "cell_type": "code",
   "execution_count": 216,
   "metadata": {},
   "outputs": [
    {
     "name": "stdout",
     "output_type": "stream",
     "text": [
      "0    Intel Iris Plus Graphics 640\n",
      "1          Intel HD Graphics 6000\n",
      "2           Intel HD Graphics 620\n",
      "3              AMD Radeon Pro 455\n",
      "4    Intel Iris Plus Graphics 650\n",
      "Name: gpu, dtype: object\n"
     ]
    }
   ],
   "source": [
    "print(laptops[\"gpu\"].head())"
   ]
  },
  {
   "cell_type": "markdown",
   "metadata": {},
   "source": [
    "<p>Because each manufacturer is followed by a whitespace character, we can use the <a target=\"_blank\" href=\"http://pandas.pydata.org/pandas-docs/stable/generated/pandas.Series.str.split.html\"><code>Series.str.split()</code> method</a> to extract this data.\n",
    "\n",
    "<p>This method splits each string on the whitespace; the result is a series containing individual Python lists. Also note that we used parentheses to method chain over multiple lines, which makes our code easier to read.</p>"
   ]
  },
  {
   "cell_type": "code",
   "execution_count": 217,
   "metadata": {},
   "outputs": [
    {
     "name": "stdout",
     "output_type": "stream",
     "text": [
      "0    [Intel, Iris, Plus, Graphics, 640]\n",
      "1           [Intel, HD, Graphics, 6000]\n",
      "2            [Intel, HD, Graphics, 620]\n",
      "3               [AMD, Radeon, Pro, 455]\n",
      "4    [Intel, Iris, Plus, Graphics, 650]\n",
      "Name: gpu, dtype: object\n"
     ]
    }
   ],
   "source": [
    "print(laptops[\"gpu\"].head().str.split())"
   ]
  },
  {
   "cell_type": "code",
   "execution_count": 219,
   "metadata": {},
   "outputs": [
    {
     "name": "stdout",
     "output_type": "stream",
     "text": [
      "Unique values in the new column: ['Intel' 'AMD' 'Nvidia' 'nvidia' 'nevidia' 'NVIDIA' 'ARM']\n"
     ]
    },
    {
     "data": {
      "text/html": [
       "<div>\n",
       "<style scoped>\n",
       "    .dataframe tbody tr th:only-of-type {\n",
       "        vertical-align: middle;\n",
       "    }\n",
       "\n",
       "    .dataframe tbody tr th {\n",
       "        vertical-align: top;\n",
       "    }\n",
       "\n",
       "    .dataframe thead th {\n",
       "        text-align: right;\n",
       "    }\n",
       "</style>\n",
       "<table border=\"1\" class=\"dataframe\">\n",
       "  <thead>\n",
       "    <tr style=\"text-align: right;\">\n",
       "      <th></th>\n",
       "      <th>manufacturer</th>\n",
       "      <th>model_name</th>\n",
       "      <th>category</th>\n",
       "      <th>screen_size_inches</th>\n",
       "      <th>screen</th>\n",
       "      <th>cpu</th>\n",
       "      <th>ram_gb</th>\n",
       "      <th>storage</th>\n",
       "      <th>gpu</th>\n",
       "      <th>os</th>\n",
       "      <th>os_version</th>\n",
       "      <th>weight_kg</th>\n",
       "      <th>price_euros</th>\n",
       "      <th>gpu_manufacturer</th>\n",
       "    </tr>\n",
       "  </thead>\n",
       "  <tbody>\n",
       "    <tr>\n",
       "      <th>0</th>\n",
       "      <td>Apple</td>\n",
       "      <td>MacBook Pro</td>\n",
       "      <td>Ultrabook</td>\n",
       "      <td>13.3</td>\n",
       "      <td>IPS Panel Retina Display 2560x1600</td>\n",
       "      <td>Intel Core i5 2.3GHz</td>\n",
       "      <td>8</td>\n",
       "      <td>128GB SSD</td>\n",
       "      <td>Intel Iris Plus Graphics 640</td>\n",
       "      <td>macOS</td>\n",
       "      <td>NaN</td>\n",
       "      <td>1.37</td>\n",
       "      <td>1339.69</td>\n",
       "      <td>Intel</td>\n",
       "    </tr>\n",
       "    <tr>\n",
       "      <th>1</th>\n",
       "      <td>Apple</td>\n",
       "      <td>Macbook Air</td>\n",
       "      <td>Ultrabook</td>\n",
       "      <td>13.3</td>\n",
       "      <td>1440x900</td>\n",
       "      <td>Intel Core i5 1.8GHz</td>\n",
       "      <td>8</td>\n",
       "      <td>128GB Flash Storage</td>\n",
       "      <td>Intel HD Graphics 6000</td>\n",
       "      <td>macOS</td>\n",
       "      <td>NaN</td>\n",
       "      <td>1.34</td>\n",
       "      <td>898.94</td>\n",
       "      <td>Intel</td>\n",
       "    </tr>\n",
       "    <tr>\n",
       "      <th>2</th>\n",
       "      <td>HP</td>\n",
       "      <td>250 G6</td>\n",
       "      <td>Notebook</td>\n",
       "      <td>15.6</td>\n",
       "      <td>Full HD 1920x1080</td>\n",
       "      <td>Intel Core i5 7200U 2.5GHz</td>\n",
       "      <td>8</td>\n",
       "      <td>256GB SSD</td>\n",
       "      <td>Intel HD Graphics 620</td>\n",
       "      <td>No OS</td>\n",
       "      <td>NaN</td>\n",
       "      <td>1.86</td>\n",
       "      <td>575.00</td>\n",
       "      <td>Intel</td>\n",
       "    </tr>\n",
       "    <tr>\n",
       "      <th>3</th>\n",
       "      <td>Apple</td>\n",
       "      <td>MacBook Pro</td>\n",
       "      <td>Ultrabook</td>\n",
       "      <td>15.4</td>\n",
       "      <td>IPS Panel Retina Display 2880x1800</td>\n",
       "      <td>Intel Core i7 2.7GHz</td>\n",
       "      <td>16</td>\n",
       "      <td>512GB SSD</td>\n",
       "      <td>AMD Radeon Pro 455</td>\n",
       "      <td>macOS</td>\n",
       "      <td>NaN</td>\n",
       "      <td>1.83</td>\n",
       "      <td>2537.45</td>\n",
       "      <td>AMD</td>\n",
       "    </tr>\n",
       "    <tr>\n",
       "      <th>4</th>\n",
       "      <td>Apple</td>\n",
       "      <td>MacBook Pro</td>\n",
       "      <td>Ultrabook</td>\n",
       "      <td>13.3</td>\n",
       "      <td>IPS Panel Retina Display 2560x1600</td>\n",
       "      <td>Intel Core i5 3.1GHz</td>\n",
       "      <td>8</td>\n",
       "      <td>256GB SSD</td>\n",
       "      <td>Intel Iris Plus Graphics 650</td>\n",
       "      <td>macOS</td>\n",
       "      <td>NaN</td>\n",
       "      <td>1.37</td>\n",
       "      <td>1803.60</td>\n",
       "      <td>Intel</td>\n",
       "    </tr>\n",
       "  </tbody>\n",
       "</table>\n",
       "</div>"
      ],
      "text/plain": [
       "  manufacturer   model_name   category  screen_size_inches  \\\n",
       "0        Apple  MacBook Pro  Ultrabook                13.3   \n",
       "1        Apple  Macbook Air  Ultrabook                13.3   \n",
       "2           HP       250 G6   Notebook                15.6   \n",
       "3        Apple  MacBook Pro  Ultrabook                15.4   \n",
       "4        Apple  MacBook Pro  Ultrabook                13.3   \n",
       "\n",
       "                               screen                         cpu  ram_gb  \\\n",
       "0  IPS Panel Retina Display 2560x1600        Intel Core i5 2.3GHz       8   \n",
       "1                            1440x900        Intel Core i5 1.8GHz       8   \n",
       "2                   Full HD 1920x1080  Intel Core i5 7200U 2.5GHz       8   \n",
       "3  IPS Panel Retina Display 2880x1800        Intel Core i7 2.7GHz      16   \n",
       "4  IPS Panel Retina Display 2560x1600        Intel Core i5 3.1GHz       8   \n",
       "\n",
       "               storage                           gpu     os os_version  \\\n",
       "0            128GB SSD  Intel Iris Plus Graphics 640  macOS        NaN   \n",
       "1  128GB Flash Storage        Intel HD Graphics 6000  macOS        NaN   \n",
       "2            256GB SSD         Intel HD Graphics 620  No OS        NaN   \n",
       "3            512GB SSD            AMD Radeon Pro 455  macOS        NaN   \n",
       "4            256GB SSD  Intel Iris Plus Graphics 650  macOS        NaN   \n",
       "\n",
       "   weight_kg  price_euros gpu_manufacturer  \n",
       "0       1.37      1339.69            Intel  \n",
       "1       1.34       898.94            Intel  \n",
       "2       1.86       575.00            Intel  \n",
       "3       1.83      2537.45              AMD  \n",
       "4       1.37      1803.60            Intel  "
      ]
     },
     "execution_count": 219,
     "metadata": {},
     "output_type": "execute_result"
    }
   ],
   "source": [
    "# Extract the GPU manufacturer from the GPU column and create a new column\n",
    "laptops[\"gpu_manufacturer\"] = laptops[\"gpu\"].str.split().str[0]\n",
    "print(f\"Unique values in the new column: {laptops['gpu_manufacturer'].unique()}\")\n",
    "laptops.head(5)"
   ]
  },
  {
   "cell_type": "code",
   "execution_count": 223,
   "metadata": {},
   "outputs": [
    {
     "name": "stdout",
     "output_type": "stream",
     "text": [
      "Unique values in the new column: ['intel' 'amd' 'nvidia' 'arm']\n"
     ]
    },
    {
     "data": {
      "text/html": [
       "<div>\n",
       "<style scoped>\n",
       "    .dataframe tbody tr th:only-of-type {\n",
       "        vertical-align: middle;\n",
       "    }\n",
       "\n",
       "    .dataframe tbody tr th {\n",
       "        vertical-align: top;\n",
       "    }\n",
       "\n",
       "    .dataframe thead th {\n",
       "        text-align: right;\n",
       "    }\n",
       "</style>\n",
       "<table border=\"1\" class=\"dataframe\">\n",
       "  <thead>\n",
       "    <tr style=\"text-align: right;\">\n",
       "      <th></th>\n",
       "      <th>manufacturer</th>\n",
       "      <th>model_name</th>\n",
       "      <th>category</th>\n",
       "      <th>screen_size_inches</th>\n",
       "      <th>screen</th>\n",
       "      <th>cpu</th>\n",
       "      <th>ram_gb</th>\n",
       "      <th>storage</th>\n",
       "      <th>gpu</th>\n",
       "      <th>os</th>\n",
       "      <th>os_version</th>\n",
       "      <th>weight_kg</th>\n",
       "      <th>price_euros</th>\n",
       "      <th>gpu_manufacturer</th>\n",
       "    </tr>\n",
       "  </thead>\n",
       "  <tbody>\n",
       "    <tr>\n",
       "      <th>0</th>\n",
       "      <td>Apple</td>\n",
       "      <td>MacBook Pro</td>\n",
       "      <td>Ultrabook</td>\n",
       "      <td>13.3</td>\n",
       "      <td>IPS Panel Retina Display 2560x1600</td>\n",
       "      <td>Intel Core i5 2.3GHz</td>\n",
       "      <td>8</td>\n",
       "      <td>128GB SSD</td>\n",
       "      <td>Intel Iris Plus Graphics 640</td>\n",
       "      <td>macOS</td>\n",
       "      <td>NaN</td>\n",
       "      <td>1.37</td>\n",
       "      <td>1339.69</td>\n",
       "      <td>intel</td>\n",
       "    </tr>\n",
       "    <tr>\n",
       "      <th>1</th>\n",
       "      <td>Apple</td>\n",
       "      <td>Macbook Air</td>\n",
       "      <td>Ultrabook</td>\n",
       "      <td>13.3</td>\n",
       "      <td>1440x900</td>\n",
       "      <td>Intel Core i5 1.8GHz</td>\n",
       "      <td>8</td>\n",
       "      <td>128GB Flash Storage</td>\n",
       "      <td>Intel HD Graphics 6000</td>\n",
       "      <td>macOS</td>\n",
       "      <td>NaN</td>\n",
       "      <td>1.34</td>\n",
       "      <td>898.94</td>\n",
       "      <td>intel</td>\n",
       "    </tr>\n",
       "  </tbody>\n",
       "</table>\n",
       "</div>"
      ],
      "text/plain": [
       "  manufacturer   model_name   category  screen_size_inches  \\\n",
       "0        Apple  MacBook Pro  Ultrabook                13.3   \n",
       "1        Apple  Macbook Air  Ultrabook                13.3   \n",
       "\n",
       "                               screen                   cpu  ram_gb  \\\n",
       "0  IPS Panel Retina Display 2560x1600  Intel Core i5 2.3GHz       8   \n",
       "1                            1440x900  Intel Core i5 1.8GHz       8   \n",
       "\n",
       "               storage                           gpu     os os_version  \\\n",
       "0            128GB SSD  Intel Iris Plus Graphics 640  macOS        NaN   \n",
       "1  128GB Flash Storage        Intel HD Graphics 6000  macOS        NaN   \n",
       "\n",
       "   weight_kg  price_euros gpu_manufacturer  \n",
       "0       1.37      1339.69            intel  \n",
       "1       1.34       898.94            intel  "
      ]
     },
     "execution_count": 223,
     "metadata": {},
     "output_type": "execute_result"
    }
   ],
   "source": [
    "# Standardizing Text: Uniformity is key when dealing with text data.\n",
    "# Converting all text to lower or upper case can prevent mismatches during comparisons\n",
    "laptops[\"gpu_manufacturer\"] = laptops[\"gpu_manufacturer\"].str.lower().str.strip()\n",
    "# Replace the nevidia typo with nvidia\n",
    "laptops = laptops.replace(\"nevidia\", \"nvidia\")\n",
    "print(f\"Unique values in the new column: {laptops['gpu_manufacturer'].unique()}\")\n",
    "laptops.head(2)\n"
   ]
  },
  {
   "cell_type": "code",
   "execution_count": 224,
   "metadata": {},
   "outputs": [
    {
     "name": "stdout",
     "output_type": "stream",
     "text": [
      "Unique values in the new column: ['Intel' 'AMD' 'intel' 'Samsung']\n"
     ]
    },
    {
     "data": {
      "text/html": [
       "<div>\n",
       "<style scoped>\n",
       "    .dataframe tbody tr th:only-of-type {\n",
       "        vertical-align: middle;\n",
       "    }\n",
       "\n",
       "    .dataframe tbody tr th {\n",
       "        vertical-align: top;\n",
       "    }\n",
       "\n",
       "    .dataframe thead th {\n",
       "        text-align: right;\n",
       "    }\n",
       "</style>\n",
       "<table border=\"1\" class=\"dataframe\">\n",
       "  <thead>\n",
       "    <tr style=\"text-align: right;\">\n",
       "      <th></th>\n",
       "      <th>manufacturer</th>\n",
       "      <th>model_name</th>\n",
       "      <th>category</th>\n",
       "      <th>screen_size_inches</th>\n",
       "      <th>screen</th>\n",
       "      <th>cpu</th>\n",
       "      <th>ram_gb</th>\n",
       "      <th>storage</th>\n",
       "      <th>gpu</th>\n",
       "      <th>os</th>\n",
       "      <th>os_version</th>\n",
       "      <th>weight_kg</th>\n",
       "      <th>price_euros</th>\n",
       "      <th>gpu_manufacturer</th>\n",
       "      <th>cpu_manufacturer</th>\n",
       "    </tr>\n",
       "  </thead>\n",
       "  <tbody>\n",
       "    <tr>\n",
       "      <th>0</th>\n",
       "      <td>Apple</td>\n",
       "      <td>MacBook Pro</td>\n",
       "      <td>Ultrabook</td>\n",
       "      <td>13.3</td>\n",
       "      <td>IPS Panel Retina Display 2560x1600</td>\n",
       "      <td>Intel Core i5 2.3GHz</td>\n",
       "      <td>8</td>\n",
       "      <td>128GB SSD</td>\n",
       "      <td>Intel Iris Plus Graphics 640</td>\n",
       "      <td>macOS</td>\n",
       "      <td>NaN</td>\n",
       "      <td>1.37</td>\n",
       "      <td>1339.69</td>\n",
       "      <td>intel</td>\n",
       "      <td>intel</td>\n",
       "    </tr>\n",
       "    <tr>\n",
       "      <th>1</th>\n",
       "      <td>Apple</td>\n",
       "      <td>Macbook Air</td>\n",
       "      <td>Ultrabook</td>\n",
       "      <td>13.3</td>\n",
       "      <td>1440x900</td>\n",
       "      <td>Intel Core i5 1.8GHz</td>\n",
       "      <td>8</td>\n",
       "      <td>128GB Flash Storage</td>\n",
       "      <td>Intel HD Graphics 6000</td>\n",
       "      <td>macOS</td>\n",
       "      <td>NaN</td>\n",
       "      <td>1.34</td>\n",
       "      <td>898.94</td>\n",
       "      <td>intel</td>\n",
       "      <td>intel</td>\n",
       "    </tr>\n",
       "  </tbody>\n",
       "</table>\n",
       "</div>"
      ],
      "text/plain": [
       "  manufacturer   model_name   category  screen_size_inches  \\\n",
       "0        Apple  MacBook Pro  Ultrabook                13.3   \n",
       "1        Apple  Macbook Air  Ultrabook                13.3   \n",
       "\n",
       "                               screen                   cpu  ram_gb  \\\n",
       "0  IPS Panel Retina Display 2560x1600  Intel Core i5 2.3GHz       8   \n",
       "1                            1440x900  Intel Core i5 1.8GHz       8   \n",
       "\n",
       "               storage                           gpu     os os_version  \\\n",
       "0            128GB SSD  Intel Iris Plus Graphics 640  macOS        NaN   \n",
       "1  128GB Flash Storage        Intel HD Graphics 6000  macOS        NaN   \n",
       "\n",
       "   weight_kg  price_euros gpu_manufacturer cpu_manufacturer  \n",
       "0       1.37      1339.69            intel            intel  \n",
       "1       1.34       898.94            intel            intel  "
      ]
     },
     "execution_count": 224,
     "metadata": {},
     "output_type": "execute_result"
    }
   ],
   "source": [
    "# Extract the CPU manufacturer from the CPU column and create a new column\n",
    "laptops[\"cpu_manufacturer\"] = laptops[\"cpu\"].str.split().str[0]\n",
    "print(f\"Unique values in the new column: {laptops['cpu_manufacturer'].unique()}\")\n",
    "laptops[\"cpu_manufacturer\"] = laptops[\"cpu_manufacturer\"].str.lower().str.strip()\n",
    "laptops.head(2)"
   ]
  },
  {
   "cell_type": "code",
   "execution_count": 225,
   "metadata": {},
   "outputs": [
    {
     "data": {
      "text/html": [
       "<div>\n",
       "<style scoped>\n",
       "    .dataframe tbody tr th:only-of-type {\n",
       "        vertical-align: middle;\n",
       "    }\n",
       "\n",
       "    .dataframe tbody tr th {\n",
       "        vertical-align: top;\n",
       "    }\n",
       "\n",
       "    .dataframe thead th {\n",
       "        text-align: right;\n",
       "    }\n",
       "</style>\n",
       "<table border=\"1\" class=\"dataframe\">\n",
       "  <thead>\n",
       "    <tr style=\"text-align: right;\">\n",
       "      <th></th>\n",
       "      <th>manufacturer</th>\n",
       "      <th>model_name</th>\n",
       "      <th>category</th>\n",
       "      <th>screen_size_inches</th>\n",
       "      <th>screen</th>\n",
       "      <th>cpu</th>\n",
       "      <th>ram_gb</th>\n",
       "      <th>storage</th>\n",
       "      <th>gpu</th>\n",
       "      <th>os</th>\n",
       "      <th>os_version</th>\n",
       "      <th>weight_kg</th>\n",
       "      <th>price_euros</th>\n",
       "      <th>gpu_manufacturer</th>\n",
       "      <th>cpu_manufacturer</th>\n",
       "      <th>screen_width_px</th>\n",
       "      <th>screen_high_px</th>\n",
       "    </tr>\n",
       "  </thead>\n",
       "  <tbody>\n",
       "    <tr>\n",
       "      <th>0</th>\n",
       "      <td>Apple</td>\n",
       "      <td>MacBook Pro</td>\n",
       "      <td>Ultrabook</td>\n",
       "      <td>13.3</td>\n",
       "      <td>IPS Panel Retina Display 2560x1600</td>\n",
       "      <td>Intel Core i5 2.3GHz</td>\n",
       "      <td>8</td>\n",
       "      <td>128GB SSD</td>\n",
       "      <td>Intel Iris Plus Graphics 640</td>\n",
       "      <td>macOS</td>\n",
       "      <td>NaN</td>\n",
       "      <td>1.37</td>\n",
       "      <td>1339.69</td>\n",
       "      <td>intel</td>\n",
       "      <td>intel</td>\n",
       "      <td>2560</td>\n",
       "      <td>1600</td>\n",
       "    </tr>\n",
       "    <tr>\n",
       "      <th>1</th>\n",
       "      <td>Apple</td>\n",
       "      <td>Macbook Air</td>\n",
       "      <td>Ultrabook</td>\n",
       "      <td>13.3</td>\n",
       "      <td>1440x900</td>\n",
       "      <td>Intel Core i5 1.8GHz</td>\n",
       "      <td>8</td>\n",
       "      <td>128GB Flash Storage</td>\n",
       "      <td>Intel HD Graphics 6000</td>\n",
       "      <td>macOS</td>\n",
       "      <td>NaN</td>\n",
       "      <td>1.34</td>\n",
       "      <td>898.94</td>\n",
       "      <td>intel</td>\n",
       "      <td>intel</td>\n",
       "      <td>1440</td>\n",
       "      <td>900</td>\n",
       "    </tr>\n",
       "  </tbody>\n",
       "</table>\n",
       "</div>"
      ],
      "text/plain": [
       "  manufacturer   model_name   category  screen_size_inches  \\\n",
       "0        Apple  MacBook Pro  Ultrabook                13.3   \n",
       "1        Apple  Macbook Air  Ultrabook                13.3   \n",
       "\n",
       "                               screen                   cpu  ram_gb  \\\n",
       "0  IPS Panel Retina Display 2560x1600  Intel Core i5 2.3GHz       8   \n",
       "1                            1440x900  Intel Core i5 1.8GHz       8   \n",
       "\n",
       "               storage                           gpu     os os_version  \\\n",
       "0            128GB SSD  Intel Iris Plus Graphics 640  macOS        NaN   \n",
       "1  128GB Flash Storage        Intel HD Graphics 6000  macOS        NaN   \n",
       "\n",
       "   weight_kg  price_euros gpu_manufacturer cpu_manufacturer  screen_width_px  \\\n",
       "0       1.37      1339.69            intel            intel             2560   \n",
       "1       1.34       898.94            intel            intel             1440   \n",
       "\n",
       "   screen_high_px  \n",
       "0            1600  \n",
       "1             900  "
      ]
     },
     "execution_count": 225,
     "metadata": {},
     "output_type": "execute_result"
    }
   ],
   "source": [
    "# Extract the screen resolution from the screen column\n",
    "resolution = laptops[\"screen\"].str.split(\" \").str[-1]\n",
    "resolution_splitted = resolution.str.split(\"x\")\n",
    "laptops[\"screen_width_px\"] = resolution_splitted.str[0].astype(\"int\")\n",
    "laptops[\"screen_high_px\"] = resolution_splitted.str[1].astype(\"int\")\n",
    "laptops.head(2)"
   ]
  },
  {
   "cell_type": "code",
   "execution_count": 226,
   "metadata": {},
   "outputs": [
    {
     "data": {
      "text/plain": [
       "array(['128GB SSD', '128GB Flash Storage', '256GB SSD', '512GB SSD',\n",
       "       '500GB HDD', '256GB Flash Storage', '1TB HDD',\n",
       "       '32GB Flash Storage', '128GB SSD +  1TB HDD',\n",
       "       '256GB SSD +  256GB SSD', '64GB Flash Storage',\n",
       "       '256GB SSD +  1TB HDD', '256GB SSD +  2TB HDD', '32GB SSD',\n",
       "       '2TB HDD', '64GB SSD', '1TB Hybrid', '512GB SSD +  1TB HDD',\n",
       "       '1TB SSD', '256 GB SSD', '512 GB SSD', '256GB SSD +  500GB HDD',\n",
       "       '128GB SSD +  2TB HDD', '512GB SSD +  512GB SSD', '16GB SSD',\n",
       "       '16GB Flash Storage', '512GB SSD +  256GB SSD',\n",
       "       '512GB SSD +  2TB HDD', '64GB Flash Storage +  1TB HDD', '1GB SSD',\n",
       "       '1TB HDD +  1TB HDD', '32GB HDD', '1TB SSD +  1TB HDD',\n",
       "       '512GB Flash Storage', '128GB HDD', '240GB SSD', '8GB SSD',\n",
       "       '508GB Hybrid', '512GB SSD +  1TB Hybrid',\n",
       "       '256GB SSD +  1TB Hybrid'], dtype=object)"
      ]
     },
     "execution_count": 226,
     "metadata": {},
     "output_type": "execute_result"
    }
   ],
   "source": [
    "laptops[\"storage\"].unique()"
   ]
  },
  {
   "cell_type": "markdown",
   "metadata": {},
   "source": [
    "### Regular Expressions in Pandas\n",
    "\n",
    "Regular Expressions (regex) are powerful patterns used to match, search, and manipulate strings. They allow you to define complex search patterns to extract or replace text in your data.\n",
    "\n",
    "Regex is indispensable when working with messy or unstructured text data. In Pandas, regex simplifies tasks like extracting substrings, cleaning text, and validating formats.\n",
    "\n",
    "Key Pandas String Methods That Support Regex:\n",
    "- `str.contains()`: Check if a pattern exists within each string.\n",
    "- `str.extract()`: Extract capture groups from each string using a regex pattern.\n",
    "- `str.replace()`: Replace occurrences of a regex pattern with a specified string.\n",
    "- `str.split()`: Split strings using a regex as the delimiter."
   ]
  },
  {
   "cell_type": "markdown",
   "metadata": {},
   "source": [
    "**Introduction to Using re in Python**\n",
    "\n",
    "The re module in Python provides a robust toolkit for working with regular expressions—a powerful language for matching, searching, extracting, and replacing text patterns. Regular expressions allow you to define complex search patterns with precision and efficiency, which is particularly useful when dealing with unstructured or semi-structured data.\n",
    "\n"
   ]
  },
  {
   "cell_type": "code",
   "execution_count": 3,
   "metadata": {},
   "outputs": [
    {
     "data": {
      "text/plain": [
       "'Order#12345'"
      ]
     },
     "execution_count": 3,
     "metadata": {},
     "output_type": "execute_result"
    }
   ],
   "source": [
    "import re\n",
    "\n",
    "re.search(r\"Order#\\d{5}\", \"LALALALOrder#12345LALALAALA\").group()  # type: ignore  # noqa: PGH003\n"
   ]
  },
  {
   "cell_type": "markdown",
   "metadata": {},
   "source": [
    "Imagine you have a log of customer orders in a free-form text format. Each log entry contains a customer name, email, order ID, order date, order amount, and shipping date. The data is semi-structured and includes a mix of literals and variable content."
   ]
  },
  {
   "cell_type": "code",
   "execution_count": 228,
   "metadata": {},
   "outputs": [
    {
     "name": "stdout",
     "output_type": "stream",
     "text": [
      "{'name': 'John Doe', 'email': 'john.doe@example.com', 'order_id': '12345', 'order_date': '2023-06-15', 'price': '299.99', 'ship_date': '2023-06-20'}\n",
      "{'name': 'Jane Smith', 'email': 'jane.smith@example.com', 'order_id': '98765', 'order_date': '2023-07-01', 'price': '499.50', 'ship_date': '2023-07-05'}\n"
     ]
    }
   ],
   "source": [
    "# The example shows how multiple pieces of information can be extracted from a single text\n",
    "# string using a composite regular expression.\n",
    "\n",
    "import re\n",
    "\n",
    "log_text = \"\"\"\n",
    "Customer: John Doe <john.doe@example.com> placed Order#12345 on 2023-06-15 for $299.99. Shipped on 2023-06-20.\n",
    "Customer: Jane Smith <jane.smith@example.com> placed Order#98765 on 2023-07-01 for $499.50. Shipped on 2023-07-05.\n",
    "\"\"\"\n",
    "pattern = (\n",
    "    r\"Customer:\\s+\"  # Literal text \"Customer:\" followed by one or more spaces\n",
    "    r\"(?P<name>[A-Za-z\\s]+)\\s+\"  # Capture the customer's name (letters and spaces)\n",
    "    r\"<(?P<email>[\\w\\.-]+@[\\w\\.-]+\\.\\w+)>\\s+\"  # Capture the email address enclosed in <>\n",
    "    r\"placed\\s+Order#(?P<order_id>\\d+)\\s+\"  # Capture the order ID (one or more digits)\n",
    "    r\"on\\s+(?P<order_date>\\d{4}-\\d{2}-\\d{2})\\s+\"  # Capture the order date in YYYY-MM-DD format\n",
    "    r\"for\\s+\\$(?P<price>\\d+\\.\\d{2})\\. \"  # Capture the price (dollar sign, digits, dot, two digits)\n",
    "    r\"Shipped\\s+on\\s+(?P<ship_date>\\d{4}-\\d{2}-\\d{2})\\.\"  # Capture the shipping date\n",
    ")\n",
    "\n",
    "matches = re.finditer(pattern, log_text)\n",
    "for match in matches:\n",
    "    print(match.groupdict())"
   ]
  },
  {
   "cell_type": "markdown",
   "metadata": {},
   "source": [
    "- [Build your regex](https://regexr.com/)\n",
    "- [Regular Expressions: Regexes in Python (Part 1)](https://realpython.com/regex-python/)\n",
    "- [Regular Expressions: Regexes in Python (Part 2)](https://realpython.com/regex-python-part-2/)"
   ]
  },
  {
   "cell_type": "markdown",
   "metadata": {},
   "source": [
    "Use Regex to Extract the storage size from the storage column:"
   ]
  },
  {
   "cell_type": "code",
   "execution_count": null,
   "metadata": {},
   "outputs": [
    {
     "data": {
      "text/plain": [
       "array(['128GB SSD', '128GB Flash Storage', '256GB SSD', '512GB SSD',\n",
       "       '500GB HDD', '256GB Flash Storage', '1000GB HDD',\n",
       "       '32GB Flash Storage', '128GB SSD +  1000GB HDD',\n",
       "       '256GB SSD +  256GB SSD', '64GB Flash Storage',\n",
       "       '256GB SSD +  1000GB HDD', '256GB SSD +  2000GB HDD', '32GB SSD',\n",
       "       '2000GB HDD', '64GB SSD', '1000GB Hybrid',\n",
       "       '512GB SSD +  1000GB HDD', '1000GB SSD', '256 GB SSD',\n",
       "       '512 GB SSD', '256GB SSD +  500GB HDD', '128GB SSD +  2000GB HDD',\n",
       "       '512GB SSD +  512GB SSD', '16GB SSD', '16GB Flash Storage',\n",
       "       '512GB SSD +  256GB SSD', '512GB SSD +  2000GB HDD',\n",
       "       '64GB Flash Storage +  1000GB HDD', '1GB SSD',\n",
       "       '1000GB HDD +  1000GB HDD', '32GB HDD', '1000GB SSD +  1000GB HDD',\n",
       "       '512GB Flash Storage', '128GB HDD', '240GB SSD', '8GB SSD',\n",
       "       '508GB Hybrid', '512GB SSD +  1000GB Hybrid',\n",
       "       '256GB SSD +  1000GB Hybrid'], dtype=object)"
      ]
     },
     "execution_count": 230,
     "metadata": {},
     "output_type": "execute_result"
    }
   ],
   "source": [
    "laptops[\"storage\"].unique()"
   ]
  },
  {
   "cell_type": "code",
   "execution_count": 231,
   "metadata": {},
   "outputs": [
    {
     "data": {
      "text/html": [
       "<div>\n",
       "<style scoped>\n",
       "    .dataframe tbody tr th:only-of-type {\n",
       "        vertical-align: middle;\n",
       "    }\n",
       "\n",
       "    .dataframe tbody tr th {\n",
       "        vertical-align: top;\n",
       "    }\n",
       "\n",
       "    .dataframe thead th {\n",
       "        text-align: right;\n",
       "    }\n",
       "</style>\n",
       "<table border=\"1\" class=\"dataframe\">\n",
       "  <thead>\n",
       "    <tr style=\"text-align: right;\">\n",
       "      <th></th>\n",
       "      <th>storage</th>\n",
       "      <th>storage_ssd_gb</th>\n",
       "      <th>storage_hdd_gb</th>\n",
       "      <th>storage_flash_gb</th>\n",
       "      <th>storage_hybrid_gb</th>\n",
       "    </tr>\n",
       "  </thead>\n",
       "  <tbody>\n",
       "    <tr>\n",
       "      <th>627</th>\n",
       "      <td>128GB SSD</td>\n",
       "      <td>128.0</td>\n",
       "      <td>NaN</td>\n",
       "      <td>NaN</td>\n",
       "      <td>NaN</td>\n",
       "    </tr>\n",
       "    <tr>\n",
       "      <th>506</th>\n",
       "      <td>256GB SSD +  1000GB HDD</td>\n",
       "      <td>256.0</td>\n",
       "      <td>1000.0</td>\n",
       "      <td>NaN</td>\n",
       "      <td>NaN</td>\n",
       "    </tr>\n",
       "    <tr>\n",
       "      <th>436</th>\n",
       "      <td>500GB HDD</td>\n",
       "      <td>NaN</td>\n",
       "      <td>500.0</td>\n",
       "      <td>NaN</td>\n",
       "      <td>NaN</td>\n",
       "    </tr>\n",
       "    <tr>\n",
       "      <th>279</th>\n",
       "      <td>2000GB HDD</td>\n",
       "      <td>NaN</td>\n",
       "      <td>2000.0</td>\n",
       "      <td>NaN</td>\n",
       "      <td>NaN</td>\n",
       "    </tr>\n",
       "    <tr>\n",
       "      <th>420</th>\n",
       "      <td>512GB SSD</td>\n",
       "      <td>512.0</td>\n",
       "      <td>NaN</td>\n",
       "      <td>NaN</td>\n",
       "      <td>NaN</td>\n",
       "    </tr>\n",
       "    <tr>\n",
       "      <th>1238</th>\n",
       "      <td>128GB SSD +  1000GB HDD</td>\n",
       "      <td>128.0</td>\n",
       "      <td>1000.0</td>\n",
       "      <td>NaN</td>\n",
       "      <td>NaN</td>\n",
       "    </tr>\n",
       "    <tr>\n",
       "      <th>1245</th>\n",
       "      <td>256GB SSD +  1000GB HDD</td>\n",
       "      <td>256.0</td>\n",
       "      <td>1000.0</td>\n",
       "      <td>NaN</td>\n",
       "      <td>NaN</td>\n",
       "    </tr>\n",
       "    <tr>\n",
       "      <th>315</th>\n",
       "      <td>128GB SSD +  1000GB HDD</td>\n",
       "      <td>128.0</td>\n",
       "      <td>1000.0</td>\n",
       "      <td>NaN</td>\n",
       "      <td>NaN</td>\n",
       "    </tr>\n",
       "    <tr>\n",
       "      <th>968</th>\n",
       "      <td>256GB SSD +  1000GB HDD</td>\n",
       "      <td>256.0</td>\n",
       "      <td>1000.0</td>\n",
       "      <td>NaN</td>\n",
       "      <td>NaN</td>\n",
       "    </tr>\n",
       "    <tr>\n",
       "      <th>867</th>\n",
       "      <td>256GB SSD</td>\n",
       "      <td>256.0</td>\n",
       "      <td>NaN</td>\n",
       "      <td>NaN</td>\n",
       "      <td>NaN</td>\n",
       "    </tr>\n",
       "  </tbody>\n",
       "</table>\n",
       "</div>"
      ],
      "text/plain": [
       "                      storage  storage_ssd_gb  storage_hdd_gb  \\\n",
       "627                 128GB SSD           128.0             NaN   \n",
       "506   256GB SSD +  1000GB HDD           256.0          1000.0   \n",
       "436                 500GB HDD             NaN           500.0   \n",
       "279                2000GB HDD             NaN          2000.0   \n",
       "420                 512GB SSD           512.0             NaN   \n",
       "1238  128GB SSD +  1000GB HDD           128.0          1000.0   \n",
       "1245  256GB SSD +  1000GB HDD           256.0          1000.0   \n",
       "315   128GB SSD +  1000GB HDD           128.0          1000.0   \n",
       "968   256GB SSD +  1000GB HDD           256.0          1000.0   \n",
       "867                 256GB SSD           256.0             NaN   \n",
       "\n",
       "      storage_flash_gb  storage_hybrid_gb  \n",
       "627                NaN                NaN  \n",
       "506                NaN                NaN  \n",
       "436                NaN                NaN  \n",
       "279                NaN                NaN  \n",
       "420                NaN                NaN  \n",
       "1238               NaN                NaN  \n",
       "1245               NaN                NaN  \n",
       "315                NaN                NaN  \n",
       "968                NaN                NaN  \n",
       "867                NaN                NaN  "
      ]
     },
     "execution_count": 231,
     "metadata": {},
     "output_type": "execute_result"
    }
   ],
   "source": [
    "# We want to create 4 new columns: storage_ssd_gb, storage_hdd_gb, storage_flash_gb, storage_hybrid_gb\n",
    "# Convert the TB values to GB\n",
    "laptops[\"storage\"] = laptops[\"storage\"].str.replace(\"TB\", \"000GB\")\n",
    "# Extract the storage values\n",
    "laptops[\"storage_ssd_gb\"] = laptops[\"storage\"].str.extract(r\"(\\d+)\\s?GB\\s?SSD\").astype(\"float\")\n",
    "laptops[\"storage_hdd_gb\"] = laptops[\"storage\"].str.extract(r\"(\\d+)\\s?GB\\s?HDD\").astype(\"float\")\n",
    "laptops[\"storage_flash_gb\"] = laptops[\"storage\"].str.extract(r\"(\\d+)\\s?GB\\s?Flash Storage\").astype(\"float\")\n",
    "laptops[\"storage_hybrid_gb\"] = laptops[\"storage\"].str.extract(r\"(\\d+)\\s?GB\\s?Hybrid\").astype(\"float\")\n",
    "# Show the new columns\n",
    "laptops.loc[:, [\"storage\", \"storage_ssd_gb\", \"storage_hdd_gb\", \"storage_flash_gb\", \"storage_hybrid_gb\"]].sample(10)"
   ]
  },
  {
   "cell_type": "code",
   "execution_count": 232,
   "metadata": {},
   "outputs": [
    {
     "name": "stdout",
     "output_type": "stream",
     "text": [
      "['Intel Core i5 2.3GHz' 'Intel Core i5 1.8GHz'\n",
      " 'Intel Core i5 7200U 2.5GHz' 'Intel Core i7 2.7GHz'\n",
      " 'Intel Core i5 3.1GHz' 'AMD A9-Series 9420 3GHz' 'Intel Core i7 2.2GHz'\n",
      " 'Intel Core i7 8550U 1.8GHz' 'Intel Core i5 8250U 1.6GHz'\n",
      " 'Intel Core i3 6006U 2GHz']\n"
     ]
    }
   ],
   "source": [
    "print(laptops[\"cpu\"].unique()[:10])"
   ]
  },
  {
   "cell_type": "code",
   "execution_count": 233,
   "metadata": {},
   "outputs": [
    {
     "data": {
      "text/html": [
       "<div>\n",
       "<style scoped>\n",
       "    .dataframe tbody tr th:only-of-type {\n",
       "        vertical-align: middle;\n",
       "    }\n",
       "\n",
       "    .dataframe tbody tr th {\n",
       "        vertical-align: top;\n",
       "    }\n",
       "\n",
       "    .dataframe thead th {\n",
       "        text-align: right;\n",
       "    }\n",
       "</style>\n",
       "<table border=\"1\" class=\"dataframe\">\n",
       "  <thead>\n",
       "    <tr style=\"text-align: right;\">\n",
       "      <th></th>\n",
       "      <th>cpu</th>\n",
       "      <th>cpu_speed_ghz</th>\n",
       "      <th>cpu_manufacturer</th>\n",
       "    </tr>\n",
       "  </thead>\n",
       "  <tbody>\n",
       "    <tr>\n",
       "      <th>478</th>\n",
       "      <td>Intel Core i5 8250U 1.6GHz</td>\n",
       "      <td>1.6</td>\n",
       "      <td>intel</td>\n",
       "    </tr>\n",
       "    <tr>\n",
       "      <th>1122</th>\n",
       "      <td>Intel Core i5 6200U 2.3GHz</td>\n",
       "      <td>2.3</td>\n",
       "      <td>intel</td>\n",
       "    </tr>\n",
       "    <tr>\n",
       "      <th>152</th>\n",
       "      <td>Intel Core i5 7200U 2.5GHz</td>\n",
       "      <td>2.5</td>\n",
       "      <td>intel</td>\n",
       "    </tr>\n",
       "    <tr>\n",
       "      <th>593</th>\n",
       "      <td>Intel Core i7 7700HQ 2.8GHz</td>\n",
       "      <td>2.8</td>\n",
       "      <td>intel</td>\n",
       "    </tr>\n",
       "    <tr>\n",
       "      <th>253</th>\n",
       "      <td>Intel Core i7 8550U 1.8GHz</td>\n",
       "      <td>1.8</td>\n",
       "      <td>intel</td>\n",
       "    </tr>\n",
       "    <tr>\n",
       "      <th>529</th>\n",
       "      <td>Intel Core i5 7440HQ 2.8GHz</td>\n",
       "      <td>2.8</td>\n",
       "      <td>intel</td>\n",
       "    </tr>\n",
       "    <tr>\n",
       "      <th>869</th>\n",
       "      <td>Intel Core i7 7700HQ 2.8GHz</td>\n",
       "      <td>2.8</td>\n",
       "      <td>intel</td>\n",
       "    </tr>\n",
       "    <tr>\n",
       "      <th>992</th>\n",
       "      <td>Intel Celeron Dual Core N3350 1.1GHz</td>\n",
       "      <td>1.1</td>\n",
       "      <td>intel</td>\n",
       "    </tr>\n",
       "    <tr>\n",
       "      <th>1261</th>\n",
       "      <td>Intel Core M 6Y30 0.9GHz</td>\n",
       "      <td>0.9</td>\n",
       "      <td>intel</td>\n",
       "    </tr>\n",
       "    <tr>\n",
       "      <th>371</th>\n",
       "      <td>AMD A9-Series 9420 3GHz</td>\n",
       "      <td>3.0</td>\n",
       "      <td>amd</td>\n",
       "    </tr>\n",
       "  </tbody>\n",
       "</table>\n",
       "</div>"
      ],
      "text/plain": [
       "                                       cpu  cpu_speed_ghz cpu_manufacturer\n",
       "478             Intel Core i5 8250U 1.6GHz            1.6            intel\n",
       "1122            Intel Core i5 6200U 2.3GHz            2.3            intel\n",
       "152             Intel Core i5 7200U 2.5GHz            2.5            intel\n",
       "593            Intel Core i7 7700HQ 2.8GHz            2.8            intel\n",
       "253             Intel Core i7 8550U 1.8GHz            1.8            intel\n",
       "529            Intel Core i5 7440HQ 2.8GHz            2.8            intel\n",
       "869            Intel Core i7 7700HQ 2.8GHz            2.8            intel\n",
       "992   Intel Celeron Dual Core N3350 1.1GHz            1.1            intel\n",
       "1261              Intel Core M 6Y30 0.9GHz            0.9            intel\n",
       "371                AMD A9-Series 9420 3GHz            3.0              amd"
      ]
     },
     "execution_count": 233,
     "metadata": {},
     "output_type": "execute_result"
    }
   ],
   "source": [
    "# Extract the processor speed from the cpu column\n",
    "laptops[\"cpu_speed_ghz\"] = laptops[\"cpu\"].str.extract(r\"(\\d+\\.?\\d*)\\s*GHz\").astype(\"float\")\n",
    "laptops.loc[:, [\"cpu\", \"cpu_speed_ghz\", \"cpu_manufacturer\"]].sample(10)"
   ]
  },
  {
   "cell_type": "markdown",
   "metadata": {},
   "source": [
    "### Correcting Bad Values - map() method"
   ]
  },
  {
   "cell_type": "markdown",
   "metadata": {},
   "source": [
    "If your data has been scraped from a webpage or if there was manual data entry involved at some point, you may end up with inconsistent values."
   ]
  },
  {
   "cell_type": "code",
   "execution_count": 234,
   "metadata": {},
   "outputs": [
    {
     "data": {
      "text/plain": [
       "array(['macOS', 'No OS', 'Windows', 'Mac OS', 'Linux', 'Android',\n",
       "       'Chrome OS'], dtype=object)"
      ]
     },
     "execution_count": 234,
     "metadata": {},
     "output_type": "execute_result"
    }
   ],
   "source": [
    "laptops[\"os\"].unique()"
   ]
  },
  {
   "cell_type": "markdown",
   "metadata": {},
   "source": [
    "<p>We can see that there are two variations of the Apple operating system — macOS —&nbsp;in our data set: <code>Mac OS</code> and <code>macOS</code>. One way we can fix this is with the <a target=\"_blank\" href=\"http://pandas.pydata.org/pandas-docs/stable/generated/pandas.Series.map.html\"><code>Series.map()</code> method</a>. The <code>Series.map()</code> method is ideal when we want to change multiple values in a column.</p>\n",
    "\n",
    "One important thing to remember with <code>Series.map()</code> is that if a value from your series doesn't exist as a key in your dictionary, it will convert that value to <code>NaN</code>."
   ]
  },
  {
   "cell_type": "code",
   "execution_count": 235,
   "metadata": {},
   "outputs": [
    {
     "name": "stdout",
     "output_type": "stream",
     "text": [
      "0        pair\n",
      "1      oranje\n",
      "2     bananna\n",
      "3      oranje\n",
      "4      oranje\n",
      "5      oranje\n",
      "6    no_value\n",
      "dtype: object\n",
      "\n",
      "0      pear\n",
      "1    orange\n",
      "2    banana\n",
      "3    orange\n",
      "4    orange\n",
      "5    orange\n",
      "6       NaN\n",
      "dtype: object\n"
     ]
    }
   ],
   "source": [
    "s = pd.Series([\"pair\", \"oranje\", \"bananna\", \"oranje\", \"oranje\", \"oranje\", \"no_value\"])\n",
    "print(s)\n",
    "\n",
    "print()\n",
    "corrections = {\"pair\": \"pear\", \"oranje\": \"orange\", \"bananna\": \"banana\"}\n",
    "s = s.map(corrections)  # type: ignore  # noqa: PGH003\n",
    "print(s)"
   ]
  },
  {
   "cell_type": "markdown",
   "metadata": {},
   "source": [
    "<p>Let's use <code>Series.map()</code> to clean the values in the <code>os</code> column.</p></div>"
   ]
  },
  {
   "cell_type": "code",
   "execution_count": null,
   "metadata": {},
   "outputs": [],
   "source": [
    "mapping_dict = {\n",
    "    \"Android\": \"android\",\n",
    "    \"Chrome OS\": \"chrome_os\",\n",
    "    \"Linux\": \"linux\",\n",
    "    \"Mac OS\": \"mac_os\",\n",
    "    \"No OS\": \"no_os\",\n",
    "    \"Windows\": \"windows\",\n",
    "    \"macOS\": \"mac_os\",\n",
    "}\n",
    "laptops[\"os\"] = laptops[\"os\"].map(mapping_dict)\n",
    "laptops[\"os\"].unique()"
   ]
  },
  {
   "cell_type": "code",
   "execution_count": null,
   "metadata": {},
   "outputs": [],
   "source": [
    "laptops.head(3)"
   ]
  },
  {
   "cell_type": "markdown",
   "metadata": {},
   "source": [
    "## Handling Duplicates"
   ]
  },
  {
   "cell_type": "markdown",
   "metadata": {},
   "source": [
    "In any data analysis project, duplicates can skew results, inflate metrics, and lead to misleading insights. Whether duplicates arise from data entry errors, merging datasets, or other data acquisition issues, it’s essential to identify and remove them during data preprocessing."
   ]
  },
  {
   "cell_type": "markdown",
   "metadata": {},
   "source": [
    "### Identifying Duplicated Columns\n",
    "\n",
    "Pandas offers the `duplicated()` method to flag duplicate rows. This method returns a boolean Series where each element indicates whether the corresponding row is a duplicate of an earlier row."
   ]
  },
  {
   "cell_type": "code",
   "execution_count": 242,
   "metadata": {},
   "outputs": [
    {
     "name": "stdout",
     "output_type": "stream",
     "text": [
      "Duplicates:\n",
      "    TransactionID   Product         City  Amount\n",
      "2           1001  Widget A     New York     250\n",
      "5           1002  Widget B  Los Angeles     450\n"
     ]
    }
   ],
   "source": [
    "# Sample dataset: Sales transactions with potential duplicates\n",
    "data = {\n",
    "    \"TransactionID\": [1001, 1002, 1001, 1003, 1004, 1002],\n",
    "    \"Product\": [\"Widget A\", \"Widget B\", \"Widget A\", \"Widget C\", \"Widget D\", \"Widget B\"],\n",
    "    \"City\": [\"New York\", \"Los Angeles\", \"New York\", \"Chicago\", \"Houston\", \"Los Angeles\"],\n",
    "    \"Amount\": [250, 450, 250, 300, 500, 450],\n",
    "}\n",
    "df = pd.DataFrame(data)\n",
    "\n",
    "# Identify duplicate rows\n",
    "duplicates = df.duplicated()  # By default, keeps the first occurrence\n",
    "print(\"Duplicates:\\n\", df[duplicates])"
   ]
  },
  {
   "cell_type": "markdown",
   "metadata": {},
   "source": [
    "The DataFrame method duplicated returns a boolean Series indicating whether each\n",
    "row is a duplicate (has been observed in a previous row) or not:"
   ]
  },
  {
   "cell_type": "code",
   "execution_count": 243,
   "metadata": {},
   "outputs": [
    {
     "data": {
      "text/plain": [
       "0    False\n",
       "1    False\n",
       "2    False\n",
       "3    False\n",
       "4    False\n",
       "dtype: bool"
      ]
     },
     "execution_count": 243,
     "metadata": {},
     "output_type": "execute_result"
    }
   ],
   "source": [
    "laptops.duplicated().head()"
   ]
  },
  {
   "cell_type": "code",
   "execution_count": 244,
   "metadata": {},
   "outputs": [
    {
     "data": {
      "text/plain": [
       "False    1275\n",
       "True       28\n",
       "Name: count, dtype: int64"
      ]
     },
     "execution_count": 244,
     "metadata": {},
     "output_type": "execute_result"
    }
   ],
   "source": [
    "laptops.duplicated().value_counts()"
   ]
  },
  {
   "cell_type": "code",
   "execution_count": 245,
   "metadata": {},
   "outputs": [
    {
     "data": {
      "text/html": [
       "<div>\n",
       "<style scoped>\n",
       "    .dataframe tbody tr th:only-of-type {\n",
       "        vertical-align: middle;\n",
       "    }\n",
       "\n",
       "    .dataframe tbody tr th {\n",
       "        vertical-align: top;\n",
       "    }\n",
       "\n",
       "    .dataframe thead th {\n",
       "        text-align: right;\n",
       "    }\n",
       "</style>\n",
       "<table border=\"1\" class=\"dataframe\">\n",
       "  <thead>\n",
       "    <tr style=\"text-align: right;\">\n",
       "      <th></th>\n",
       "      <th>manufacturer</th>\n",
       "      <th>model_name</th>\n",
       "      <th>category</th>\n",
       "      <th>screen_size_inches</th>\n",
       "      <th>screen</th>\n",
       "      <th>cpu</th>\n",
       "      <th>ram_gb</th>\n",
       "      <th>storage</th>\n",
       "      <th>gpu</th>\n",
       "      <th>os</th>\n",
       "      <th>...</th>\n",
       "      <th>price_euros</th>\n",
       "      <th>gpu_manufacturer</th>\n",
       "      <th>cpu_manufacturer</th>\n",
       "      <th>screen_width_px</th>\n",
       "      <th>screen_high_px</th>\n",
       "      <th>storage_ssd_gb</th>\n",
       "      <th>storage_hdd_gb</th>\n",
       "      <th>storage_flash_gb</th>\n",
       "      <th>storage_hybrid_gb</th>\n",
       "      <th>cpu_speed_ghz</th>\n",
       "    </tr>\n",
       "  </thead>\n",
       "  <tbody>\n",
       "    <tr>\n",
       "      <th>1275</th>\n",
       "      <td>Asus</td>\n",
       "      <td>ZenBook UX305CA-UBM1</td>\n",
       "      <td>Ultrabook</td>\n",
       "      <td>13.3</td>\n",
       "      <td>IPS Panel Full HD 1920x1080</td>\n",
       "      <td>Intel Core M 6Y30 0.9GHz</td>\n",
       "      <td>8</td>\n",
       "      <td>512GB SSD</td>\n",
       "      <td>Intel HD Graphics 515</td>\n",
       "      <td>Windows</td>\n",
       "      <td>...</td>\n",
       "      <td>729.0</td>\n",
       "      <td>intel</td>\n",
       "      <td>intel</td>\n",
       "      <td>1920</td>\n",
       "      <td>1080</td>\n",
       "      <td>512.0</td>\n",
       "      <td>NaN</td>\n",
       "      <td>NaN</td>\n",
       "      <td>NaN</td>\n",
       "      <td>0.9</td>\n",
       "    </tr>\n",
       "    <tr>\n",
       "      <th>1276</th>\n",
       "      <td>Dell</td>\n",
       "      <td>Inspiron 3567</td>\n",
       "      <td>Notebook</td>\n",
       "      <td>15.6</td>\n",
       "      <td>1366x768</td>\n",
       "      <td>Intel Core i3 7100U 2.4GHz</td>\n",
       "      <td>6</td>\n",
       "      <td>1000GB HDD</td>\n",
       "      <td>Intel HD Graphics 620</td>\n",
       "      <td>Windows</td>\n",
       "      <td>...</td>\n",
       "      <td>459.0</td>\n",
       "      <td>intel</td>\n",
       "      <td>intel</td>\n",
       "      <td>1366</td>\n",
       "      <td>768</td>\n",
       "      <td>NaN</td>\n",
       "      <td>1000.0</td>\n",
       "      <td>NaN</td>\n",
       "      <td>NaN</td>\n",
       "      <td>2.4</td>\n",
       "    </tr>\n",
       "    <tr>\n",
       "      <th>1277</th>\n",
       "      <td>Acer</td>\n",
       "      <td>Aspire ES1-531</td>\n",
       "      <td>Notebook</td>\n",
       "      <td>15.6</td>\n",
       "      <td>1366x768</td>\n",
       "      <td>Intel Celeron Dual Core N3060 1.6GHz</td>\n",
       "      <td>4</td>\n",
       "      <td>500GB HDD</td>\n",
       "      <td>Intel HD Graphics 400</td>\n",
       "      <td>Linux</td>\n",
       "      <td>...</td>\n",
       "      <td>289.0</td>\n",
       "      <td>intel</td>\n",
       "      <td>intel</td>\n",
       "      <td>1366</td>\n",
       "      <td>768</td>\n",
       "      <td>NaN</td>\n",
       "      <td>500.0</td>\n",
       "      <td>NaN</td>\n",
       "      <td>NaN</td>\n",
       "      <td>1.6</td>\n",
       "    </tr>\n",
       "    <tr>\n",
       "      <th>1278</th>\n",
       "      <td>Dell</td>\n",
       "      <td>Inspiron 3552</td>\n",
       "      <td>Notebook</td>\n",
       "      <td>15.6</td>\n",
       "      <td>1366x768</td>\n",
       "      <td>Intel Celeron Dual Core N3050 1.6GHz</td>\n",
       "      <td>2</td>\n",
       "      <td>500GB HDD</td>\n",
       "      <td>Intel HD Graphics</td>\n",
       "      <td>Windows</td>\n",
       "      <td>...</td>\n",
       "      <td>379.0</td>\n",
       "      <td>intel</td>\n",
       "      <td>intel</td>\n",
       "      <td>1366</td>\n",
       "      <td>768</td>\n",
       "      <td>NaN</td>\n",
       "      <td>500.0</td>\n",
       "      <td>NaN</td>\n",
       "      <td>NaN</td>\n",
       "      <td>1.6</td>\n",
       "    </tr>\n",
       "    <tr>\n",
       "      <th>1279</th>\n",
       "      <td>Lenovo</td>\n",
       "      <td>IdeaPad Y700-15ISK</td>\n",
       "      <td>Notebook</td>\n",
       "      <td>15.6</td>\n",
       "      <td>IPS Panel Full HD 1920x1080</td>\n",
       "      <td>Intel Core i7 6700HQ 2.6GHz</td>\n",
       "      <td>8</td>\n",
       "      <td>1000GB HDD</td>\n",
       "      <td>Nvidia GeForce GTX 960M</td>\n",
       "      <td>Windows</td>\n",
       "      <td>...</td>\n",
       "      <td>899.0</td>\n",
       "      <td>nvidia</td>\n",
       "      <td>intel</td>\n",
       "      <td>1920</td>\n",
       "      <td>1080</td>\n",
       "      <td>NaN</td>\n",
       "      <td>1000.0</td>\n",
       "      <td>NaN</td>\n",
       "      <td>NaN</td>\n",
       "      <td>2.6</td>\n",
       "    </tr>\n",
       "  </tbody>\n",
       "</table>\n",
       "<p>5 rows × 22 columns</p>\n",
       "</div>"
      ],
      "text/plain": [
       "     manufacturer            model_name   category  screen_size_inches  \\\n",
       "1275         Asus  ZenBook UX305CA-UBM1  Ultrabook                13.3   \n",
       "1276         Dell         Inspiron 3567   Notebook                15.6   \n",
       "1277         Acer        Aspire ES1-531   Notebook                15.6   \n",
       "1278         Dell         Inspiron 3552   Notebook                15.6   \n",
       "1279       Lenovo    IdeaPad Y700-15ISK   Notebook                15.6   \n",
       "\n",
       "                           screen                                   cpu  \\\n",
       "1275  IPS Panel Full HD 1920x1080              Intel Core M 6Y30 0.9GHz   \n",
       "1276                     1366x768            Intel Core i3 7100U 2.4GHz   \n",
       "1277                     1366x768  Intel Celeron Dual Core N3060 1.6GHz   \n",
       "1278                     1366x768  Intel Celeron Dual Core N3050 1.6GHz   \n",
       "1279  IPS Panel Full HD 1920x1080           Intel Core i7 6700HQ 2.6GHz   \n",
       "\n",
       "      ram_gb     storage                      gpu       os  ... price_euros  \\\n",
       "1275       8   512GB SSD    Intel HD Graphics 515  Windows  ...       729.0   \n",
       "1276       6  1000GB HDD    Intel HD Graphics 620  Windows  ...       459.0   \n",
       "1277       4   500GB HDD    Intel HD Graphics 400    Linux  ...       289.0   \n",
       "1278       2   500GB HDD        Intel HD Graphics  Windows  ...       379.0   \n",
       "1279       8  1000GB HDD  Nvidia GeForce GTX 960M  Windows  ...       899.0   \n",
       "\n",
       "      gpu_manufacturer  cpu_manufacturer screen_width_px screen_high_px  \\\n",
       "1275             intel             intel            1920           1080   \n",
       "1276             intel             intel            1366            768   \n",
       "1277             intel             intel            1366            768   \n",
       "1278             intel             intel            1366            768   \n",
       "1279            nvidia             intel            1920           1080   \n",
       "\n",
       "      storage_ssd_gb  storage_hdd_gb  storage_flash_gb  storage_hybrid_gb  \\\n",
       "1275           512.0             NaN               NaN                NaN   \n",
       "1276             NaN          1000.0               NaN                NaN   \n",
       "1277             NaN           500.0               NaN                NaN   \n",
       "1278             NaN           500.0               NaN                NaN   \n",
       "1279             NaN          1000.0               NaN                NaN   \n",
       "\n",
       "      cpu_speed_ghz  \n",
       "1275            0.9  \n",
       "1276            2.4  \n",
       "1277            1.6  \n",
       "1278            1.6  \n",
       "1279            2.6  \n",
       "\n",
       "[5 rows x 22 columns]"
      ]
     },
     "execution_count": 245,
     "metadata": {},
     "output_type": "execute_result"
    }
   ],
   "source": [
    "laptops[laptops.duplicated()].head(5)"
   ]
  },
  {
   "cell_type": "code",
   "execution_count": 246,
   "metadata": {},
   "outputs": [
    {
     "data": {
      "text/html": [
       "<div>\n",
       "<style scoped>\n",
       "    .dataframe tbody tr th:only-of-type {\n",
       "        vertical-align: middle;\n",
       "    }\n",
       "\n",
       "    .dataframe tbody tr th {\n",
       "        vertical-align: top;\n",
       "    }\n",
       "\n",
       "    .dataframe thead th {\n",
       "        text-align: right;\n",
       "    }\n",
       "</style>\n",
       "<table border=\"1\" class=\"dataframe\">\n",
       "  <thead>\n",
       "    <tr style=\"text-align: right;\">\n",
       "      <th></th>\n",
       "      <th>manufacturer</th>\n",
       "      <th>model_name</th>\n",
       "      <th>category</th>\n",
       "      <th>screen_size_inches</th>\n",
       "      <th>screen</th>\n",
       "      <th>cpu</th>\n",
       "      <th>ram_gb</th>\n",
       "      <th>storage</th>\n",
       "      <th>gpu</th>\n",
       "      <th>os</th>\n",
       "      <th>...</th>\n",
       "      <th>price_euros</th>\n",
       "      <th>gpu_manufacturer</th>\n",
       "      <th>cpu_manufacturer</th>\n",
       "      <th>screen_width_px</th>\n",
       "      <th>screen_high_px</th>\n",
       "      <th>storage_ssd_gb</th>\n",
       "      <th>storage_hdd_gb</th>\n",
       "      <th>storage_flash_gb</th>\n",
       "      <th>storage_hybrid_gb</th>\n",
       "      <th>cpu_speed_ghz</th>\n",
       "    </tr>\n",
       "  </thead>\n",
       "  <tbody>\n",
       "    <tr>\n",
       "      <th>1261</th>\n",
       "      <td>Asus</td>\n",
       "      <td>ZenBook UX305CA-UBM1</td>\n",
       "      <td>Ultrabook</td>\n",
       "      <td>13.3</td>\n",
       "      <td>IPS Panel Full HD 1920x1080</td>\n",
       "      <td>Intel Core M 6Y30 0.9GHz</td>\n",
       "      <td>8</td>\n",
       "      <td>512GB SSD</td>\n",
       "      <td>Intel HD Graphics 515</td>\n",
       "      <td>Windows</td>\n",
       "      <td>...</td>\n",
       "      <td>729.0</td>\n",
       "      <td>intel</td>\n",
       "      <td>intel</td>\n",
       "      <td>1920</td>\n",
       "      <td>1080</td>\n",
       "      <td>512.0</td>\n",
       "      <td>NaN</td>\n",
       "      <td>NaN</td>\n",
       "      <td>NaN</td>\n",
       "      <td>0.9</td>\n",
       "    </tr>\n",
       "    <tr>\n",
       "      <th>1275</th>\n",
       "      <td>Asus</td>\n",
       "      <td>ZenBook UX305CA-UBM1</td>\n",
       "      <td>Ultrabook</td>\n",
       "      <td>13.3</td>\n",
       "      <td>IPS Panel Full HD 1920x1080</td>\n",
       "      <td>Intel Core M 6Y30 0.9GHz</td>\n",
       "      <td>8</td>\n",
       "      <td>512GB SSD</td>\n",
       "      <td>Intel HD Graphics 515</td>\n",
       "      <td>Windows</td>\n",
       "      <td>...</td>\n",
       "      <td>729.0</td>\n",
       "      <td>intel</td>\n",
       "      <td>intel</td>\n",
       "      <td>1920</td>\n",
       "      <td>1080</td>\n",
       "      <td>512.0</td>\n",
       "      <td>NaN</td>\n",
       "      <td>NaN</td>\n",
       "      <td>NaN</td>\n",
       "      <td>0.9</td>\n",
       "    </tr>\n",
       "    <tr>\n",
       "      <th>1289</th>\n",
       "      <td>Asus</td>\n",
       "      <td>ZenBook UX305CA-UBM1</td>\n",
       "      <td>Ultrabook</td>\n",
       "      <td>13.3</td>\n",
       "      <td>IPS Panel Full HD 1920x1080</td>\n",
       "      <td>Intel Core M 6Y30 0.9GHz</td>\n",
       "      <td>8</td>\n",
       "      <td>512GB SSD</td>\n",
       "      <td>Intel HD Graphics 515</td>\n",
       "      <td>Windows</td>\n",
       "      <td>...</td>\n",
       "      <td>729.0</td>\n",
       "      <td>intel</td>\n",
       "      <td>intel</td>\n",
       "      <td>1920</td>\n",
       "      <td>1080</td>\n",
       "      <td>512.0</td>\n",
       "      <td>NaN</td>\n",
       "      <td>NaN</td>\n",
       "      <td>NaN</td>\n",
       "      <td>0.9</td>\n",
       "    </tr>\n",
       "  </tbody>\n",
       "</table>\n",
       "<p>3 rows × 22 columns</p>\n",
       "</div>"
      ],
      "text/plain": [
       "     manufacturer            model_name   category  screen_size_inches  \\\n",
       "1261         Asus  ZenBook UX305CA-UBM1  Ultrabook                13.3   \n",
       "1275         Asus  ZenBook UX305CA-UBM1  Ultrabook                13.3   \n",
       "1289         Asus  ZenBook UX305CA-UBM1  Ultrabook                13.3   \n",
       "\n",
       "                           screen                       cpu  ram_gb  \\\n",
       "1261  IPS Panel Full HD 1920x1080  Intel Core M 6Y30 0.9GHz       8   \n",
       "1275  IPS Panel Full HD 1920x1080  Intel Core M 6Y30 0.9GHz       8   \n",
       "1289  IPS Panel Full HD 1920x1080  Intel Core M 6Y30 0.9GHz       8   \n",
       "\n",
       "        storage                    gpu       os  ... price_euros  \\\n",
       "1261  512GB SSD  Intel HD Graphics 515  Windows  ...       729.0   \n",
       "1275  512GB SSD  Intel HD Graphics 515  Windows  ...       729.0   \n",
       "1289  512GB SSD  Intel HD Graphics 515  Windows  ...       729.0   \n",
       "\n",
       "      gpu_manufacturer  cpu_manufacturer screen_width_px screen_high_px  \\\n",
       "1261             intel             intel            1920           1080   \n",
       "1275             intel             intel            1920           1080   \n",
       "1289             intel             intel            1920           1080   \n",
       "\n",
       "      storage_ssd_gb  storage_hdd_gb  storage_flash_gb  storage_hybrid_gb  \\\n",
       "1261           512.0             NaN               NaN                NaN   \n",
       "1275           512.0             NaN               NaN                NaN   \n",
       "1289           512.0             NaN               NaN                NaN   \n",
       "\n",
       "      cpu_speed_ghz  \n",
       "1261            0.9  \n",
       "1275            0.9  \n",
       "1289            0.9  \n",
       "\n",
       "[3 rows x 22 columns]"
      ]
     },
     "execution_count": 246,
     "metadata": {},
     "output_type": "execute_result"
    }
   ],
   "source": [
    "laptops[laptops[\"model_name\"] == \"ZenBook UX305CA-UBM1\"]"
   ]
  },
  {
   "cell_type": "markdown",
   "metadata": {},
   "source": [
    "### Removing Duplicates"
   ]
  },
  {
   "cell_type": "markdown",
   "metadata": {},
   "source": [
    "Once duplicates are identified, they can be removed using `drop_duplicates()`, which returns a DataFrame with duplicate rows removed."
   ]
  },
  {
   "cell_type": "code",
   "execution_count": 247,
   "metadata": {},
   "outputs": [],
   "source": [
    "laptops = laptops.drop_duplicates()"
   ]
  },
  {
   "cell_type": "code",
   "execution_count": 252,
   "metadata": {},
   "outputs": [
    {
     "data": {
      "text/plain": [
       "False    1275\n",
       "Name: count, dtype: int64"
      ]
     },
     "execution_count": 252,
     "metadata": {},
     "output_type": "execute_result"
    }
   ],
   "source": [
    "laptops.duplicated().value_counts()"
   ]
  },
  {
   "cell_type": "markdown",
   "metadata": {},
   "source": [
    "### Handling Contextual Duplicates with Fuzzy Matching"
   ]
  },
  {
   "cell_type": "markdown",
   "metadata": {},
   "source": [
    "Duplicates are not always exact copies. They can be classified as:\n",
    "- **Exact Duplicates**: Rows that match exactly across all columns (or specified subset of columns).\n",
    "- **Contextual Duplicates**: Rows that refer to the same entity but may differ slightly. For instance, the product \"Widget A\" might appear as \"widget a\" or even \"Widget-A\". Similarly, locations such as \"New York\" might be inconsistently recorded as \"NYC\" or \"New York\".\n",
    "\n",
    "Exact matching may fail when entries are similar but not identical. Fuzzy matching is useful for identifying near-duplicates, such as \"New York\" vs. \"NYC\". The `fuzzywuzzy` library can help determine the similarity between strings."
   ]
  },
  {
   "cell_type": "code",
   "execution_count": 255,
   "metadata": {},
   "outputs": [
    {
     "data": {
      "text/plain": [
       "97"
      ]
     },
     "execution_count": 255,
     "metadata": {},
     "output_type": "execute_result"
    }
   ],
   "source": [
    "from fuzzywuzzy import fuzz\n",
    "\n",
    "fuzz.ratio(\"this is a test\", \"this is a test!\")"
   ]
  },
  {
   "cell_type": "code",
   "execution_count": 256,
   "metadata": {},
   "outputs": [
    {
     "data": {
      "text/plain": [
       "100"
      ]
     },
     "execution_count": 256,
     "metadata": {},
     "output_type": "execute_result"
    }
   ],
   "source": [
    "fuzz.partial_ratio(\"this is a test\", \"this is a test!\")"
   ]
  },
  {
   "cell_type": "code",
   "execution_count": 257,
   "metadata": {},
   "outputs": [
    {
     "data": {
      "text/plain": [
       "[('New York Jets', 90), ('New York Giants', 90)]"
      ]
     },
     "execution_count": 257,
     "metadata": {},
     "output_type": "execute_result"
    }
   ],
   "source": [
    "from fuzzywuzzy import process\n",
    "\n",
    "choices = [\"Atlanta Falcons\", \"New York Jets\", \"New York Giants\", \"Dallas Cowboys\"]\n",
    "process.extract(\"new york\", choices, limit=2)"
   ]
  },
  {
   "cell_type": "code",
   "execution_count": 258,
   "metadata": {},
   "outputs": [
    {
     "data": {
      "text/plain": [
       "('Dallas Cowboys', 90)"
      ]
     },
     "execution_count": 258,
     "metadata": {},
     "output_type": "execute_result"
    }
   ],
   "source": [
    "process.extractOne(\"cowboys\", choices)"
   ]
  },
  {
   "cell_type": "code",
   "execution_count": 259,
   "metadata": {},
   "outputs": [
    {
     "name": "stdout",
     "output_type": "stream",
     "text": [
      "['Retailing', 'Eenergy', 'Energy', 'Motor Vehicles & Parts', 'Financials', 'Technology', 'Wholesalers', 'energy', 'Health Care', 'Telecommunications', 'Engineering & Construction', 'Industrials', 'Food & Drug Stores', 'Aerospace & Defense', 'Energy sector', 'Food, Beverages & Tobacco', 'Sector Energy', '-Energy-', 'Household Products', 'Transportation', 'Materials', 'Chemicals', 'Media', 'Apparel', 'Hotels, Restaurants & Leisure', 'Business Services']\n"
     ]
    }
   ],
   "source": [
    "print(list(f500[\"sector\"].unique()))"
   ]
  },
  {
   "cell_type": "code",
   "execution_count": 262,
   "metadata": {},
   "outputs": [
    {
     "name": "stdout",
     "output_type": "stream",
     "text": [
      "Retailing: []\n",
      "Energy: []\n",
      "Motor Vehicles & Parts: []\n",
      "Financials: []\n",
      "Technology: []\n",
      "Wholesalers: []\n",
      "Health Care: []\n",
      "Telecommunications: []\n",
      "Engineering & Construction: []\n",
      "Industrials: []\n",
      "Food & Drug Stores: []\n",
      "Aerospace & Defense: []\n",
      "Food, Beverages & Tobacco: []\n",
      "Household Products: []\n",
      "Transportation: []\n",
      "Materials: []\n",
      "Chemicals: []\n",
      "Media: []\n",
      "Apparel: []\n",
      "Hotels, Restaurants & Leisure: []\n",
      "Business Services: []\n",
      "\n",
      "Duplicated: set()\n"
     ]
    }
   ],
   "source": [
    "sector_unique_values = list(f500[\"sector\"].unique())\n",
    "\n",
    "duplicates = []\n",
    "for sector in sector_unique_values:\n",
    "    matches = process.extract(sector, sector_unique_values)\n",
    "    # Experiment with different thresholds in fuzzy matching to balance between over-merging distinct\n",
    "    # entities and failing to merge near-duplicates.\n",
    "    matches = [match for match in matches if match[1] > 90 and match[0] != sector]\n",
    "    matches_duplicated = [match[0] for match in matches]\n",
    "    duplicates.extend(matches_duplicated)\n",
    "    print(f\"{sector}: {matches}\")\n",
    "\n",
    "print()\n",
    "print(f\"Duplicated: {set(duplicates)}\")"
   ]
  },
  {
   "cell_type": "code",
   "execution_count": 263,
   "metadata": {},
   "outputs": [
    {
     "name": "stdout",
     "output_type": "stream",
     "text": [
      "['Retailing', 'Energy', 'Motor Vehicles & Parts', 'Financials', 'Technology', 'Wholesalers', 'Health Care', 'Telecommunications', 'Engineering & Construction', 'Industrials', 'Food & Drug Stores', 'Aerospace & Defense', 'Food, Beverages & Tobacco', 'Household Products', 'Transportation', 'Materials', 'Chemicals', 'Media', 'Apparel', 'Hotels, Restaurants & Leisure', 'Business Services']\n"
     ]
    }
   ],
   "source": [
    "f500[\"sector\"] = f500[\"sector\"].replace([\"Eenergy\", \"Energy\", \"Energy sector\", \"-Energy-\", \"Sector Energy\", \"energy\"], \"Energy\")\n",
    "print(list(f500[\"sector\"].unique()))"
   ]
  },
  {
   "cell_type": "markdown",
   "metadata": {},
   "source": [
    "Handling duplicates is a crucial step in data wrangling that ensures data quality and reliability for subsequent analysis. By leveraging pandas' `duplicated()` and `drop_duplicates()` methods, you can efficiently remove exact duplicates. For more nuanced scenarios involving contextual duplicates, incorporating fuzzy matching techniques with libraries like `fuzzywuzzy` can further refine your dataset. Mastery of these techniques ensures that your analysis is based on clean, accurate, and consistent data."
   ]
  },
  {
   "cell_type": "markdown",
   "metadata": {},
   "source": [
    "## Handling Missing Data"
   ]
  },
  {
   "cell_type": "markdown",
   "metadata": {},
   "source": [
    "The difference between data found in many tutorials and data in the real world is that real-world data is rarely clean and homogeneous. In particular, many interesting datasets will have some amount of data missing. To make matters even more complicated, different data sources may indicate missing data in different ways."
   ]
  },
  {
   "cell_type": "markdown",
   "metadata": {},
   "source": [
    "The full chapter: [Introduction to Missing Data](./Chapter_Introduction_to_Missing_Data.ipynb)"
   ]
  },
  {
   "cell_type": "markdown",
   "metadata": {},
   "source": [
    "### Detecting Missing Values"
   ]
  },
  {
   "cell_type": "markdown",
   "metadata": {},
   "source": [
    "Before handling missing data, it's important to identify the missing values present in the dataset. Pandas provides several methods for this:"
   ]
  },
  {
   "cell_type": "code",
   "execution_count": null,
   "metadata": {},
   "outputs": [],
   "source": [
    "laptops.info()"
   ]
  },
  {
   "cell_type": "code",
   "execution_count": null,
   "metadata": {},
   "outputs": [],
   "source": [
    "# Count total missing values per column\n",
    "laptops.isna().sum()"
   ]
  },
  {
   "cell_type": "markdown",
   "metadata": {},
   "source": [
    "<p>It's now clear that we have only one column with null values, <code>os_version</code>, which has multiple missing values.</p>\n",
    "<p>There are a few options for handling missing values:</p>\n",
    "<ul>\n",
    "<li>Remove any rows that have missing values.</li>\n",
    "<li>Remove any columns that have missing values.</li>\n",
    "<li>Fill the missing values with some other value.</li>\n",
    "<li>Leave the missing values as is.</li>\n",
    "</ul>"
   ]
  },
  {
   "cell_type": "code",
   "execution_count": null,
   "metadata": {},
   "outputs": [],
   "source": [
    "# Filling Missing Values - storage columns\n",
    "laptops[\"storage_ssd_gb\"] = laptops[\"storage_ssd_gb\"].fillna(0)\n",
    "laptops[\"storage_hdd_gb\"] = laptops[\"storage_hdd_gb\"].fillna(0)\n",
    "laptops[\"storage_flash_gb\"] = laptops[\"storage_flash_gb\"].fillna(0)\n",
    "laptops[\"storage_hybrid_gb\"] = laptops[\"storage_hybrid_gb\"].fillna(0)\n",
    "laptops.isna().sum()"
   ]
  },
  {
   "cell_type": "code",
   "execution_count": null,
   "metadata": {},
   "outputs": [],
   "source": [
    "# Check the missing data in model_name column\n",
    "laptops[laptops[\"model_name\"].isna()]"
   ]
  },
  {
   "cell_type": "code",
   "execution_count": null,
   "metadata": {},
   "outputs": [],
   "source": [
    "# Drop rows with missing values in the model_name column\n",
    "print(f\"Shape before dropping: {laptops.shape}\")\n",
    "laptops = laptops.dropna(subset=[\"model_name\"])\n",
    "print(f\"Shape after dropping: {laptops.shape}\")\n",
    "laptops.isna().sum()"
   ]
  },
  {
   "cell_type": "markdown",
   "metadata": {},
   "source": [
    "### Visualizing Missing Data\n",
    "\n",
    "The `missingno` library provides useful visualization tools for understanding the distribution of missing values:"
   ]
  },
  {
   "cell_type": "code",
   "execution_count": null,
   "metadata": {},
   "outputs": [],
   "source": [
    "import missingno as msno\n",
    "import matplotlib.pyplot as plt\n",
    "\n",
    "msno.matrix(laptops)\n",
    "plt.show()"
   ]
  },
  {
   "cell_type": "markdown",
   "metadata": {},
   "source": [
    "<p>While dropping rows or columns is the easiest approach to deal with missing values, it may not always be the <em>best</em> approach. For example, removing a disproportionate amount of one manufacturer's laptops could change our analysis.</p>\n",
    "<p>Because of this, it's a good idea to explore the missing values in the <code>os_version</code> column before making a decision. We can use <code>Series.value_counts()</code> to explore all of the values in the column, but we'll use a parameter we haven't seen before:</p>"
   ]
  },
  {
   "cell_type": "code",
   "execution_count": null,
   "metadata": {},
   "outputs": [],
   "source": [
    "laptops[\"os_version\"].value_counts(dropna=False)"
   ]
  },
  {
   "cell_type": "markdown",
   "metadata": {},
   "source": [
    "<p>Because we set the <code>dropna</code> parameter to <code>False</code>, the result includes null values. We can see that the majority of values in the column are <code>10</code> and missing values are the next most common.</p>"
   ]
  },
  {
   "cell_type": "code",
   "execution_count": null,
   "metadata": {},
   "outputs": [],
   "source": [
    "# Check the os for the missing values in os_version\n",
    "laptops[laptops[\"os_version\"].isna()][\"os\"].value_counts()"
   ]
  },
  {
   "cell_type": "code",
   "execution_count": null,
   "metadata": {},
   "outputs": [],
   "source": [
    "laptops.loc[laptops[\"os\"] == \"no_os\", \"os_version\"] = \"no_os\"\n",
    "laptops[laptops[\"os_version\"].isna()][\"os\"].value_counts()"
   ]
  },
  {
   "cell_type": "code",
   "execution_count": null,
   "metadata": {},
   "outputs": [],
   "source": [
    "laptops.loc[laptops[\"os\"] == \"mac_os\", [\"os\", \"os_version\"]].head()"
   ]
  },
  {
   "cell_type": "code",
   "execution_count": null,
   "metadata": {},
   "outputs": [],
   "source": [
    "# Fill the missing values in os_version for macOS\n",
    "laptops.loc[laptops[\"os\"] == \"mac_os\", \"os_version\"] = \"X\"\n",
    "laptops[laptops[\"os_version\"].isna()][\"os\"].value_counts()"
   ]
  },
  {
   "cell_type": "code",
   "execution_count": null,
   "metadata": {},
   "outputs": [],
   "source": [
    "# Fill the missing values in os_version for Windows, Chrome OS, and Android\n",
    "laptops.loc[laptops[\"os\"] == \"chrome_os\", \"os_version\"] = \"Version Unknown\"\n",
    "laptops.loc[laptops[\"os\"] == \"android\", \"os_version\"] = \"Version Unknown\"\n",
    "laptops.loc[laptops[\"os\"] == \"linux\", \"os_version\"] = \"Version Unknown\"\n",
    "laptops[laptops[\"os_version\"].isna()][\"os\"].value_counts()"
   ]
  },
  {
   "cell_type": "code",
   "execution_count": null,
   "metadata": {},
   "outputs": [],
   "source": [
    "# No more missing values\n",
    "laptops.isna().sum()"
   ]
  },
  {
   "cell_type": "markdown",
   "metadata": {},
   "source": [
    "Filling in missing data with the fillna method is a special case of more general value\n",
    "replacement."
   ]
  },
  {
   "cell_type": "code",
   "execution_count": null,
   "metadata": {},
   "outputs": [],
   "source": [
    "laptops[\"manufacturer\"].value_counts()"
   ]
  },
  {
   "cell_type": "code",
   "execution_count": null,
   "metadata": {},
   "outputs": [],
   "source": [
    "laptops = laptops.replace(\"MSI\", \"Micro-Star International\")\n",
    "laptops[\"manufacturer\"].value_counts()"
   ]
  },
  {
   "cell_type": "markdown",
   "metadata": {},
   "source": [
    "Handling missing data is essential for ensuring dataset integrity. The choice of strategy depends on the dataset characteristics and analysis goals. Visualization techniques, deletion methods, and imputation strategies should be carefully applied based on the missing data pattern."
   ]
  },
  {
   "cell_type": "markdown",
   "metadata": {},
   "source": [
    "## Data Transformation"
   ]
  },
  {
   "cell_type": "markdown",
   "metadata": {},
   "source": [
    "Data transformation is a core aspect of data wrangling, where raw data is restructured, cleaned, or enhanced to make it more useful for analysis. In pandas, this process encompasses a range of operations—from basic sorting and renaming to applying custom functions to each element of your dataset."
   ]
  },
  {
   "cell_type": "markdown",
   "metadata": {},
   "source": [
    "### Dropping Columns \n",
    "\n",
    "Pandas provides a handy way of removing unwanted columns or rows from a DataFrame with the `drop()` function."
   ]
  },
  {
   "cell_type": "markdown",
   "metadata": {},
   "source": [
    "`DataFrame.drop(labels=None, axis=0, index=None, columns=None, level=None, inplace=False, errors='raise')`\n",
    "\n",
    "Drop specified labels from rows or columns.\n"
   ]
  },
  {
   "cell_type": "code",
   "execution_count": null,
   "metadata": {},
   "outputs": [],
   "source": [
    "laptops.columns"
   ]
  },
  {
   "cell_type": "code",
   "execution_count": null,
   "metadata": {},
   "outputs": [],
   "source": [
    "laptops.head(2)"
   ]
  },
  {
   "cell_type": "markdown",
   "metadata": {},
   "source": [
    "We can drop these columns in the following way:"
   ]
  },
  {
   "cell_type": "code",
   "execution_count": null,
   "metadata": {},
   "outputs": [],
   "source": [
    "to_drop = [\"screen\", \"cpu\", \"storage\"]\n",
    "laptops = laptops.drop(columns=to_drop)\n",
    "laptops.head(2)"
   ]
  },
  {
   "cell_type": "markdown",
   "metadata": {},
   "source": [
    "### Modifying Data"
   ]
  },
  {
   "cell_type": "markdown",
   "metadata": {},
   "source": [
    "Modifying data involves updating or transforming values within the DataFrame. You can update values by directly assigning to a column or using conditional logic."
   ]
  },
  {
   "cell_type": "code",
   "execution_count": null,
   "metadata": {},
   "outputs": [],
   "source": [
    "# Update inches to cm for the screen_size_inches column\n",
    "laptops[\"screen_size_cm\"] = laptops[\"screen_size_inches\"] * 2.54\n",
    "laptops = laptops.drop(columns=\"screen_size_inches\")\n",
    "laptops.head(2)"
   ]
  },
  {
   "cell_type": "markdown",
   "metadata": {},
   "source": [
    "### Sorting Data"
   ]
  },
  {
   "cell_type": "markdown",
   "metadata": {},
   "source": [
    "Sorting is essential for ordering your dataset based on one or more columns. Pandas provides multiple methods:\n",
    "- **Sorting by Column Values:** Use `df.sort_values()` to sort by one or more columns.\n",
    "- **Sorting by Index:** Use `df.sort_index()` to sort data based on the index."
   ]
  },
  {
   "cell_type": "code",
   "execution_count": null,
   "metadata": {},
   "outputs": [],
   "source": [
    "# Sort without saving the result - by values\n",
    "laptops.sort_values(\"price_euros\", ascending=False).head(3)"
   ]
  },
  {
   "cell_type": "code",
   "execution_count": null,
   "metadata": {},
   "outputs": [],
   "source": [
    "# Sort without saving the result - by index\n",
    "laptops.sort_index(ascending=False).head(3)"
   ]
  },
  {
   "cell_type": "code",
   "execution_count": null,
   "metadata": {},
   "outputs": [],
   "source": [
    "# Sort with saving the result - by values\n",
    "laptops = laptops.sort_values(\"price_euros\", ascending=True)\n",
    "laptops.head(3)"
   ]
  },
  {
   "cell_type": "code",
   "execution_count": null,
   "metadata": {},
   "outputs": [],
   "source": [
    "# Reset the index\n",
    "laptops = laptops.reset_index(drop=True)\n",
    "laptops.head(3)"
   ]
  },
  {
   "cell_type": "markdown",
   "metadata": {},
   "source": [
    "### Using Loops with pandas"
   ]
  },
  {
   "cell_type": "markdown",
   "metadata": {},
   "source": [
    "While vectorized operations are preferred for efficiency, loops can sometimes be necessary—especially when complex logic is required that is hard to vectorize. Using loops is generally slower than vectorized operations. Whenever possible, use built-in pandas functions that operate on entire columns or DataFrames."
   ]
  },
  {
   "cell_type": "code",
   "execution_count": null,
   "metadata": {},
   "outputs": [],
   "source": [
    "# Sample DataFrame\n",
    "df = pd.DataFrame({\"Name\": [\"Alice\", \"Bob\", \"Charlie\"], \"Score\": [85, 90, 95]})\n",
    "\n",
    "# Loop over rows using iterrows()\n",
    "for index, row in df.iterrows():\n",
    "    print(f\"Row {index}: {row['Name']} scored {row['Score']}\")"
   ]
  },
  {
   "cell_type": "markdown",
   "metadata": {},
   "source": [
    "### Cleaning the Entire Dataset Using the map() Function"
   ]
  },
  {
   "cell_type": "markdown",
   "metadata": {},
   "source": [
    "When you need to apply a transformation to every element in the DataFrame, the `map()` function is ideal. This method applies a function that accepts and returns a scalar to every element of a DataFrame."
   ]
  },
  {
   "cell_type": "markdown",
   "metadata": {},
   "source": [
    "> Note that a vectorized version of func often exists, which will be much faster."
   ]
  },
  {
   "cell_type": "code",
   "execution_count": null,
   "metadata": {},
   "outputs": [],
   "source": [
    "# A short example of using the applymap() method\n",
    "\n",
    "# Sample DataFrame\n",
    "df = pd.DataFrame({\"A\": [18, 24, 73], \"B\": [56, 20, 30], \"C\": [40, 34, 30]})\n",
    "print(df)\n",
    "\n",
    "\n",
    "# Define a function to multiply each element by 2\n",
    "def label(element, threshold):\n",
    "    if element > threshold:\n",
    "        return \"High\"\n",
    "    else:\n",
    "        return \"Low\"\n",
    "\n",
    "\n",
    "# Apply the function to the DataFrame\n",
    "df = df.map(label, threshold=30)\n",
    "df"
   ]
  },
  {
   "cell_type": "markdown",
   "metadata": {},
   "source": [
    "### Custom Transformations with apply() and Lambda Functions"
   ]
  },
  {
   "cell_type": "markdown",
   "metadata": {},
   "source": [
    "For more tailored transformations, you can use the apply() function along with lambda expressions."
   ]
  },
  {
   "cell_type": "markdown",
   "metadata": {},
   "source": [
    "`DataFrame.apply(func, axis=0, raw=False, result_type=None, args=(), by_row='compat', engine='python', engine_kwargs=None, **kwargs)`: Apply a function along an axis of the DataFrame. Objects passed to the function are Series objects whose index is either the DataFrame’s index (axis=0) or the DataFrame’s columns (axis=1). By default (result_type=None), the final return type is inferred from the return type of the applied function. Otherwise, it depends on the result_type argument."
   ]
  },
  {
   "cell_type": "code",
   "execution_count": null,
   "metadata": {},
   "outputs": [],
   "source": [
    "def is_laptop_overpriced(ram_gb, weight_kg, price_euros, storage_ssd_gb, cpu_speed_ghz, threshold=0.3) -> bool:\n",
    "    \"\"\"Compute a value metric for a laptop and determine if it is overpriced.\"\"\"\n",
    "    performance = (cpu_speed_ghz * 30 + ram_gb * 30 + storage_ssd_gb * 0.5) / price_euros\n",
    "    # Adjust for weight (heavier laptops are less desirable).\n",
    "    value_metric = performance / weight_kg\n",
    "    # Determine if the laptop is overpriced (value_metric lower than threshold)\n",
    "    return value_metric < threshold"
   ]
  },
  {
   "cell_type": "code",
   "execution_count": null,
   "metadata": {},
   "outputs": [],
   "source": [
    "# Apply the function to the DataFrame\n",
    "laptops[\"is_overpriced\"] = laptops.apply(\n",
    "    lambda row: is_laptop_overpriced(row[\"ram_gb\"], row[\"weight_kg\"], row[\"price_euros\"], row[\"storage_ssd_gb\"], row[\"cpu_speed_ghz\"], threshold=0.2),\n",
    "    axis=\"columns\",\n",
    ")"
   ]
  },
  {
   "cell_type": "code",
   "execution_count": null,
   "metadata": {},
   "outputs": [],
   "source": [
    "laptops.loc[:, [\"ram_gb\", \"weight_kg\", \"price_euros\", \"storage_ssd_gb\", \"cpu_speed_ghz\", \"is_overpriced\"]].sample(10)"
   ]
  },
  {
   "cell_type": "markdown",
   "metadata": {},
   "source": [
    "## Data Type Conversion"
   ]
  },
  {
   "cell_type": "markdown",
   "metadata": {},
   "source": [
    "In data analysis, datasets often originate from diverse sources, leading to inconsistencies in data types. For instance, numerical data might be read as strings, or categorical data might be represented as integers. Such discrepancies can hinder analytical operations, lead to incorrect computations, and cause inefficiencies in memory usage. Converting data to appropriate types ensures:​\n",
    "- **Accuracy**: Operations yield correct results when data types align with the nature of the data.​\n",
    "- **Performance**: Optimized data types enhance computational efficiency.\n",
    "- **Memory Efficiency**: Appropriate types reduce the memory footprint of datasets."
   ]
  },
  {
   "cell_type": "markdown",
   "metadata": {},
   "source": [
    "---\n",
    "**[PyArrow Functionality](https://pandas.pydata.org/docs/user_guide/pyarrow.html)**: pandas can utilize PyArrow to extend functionality and improve the performance of various APIs. This includes:\n",
    "- More extensive data types compared to NumPy\n",
    "- Missing data support (NA) for all data types\n",
    "- Performant IO reader integration\n",
    "- Facilitate interoperability with other dataframe libraries based on the Apache Arrow specification (e.g. polars, cuDF)\n"
   ]
  },
  {
   "cell_type": "markdown",
   "metadata": {},
   "source": [
    "### Data Types in pandas\n",
    "\n",
    "Pandas builds upon NumPy's data types and introduces additional types to handle missing data and categorical information effectively. For most data types, pandas uses NumPy arrays as the concrete objects contained with a Index, Series, or DataFrame.\n",
    "Key data types include:​\n",
    "\n",
    "\n"
   ]
  },
  {
   "cell_type": "markdown",
   "metadata": {},
   "source": [
    "<table class=\"table\">\n",
    "<thead>\n",
    "<tr class=\"row-odd\"><th class=\"head\"><p>Kind of Data</p></th>\n",
    "<th class=\"head\"><p>pandas Data Type</p></th>\n",
    "<th class=\"head\"><p>Scalar</p></th>\n",
    "<th class=\"head\"><p>Array</p></th>\n",
    "</tr>\n",
    "</thead>\n",
    "<tbody>\n",
    "<tr class=\"row-even\"><td><p>TZ-aware datetime</p></td>\n",
    "<td><p><a class=\"reference internal\" href=\"api/pandas.DatetimeTZDtype.html#pandas.DatetimeTZDtype\" title=\"pandas.DatetimeTZDtype\"><code class=\"xref py py-class docutils literal notranslate\"><span class=\"pre\">DatetimeTZDtype</span></code></a></p></td>\n",
    "<td><p><a class=\"reference internal\" href=\"api/pandas.Timestamp.html#pandas.Timestamp\" title=\"pandas.Timestamp\"><code class=\"xref py py-class docutils literal notranslate\"><span class=\"pre\">Timestamp</span></code></a></p></td>\n",
    "<td><p><a class=\"reference internal\" href=\"#api-arrays-datetime\"><span class=\"std std-ref\">Datetimes</span></a></p></td>\n",
    "</tr>\n",
    "<tr class=\"row-odd\"><td><p>Timedeltas</p></td>\n",
    "<td><p>(none)</p></td>\n",
    "<td><p><a class=\"reference internal\" href=\"api/pandas.Timedelta.html#pandas.Timedelta\" title=\"pandas.Timedelta\"><code class=\"xref py py-class docutils literal notranslate\"><span class=\"pre\">Timedelta</span></code></a></p></td>\n",
    "<td><p><a class=\"reference internal\" href=\"#api-arrays-timedelta\"><span class=\"std std-ref\">Timedeltas</span></a></p></td>\n",
    "</tr>\n",
    "<tr class=\"row-even\"><td><p>Period (time spans)</p></td>\n",
    "<td><p><a class=\"reference internal\" href=\"api/pandas.PeriodDtype.html#pandas.PeriodDtype\" title=\"pandas.PeriodDtype\"><code class=\"xref py py-class docutils literal notranslate\"><span class=\"pre\">PeriodDtype</span></code></a></p></td>\n",
    "<td><p><a class=\"reference internal\" href=\"api/pandas.Period.html#pandas.Period\" title=\"pandas.Period\"><code class=\"xref py py-class docutils literal notranslate\"><span class=\"pre\">Period</span></code></a></p></td>\n",
    "<td><p><a class=\"reference internal\" href=\"#api-arrays-period\"><span class=\"std std-ref\">Periods</span></a></p></td>\n",
    "</tr>\n",
    "<tr class=\"row-odd\"><td><p>Intervals</p></td>\n",
    "<td><p><a class=\"reference internal\" href=\"api/pandas.IntervalDtype.html#pandas.IntervalDtype\" title=\"pandas.IntervalDtype\"><code class=\"xref py py-class docutils literal notranslate\"><span class=\"pre\">IntervalDtype</span></code></a></p></td>\n",
    "<td><p><a class=\"reference internal\" href=\"api/pandas.Interval.html#pandas.Interval\" title=\"pandas.Interval\"><code class=\"xref py py-class docutils literal notranslate\"><span class=\"pre\">Interval</span></code></a></p></td>\n",
    "<td><p><a class=\"reference internal\" href=\"#api-arrays-interval\"><span class=\"std std-ref\">Intervals</span></a></p></td>\n",
    "</tr>\n",
    "<tr class=\"row-even\"><td><p>Nullable Integer</p></td>\n",
    "<td><p><a class=\"reference internal\" href=\"api/pandas.Int64Dtype.html#pandas.Int64Dtype\" title=\"pandas.Int64Dtype\"><code class=\"xref py py-class docutils literal notranslate\"><span class=\"pre\">Int64Dtype</span></code></a>, …</p></td>\n",
    "<td><p>(none)</p></td>\n",
    "<td><p><a class=\"reference internal\" href=\"#api-arrays-integer-na\"><span class=\"std std-ref\">Nullable integer</span></a></p></td>\n",
    "</tr>\n",
    "<tr class=\"row-odd\"><td><p>Nullable Float</p></td>\n",
    "<td><p><a class=\"reference internal\" href=\"api/pandas.Float64Dtype.html#pandas.Float64Dtype\" title=\"pandas.Float64Dtype\"><code class=\"xref py py-class docutils literal notranslate\"><span class=\"pre\">Float64Dtype</span></code></a>, …</p></td>\n",
    "<td><p>(none)</p></td>\n",
    "<td><p><a class=\"reference internal\" href=\"#api-arrays-float-na\"><span class=\"std std-ref\">Nullable float</span></a></p></td>\n",
    "</tr>\n",
    "<tr class=\"row-even\"><td><p>Categorical</p></td>\n",
    "<td><p><a class=\"reference internal\" href=\"api/pandas.CategoricalDtype.html#pandas.CategoricalDtype\" title=\"pandas.CategoricalDtype\"><code class=\"xref py py-class docutils literal notranslate\"><span class=\"pre\">CategoricalDtype</span></code></a></p></td>\n",
    "<td><p>(none)</p></td>\n",
    "<td><p><a class=\"reference internal\" href=\"#api-arrays-categorical\"><span class=\"std std-ref\">Categoricals</span></a></p></td>\n",
    "</tr>\n",
    "<tr class=\"row-odd\"><td><p>Sparse</p></td>\n",
    "<td><p><a class=\"reference internal\" href=\"api/pandas.SparseDtype.html#pandas.SparseDtype\" title=\"pandas.SparseDtype\"><code class=\"xref py py-class docutils literal notranslate\"><span class=\"pre\">SparseDtype</span></code></a></p></td>\n",
    "<td><p>(none)</p></td>\n",
    "<td><p><a class=\"reference internal\" href=\"#api-arrays-sparse\"><span class=\"std std-ref\">Sparse</span></a></p></td>\n",
    "</tr>\n",
    "<tr class=\"row-even\"><td><p>Strings</p></td>\n",
    "<td><p><a class=\"reference internal\" href=\"api/pandas.StringDtype.html#pandas.StringDtype\" title=\"pandas.StringDtype\"><code class=\"xref py py-class docutils literal notranslate\"><span class=\"pre\">StringDtype</span></code></a></p></td>\n",
    "<td><p><a class=\"reference external\" href=\"https://docs.python.org/3/library/stdtypes.html#str\" title=\"(in Python v3.12)\"><code class=\"xref py py-class docutils literal notranslate\"><span class=\"pre\">str</span></code></a></p></td>\n",
    "<td><p><a class=\"reference internal\" href=\"#api-arrays-string\"><span class=\"std std-ref\">Strings</span></a></p></td>\n",
    "</tr>\n",
    "<tr class=\"row-odd\"><td><p>Nullable Boolean</p></td>\n",
    "<td><p><a class=\"reference internal\" href=\"api/pandas.BooleanDtype.html#pandas.BooleanDtype\" title=\"pandas.BooleanDtype\"><code class=\"xref py py-class docutils literal notranslate\"><span class=\"pre\">BooleanDtype</span></code></a></p></td>\n",
    "<td><p><a class=\"reference external\" href=\"https://docs.python.org/3/library/functions.html#bool\" title=\"(in Python v3.12)\"><code class=\"xref py py-class docutils literal notranslate\"><span class=\"pre\">bool</span></code></a></p></td>\n",
    "<td><p><a class=\"reference internal\" href=\"#api-arrays-bool\"><span class=\"std std-ref\">Nullable Boolean</span></a></p></td>\n",
    "</tr>\n",
    "<tr class=\"row-even\"><td><p>PyArrow</p></td>\n",
    "<td><p><a class=\"reference internal\" href=\"api/pandas.ArrowDtype.html#pandas.ArrowDtype\" title=\"pandas.ArrowDtype\"><code class=\"xref py py-class docutils literal notranslate\"><span class=\"pre\">ArrowDtype</span></code></a></p></td>\n",
    "<td><p>Python Scalars or <a class=\"reference internal\" href=\"api/pandas.NA.html#pandas.NA\" title=\"pandas.NA\"><code class=\"xref py py-class docutils literal notranslate\"><span class=\"pre\">NA</span></code></a></p></td>\n",
    "<td><p><a class=\"reference internal\" href=\"#api-arrays-arrow\"><span class=\"std std-ref\">PyArrow</span></a></p></td>\n",
    "</tr>\n",
    "</tbody>\n",
    "</table>"
   ]
  },
  {
   "cell_type": "markdown",
   "metadata": {},
   "source": [
    "### Measuring the memory usage of a Pandas DataFrame\n"
   ]
  },
  {
   "cell_type": "markdown",
   "metadata": {},
   "source": [
    "While **performance** is rarely a problem with small data sets (under 100 megabytes), it can start to **become an issue with larger data sets** (100 megabytes to multiple gigabytes). Performance issues can make run times much longer, and cause code to fail entirely due to insufficient memory."
   ]
  },
  {
   "cell_type": "markdown",
   "metadata": {},
   "source": [
    "To grasp how pandas calculates this estimate, we first need to **understand how pandas represents different types of values**. Under the hood, **pandas groups the columns into blocks of values of the same type**.\n",
    "\n",
    "The **BlockManager class** is responsible for maintaining the mapping between the row and column indexes and the actual blocks. It acts as an API that provides access to the underlying data. Whenever we select, edit, or delete values, the dataframe class interfaces with the BlockManager class to translate our requests to function and method calls.\n",
    "\n",
    "Pandas uses the ObjectBlock class to represent the block containing string columns, and the FloatBlock class to represent the block containing float columns. For blocks representing numeric values like integers and floats, pandas combines the columns and stores them as a NumPy ndarray."
   ]
  },
  {
   "cell_type": "code",
   "execution_count": null,
   "metadata": {},
   "outputs": [],
   "source": [
    "laptops._data"
   ]
  },
  {
   "cell_type": "markdown",
   "metadata": {},
   "source": [
    "Pandas provides an API for measuring this information, but a variety of implementation details means the results can be confusing or misleading."
   ]
  },
  {
   "cell_type": "markdown",
   "metadata": {},
   "source": [
    "Most Pandas columns are stored as NumPy arrays, and for types like integers or floats the values are stored inside the array itself. For example, if you have an array with 1,000,000 64-bit integers, each integer will always use 8 bytes of memory. The array in total will therefore use 8,000,000 bytes of RAM, plus some minor bookkeeping overhead:"
   ]
  },
  {
   "cell_type": "code",
   "execution_count": null,
   "metadata": {},
   "outputs": [],
   "source": [
    "laptops[\"ram_gb\"].memory_usage()"
   ]
  },
  {
   "cell_type": "code",
   "execution_count": null,
   "metadata": {},
   "outputs": [],
   "source": [
    "laptops[\"ram_gb\"].memory_usage(deep=True, index=False)"
   ]
  },
  {
   "cell_type": "code",
   "execution_count": null,
   "metadata": {},
   "outputs": [],
   "source": [
    "# This is the same as multiplying the memory usage by the number of rows\n",
    "# 8 bytes per float64 value * rows\n",
    "8 * laptops.shape[0]"
   ]
  },
  {
   "cell_type": "markdown",
   "metadata": {},
   "source": [
    "Different Python strings use different amounts of memory: the string \"abc\" will use far less memory than a string containing the complete works of William Shakespeare.\n",
    "\n",
    "More generally, storing arbitrary Python objects requires arbitrary amounts of memory. Instead of the storing the actual strings, NumPy stores an array of pointers to those objects; each pointer takes 8 bytes on modern computers. The pointers point to an address in memory where the string is actually stored."
   ]
  },
  {
   "cell_type": "code",
   "execution_count": null,
   "metadata": {},
   "outputs": [],
   "source": [
    "laptops[\"gpu\"].memory_usage()"
   ]
  },
  {
   "cell_type": "code",
   "execution_count": null,
   "metadata": {},
   "outputs": [],
   "source": [
    "# Force pandas to inspect the memory for each linked string value and return the true memory footprint\n",
    "laptops[\"gpu\"].memory_usage(deep=True)"
   ]
  },
  {
   "cell_type": "code",
   "execution_count": null,
   "metadata": {},
   "outputs": [],
   "source": [
    "laptops.memory_usage(deep=True, index=False)"
   ]
  },
  {
   "cell_type": "markdown",
   "metadata": {},
   "source": [
    "### Categorical Data"
   ]
  },
  {
   "cell_type": "markdown",
   "metadata": {},
   "source": [
    "Categoricals are a pandas data type corresponding to categorical variables in statistics. A categorical variable takes on a limited, and usually fixed, number of possible values (categories; levels in R). Examples are gender, social class, blood type, country affiliation, observation time or rating via Likert scales."
   ]
  },
  {
   "cell_type": "markdown",
   "metadata": {},
   "source": [
    "Categorical variables are typically divided into two categories:​\n",
    "- **Nominal Variables**: These represent categories without any intrinsic order. Examples include colors, brands, or countries.​\n",
    "- **Ordinal Variables**: These have a meaningful order or ranking among categories, such as educational levels ('High School', 'Bachelor's', 'Master's') or survey responses ('Disagree', 'Neutral', 'Agree')."
   ]
  },
  {
   "cell_type": "markdown",
   "metadata": {},
   "source": [
    "Utilizing the Categorical data type in pandas offers several benefits:​\n",
    "- **Memory Efficiency**: Categorical data uses less memory by internally representing data with integer codes, especially beneficial when dealing with large datasets with repeated category values.​\n",
    "- **Performance Improvement**: Operations like sorting and comparisons are faster on categorical data due to the underlying integer representation.​\n"
   ]
  },
  {
   "cell_type": "markdown",
   "metadata": {},
   "source": [
    "Pandas uses a separate mapping dictionary that maps the integer values to the raw ones. This arrangement is useful whenever a column contains a limited set of values. When we convert a column to the category dtype, pandas uses the most space efficient int subtype that can represent all of the unique values in a column."
   ]
  },
  {
   "cell_type": "code",
   "execution_count": null,
   "metadata": {},
   "outputs": [],
   "source": [
    "laptops.info()"
   ]
  },
  {
   "cell_type": "code",
   "execution_count": null,
   "metadata": {},
   "outputs": [],
   "source": [
    "# Check number of unique values in the object columns\n",
    "laptops.select_dtypes(include=[\"object\"]).nunique()"
   ]
  },
  {
   "cell_type": "code",
   "execution_count": null,
   "metadata": {},
   "outputs": [],
   "source": [
    "# Get the total size of the object columns before converting them to category\n",
    "total_size = laptops.select_dtypes(include=[\"object\"]).memory_usage(deep=True).sum()\n",
    "print(f\"Total memory usage of object columns: {total_size / 1024**2:.2f} MB\")"
   ]
  },
  {
   "cell_type": "code",
   "execution_count": null,
   "metadata": {},
   "outputs": [],
   "source": [
    "# Convert the object columns to category if the number of unique values is less than 20\n",
    "for col in laptops.select_dtypes(include=[\"object\"]):\n",
    "    if laptops[col].nunique() < 20:\n",
    "        laptops[col] = laptops[col].astype(\"category\")\n",
    "\n",
    "# Get the total size of the object columns after converting them to category\n",
    "total_size = laptops.select_dtypes(include=[\"category\", \"object\"]).memory_usage(deep=True).sum()\n",
    "print(f\"Total memory usage of category columns: {total_size / 1024**2:.2f} MB\")\n",
    "\n",
    "laptops.info(memory_usage=\"deep\")"
   ]
  },
  {
   "cell_type": "code",
   "execution_count": null,
   "metadata": {},
   "outputs": [],
   "source": [
    "laptops.head(2)"
   ]
  },
  {
   "cell_type": "markdown",
   "metadata": {},
   "source": [
    "### Data Type Conversion"
   ]
  },
  {
   "cell_type": "markdown",
   "metadata": {},
   "source": [
    "When converting data types in pandas, several principles should be considered:​\n",
    "- **Implicit vs. Explicit Conversion**: \n",
    "    - Implicit Conversion: Pandas may automatically convert data types during operations (e.g., adding an integer column to a float column results in a float column).​\n",
    "    - Explicit Conversion: Users manually specify the desired data type using pandas methods.​\n",
    "- **Safe vs. Unsafe Conversion:**\n",
    "    - Safe Conversion: Converting from a lower precision to a higher precision type (e.g., int32 to int64) without data loss.​\n",
    "    - Unsafe Conversion: Converting that may lead to data loss or overflow (e.g., float64 to int32).​\n",
    "- **Handling Missing Data**:\n",
    "    - When converting types, it's essential to account for missing data (NaN values), especially when converting to integer types, as pandas integers do not support NaN by default.​\n"
   ]
  },
  {
   "cell_type": "markdown",
   "metadata": {},
   "source": [
    "Pandas provides several methods to facilitate data type conversion:\n",
    "- `astype()` Method: Allows explicit conversion of data types. This method can raise errors if the conversion is invalid (e.g., converting non-numeric strings to numeric types).\n",
    "- `to_numeric()` Function: Converts arguments to a numeric type, with options to handle errors. Useful for converting columns with mixed data types or invalid values.\n",
    "- `convert_dtypes()` Method: Introduced in pandas 1.0, this method automatically converts columns to the best possible types that support the data. This method is particularly useful for converting object types to more appropriate types like `string`, `Int64`, `Boolean`, etc."
   ]
  },
  {
   "cell_type": "code",
   "execution_count": null,
   "metadata": {},
   "outputs": [],
   "source": [
    "laptops.info(memory_usage=\"deep\")"
   ]
  },
  {
   "cell_type": "code",
   "execution_count": null,
   "metadata": {},
   "outputs": [],
   "source": [
    "# Check the min, max and unique values in the ram_gb column\n",
    "print(f\"Min: {laptops['ram_gb'].min()}\")\n",
    "print(f\"Max: {laptops['ram_gb'].max()}\")\n",
    "print(f\"Unique values: {laptops['ram_gb'].unique()}\")"
   ]
  },
  {
   "cell_type": "code",
   "execution_count": null,
   "metadata": {},
   "outputs": [],
   "source": [
    "# Convert the ram_gb column to the smallest unsigned integer type that can fit all the values\n",
    "laptops[\"ram_gb\"] = pd.to_numeric(laptops[\"ram_gb\"], downcast=\"unsigned\")\n",
    "laptops.info(memory_usage=\"deep\")"
   ]
  },
  {
   "cell_type": "code",
   "execution_count": null,
   "metadata": {},
   "outputs": [],
   "source": [
    "# Convert all the numeric columns to the smallest type that can fit all the values\n",
    "for col in laptops.select_dtypes(include=[\"int\"]):\n",
    "    laptops[col] = pd.to_numeric(laptops[col], downcast=\"unsigned\")\n",
    "\n",
    "for col in laptops.select_dtypes(include=[\"float\"]):\n",
    "    laptops[col] = pd.to_numeric(laptops[col], downcast=\"float\")\n",
    "\n",
    "laptops.info(memory_usage=\"deep\")"
   ]
  },
  {
   "cell_type": "code",
   "execution_count": null,
   "metadata": {},
   "outputs": [],
   "source": [
    "# Convert model_name to a string type\n",
    "laptops[\"model_name\"] = laptops[\"model_name\"].astype(\"string\")\n",
    "laptops.info(memory_usage=\"deep\")"
   ]
  },
  {
   "cell_type": "code",
   "execution_count": null,
   "metadata": {},
   "outputs": [],
   "source": [
    "# Use the convert_dtypes() method to convert the DataFrame to the best possible dtypes\n",
    "laptops = laptops.convert_dtypes()\n",
    "laptops.info(memory_usage=\"deep\")"
   ]
  },
  {
   "cell_type": "code",
   "execution_count": null,
   "metadata": {},
   "outputs": [],
   "source": [
    "laptops.head(2)"
   ]
  },
  {
   "cell_type": "markdown",
   "metadata": {},
   "source": [
    "## Merging Data"
   ]
  },
  {
   "cell_type": "markdown",
   "metadata": {},
   "source": [
    "Data in the real world is rarely stored in a single, neatly formatted table. Instead, it is often distributed across multiple sources, requiring you to combine and reshape it into a comprehensive DataFrame before analysis. Pandas offers several methods to merge and join datasets, including `merge()`, `join()`, and `concat()`. Each method serves different needs and has its own advantages and trade-offs.\n",
    "\n",
    "\n",
    "There are two main categories of combining datasets in pandas:\n",
    "- **Concatenating Data:** Combining DataFrames along a particular axis (rows or columns) using functions like `pd.concat()`.\n",
    "- **Database-Style Merging/Joining:** Combining DataFrames based on key columns (similar to SQL joins) using methods like `pd.merge()` or the DataFrame's `.join()` method.\n",
    "\n",
    "<table data-start=\"4844\" data-end=\"5739\" node=\"[object Object]\"><thead data-start=\"4844\" data-end=\"5016\"><tr data-start=\"4844\" data-end=\"5016\"><th data-start=\"4844\" data-end=\"4861\">Method</th><th data-start=\"4861\" data-end=\"4897\">Use Case</th><th data-start=\"4897\" data-end=\"4958\">Pros</th><th data-start=\"4958\" data-end=\"5016\">Cons</th></tr></thead><tbody data-start=\"5190\" data-end=\"5739\"><tr data-start=\"5190\" data-end=\"5368\"><td><code data-start=\"5192\" data-end=\"5205\">pd.concat()</code></td><td>Stacking DataFrames (rows/columns)</td><td>Simple syntax, flexible axis control, handles different indices</td><td>Lacks key-based joining; may need index management</td></tr><tr data-start=\"5369\" data-end=\"5567\"><td><code data-start=\"5371\" data-end=\"5383\">pd.merge()</code></td><td>Database-style joins on columns</td><td>Powerful join types (inner, outer, left, right), multiple key support</td><td>Can be complex with many keys; potentially slower with large datasets</td></tr><tr data-start=\"5568\" data-end=\"5739\"><td><code data-start=\"5570\" data-end=\"5579\">.join()</code></td><td>Joining on index</td><td>Convenient for index-based joins, simple syntax, fast</td><td>Limited to index joins, less flexible than <code data-start=\"5726\" data-end=\"5735\">merge()</code></td></tr></tbody></table>\n",
    "\n",
    "<table class=\"tg\">\n",
    "<tbody><tr>\n",
    "<th></th>\n",
    "<th><span style=\"font-weight:bold\">pd.concat()</span></th>\n",
    "<th><span style=\"font-weight:bold\">pd.merge()</span></th>\n",
    "</tr>\n",
    "<tr>\n",
    "<td><span style=\"font-style:normal\">Default Join Type</span></td>\n",
    "<td><span style=\"font-weight:300;font-style:normal\">Outer</span></td>\n",
    "<td><span style=\"font-weight:300;font-style:normal\">Inner</span></td>\n",
    "</tr>\n",
    "<tr>\n",
    "<td><span style=\"font-style:normal\">Can Combine More Than Two Dataframes at a Time?</span></td>\n",
    "<td><span style=\"font-weight:300;font-style:normal\">Yes</span></td>\n",
    "<td><span style=\"font-weight:300;font-style:normal\">No</span></td>\n",
    "</tr>\n",
    "<tr>\n",
    "<td><span style=\"font-style:normal\">Can Combine Dataframes Vertically</span><br><span style=\"font-style:normal\">(axis=0) or Horizontally (axis=1)?</span><br></td>\n",
    "<td><span style=\"font-weight:300;font-style:normal\">Both</span></td>\n",
    "<td><span style=\"font-weight:300;font-style:normal\">Horizontally</span></td>\n",
    "</tr>\n",
    "<tr>\n",
    "<td>Syntax</td>\n",
    "<td><span style=\"font-weight:bold\">Concat (Vertically)</span><br>concat([df1,df2,df3])<br><br><span style=\"font-weight:bold\">Concat (Horizontally)</span><br>concat([df1,df2,df3], axis = 1)<br><br><br><br></td>\n",
    "<td><span style=\"font-weight:bold\">Merge (Join on Columns)</span><br>merge(left = df1, right = df2, how = 'join_type', on = 'Col')<br><br><span style=\"font-weight:bold\">Merge (Join on Index)</span><br>merge(left = df1, right = df2, how = 'join_type', left_index = True, right_index = True)<br><br><br><br></td>\n",
    "</tr>\n",
    "</tbody></table>\n"
   ]
  },
  {
   "cell_type": "markdown",
   "metadata": {},
   "source": [
    "### Concatenating DataFrames with pd.concat()"
   ]
  },
  {
   "cell_type": "markdown",
   "metadata": {},
   "source": [
    "The pd.concat() function is used to stack DataFrames either vertically (adding more rows) or horizontally (adding more columns)."
   ]
  },
  {
   "cell_type": "code",
   "execution_count": null,
   "metadata": {},
   "outputs": [],
   "source": [
    "# Create two sample DataFrames with the same columns\n",
    "df1 = pd.DataFrame({\"ID\": [1, 2, 3], \"Name\": [\"Alice\", \"Bob\", \"Charlie\"], \"Age\": [25, 30, 35]})\n",
    "df2 = pd.DataFrame({\"ID\": [4, 5], \"Name\": [\"David\", \"Eva\"]})"
   ]
  },
  {
   "cell_type": "code",
   "execution_count": null,
   "metadata": {},
   "outputs": [],
   "source": [
    "df1"
   ]
  },
  {
   "cell_type": "code",
   "execution_count": null,
   "metadata": {},
   "outputs": [],
   "source": [
    "df2"
   ]
  },
  {
   "cell_type": "code",
   "execution_count": null,
   "metadata": {},
   "outputs": [],
   "source": [
    "# Concatenate DataFrames vertically\n",
    "pd.concat([df1, df2], axis=\"index\")"
   ]
  },
  {
   "cell_type": "code",
   "execution_count": null,
   "metadata": {},
   "outputs": [],
   "source": [
    "# Concatenate DataFrames horizontally\n",
    "pd.concat([df1, df2], axis=\"columns\")"
   ]
  },
  {
   "cell_type": "markdown",
   "metadata": {},
   "source": [
    " When you use the concat() function to combine dataframes with the same shape and index, you can think of the function as \"gluing\" dataframes together. By default, the concat function will keep ALL of the data, no matter if missing values are created.\n",
    "\n",
    " Also, notice again the indexes of the original dataframes didn't change. If the indexes aren't meaningful, it can be better to reset them. This is especially true when we create duplicate indexes, because they could cause errors as we perform other data cleaning tasks."
   ]
  },
  {
   "cell_type": "code",
   "execution_count": null,
   "metadata": {},
   "outputs": [],
   "source": [
    "pd.concat([df1, df2], axis=\"index\", ignore_index=True)"
   ]
  },
  {
   "cell_type": "markdown",
   "metadata": {},
   "source": [
    "### Merging DataFrames with pd.merge()"
   ]
  },
  {
   "cell_type": "markdown",
   "metadata": {},
   "source": [
    "The `pd.merge()` function allows you to perform database-style joins (inner, outer, left, right) using one or more key columns.\n",
    "\n",
    "<p>There are actually four different types of joins:</p>\n",
    "    <ol>\n",
    "<li><strong>Inner</strong>: only includes elements that appear in both dataframes with a common key</li>\n",
    "<li><strong>Outer</strong>: includes all data from both dataframes</li>\n",
    "<li><strong>Left</strong>: includes all of the rows from the \"left\" dataframe along with any rows from the \"right\" dataframe with a common key; the result retains all columns from both of the original dataframes</li>\n",
    "<li><strong>Right</strong>: includes all of the rows from the \"right\" dataframe along with any rows from the \"left\" dataframe with a common key; the result retains all columns from both of the original dataframes</li>\n",
    "</ol>"
   ]
  },
  {
   "cell_type": "code",
   "execution_count": null,
   "metadata": {},
   "outputs": [],
   "source": [
    "salary_2022 = pd.DataFrame({\"ID\": [1, 2, 3, 4], \"Name\": [\"Alice\", \"Bob\", \"Charlie\", \"David\"], \"Salary\": [50000, 60000, 70000, 80000]})\n",
    "salary_2023 = pd.DataFrame({\"ID\": [1, 4, 5, 6], \"Name_Person\": [\"Alice\", \"David\", \"Eva\", \"Frank\"], \"Salary\": [70000, 85000, 90000, 100000]})"
   ]
  },
  {
   "cell_type": "code",
   "execution_count": null,
   "metadata": {},
   "outputs": [],
   "source": [
    "salary_2022"
   ]
  },
  {
   "cell_type": "code",
   "execution_count": null,
   "metadata": {},
   "outputs": [],
   "source": [
    "salary_2023"
   ]
  },
  {
   "cell_type": "code",
   "execution_count": null,
   "metadata": {},
   "outputs": [],
   "source": [
    "pd.merge(left=salary_2022, right=salary_2023, on=\"ID\", how=\"inner\")"
   ]
  },
  {
   "cell_type": "code",
   "execution_count": null,
   "metadata": {},
   "outputs": [],
   "source": [
    "pd.merge(left=salary_2022, right=salary_2023, on=\"ID\", how=\"inner\", suffixes=(\"_2022\", \"_2023\"))"
   ]
  },
  {
   "cell_type": "code",
   "execution_count": null,
   "metadata": {},
   "outputs": [],
   "source": [
    "pd.merge(\n",
    "    left=salary_2022,\n",
    "    right=salary_2023,\n",
    "    left_on=\"Name\",\n",
    "    right_on=\"Name_Person\",\n",
    "    how=\"inner\",\n",
    "    suffixes=(\"_2022\", \"_2023\"),\n",
    ")"
   ]
  },
  {
   "cell_type": "code",
   "execution_count": null,
   "metadata": {},
   "outputs": [],
   "source": [
    "pd.merge(\n",
    "    left=salary_2022,\n",
    "    right=salary_2023,\n",
    "    on=\"ID\",\n",
    "    how=\"outer\",\n",
    "    suffixes=(\"_2022\", \"_2023\"),\n",
    ")"
   ]
  },
  {
   "cell_type": "code",
   "execution_count": null,
   "metadata": {},
   "outputs": [],
   "source": [
    "pd.merge(\n",
    "    left=salary_2022,\n",
    "    right=salary_2023,\n",
    "    on=\"ID\",\n",
    "    how=\"left\",\n",
    "    suffixes=(\"_2022\", \"_2023\"),\n",
    ")"
   ]
  },
  {
   "cell_type": "code",
   "execution_count": null,
   "metadata": {},
   "outputs": [],
   "source": [
    "pd.merge(\n",
    "    left=salary_2022,\n",
    "    right=salary_2023,\n",
    "    on=\"ID\",\n",
    "    how=\"right\",\n",
    "    suffixes=(\"_2022\", \"_2023\"),\n",
    ")"
   ]
  },
  {
   "cell_type": "markdown",
   "metadata": {},
   "source": [
    "Join on index:"
   ]
  },
  {
   "cell_type": "code",
   "execution_count": null,
   "metadata": {},
   "outputs": [],
   "source": [
    "# We can see the miss match between the two DataFrames\n",
    "pd.merge(\n",
    "    left=salary_2022,\n",
    "    right=salary_2023,\n",
    "    left_index=True,\n",
    "    right_index=True,\n",
    "    how=\"outer\",\n",
    "    suffixes=(\"_2022\", \"_2023\"),\n",
    ")"
   ]
  },
  {
   "cell_type": "code",
   "execution_count": null,
   "metadata": {},
   "outputs": [],
   "source": [
    "# Set index for the DataFrames\n",
    "salary_2022_indexed = salary_2022.set_index(\"ID\")\n",
    "salary_2023_indexed = salary_2023.set_index(\"ID\")\n",
    "pd.merge(\n",
    "    left=salary_2022_indexed,\n",
    "    right=salary_2023_indexed,\n",
    "    left_index=True,\n",
    "    right_index=True,\n",
    "    how=\"outer\",\n",
    "    suffixes=(\"_2022\", \"_2023\"),\n",
    ")"
   ]
  },
  {
   "cell_type": "markdown",
   "metadata": {},
   "source": [
    "The DataFrame’s .`join()` method is a convenient way to combine DataFrames based on the index. It can be thought of as a simplified merge operation when the join key is the index."
   ]
  },
  {
   "cell_type": "code",
   "execution_count": null,
   "metadata": {},
   "outputs": [],
   "source": [
    "salary_2022_indexed.join(salary_2023_indexed, lsuffix=\"_2022\", rsuffix=\"_2023\", how=\"outer\")"
   ]
  },
  {
   "cell_type": "markdown",
   "metadata": {},
   "source": [
    "## Handling Outliers"
   ]
  },
  {
   "cell_type": "markdown",
   "metadata": {},
   "source": [
    "**What are Outliers?**\n",
    "\n",
    "Outliers are data points that deviate significantly from the majority of the data. They may arise due to errors in data collection, data entry mistakes, or genuine variability in the dataset.\n",
    "\n",
    "**Why is it Important?**\n",
    "- Impact on Analysis: Outliers can skew summary statistics (e.g., mean, standard deviation) and lead to misleading conclusions in regression analysis, clustering, and other models.\n",
    "- Model Performance: In predictive modeling, outliers might affect the training process, causing models to overfit or underperform.\n",
    "- Data Quality: Handling outliers is part of cleaning your data to ensure that subsequent analysis and decisions are based on reliable information."
   ]
  },
  {
   "cell_type": "code",
   "execution_count": null,
   "metadata": {},
   "outputs": [],
   "source": [
    "# Check the value distribution in the manufacturer column\n",
    "laptops.describe()"
   ]
  },
  {
   "cell_type": "markdown",
   "metadata": {},
   "source": [
    "Outlier detection is critical for ensuring that your analysis is not skewed by extreme values. There are two primary approaches: statistical methods that compute numerical thresholds, and visualization methods that help you visually inspect the distribution of your data."
   ]
  },
  {
   "cell_type": "markdown",
   "metadata": {},
   "source": [
    "### Z-Score Method\n",
    "\n",
    "The Z-score method computes how many standard deviations each data point is from the mean. A common threshold is a z-score of 3 (or -3), meaning data points with z-scores greater than 3 or less than -3 are considered outliers."
   ]
  },
  {
   "cell_type": "code",
   "execution_count": null,
   "metadata": {},
   "outputs": [],
   "source": [
    "from scipy.stats import zscore\n",
    "\n",
    "(laptops.select_dtypes(include=[\"int\", \"float\"]).apply(zscore).abs() > 3).sum()"
   ]
  },
  {
   "cell_type": "markdown",
   "metadata": {},
   "source": [
    "### Interquartile Range (IQR) Method\n",
    "\n",
    "The IQR method uses the 25th percentile (Q1) and 75th percentile (Q3) to define the interquartile range (IQR = Q3 - Q1). Outliers are typically defined as values outside the range <span class=\"katex\"><span class=\"katex-mathml\"><math xmlns=\"http://www.w3.org/1998/Math/MathML\"><semantics><mrow><mo stretchy=\"false\">[</mo><mi>Q</mi><mn>1</mn><mo>−</mo><mn>1.5</mn><mo>×</mo><mi>I</mi><mi>Q</mi><mi>R</mi><mo separator=\"true\">,</mo><mi>Q</mi><mn>3</mn><mo>+</mo><mn>1.5</mn><mo>×</mo><mi>I</mi><mi>Q</mi><mi>R</mi><mo stretchy=\"false\">]</mo></mrow><annotation encoding=\"application/x-tex\">[Q1 - 1.5 \\times IQR, Q3 + 1.5 \\times IQR]</annotation></semantics></math></span><span class=\"katex-html\" aria-hidden=\"true\"><span class=\"base\"><span class=\"strut\" style=\"height: 1em; vertical-align: -0.25em;\"></span><span class=\"mopen\">[</span><span class=\"mord mathnormal\">Q</span><span class=\"mord\">1</span><span class=\"mspace\" style=\"margin-right: 0.2222em;\"></span><span class=\"mbin\">−</span><span class=\"mspace\" style=\"margin-right: 0.2222em;\"></span></span><span class=\"base\"><span class=\"strut\" style=\"height: 0.7278em; vertical-align: -0.0833em;\"></span><span class=\"mord\">1.5</span><span class=\"mspace\" style=\"margin-right: 0.2222em;\"></span><span class=\"mbin\">×</span><span class=\"mspace\" style=\"margin-right: 0.2222em;\"></span></span><span class=\"base\"><span class=\"strut\" style=\"height: 0.8778em; vertical-align: -0.1944em;\"></span><span class=\"mord mathnormal\" style=\"margin-right: 0.07847em;\">I</span><span class=\"mord mathnormal\" style=\"margin-right: 0.00773em;\">QR</span><span class=\"mpunct\">,</span><span class=\"mspace\" style=\"margin-right: 0.1667em;\"></span><span class=\"mord mathnormal\">Q</span><span class=\"mord\">3</span><span class=\"mspace\" style=\"margin-right: 0.2222em;\"></span><span class=\"mbin\">+</span><span class=\"mspace\" style=\"margin-right: 0.2222em;\"></span></span><span class=\"base\"><span class=\"strut\" style=\"height: 0.7278em; vertical-align: -0.0833em;\"></span><span class=\"mord\">1.5</span><span class=\"mspace\" style=\"margin-right: 0.2222em;\"></span><span class=\"mbin\">×</span><span class=\"mspace\" style=\"margin-right: 0.2222em;\"></span></span><span class=\"base\"><span class=\"strut\" style=\"height: 1em; vertical-align: -0.25em;\"></span><span class=\"mord mathnormal\" style=\"margin-right: 0.07847em;\">I</span><span class=\"mord mathnormal\" style=\"margin-right: 0.00773em;\">QR</span><span class=\"mclose\">]</span></span></span></span>.</p>"
   ]
  },
  {
   "cell_type": "code",
   "execution_count": null,
   "metadata": {},
   "outputs": [],
   "source": [
    "# Calculate Q1, Q3, and IQR for the price_euros column\n",
    "Q1 = laptops[\"price_euros\"].quantile(0.25)\n",
    "Q3 = laptops[\"price_euros\"].quantile(0.75)\n",
    "IQR = Q3 - Q1\n",
    "\n",
    "# Define lower and upper bounds for outliers\n",
    "lower_bound = Q1 - 1.5 * IQR\n",
    "upper_bound = Q3 + 1.5 * IQR\n",
    "\n",
    "# Flag outliers based on IQR method\n",
    "df = laptops.copy()\n",
    "df[\"outlier_iqr\"] = (laptops[\"price_euros\"] < lower_bound) | (laptops[\"price_euros\"] > upper_bound)\n",
    "\n",
    "df.loc[df[\"outlier_iqr\"] == True, [\"price_euros\", \"outlier_iqr\"]].tail(5)"
   ]
  },
  {
   "cell_type": "markdown",
   "metadata": {},
   "source": [
    "### Visualization Methods - Boxplots"
   ]
  },
  {
   "cell_type": "markdown",
   "metadata": {},
   "source": [
    "Boxplots provide a visual summary of the distribution of data, highlighting the median, quartiles, and potential outliers as points outside the whiskers (typically defined as 1.5 times the IQR from the quartiles). Outliers appear as individual points beyond the whiskers, allowing you to quickly assess the spread and extreme values."
   ]
  },
  {
   "cell_type": "code",
   "execution_count": null,
   "metadata": {},
   "outputs": [],
   "source": [
    "import matplotlib.pyplot as plt\n",
    "\n",
    "# Create a boxplot for the 'Value' column\n",
    "plt.figure(figsize=(10, 2))\n",
    "plt.boxplot(laptops[\"price_euros\"], vert=False)\n",
    "plt.title(\"Boxplot of Price in Euros\")\n",
    "plt.xlabel(\"€\")\n",
    "plt.show()"
   ]
  },
  {
   "cell_type": "code",
   "execution_count": null,
   "metadata": {},
   "outputs": [],
   "source": [
    "# We see an extreme outlier\n",
    "laptops[laptops[\"price_euros\"] > 50000]"
   ]
  },
  {
   "cell_type": "code",
   "execution_count": null,
   "metadata": {},
   "outputs": [],
   "source": [
    "# Let's fix the outlier by dividing the price by 100\n",
    "laptops.loc[laptops[\"price_euros\"] > 50000, \"price_euros\"] = laptops[\"price_euros\"] / 100"
   ]
  },
  {
   "cell_type": "code",
   "execution_count": null,
   "metadata": {},
   "outputs": [],
   "source": [
    "plt.figure(figsize=(10, 2))\n",
    "plt.boxplot(laptops[\"price_euros\"], vert=False)\n",
    "plt.title(\"Boxplot of Price in Euros\")\n",
    "plt.xlabel(\"€\")\n",
    "plt.show()"
   ]
  },
  {
   "cell_type": "markdown",
   "metadata": {},
   "source": [
    "### Visualization Methods - Scatter Plots"
   ]
  },
  {
   "cell_type": "markdown",
   "metadata": {},
   "source": [
    "Scatter plots can be used to visualize outliers in the context of another variable. By plotting data points along two axes, you can often visually identify points that deviate significantly from the pattern. This visualization helps in assessing outliers in the context of the overall data pattern."
   ]
  },
  {
   "cell_type": "code",
   "execution_count": null,
   "metadata": {},
   "outputs": [],
   "source": [
    "# Plot a scatter plot of the price and ram_gb columns\n",
    "plt.figure(figsize=(10, 6))\n",
    "plt.scatter(laptops[\"ram_gb\"], laptops[\"price_euros\"], alpha=0.5)\n",
    "plt.title(\"Price vs. RAM\")\n",
    "plt.xlabel(\"RAM (GB)\")\n",
    "plt.ylabel(\"Price (€)\")\n",
    "plt.show()"
   ]
  },
  {
   "cell_type": "markdown",
   "metadata": {},
   "source": [
    "Each method has its strengths: statistical methods provide clear numerical thresholds, while visualization methods offer an intuitive view of the data. Combining these techniques can yield a robust approach to outlier detection in your data analysis workflow."
   ]
  },
  {
   "cell_type": "markdown",
   "metadata": {},
   "source": [
    "## Ensuring Data Quality and Integrity"
   ]
  },
  {
   "cell_type": "markdown",
   "metadata": {},
   "source": [
    "Data quality and integrity are critical for reliable analyses and sound decision-making. In this subchapter, we explore various techniques and best practices for validating your data and handling inaccuracies."
   ]
  },
  {
   "cell_type": "markdown",
   "metadata": {},
   "source": [
    "### Using Assertions in pandas\n",
    "\n",
    "A simple yet effective way to enforce data quality is by using Python's built-in assert statement. This allows you to set conditions that must be met before proceeding with further analysis. For instance, if you expect no missing values in a column, you can assert that condition:"
   ]
  },
  {
   "cell_type": "code",
   "execution_count": null,
   "metadata": {},
   "outputs": [],
   "source": [
    "laptops.info()"
   ]
  },
  {
   "cell_type": "markdown",
   "metadata": {},
   "source": [
    "> `DataFrame.all(axis=0, bool_only=False, skipna=True, **kwargs)`: Return whether all elements are True, potentially over an axis. Returns True unless there at least one element within a series or along a Dataframe axis that is False or equivalent (e.g. zero or empty)."
   ]
  },
  {
   "cell_type": "code",
   "execution_count": null,
   "metadata": {},
   "outputs": [],
   "source": [
    "# Assert RAM is a positive integer and not bigger than 256 GB\n",
    "assert (laptops[\"ram_gb\"] > 0).all()\n",
    "assert (laptops[\"ram_gb\"] <= 256).all()"
   ]
  },
  {
   "cell_type": "code",
   "execution_count": null,
   "metadata": {},
   "outputs": [],
   "source": [
    "# Assert manufacturer and model_name have no missing values\n",
    "assert laptops[\"manufacturer\"].notnull().all()\n",
    "assert laptops[\"model_name\"].notnull().all()"
   ]
  },
  {
   "cell_type": "code",
   "execution_count": null,
   "metadata": {},
   "outputs": [],
   "source": [
    "# Check there are no additional data in () in the model_name column\n",
    "# The assertion will fail\n",
    "# assert laptops[\"model_name\"].str.contains(r\".*\\(.*\\)?.*\").sum() == 0, \"There are additional data in the model_name column\""
   ]
  },
  {
   "cell_type": "code",
   "execution_count": null,
   "metadata": {},
   "outputs": [],
   "source": [
    "# Remove the additional data in () in the model_name column\n",
    "laptops[\"model_name\"] = laptops[\"model_name\"].str.replace(r\"\\(.*\\)?\", \"\", regex=True).str.strip()"
   ]
  },
  {
   "cell_type": "code",
   "execution_count": null,
   "metadata": {},
   "outputs": [],
   "source": [
    "laptops[\"model_name\"].unique()"
   ]
  },
  {
   "cell_type": "code",
   "execution_count": null,
   "metadata": {},
   "outputs": [],
   "source": [
    "assert laptops[\"model_name\"].str.contains(r\".*\\(.*\\)?.*\").sum() == 0, \"There are additional data in the model_name column\""
   ]
  },
  {
   "cell_type": "markdown",
   "metadata": {},
   "source": [
    "### Data Validation with Pandera\n"
   ]
  },
  {
   "cell_type": "markdown",
   "metadata": {},
   "source": [
    "[Pandera](https://pandera.readthedocs.io/en/stable/) is a powerful library designed for data validation in pandas. It allows you to define schemas for your DataFrames, specifying data types, ranges, and custom validation logic."
   ]
  },
  {
   "cell_type": "code",
   "execution_count": null,
   "metadata": {},
   "outputs": [],
   "source": [
    "import pandera as pa\n",
    "from pandera import Column, DataFrameSchema, Check, errors\n",
    "\n",
    "schema = DataFrameSchema(\n",
    "    {\n",
    "        \"price_euros\": Column(pa.Float32, checks=Check(lambda x: x >= 0 and x <= 10_000, element_wise=True), nullable=False),\n",
    "        \"ram_gb\": Column(pa.UINT8, checks=Check(lambda x: x >= 0 and x <= 256, element_wise=True), nullable=False),\n",
    "    }\n",
    ")\n",
    "\n",
    "try:\n",
    "    schema.validate(laptops)\n",
    "except errors.SchemaError as e:\n",
    "    print(\"Data validation error:\", e)"
   ]
  },
  {
   "cell_type": "markdown",
   "metadata": {},
   "source": [
    "Ensuring data quality and integrity is foundational to trustworthy data analysis. Through assertions, Pandera, and common validation techniques like range and uniqueness checks, you can detect and correct data issues before they impact your analyses."
   ]
  },
  {
   "cell_type": "markdown",
   "metadata": {},
   "source": [
    "Now we can export the data to a Parquet file:"
   ]
  },
  {
   "cell_type": "code",
   "execution_count": null,
   "metadata": {},
   "outputs": [],
   "source": [
    "laptops.info()"
   ]
  },
  {
   "cell_type": "code",
   "execution_count": null,
   "metadata": {},
   "outputs": [],
   "source": [
    "# Export the cleaned dataset to a new Parquet file\n",
    "dataset_path_clean_laptops = Path.cwd().parent / \"data\" / \"OUTPUT_laptops.parquet\"\n",
    "laptops.to_parquet(dataset_path_clean_laptops, index=False)"
   ]
  },
  {
   "cell_type": "code",
   "execution_count": null,
   "metadata": {},
   "outputs": [],
   "source": [
    "# Load the cleaned dataset from the Parquet file and check the types\n",
    "laptops_clean = pd.read_parquet(dataset_path_clean_laptops)\n",
    "laptops_clean.info()"
   ]
  },
  {
   "cell_type": "markdown",
   "metadata": {},
   "source": [
    "## End-to-End Data Wrangling Pipeline"
   ]
  },
  {
   "cell_type": "markdown",
   "metadata": {},
   "source": [
    "- **Example 1: Sales Transactions Data Pipeline**: You are provided with sales transaction datasets from multiple regional stores. Each dataset contains information such as transaction IDs, product details, quantities sold, sales amounts, and dates. However, the data is scattered across several CSV files with varying formats and potential inconsistencies.\n",
    "- **Example 2: Social Media Data Pipeline**: You are tasked with analyzing social media sentiment about a brand. The raw data is scraped from various social media platforms and includes user comments, timestamps, user demographics, and sometimes incomplete or noisy text data.\n",
    "- **Example 3: Web Logs Data Pipeline**: You need to analyze website traffic by processing NGINX web logs. These logs contain unstructured text with information such as IP addresses, timestamps, request methods, endpoints, status codes, and user agents. The goal is to extract structured data, detect anomalies, and merge it with external data for enrichment."
   ]
  },
  {
   "cell_type": "markdown",
   "metadata": {},
   "source": [
    "### Appendix: Pandas pipe() method\n",
    "\n",
    "The pipe() method in pandas allows you to chain custom functions to a DataFrame (or Series) in a clean, readable way. It makes your code more modular and helps avoid deeply nested function calls.\n",
    "\n",
    "pipe() applies a function to your DataFrame and returns the result. This is especially useful when you want to perform multiple transformations in a chain.\n",
    "\n",
    "`new_df = df.pipe(func, arg1, arg2, ...)`\n",
    "\n",
    "Why Use pipe()?\n",
    "- Improves Readability: Instead of nesting function calls, pipe() allows you to write a linear sequence of operations.\n",
    "- Modularity: You can create reusable functions that work on DataFrames, and then apply them in a pipeline.\n",
    "- Consistency: It fits well with method chaining, enabling a smooth flow of transformations."
   ]
  }
 ],
 "metadata": {
  "kernelspec": {
   "display_name": ".venv",
   "language": "python",
   "name": "python3"
  },
  "language_info": {
   "codemirror_mode": {
    "name": "ipython",
    "version": 3
   },
   "file_extension": ".py",
   "mimetype": "text/x-python",
   "name": "python",
   "nbconvert_exporter": "python",
   "pygments_lexer": "ipython3",
   "version": "3.13.2"
  }
 },
 "nbformat": 4,
 "nbformat_minor": 2
}
